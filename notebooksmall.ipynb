{
 "metadata": {
  "language_info": {
   "codemirror_mode": {
    "name": "ipython",
    "version": 3
   },
   "file_extension": ".py",
   "mimetype": "text/x-python",
   "name": "python",
   "nbconvert_exporter": "python",
   "pygments_lexer": "ipython3",
   "version": 3
  },
  "orig_nbformat": 2
 },
 "nbformat": 4,
 "nbformat_minor": 2,
 "cells": [
  {
   "cell_type": "code",
   "execution_count": null,
   "metadata": {},
   "outputs": [],
   "source": [
    "import pandas as pd\n",
    "import re\n",
    "import nltk\n",
    "from nltk.corpus import stopwords\n",
    "\n",
    "# Importing the dataset\n",
    "train = pd.read_csv('archive/train.csv')\n",
    "\n",
    "train.head()"
   ]
  },
  {
   "cell_type": "code",
   "execution_count": null,
   "metadata": {},
   "outputs": [],
   "source": [
    "datasetCS = pd.DataFrame(train,\n",
    " columns=['ID', 'TITLE', 'ABSTRACT', 'Computer Science'])\n",
    "\n",
    "datasetPhysics = pd.DataFrame(train,\n",
    " columns=['ID', 'TITLE', 'ABSTRACT', 'Physics'])\n",
    "\n",
    "datasetMathematics = pd.DataFrame(train,\n",
    " columns=['ID', 'TITLE', 'ABSTRACT', 'Mathematics'])\n",
    "\n",
    "datasetStatistics = pd.DataFrame(train,\n",
    " columns=['ID', 'TITLE', 'ABSTRACT', 'Statistics'])\n",
    "\n",
    "datasetQBiology = pd.DataFrame(train,\n",
    " columns=['ID', 'TITLE', 'ABSTRACT', 'Quantitative Biology'])\n",
    "\n",
    "datasetQFinance = pd.DataFrame(train,\n",
    " columns=['ID', 'TITLE', 'ABSTRACT', 'Quantitative Finance'])"
   ]
  },
  {
   "cell_type": "code",
   "execution_count": null,
   "metadata": {},
   "outputs": [],
   "source": [
    "from nltk.stem import WordNetLemmatizer\n",
    "\n",
    "def lemmatization():\n",
    "    corpus=[]\n",
    "    # Initialize Word Net Lemmatizer\n",
    "    lemm = WordNetLemmatizer()\n",
    "\n",
    "    for i in range(0, train.shape[0]):\n",
    "        # get title and abstract and remove non alpha chars\n",
    "        title = re.sub('[^a-zA-Z]', ' ', train['TITLE'][i])\n",
    "        abstract = re.sub('[^a-zA-Z]', ' ', train['ABSTRACT'][i])\n",
    "        # to lower-case and tokenize\n",
    "        title = title.lower().split()\n",
    "        abstract = abstract.lower().split()\n",
    "        # lemmatization and stop word removal\n",
    "        title = ' '.join([lemm.lemmatize(w) for w in title if not w in set(stopwords.words('english'))])\n",
    "        abstract = ' '.join([lemm.lemmatize(w) for w in abstract if not w in set(stopwords.words('english'))])\n",
    "        corpus.append((title, abstract))\n",
    "        \n",
    "    return corpus"
   ]
  },
  {
   "cell_type": "code",
   "execution_count": null,
   "metadata": {},
   "outputs": [],
   "source": []
  }
 ]
}