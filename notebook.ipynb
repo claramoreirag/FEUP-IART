{
 "cells": [
  {
   "cell_type": "markdown",
   "metadata": {},
   "source": [
    "# Welcome to Trio de Informática's Second IART Project about Topic Modelling using NLP\n",
    "\n",
    "Throughout this notebook one can observe the step by step data analysis of the training datasets as well as different approaches to this challenge. Several algorithms will also be implemented such as Naive Bayes, decision trees, SVM, etc. Be aware that different data processing techniques can match different algorithms, so in order to test all the combinations several cells will be provided to present all the results, as well as a comparison of accuracy of each implemented technique. \n",
    "\n",
    "The following notebook will record the group's approach to the proposed project, starting with the data analysis, followed by the data preprocessing. Afterwards, various algorithms will be implemented and a result comparison between different approaches will be performed."
   ]
  },
  {
   "cell_type": "markdown",
   "metadata": {},
   "source": [
    "# Statistical analysis\n",
    "\n",
    "As one can observe when executing the code below, the provided dataset is composed of a table with several columns referring to different informations. Every entry in this dataset is identified by an ID, generated incrementally. Each entry contains a Title and an Abstract, reffering to a report/article to be classified as belonging to some topic. Each entry has an additional 6 columns related to topic classification. Each of these columns reffers to a topic: Computer Science, Physics, Mathematics, Statistics, Quantitative Biology and Quantitative Finance, and will contain a 1 if the article belongs to that said topic and a 0 otherwise."
   ]
  },
  {
   "cell_type": "code",
   "execution_count": 4,
   "metadata": {},
   "outputs": [
    {
     "output_type": "execute_result",
     "data": {
      "text/plain": [
       "   ID                                              TITLE  \\\n",
       "0   1        Reconstructing Subject-Specific Effect Maps   \n",
       "1   2                 Rotation Invariance Neural Network   \n",
       "2   3  Spherical polyharmonics and Poisson kernels fo...   \n",
       "3   4  A finite element approximation for the stochas...   \n",
       "4   5  Comparative study of Discrete Wavelet Transfor...   \n",
       "\n",
       "                                            ABSTRACT  Computer Science  \\\n",
       "0    Predictive models allow subject-specific inf...                 1   \n",
       "1    Rotation invariance and translation invarian...                 1   \n",
       "2    We introduce and develop the notion of spher...                 0   \n",
       "3    The stochastic Landau--Lifshitz--Gilbert (LL...                 0   \n",
       "4    Fourier-transform infra-red (FTIR) spectra o...                 1   \n",
       "\n",
       "   Physics  Mathematics  Statistics  Quantitative Biology  \\\n",
       "0        0            0           0                     0   \n",
       "1        0            0           0                     0   \n",
       "2        0            1           0                     0   \n",
       "3        0            1           0                     0   \n",
       "4        0            0           1                     0   \n",
       "\n",
       "   Quantitative Finance  \n",
       "0                     0  \n",
       "1                     0  \n",
       "2                     0  \n",
       "3                     0  \n",
       "4                     0  "
      ],
      "text/html": "<div>\n<style scoped>\n    .dataframe tbody tr th:only-of-type {\n        vertical-align: middle;\n    }\n\n    .dataframe tbody tr th {\n        vertical-align: top;\n    }\n\n    .dataframe thead th {\n        text-align: right;\n    }\n</style>\n<table border=\"1\" class=\"dataframe\">\n  <thead>\n    <tr style=\"text-align: right;\">\n      <th></th>\n      <th>ID</th>\n      <th>TITLE</th>\n      <th>ABSTRACT</th>\n      <th>Computer Science</th>\n      <th>Physics</th>\n      <th>Mathematics</th>\n      <th>Statistics</th>\n      <th>Quantitative Biology</th>\n      <th>Quantitative Finance</th>\n    </tr>\n  </thead>\n  <tbody>\n    <tr>\n      <th>0</th>\n      <td>1</td>\n      <td>Reconstructing Subject-Specific Effect Maps</td>\n      <td>Predictive models allow subject-specific inf...</td>\n      <td>1</td>\n      <td>0</td>\n      <td>0</td>\n      <td>0</td>\n      <td>0</td>\n      <td>0</td>\n    </tr>\n    <tr>\n      <th>1</th>\n      <td>2</td>\n      <td>Rotation Invariance Neural Network</td>\n      <td>Rotation invariance and translation invarian...</td>\n      <td>1</td>\n      <td>0</td>\n      <td>0</td>\n      <td>0</td>\n      <td>0</td>\n      <td>0</td>\n    </tr>\n    <tr>\n      <th>2</th>\n      <td>3</td>\n      <td>Spherical polyharmonics and Poisson kernels fo...</td>\n      <td>We introduce and develop the notion of spher...</td>\n      <td>0</td>\n      <td>0</td>\n      <td>1</td>\n      <td>0</td>\n      <td>0</td>\n      <td>0</td>\n    </tr>\n    <tr>\n      <th>3</th>\n      <td>4</td>\n      <td>A finite element approximation for the stochas...</td>\n      <td>The stochastic Landau--Lifshitz--Gilbert (LL...</td>\n      <td>0</td>\n      <td>0</td>\n      <td>1</td>\n      <td>0</td>\n      <td>0</td>\n      <td>0</td>\n    </tr>\n    <tr>\n      <th>4</th>\n      <td>5</td>\n      <td>Comparative study of Discrete Wavelet Transfor...</td>\n      <td>Fourier-transform infra-red (FTIR) spectra o...</td>\n      <td>1</td>\n      <td>0</td>\n      <td>0</td>\n      <td>1</td>\n      <td>0</td>\n      <td>0</td>\n    </tr>\n  </tbody>\n</table>\n</div>"
     },
     "metadata": {},
     "execution_count": 4
    }
   ],
   "source": [
    "import pandas as pd\n",
    "import re\n",
    "import nltk\n",
    "from nltk.corpus import stopwords\n",
    "\n",
    "# Importing the dataset\n",
    "train = pd.read_csv('archive/train.csv')\n",
    "\n",
    "train.head()\n"
   ]
  },
  {
   "cell_type": "code",
   "execution_count": 6,
   "metadata": {},
   "outputs": [],
   "source": [
    "\n",
    "datasetCS = pd.DataFrame(train,\n",
    " columns=['ID', 'TITLE', 'ABSTRACT', 'Computer Science'])\n",
    "\n",
    "datasetPhysics = pd.DataFrame(train,\n",
    " columns=['ID', 'TITLE', 'ABSTRACT', 'Physics'])\n",
    "\n",
    "datasetMathematics = pd.DataFrame(train,\n",
    " columns=['ID', 'TITLE', 'ABSTRACT', 'Mathematics'])\n",
    "\n",
    "datasetStatistics = pd.DataFrame(train,\n",
    " columns=['ID', 'TITLE', 'ABSTRACT', 'Statistics'])\n",
    "\n",
    "datasetQBiology = pd.DataFrame(train,\n",
    " columns=['ID', 'TITLE', 'ABSTRACT', 'Quantitative Biology'])\n",
    "\n",
    "datasetQFinance = pd.DataFrame(train,\n",
    " columns=['ID', 'TITLE', 'ABSTRACT', 'Quantitative Finance'])\n",
    "\n"
   ]
  },
  {
   "cell_type": "markdown",
   "metadata": {},
   "source": [
    "## Size of the training dataset\n",
    "\n",
    "It is important to know the magnitude of the dataset used to train the predictive model. Therefore, the following block of code will allow us to check the dimention of the used dataset. The bigger the dataset, the more data is taken into account when training the model, thus allowing it to acquire more information."
   ]
  },
  {
   "cell_type": "code",
   "execution_count": 7,
   "metadata": {},
   "outputs": [
    {
     "output_type": "stream",
     "name": "stdout",
     "text": [
      "Train: Rows & Columns\n(20972, 9)\n"
     ]
    }
   ],
   "source": [
    "print(\"Train: Rows & Columns\")\n",
    "print(train.shape)"
   ]
  },
  {
   "cell_type": "markdown",
   "metadata": {},
   "source": [
    "## Training Dataset Info\n",
    "\n",
    "By showing the info of the training dataset, one can see that there are no null values, meaning that there is no missing data. "
   ]
  },
  {
   "cell_type": "code",
   "execution_count": 8,
   "metadata": {},
   "outputs": [
    {
     "output_type": "stream",
     "name": "stdout",
     "text": [
      "<class 'pandas.core.frame.DataFrame'>\nRangeIndex: 20972 entries, 0 to 20971\nData columns (total 9 columns):\n #   Column                Non-Null Count  Dtype \n---  ------                --------------  ----- \n 0   ID                    20972 non-null  int64 \n 1   TITLE                 20972 non-null  object\n 2   ABSTRACT              20972 non-null  object\n 3   Computer Science      20972 non-null  int64 \n 4   Physics               20972 non-null  int64 \n 5   Mathematics           20972 non-null  int64 \n 6   Statistics            20972 non-null  int64 \n 7   Quantitative Biology  20972 non-null  int64 \n 8   Quantitative Finance  20972 non-null  int64 \ndtypes: int64(7), object(2)\nmemory usage: 1.4+ MB\n"
     ]
    }
   ],
   "source": [
    "train.info()"
   ]
  },
  {
   "cell_type": "markdown",
   "metadata": {},
   "source": [
    "## Dataset description\n",
    "\n",
    "Additionally, as shown below, the training dataset seems very clean because:\n",
    "\n",
    "- Number of rows for all the data columns are same\n",
    "- The max of all these 0-1 inputs is always 1\n",
    "- The min and max value of the column ID match the expected values and so do the 25%, 50% and 75%, thus showing that the ID is incremented correctly\n"
   ]
  },
  {
   "cell_type": "code",
   "execution_count": 9,
   "metadata": {},
   "outputs": [
    {
     "output_type": "execute_result",
     "data": {
      "text/plain": [
       "                 ID  Computer Science       Physics   Mathematics  \\\n",
       "count  20972.000000      20972.000000  20972.000000  20972.000000   \n",
       "mean   10486.500000          0.409784      0.286716      0.267881   \n",
       "std     6054.239259          0.491806      0.452238      0.442866   \n",
       "min        1.000000          0.000000      0.000000      0.000000   \n",
       "25%     5243.750000          0.000000      0.000000      0.000000   \n",
       "50%    10486.500000          0.000000      0.000000      0.000000   \n",
       "75%    15729.250000          1.000000      1.000000      1.000000   \n",
       "max    20972.000000          1.000000      1.000000      1.000000   \n",
       "\n",
       "         Statistics  Quantitative Biology  Quantitative Finance  \n",
       "count  20972.000000          20972.000000          20972.000000  \n",
       "mean       0.248236              0.027990              0.011873  \n",
       "std        0.432000              0.164947              0.108317  \n",
       "min        0.000000              0.000000              0.000000  \n",
       "25%        0.000000              0.000000              0.000000  \n",
       "50%        0.000000              0.000000              0.000000  \n",
       "75%        0.000000              0.000000              0.000000  \n",
       "max        1.000000              1.000000              1.000000  "
      ],
      "text/html": "<div>\n<style scoped>\n    .dataframe tbody tr th:only-of-type {\n        vertical-align: middle;\n    }\n\n    .dataframe tbody tr th {\n        vertical-align: top;\n    }\n\n    .dataframe thead th {\n        text-align: right;\n    }\n</style>\n<table border=\"1\" class=\"dataframe\">\n  <thead>\n    <tr style=\"text-align: right;\">\n      <th></th>\n      <th>ID</th>\n      <th>Computer Science</th>\n      <th>Physics</th>\n      <th>Mathematics</th>\n      <th>Statistics</th>\n      <th>Quantitative Biology</th>\n      <th>Quantitative Finance</th>\n    </tr>\n  </thead>\n  <tbody>\n    <tr>\n      <th>count</th>\n      <td>20972.000000</td>\n      <td>20972.000000</td>\n      <td>20972.000000</td>\n      <td>20972.000000</td>\n      <td>20972.000000</td>\n      <td>20972.000000</td>\n      <td>20972.000000</td>\n    </tr>\n    <tr>\n      <th>mean</th>\n      <td>10486.500000</td>\n      <td>0.409784</td>\n      <td>0.286716</td>\n      <td>0.267881</td>\n      <td>0.248236</td>\n      <td>0.027990</td>\n      <td>0.011873</td>\n    </tr>\n    <tr>\n      <th>std</th>\n      <td>6054.239259</td>\n      <td>0.491806</td>\n      <td>0.452238</td>\n      <td>0.442866</td>\n      <td>0.432000</td>\n      <td>0.164947</td>\n      <td>0.108317</td>\n    </tr>\n    <tr>\n      <th>min</th>\n      <td>1.000000</td>\n      <td>0.000000</td>\n      <td>0.000000</td>\n      <td>0.000000</td>\n      <td>0.000000</td>\n      <td>0.000000</td>\n      <td>0.000000</td>\n    </tr>\n    <tr>\n      <th>25%</th>\n      <td>5243.750000</td>\n      <td>0.000000</td>\n      <td>0.000000</td>\n      <td>0.000000</td>\n      <td>0.000000</td>\n      <td>0.000000</td>\n      <td>0.000000</td>\n    </tr>\n    <tr>\n      <th>50%</th>\n      <td>10486.500000</td>\n      <td>0.000000</td>\n      <td>0.000000</td>\n      <td>0.000000</td>\n      <td>0.000000</td>\n      <td>0.000000</td>\n      <td>0.000000</td>\n    </tr>\n    <tr>\n      <th>75%</th>\n      <td>15729.250000</td>\n      <td>1.000000</td>\n      <td>1.000000</td>\n      <td>1.000000</td>\n      <td>0.000000</td>\n      <td>0.000000</td>\n      <td>0.000000</td>\n    </tr>\n    <tr>\n      <th>max</th>\n      <td>20972.000000</td>\n      <td>1.000000</td>\n      <td>1.000000</td>\n      <td>1.000000</td>\n      <td>1.000000</td>\n      <td>1.000000</td>\n      <td>1.000000</td>\n    </tr>\n  </tbody>\n</table>\n</div>"
     },
     "metadata": {},
     "execution_count": 9
    }
   ],
   "source": [
    "train.describe()"
   ]
  },
  {
   "cell_type": "markdown",
   "metadata": {},
   "source": [
    "## Topic Distribution\n",
    "\n",
    "Each entry in the training dataset belongs to a topic. In order to evaluate the topics with the most and least entries, below is presented a numerical analysis where we can find the topic distribution of the training dataset. The model will classify more easily papers related to topics with the most entries in the training dataset, therefore the predictive model will be better trained to identify the more recurring topics of the training dataset."
   ]
  },
  {
   "cell_type": "code",
   "execution_count": 10,
   "metadata": {},
   "outputs": [
    {
     "output_type": "stream",
     "name": "stdout",
     "text": [
      "Number of articles that belong the the topic:\n\n- Computer Science:  8594\n- Physics:  6013\n- Mathematics:  5618\n- Statistics:  5206\n- Quantitative Biology:  587\n- Quantitative Finance:  249\n\nAs a percentage:\n\n- Computer Science:  41 %\n- Physics:  29 %\n- Mathematics:  27 %\n- Statistics:  25 %\n- Quantitative Biology:  3 %\n- Quantitative Finance:  1 %\n"
     ]
    }
   ],
   "source": [
    "print('Number of articles that belong the the topic:\\n')\n",
    "print('- Computer Science: ',train['Computer Science'].sum())\n",
    "print('- Physics: ',train['Physics'].sum())\n",
    "print('- Mathematics: ',train['Mathematics'].sum())\n",
    "print('- Statistics: ',train['Statistics'].sum())\n",
    "print('- Quantitative Biology: ',train['Quantitative Biology'].sum())\n",
    "print('- Quantitative Finance: ',train['Quantitative Finance'].sum())\n",
    "\n",
    "print('\\nAs a percentage:\\n')\n",
    "print('- Computer Science: ',round(train['Computer Science'].sum()/train.shape[0]*100), '%')\n",
    "print('- Physics: ',round(train['Physics'].sum()/train.shape[0]*100),'%')\n",
    "print('- Mathematics: ',round(train['Mathematics'].sum()/train.shape[0]*100),'%')\n",
    "print('- Statistics: ',round(train['Statistics'].sum()/train.shape[0]*100),'%')\n",
    "print('- Quantitative Biology: ',round(train['Quantitative Biology'].sum()/train.shape[0]*100),'%')\n",
    "print('- Quantitative Finance: ',round(train['Quantitative Finance'].sum()/train.shape[0]*100),'%')"
   ]
  },
  {
   "cell_type": "markdown",
   "metadata": {},
   "source": [
    "## Variable correlation\n",
    "\n",
    "When analysing the heatmap, the categories that have the highest values are the ones that appear together the most, thus showing which two categories appear together the most: Statistics and Computer Science. "
   ]
  },
  {
   "cell_type": "code",
   "execution_count": 11,
   "metadata": {},
   "outputs": [
    {
     "output_type": "display_data",
     "data": {
      "text/plain": "<Figure size 504x504 with 2 Axes>",
      "image/svg+xml": "<?xml version=\"1.0\" encoding=\"utf-8\" standalone=\"no\"?>\n<!DOCTYPE svg PUBLIC \"-//W3C//DTD SVG 1.1//EN\"\n  \"http://www.w3.org/Graphics/SVG/1.1/DTD/svg11.dtd\">\n<!-- Created with matplotlib (https://matplotlib.org/) -->\n<svg height=\"509.348906pt\" version=\"1.1\" viewBox=\"0 0 507.3485 509.348906\" width=\"507.3485pt\" xmlns=\"http://www.w3.org/2000/svg\" xmlns:xlink=\"http://www.w3.org/1999/xlink\">\n <metadata>\n  <rdf:RDF xmlns:cc=\"http://creativecommons.org/ns#\" xmlns:dc=\"http://purl.org/dc/elements/1.1/\" xmlns:rdf=\"http://www.w3.org/1999/02/22-rdf-syntax-ns#\">\n   <cc:Work>\n    <dc:type rdf:resource=\"http://purl.org/dc/dcmitype/StillImage\"/>\n    <dc:date>2021-05-26T13:07:59.293702</dc:date>\n    <dc:format>image/svg+xml</dc:format>\n    <dc:creator>\n     <cc:Agent>\n      <dc:title>Matplotlib v3.3.2, https://matplotlib.org/</dc:title>\n     </cc:Agent>\n    </dc:creator>\n   </cc:Work>\n  </rdf:RDF>\n </metadata>\n <defs>\n  <style type=\"text/css\">*{stroke-linecap:butt;stroke-linejoin:round;}</style>\n </defs>\n <g id=\"figure_1\">\n  <g id=\"patch_1\">\n   <path d=\"M 0 509.348906 \nL 507.3485 509.348906 \nL 507.3485 0 \nL 0 0 \nz\n\" style=\"fill:none;\"/>\n  </g>\n  <g id=\"axes_1\">\n   <g id=\"patch_2\">\n    <path d=\"M 117.829688 391.519219 \nL 430.309687 391.519219 \nL 430.309687 10.999219 \nL 117.829688 10.999219 \nz\n\" style=\"fill:#ffffff;\"/>\n   </g>\n   <g id=\"QuadMesh_1\">\n    <path clip-path=\"url(#p06f8c1b257)\" d=\"M 117.829688 10.999219 \nL 162.469688 10.999219 \nL 162.469688 65.359219 \nL 117.829688 65.359219 \nL 117.829688 10.999219 \n\" style=\"fill:#faebdd;\"/>\n    <path clip-path=\"url(#p06f8c1b257)\" d=\"M 162.469688 10.999219 \nL 207.109688 10.999219 \nL 207.109688 65.359219 \nL 162.469688 65.359219 \nL 162.469688 10.999219 \n\" style=\"fill:#751f58;\"/>\n    <path clip-path=\"url(#p06f8c1b257)\" d=\"M 207.109688 10.999219 \nL 251.749688 10.999219 \nL 251.749688 65.359219 \nL 207.109688 65.359219 \nL 207.109688 10.999219 \n\" style=\"fill:#751f58;\"/>\n    <path clip-path=\"url(#p06f8c1b257)\" d=\"M 251.749688 10.999219 \nL 296.389688 10.999219 \nL 296.389688 65.359219 \nL 251.749688 65.359219 \nL 251.749688 10.999219 \n\" style=\"fill:#731f58;\"/>\n    <path clip-path=\"url(#p06f8c1b257)\" d=\"M 296.389688 10.999219 \nL 341.029688 10.999219 \nL 341.029688 65.359219 \nL 296.389688 65.359219 \nL 296.389688 10.999219 \n\" style=\"fill:#731f58;\"/>\n    <path clip-path=\"url(#p06f8c1b257)\" d=\"M 341.029688 10.999219 \nL 385.669688 10.999219 \nL 385.669688 65.359219 \nL 341.029688 65.359219 \nL 341.029688 10.999219 \n\" style=\"fill:#701f57;\"/>\n    <path clip-path=\"url(#p06f8c1b257)\" d=\"M 385.669688 10.999219 \nL 430.309687 10.999219 \nL 430.309687 65.359219 \nL 385.669688 65.359219 \nL 385.669688 10.999219 \n\" style=\"fill:#731f58;\"/>\n    <path clip-path=\"url(#p06f8c1b257)\" d=\"M 117.829688 65.359219 \nL 162.469688 65.359219 \nL 162.469688 119.719219 \nL 117.829688 119.719219 \nL 117.829688 65.359219 \n\" style=\"fill:#751f58;\"/>\n    <path clip-path=\"url(#p06f8c1b257)\" d=\"M 162.469688 65.359219 \nL 207.109688 65.359219 \nL 207.109688 119.719219 \nL 162.469688 119.719219 \nL 162.469688 65.359219 \n\" style=\"fill:#faebdd;\"/>\n    <path clip-path=\"url(#p06f8c1b257)\" d=\"M 207.109688 65.359219 \nL 251.749688 65.359219 \nL 251.749688 119.719219 \nL 207.109688 119.719219 \nL 207.109688 65.359219 \n\" style=\"fill:#03051a;\"/>\n    <path clip-path=\"url(#p06f8c1b257)\" d=\"M 251.749688 65.359219 \nL 296.389688 65.359219 \nL 296.389688 119.719219 \nL 251.749688 119.719219 \nL 251.749688 65.359219 \n\" style=\"fill:#1e122d;\"/>\n    <path clip-path=\"url(#p06f8c1b257)\" d=\"M 296.389688 65.359219 \nL 341.029688 65.359219 \nL 341.029688 119.719219 \nL 296.389688 119.719219 \nL 296.389688 65.359219 \n\" style=\"fill:#8e1d5b;\"/>\n    <path clip-path=\"url(#p06f8c1b257)\" d=\"M 341.029688 65.359219 \nL 385.669688 65.359219 \nL 385.669688 119.719219 \nL 341.029688 119.719219 \nL 341.029688 65.359219 \n\" style=\"fill:#511e4d;\"/>\n    <path clip-path=\"url(#p06f8c1b257)\" d=\"M 385.669688 65.359219 \nL 430.309687 65.359219 \nL 430.309687 119.719219 \nL 385.669688 119.719219 \nL 385.669688 65.359219 \n\" style=\"fill:#5c1e51;\"/>\n    <path clip-path=\"url(#p06f8c1b257)\" d=\"M 117.829688 119.719219 \nL 162.469688 119.719219 \nL 162.469688 174.079219 \nL 117.829688 174.079219 \nL 117.829688 119.719219 \n\" style=\"fill:#751f58;\"/>\n    <path clip-path=\"url(#p06f8c1b257)\" d=\"M 162.469688 119.719219 \nL 207.109688 119.719219 \nL 207.109688 174.079219 \nL 162.469688 174.079219 \nL 162.469688 119.719219 \n\" style=\"fill:#03051a;\"/>\n    <path clip-path=\"url(#p06f8c1b257)\" d=\"M 207.109688 119.719219 \nL 251.749688 119.719219 \nL 251.749688 174.079219 \nL 207.109688 174.079219 \nL 207.109688 119.719219 \n\" style=\"fill:#faebdd;\"/>\n    <path clip-path=\"url(#p06f8c1b257)\" d=\"M 251.749688 119.719219 \nL 296.389688 119.719219 \nL 296.389688 174.079219 \nL 251.749688 174.079219 \nL 251.749688 119.719219 \n\" style=\"fill:#1e122d;\"/>\n    <path clip-path=\"url(#p06f8c1b257)\" d=\"M 296.389688 119.719219 \nL 341.029688 119.719219 \nL 341.029688 174.079219 \nL 296.389688 174.079219 \nL 296.389688 119.719219 \n\" style=\"fill:#180f29;\"/>\n    <path clip-path=\"url(#p06f8c1b257)\" d=\"M 341.029688 119.719219 \nL 385.669688 119.719219 \nL 385.669688 174.079219 \nL 341.029688 174.079219 \nL 341.029688 119.719219 \n\" style=\"fill:#541e4e;\"/>\n    <path clip-path=\"url(#p06f8c1b257)\" d=\"M 385.669688 119.719219 \nL 430.309687 119.719219 \nL 430.309687 174.079219 \nL 385.669688 174.079219 \nL 385.669688 119.719219 \n\" style=\"fill:#601f52;\"/>\n    <path clip-path=\"url(#p06f8c1b257)\" d=\"M 117.829688 174.079219 \nL 162.469688 174.079219 \nL 162.469688 228.439219 \nL 117.829688 228.439219 \nL 117.829688 174.079219 \n\" style=\"fill:#731f58;\"/>\n    <path clip-path=\"url(#p06f8c1b257)\" d=\"M 162.469688 174.079219 \nL 207.109688 174.079219 \nL 207.109688 228.439219 \nL 162.469688 228.439219 \nL 162.469688 174.079219 \n\" style=\"fill:#1e122d;\"/>\n    <path clip-path=\"url(#p06f8c1b257)\" d=\"M 207.109688 174.079219 \nL 251.749688 174.079219 \nL 251.749688 228.439219 \nL 207.109688 228.439219 \nL 207.109688 174.079219 \n\" style=\"fill:#1e122d;\"/>\n    <path clip-path=\"url(#p06f8c1b257)\" d=\"M 251.749688 174.079219 \nL 296.389688 174.079219 \nL 296.389688 228.439219 \nL 251.749688 228.439219 \nL 251.749688 174.079219 \n\" style=\"fill:#faebdd;\"/>\n    <path clip-path=\"url(#p06f8c1b257)\" d=\"M 296.389688 174.079219 \nL 341.029688 174.079219 \nL 341.029688 228.439219 \nL 296.389688 228.439219 \nL 296.389688 174.079219 \n\" style=\"fill:#591e50;\"/>\n    <path clip-path=\"url(#p06f8c1b257)\" d=\"M 341.029688 174.079219 \nL 385.669688 174.079219 \nL 385.669688 228.439219 \nL 341.029688 228.439219 \nL 341.029688 174.079219 \n\" style=\"fill:#561e4f;\"/>\n    <path clip-path=\"url(#p06f8c1b257)\" d=\"M 385.669688 174.079219 \nL 430.309687 174.079219 \nL 430.309687 228.439219 \nL 385.669688 228.439219 \nL 385.669688 174.079219 \n\" style=\"fill:#611f53;\"/>\n    <path clip-path=\"url(#p06f8c1b257)\" d=\"M 117.829688 228.439219 \nL 162.469688 228.439219 \nL 162.469688 282.799219 \nL 117.829688 282.799219 \nL 117.829688 228.439219 \n\" style=\"fill:#731f58;\"/>\n    <path clip-path=\"url(#p06f8c1b257)\" d=\"M 162.469688 228.439219 \nL 207.109688 228.439219 \nL 207.109688 282.799219 \nL 162.469688 282.799219 \nL 162.469688 228.439219 \n\" style=\"fill:#8e1d5b;\"/>\n    <path clip-path=\"url(#p06f8c1b257)\" d=\"M 207.109688 228.439219 \nL 251.749688 228.439219 \nL 251.749688 282.799219 \nL 207.109688 282.799219 \nL 207.109688 228.439219 \n\" style=\"fill:#180f29;\"/>\n    <path clip-path=\"url(#p06f8c1b257)\" d=\"M 251.749688 228.439219 \nL 296.389688 228.439219 \nL 296.389688 282.799219 \nL 251.749688 282.799219 \nL 251.749688 228.439219 \n\" style=\"fill:#591e50;\"/>\n    <path clip-path=\"url(#p06f8c1b257)\" d=\"M 296.389688 228.439219 \nL 341.029688 228.439219 \nL 341.029688 282.799219 \nL 296.389688 282.799219 \nL 296.389688 228.439219 \n\" style=\"fill:#faebdd;\"/>\n    <path clip-path=\"url(#p06f8c1b257)\" d=\"M 341.029688 228.439219 \nL 385.669688 228.439219 \nL 385.669688 282.799219 \nL 341.029688 282.799219 \nL 341.029688 228.439219 \n\" style=\"fill:#6d1f56;\"/>\n    <path clip-path=\"url(#p06f8c1b257)\" d=\"M 385.669688 228.439219 \nL 430.309687 228.439219 \nL 430.309687 282.799219 \nL 385.669688 282.799219 \nL 385.669688 228.439219 \n\" style=\"fill:#691f55;\"/>\n    <path clip-path=\"url(#p06f8c1b257)\" d=\"M 117.829688 282.799219 \nL 162.469688 282.799219 \nL 162.469688 337.159219 \nL 117.829688 337.159219 \nL 117.829688 282.799219 \n\" style=\"fill:#701f57;\"/>\n    <path clip-path=\"url(#p06f8c1b257)\" d=\"M 162.469688 282.799219 \nL 207.109688 282.799219 \nL 207.109688 337.159219 \nL 162.469688 337.159219 \nL 162.469688 282.799219 \n\" style=\"fill:#511e4d;\"/>\n    <path clip-path=\"url(#p06f8c1b257)\" d=\"M 207.109688 282.799219 \nL 251.749688 282.799219 \nL 251.749688 337.159219 \nL 207.109688 337.159219 \nL 207.109688 282.799219 \n\" style=\"fill:#541e4e;\"/>\n    <path clip-path=\"url(#p06f8c1b257)\" d=\"M 251.749688 282.799219 \nL 296.389688 282.799219 \nL 296.389688 337.159219 \nL 251.749688 337.159219 \nL 251.749688 282.799219 \n\" style=\"fill:#561e4f;\"/>\n    <path clip-path=\"url(#p06f8c1b257)\" d=\"M 296.389688 282.799219 \nL 341.029688 282.799219 \nL 341.029688 337.159219 \nL 296.389688 337.159219 \nL 296.389688 282.799219 \n\" style=\"fill:#6d1f56;\"/>\n    <path clip-path=\"url(#p06f8c1b257)\" d=\"M 341.029688 282.799219 \nL 385.669688 282.799219 \nL 385.669688 337.159219 \nL 341.029688 337.159219 \nL 341.029688 282.799219 \n\" style=\"fill:#faebdd;\"/>\n    <path clip-path=\"url(#p06f8c1b257)\" d=\"M 385.669688 282.799219 \nL 430.309687 282.799219 \nL 430.309687 337.159219 \nL 385.669688 337.159219 \nL 385.669688 282.799219 \n\" style=\"fill:#711f57;\"/>\n    <path clip-path=\"url(#p06f8c1b257)\" d=\"M 117.829688 337.159219 \nL 162.469688 337.159219 \nL 162.469688 391.519219 \nL 117.829688 391.519219 \nL 117.829688 337.159219 \n\" style=\"fill:#731f58;\"/>\n    <path clip-path=\"url(#p06f8c1b257)\" d=\"M 162.469688 337.159219 \nL 207.109688 337.159219 \nL 207.109688 391.519219 \nL 162.469688 391.519219 \nL 162.469688 337.159219 \n\" style=\"fill:#5c1e51;\"/>\n    <path clip-path=\"url(#p06f8c1b257)\" d=\"M 207.109688 337.159219 \nL 251.749688 337.159219 \nL 251.749688 391.519219 \nL 207.109688 391.519219 \nL 207.109688 337.159219 \n\" style=\"fill:#601f52;\"/>\n    <path clip-path=\"url(#p06f8c1b257)\" d=\"M 251.749688 337.159219 \nL 296.389688 337.159219 \nL 296.389688 391.519219 \nL 251.749688 391.519219 \nL 251.749688 337.159219 \n\" style=\"fill:#611f53;\"/>\n    <path clip-path=\"url(#p06f8c1b257)\" d=\"M 296.389688 337.159219 \nL 341.029688 337.159219 \nL 341.029688 391.519219 \nL 296.389688 391.519219 \nL 296.389688 337.159219 \n\" style=\"fill:#691f55;\"/>\n    <path clip-path=\"url(#p06f8c1b257)\" d=\"M 341.029688 337.159219 \nL 385.669688 337.159219 \nL 385.669688 391.519219 \nL 341.029688 391.519219 \nL 341.029688 337.159219 \n\" style=\"fill:#711f57;\"/>\n    <path clip-path=\"url(#p06f8c1b257)\" d=\"M 385.669688 337.159219 \nL 430.309687 337.159219 \nL 430.309687 391.519219 \nL 385.669688 391.519219 \nL 385.669688 337.159219 \n\" style=\"fill:#faebdd;\"/>\n   </g>\n   <g id=\"matplotlib.axis_1\">\n    <g id=\"xtick_1\">\n     <g id=\"line2d_1\">\n      <defs>\n       <path d=\"M 0 0 \nL 0 3.5 \n\" id=\"m7e762035ed\" style=\"stroke:#000000;stroke-width:0.8;\"/>\n      </defs>\n      <g>\n       <use style=\"stroke:#000000;stroke-width:0.8;\" x=\"140.149687\" xlink:href=\"#m7e762035ed\" y=\"391.519219\"/>\n      </g>\n     </g>\n     <g id=\"text_1\">\n      <!-- ID -->\n      <g transform=\"translate(142.909063 409.169219)rotate(-90)scale(0.1 -0.1)\">\n       <defs>\n        <path d=\"M 9.8125 72.90625 \nL 19.671875 72.90625 \nL 19.671875 0 \nL 9.8125 0 \nz\n\" id=\"DejaVuSans-73\"/>\n        <path d=\"M 19.671875 64.796875 \nL 19.671875 8.109375 \nL 31.59375 8.109375 \nQ 46.6875 8.109375 53.6875 14.9375 \nQ 60.6875 21.78125 60.6875 36.53125 \nQ 60.6875 51.171875 53.6875 57.984375 \nQ 46.6875 64.796875 31.59375 64.796875 \nz\nM 9.8125 72.90625 \nL 30.078125 72.90625 \nQ 51.265625 72.90625 61.171875 64.09375 \nQ 71.09375 55.28125 71.09375 36.53125 \nQ 71.09375 17.671875 61.125 8.828125 \nQ 51.171875 0 30.078125 0 \nL 9.8125 0 \nz\n\" id=\"DejaVuSans-68\"/>\n       </defs>\n       <use xlink:href=\"#DejaVuSans-73\"/>\n       <use x=\"29.492188\" xlink:href=\"#DejaVuSans-68\"/>\n      </g>\n     </g>\n    </g>\n    <g id=\"xtick_2\">\n     <g id=\"line2d_2\">\n      <g>\n       <use style=\"stroke:#000000;stroke-width:0.8;\" x=\"184.789688\" xlink:href=\"#m7e762035ed\" y=\"391.519219\"/>\n      </g>\n     </g>\n     <g id=\"text_2\">\n      <!-- Computer Science -->\n      <g transform=\"translate(187.549063 490.177031)rotate(-90)scale(0.1 -0.1)\">\n       <defs>\n        <path d=\"M 64.40625 67.28125 \nL 64.40625 56.890625 \nQ 59.421875 61.53125 53.78125 63.8125 \nQ 48.140625 66.109375 41.796875 66.109375 \nQ 29.296875 66.109375 22.65625 58.46875 \nQ 16.015625 50.828125 16.015625 36.375 \nQ 16.015625 21.96875 22.65625 14.328125 \nQ 29.296875 6.6875 41.796875 6.6875 \nQ 48.140625 6.6875 53.78125 8.984375 \nQ 59.421875 11.28125 64.40625 15.921875 \nL 64.40625 5.609375 \nQ 59.234375 2.09375 53.4375 0.328125 \nQ 47.65625 -1.421875 41.21875 -1.421875 \nQ 24.65625 -1.421875 15.125 8.703125 \nQ 5.609375 18.84375 5.609375 36.375 \nQ 5.609375 53.953125 15.125 64.078125 \nQ 24.65625 74.21875 41.21875 74.21875 \nQ 47.75 74.21875 53.53125 72.484375 \nQ 59.328125 70.75 64.40625 67.28125 \nz\n\" id=\"DejaVuSans-67\"/>\n        <path d=\"M 30.609375 48.390625 \nQ 23.390625 48.390625 19.1875 42.75 \nQ 14.984375 37.109375 14.984375 27.296875 \nQ 14.984375 17.484375 19.15625 11.84375 \nQ 23.34375 6.203125 30.609375 6.203125 \nQ 37.796875 6.203125 41.984375 11.859375 \nQ 46.1875 17.53125 46.1875 27.296875 \nQ 46.1875 37.015625 41.984375 42.703125 \nQ 37.796875 48.390625 30.609375 48.390625 \nz\nM 30.609375 56 \nQ 42.328125 56 49.015625 48.375 \nQ 55.71875 40.765625 55.71875 27.296875 \nQ 55.71875 13.875 49.015625 6.21875 \nQ 42.328125 -1.421875 30.609375 -1.421875 \nQ 18.84375 -1.421875 12.171875 6.21875 \nQ 5.515625 13.875 5.515625 27.296875 \nQ 5.515625 40.765625 12.171875 48.375 \nQ 18.84375 56 30.609375 56 \nz\n\" id=\"DejaVuSans-111\"/>\n        <path d=\"M 52 44.1875 \nQ 55.375 50.25 60.0625 53.125 \nQ 64.75 56 71.09375 56 \nQ 79.640625 56 84.28125 50.015625 \nQ 88.921875 44.046875 88.921875 33.015625 \nL 88.921875 0 \nL 79.890625 0 \nL 79.890625 32.71875 \nQ 79.890625 40.578125 77.09375 44.375 \nQ 74.3125 48.1875 68.609375 48.1875 \nQ 61.625 48.1875 57.5625 43.546875 \nQ 53.515625 38.921875 53.515625 30.90625 \nL 53.515625 0 \nL 44.484375 0 \nL 44.484375 32.71875 \nQ 44.484375 40.625 41.703125 44.40625 \nQ 38.921875 48.1875 33.109375 48.1875 \nQ 26.21875 48.1875 22.15625 43.53125 \nQ 18.109375 38.875 18.109375 30.90625 \nL 18.109375 0 \nL 9.078125 0 \nL 9.078125 54.6875 \nL 18.109375 54.6875 \nL 18.109375 46.1875 \nQ 21.1875 51.21875 25.484375 53.609375 \nQ 29.78125 56 35.6875 56 \nQ 41.65625 56 45.828125 52.96875 \nQ 50 49.953125 52 44.1875 \nz\n\" id=\"DejaVuSans-109\"/>\n        <path d=\"M 18.109375 8.203125 \nL 18.109375 -20.796875 \nL 9.078125 -20.796875 \nL 9.078125 54.6875 \nL 18.109375 54.6875 \nL 18.109375 46.390625 \nQ 20.953125 51.265625 25.265625 53.625 \nQ 29.59375 56 35.59375 56 \nQ 45.5625 56 51.78125 48.09375 \nQ 58.015625 40.1875 58.015625 27.296875 \nQ 58.015625 14.40625 51.78125 6.484375 \nQ 45.5625 -1.421875 35.59375 -1.421875 \nQ 29.59375 -1.421875 25.265625 0.953125 \nQ 20.953125 3.328125 18.109375 8.203125 \nz\nM 48.6875 27.296875 \nQ 48.6875 37.203125 44.609375 42.84375 \nQ 40.53125 48.484375 33.40625 48.484375 \nQ 26.265625 48.484375 22.1875 42.84375 \nQ 18.109375 37.203125 18.109375 27.296875 \nQ 18.109375 17.390625 22.1875 11.75 \nQ 26.265625 6.109375 33.40625 6.109375 \nQ 40.53125 6.109375 44.609375 11.75 \nQ 48.6875 17.390625 48.6875 27.296875 \nz\n\" id=\"DejaVuSans-112\"/>\n        <path d=\"M 8.5 21.578125 \nL 8.5 54.6875 \nL 17.484375 54.6875 \nL 17.484375 21.921875 \nQ 17.484375 14.15625 20.5 10.265625 \nQ 23.53125 6.390625 29.59375 6.390625 \nQ 36.859375 6.390625 41.078125 11.03125 \nQ 45.3125 15.671875 45.3125 23.6875 \nL 45.3125 54.6875 \nL 54.296875 54.6875 \nL 54.296875 0 \nL 45.3125 0 \nL 45.3125 8.40625 \nQ 42.046875 3.421875 37.71875 1 \nQ 33.40625 -1.421875 27.6875 -1.421875 \nQ 18.265625 -1.421875 13.375 4.4375 \nQ 8.5 10.296875 8.5 21.578125 \nz\nM 31.109375 56 \nz\n\" id=\"DejaVuSans-117\"/>\n        <path d=\"M 18.3125 70.21875 \nL 18.3125 54.6875 \nL 36.8125 54.6875 \nL 36.8125 47.703125 \nL 18.3125 47.703125 \nL 18.3125 18.015625 \nQ 18.3125 11.328125 20.140625 9.421875 \nQ 21.96875 7.515625 27.59375 7.515625 \nL 36.8125 7.515625 \nL 36.8125 0 \nL 27.59375 0 \nQ 17.1875 0 13.234375 3.875 \nQ 9.28125 7.765625 9.28125 18.015625 \nL 9.28125 47.703125 \nL 2.6875 47.703125 \nL 2.6875 54.6875 \nL 9.28125 54.6875 \nL 9.28125 70.21875 \nz\n\" id=\"DejaVuSans-116\"/>\n        <path d=\"M 56.203125 29.59375 \nL 56.203125 25.203125 \nL 14.890625 25.203125 \nQ 15.484375 15.921875 20.484375 11.0625 \nQ 25.484375 6.203125 34.421875 6.203125 \nQ 39.59375 6.203125 44.453125 7.46875 \nQ 49.3125 8.734375 54.109375 11.28125 \nL 54.109375 2.78125 \nQ 49.265625 0.734375 44.1875 -0.34375 \nQ 39.109375 -1.421875 33.890625 -1.421875 \nQ 20.796875 -1.421875 13.15625 6.1875 \nQ 5.515625 13.8125 5.515625 26.8125 \nQ 5.515625 40.234375 12.765625 48.109375 \nQ 20.015625 56 32.328125 56 \nQ 43.359375 56 49.78125 48.890625 \nQ 56.203125 41.796875 56.203125 29.59375 \nz\nM 47.21875 32.234375 \nQ 47.125 39.59375 43.09375 43.984375 \nQ 39.0625 48.390625 32.421875 48.390625 \nQ 24.90625 48.390625 20.390625 44.140625 \nQ 15.875 39.890625 15.1875 32.171875 \nz\n\" id=\"DejaVuSans-101\"/>\n        <path d=\"M 41.109375 46.296875 \nQ 39.59375 47.171875 37.8125 47.578125 \nQ 36.03125 48 33.890625 48 \nQ 26.265625 48 22.1875 43.046875 \nQ 18.109375 38.09375 18.109375 28.8125 \nL 18.109375 0 \nL 9.078125 0 \nL 9.078125 54.6875 \nL 18.109375 54.6875 \nL 18.109375 46.1875 \nQ 20.953125 51.171875 25.484375 53.578125 \nQ 30.03125 56 36.53125 56 \nQ 37.453125 56 38.578125 55.875 \nQ 39.703125 55.765625 41.0625 55.515625 \nz\n\" id=\"DejaVuSans-114\"/>\n        <path id=\"DejaVuSans-32\"/>\n        <path d=\"M 53.515625 70.515625 \nL 53.515625 60.890625 \nQ 47.90625 63.578125 42.921875 64.890625 \nQ 37.9375 66.21875 33.296875 66.21875 \nQ 25.25 66.21875 20.875 63.09375 \nQ 16.5 59.96875 16.5 54.203125 \nQ 16.5 49.359375 19.40625 46.890625 \nQ 22.3125 44.4375 30.421875 42.921875 \nL 36.375 41.703125 \nQ 47.40625 39.59375 52.65625 34.296875 \nQ 57.90625 29 57.90625 20.125 \nQ 57.90625 9.515625 50.796875 4.046875 \nQ 43.703125 -1.421875 29.984375 -1.421875 \nQ 24.8125 -1.421875 18.96875 -0.25 \nQ 13.140625 0.921875 6.890625 3.21875 \nL 6.890625 13.375 \nQ 12.890625 10.015625 18.65625 8.296875 \nQ 24.421875 6.59375 29.984375 6.59375 \nQ 38.421875 6.59375 43.015625 9.90625 \nQ 47.609375 13.234375 47.609375 19.390625 \nQ 47.609375 24.75 44.3125 27.78125 \nQ 41.015625 30.8125 33.5 32.328125 \nL 27.484375 33.5 \nQ 16.453125 35.6875 11.515625 40.375 \nQ 6.59375 45.0625 6.59375 53.421875 \nQ 6.59375 63.09375 13.40625 68.65625 \nQ 20.21875 74.21875 32.171875 74.21875 \nQ 37.3125 74.21875 42.625 73.28125 \nQ 47.953125 72.359375 53.515625 70.515625 \nz\n\" id=\"DejaVuSans-83\"/>\n        <path d=\"M 48.78125 52.59375 \nL 48.78125 44.1875 \nQ 44.96875 46.296875 41.140625 47.34375 \nQ 37.3125 48.390625 33.40625 48.390625 \nQ 24.65625 48.390625 19.8125 42.84375 \nQ 14.984375 37.3125 14.984375 27.296875 \nQ 14.984375 17.28125 19.8125 11.734375 \nQ 24.65625 6.203125 33.40625 6.203125 \nQ 37.3125 6.203125 41.140625 7.25 \nQ 44.96875 8.296875 48.78125 10.40625 \nL 48.78125 2.09375 \nQ 45.015625 0.34375 40.984375 -0.53125 \nQ 36.96875 -1.421875 32.421875 -1.421875 \nQ 20.0625 -1.421875 12.78125 6.34375 \nQ 5.515625 14.109375 5.515625 27.296875 \nQ 5.515625 40.671875 12.859375 48.328125 \nQ 20.21875 56 33.015625 56 \nQ 37.15625 56 41.109375 55.140625 \nQ 45.0625 54.296875 48.78125 52.59375 \nz\n\" id=\"DejaVuSans-99\"/>\n        <path d=\"M 9.421875 54.6875 \nL 18.40625 54.6875 \nL 18.40625 0 \nL 9.421875 0 \nz\nM 9.421875 75.984375 \nL 18.40625 75.984375 \nL 18.40625 64.59375 \nL 9.421875 64.59375 \nz\n\" id=\"DejaVuSans-105\"/>\n        <path d=\"M 54.890625 33.015625 \nL 54.890625 0 \nL 45.90625 0 \nL 45.90625 32.71875 \nQ 45.90625 40.484375 42.875 44.328125 \nQ 39.84375 48.1875 33.796875 48.1875 \nQ 26.515625 48.1875 22.3125 43.546875 \nQ 18.109375 38.921875 18.109375 30.90625 \nL 18.109375 0 \nL 9.078125 0 \nL 9.078125 54.6875 \nL 18.109375 54.6875 \nL 18.109375 46.1875 \nQ 21.34375 51.125 25.703125 53.5625 \nQ 30.078125 56 35.796875 56 \nQ 45.21875 56 50.046875 50.171875 \nQ 54.890625 44.34375 54.890625 33.015625 \nz\n\" id=\"DejaVuSans-110\"/>\n       </defs>\n       <use xlink:href=\"#DejaVuSans-67\"/>\n       <use x=\"69.824219\" xlink:href=\"#DejaVuSans-111\"/>\n       <use x=\"131.005859\" xlink:href=\"#DejaVuSans-109\"/>\n       <use x=\"228.417969\" xlink:href=\"#DejaVuSans-112\"/>\n       <use x=\"291.894531\" xlink:href=\"#DejaVuSans-117\"/>\n       <use x=\"355.273438\" xlink:href=\"#DejaVuSans-116\"/>\n       <use x=\"394.482422\" xlink:href=\"#DejaVuSans-101\"/>\n       <use x=\"456.005859\" xlink:href=\"#DejaVuSans-114\"/>\n       <use x=\"497.119141\" xlink:href=\"#DejaVuSans-32\"/>\n       <use x=\"528.90625\" xlink:href=\"#DejaVuSans-83\"/>\n       <use x=\"592.382812\" xlink:href=\"#DejaVuSans-99\"/>\n       <use x=\"647.363281\" xlink:href=\"#DejaVuSans-105\"/>\n       <use x=\"675.146484\" xlink:href=\"#DejaVuSans-101\"/>\n       <use x=\"736.669922\" xlink:href=\"#DejaVuSans-110\"/>\n       <use x=\"800.048828\" xlink:href=\"#DejaVuSans-99\"/>\n       <use x=\"855.029297\" xlink:href=\"#DejaVuSans-101\"/>\n      </g>\n     </g>\n    </g>\n    <g id=\"xtick_3\">\n     <g id=\"line2d_3\">\n      <g>\n       <use style=\"stroke:#000000;stroke-width:0.8;\" x=\"229.429688\" xlink:href=\"#m7e762035ed\" y=\"391.519219\"/>\n      </g>\n     </g>\n     <g id=\"text_3\">\n      <!-- Physics -->\n      <g transform=\"translate(232.189063 435.500469)rotate(-90)scale(0.1 -0.1)\">\n       <defs>\n        <path d=\"M 19.671875 64.796875 \nL 19.671875 37.40625 \nL 32.078125 37.40625 \nQ 38.96875 37.40625 42.71875 40.96875 \nQ 46.484375 44.53125 46.484375 51.125 \nQ 46.484375 57.671875 42.71875 61.234375 \nQ 38.96875 64.796875 32.078125 64.796875 \nz\nM 9.8125 72.90625 \nL 32.078125 72.90625 \nQ 44.34375 72.90625 50.609375 67.359375 \nQ 56.890625 61.8125 56.890625 51.125 \nQ 56.890625 40.328125 50.609375 34.8125 \nQ 44.34375 29.296875 32.078125 29.296875 \nL 19.671875 29.296875 \nL 19.671875 0 \nL 9.8125 0 \nz\n\" id=\"DejaVuSans-80\"/>\n        <path d=\"M 54.890625 33.015625 \nL 54.890625 0 \nL 45.90625 0 \nL 45.90625 32.71875 \nQ 45.90625 40.484375 42.875 44.328125 \nQ 39.84375 48.1875 33.796875 48.1875 \nQ 26.515625 48.1875 22.3125 43.546875 \nQ 18.109375 38.921875 18.109375 30.90625 \nL 18.109375 0 \nL 9.078125 0 \nL 9.078125 75.984375 \nL 18.109375 75.984375 \nL 18.109375 46.1875 \nQ 21.34375 51.125 25.703125 53.5625 \nQ 30.078125 56 35.796875 56 \nQ 45.21875 56 50.046875 50.171875 \nQ 54.890625 44.34375 54.890625 33.015625 \nz\n\" id=\"DejaVuSans-104\"/>\n        <path d=\"M 32.171875 -5.078125 \nQ 28.375 -14.84375 24.75 -17.8125 \nQ 21.140625 -20.796875 15.09375 -20.796875 \nL 7.90625 -20.796875 \nL 7.90625 -13.28125 \nL 13.1875 -13.28125 \nQ 16.890625 -13.28125 18.9375 -11.515625 \nQ 21 -9.765625 23.484375 -3.21875 \nL 25.09375 0.875 \nL 2.984375 54.6875 \nL 12.5 54.6875 \nL 29.59375 11.921875 \nL 46.6875 54.6875 \nL 56.203125 54.6875 \nz\n\" id=\"DejaVuSans-121\"/>\n        <path d=\"M 44.28125 53.078125 \nL 44.28125 44.578125 \nQ 40.484375 46.53125 36.375 47.5 \nQ 32.28125 48.484375 27.875 48.484375 \nQ 21.1875 48.484375 17.84375 46.4375 \nQ 14.5 44.390625 14.5 40.28125 \nQ 14.5 37.15625 16.890625 35.375 \nQ 19.28125 33.59375 26.515625 31.984375 \nL 29.59375 31.296875 \nQ 39.15625 29.25 43.1875 25.515625 \nQ 47.21875 21.78125 47.21875 15.09375 \nQ 47.21875 7.46875 41.1875 3.015625 \nQ 35.15625 -1.421875 24.609375 -1.421875 \nQ 20.21875 -1.421875 15.453125 -0.5625 \nQ 10.6875 0.296875 5.421875 2 \nL 5.421875 11.28125 \nQ 10.40625 8.6875 15.234375 7.390625 \nQ 20.0625 6.109375 24.8125 6.109375 \nQ 31.15625 6.109375 34.5625 8.28125 \nQ 37.984375 10.453125 37.984375 14.40625 \nQ 37.984375 18.0625 35.515625 20.015625 \nQ 33.0625 21.96875 24.703125 23.78125 \nL 21.578125 24.515625 \nQ 13.234375 26.265625 9.515625 29.90625 \nQ 5.8125 33.546875 5.8125 39.890625 \nQ 5.8125 47.609375 11.28125 51.796875 \nQ 16.75 56 26.8125 56 \nQ 31.78125 56 36.171875 55.265625 \nQ 40.578125 54.546875 44.28125 53.078125 \nz\n\" id=\"DejaVuSans-115\"/>\n       </defs>\n       <use xlink:href=\"#DejaVuSans-80\"/>\n       <use x=\"60.302734\" xlink:href=\"#DejaVuSans-104\"/>\n       <use x=\"123.681641\" xlink:href=\"#DejaVuSans-121\"/>\n       <use x=\"182.861328\" xlink:href=\"#DejaVuSans-115\"/>\n       <use x=\"234.960938\" xlink:href=\"#DejaVuSans-105\"/>\n       <use x=\"262.744141\" xlink:href=\"#DejaVuSans-99\"/>\n       <use x=\"317.724609\" xlink:href=\"#DejaVuSans-115\"/>\n      </g>\n     </g>\n    </g>\n    <g id=\"xtick_4\">\n     <g id=\"line2d_4\">\n      <g>\n       <use style=\"stroke:#000000;stroke-width:0.8;\" x=\"274.069687\" xlink:href=\"#m7e762035ed\" y=\"391.519219\"/>\n      </g>\n     </g>\n     <g id=\"text_4\">\n      <!-- Mathematics -->\n      <g transform=\"translate(276.829062 462.961406)rotate(-90)scale(0.1 -0.1)\">\n       <defs>\n        <path d=\"M 9.8125 72.90625 \nL 24.515625 72.90625 \nL 43.109375 23.296875 \nL 61.8125 72.90625 \nL 76.515625 72.90625 \nL 76.515625 0 \nL 66.890625 0 \nL 66.890625 64.015625 \nL 48.09375 14.015625 \nL 38.1875 14.015625 \nL 19.390625 64.015625 \nL 19.390625 0 \nL 9.8125 0 \nz\n\" id=\"DejaVuSans-77\"/>\n        <path d=\"M 34.28125 27.484375 \nQ 23.390625 27.484375 19.1875 25 \nQ 14.984375 22.515625 14.984375 16.5 \nQ 14.984375 11.71875 18.140625 8.90625 \nQ 21.296875 6.109375 26.703125 6.109375 \nQ 34.1875 6.109375 38.703125 11.40625 \nQ 43.21875 16.703125 43.21875 25.484375 \nL 43.21875 27.484375 \nz\nM 52.203125 31.203125 \nL 52.203125 0 \nL 43.21875 0 \nL 43.21875 8.296875 \nQ 40.140625 3.328125 35.546875 0.953125 \nQ 30.953125 -1.421875 24.3125 -1.421875 \nQ 15.921875 -1.421875 10.953125 3.296875 \nQ 6 8.015625 6 15.921875 \nQ 6 25.140625 12.171875 29.828125 \nQ 18.359375 34.515625 30.609375 34.515625 \nL 43.21875 34.515625 \nL 43.21875 35.40625 \nQ 43.21875 41.609375 39.140625 45 \nQ 35.0625 48.390625 27.6875 48.390625 \nQ 23 48.390625 18.546875 47.265625 \nQ 14.109375 46.140625 10.015625 43.890625 \nL 10.015625 52.203125 \nQ 14.9375 54.109375 19.578125 55.046875 \nQ 24.21875 56 28.609375 56 \nQ 40.484375 56 46.34375 49.84375 \nQ 52.203125 43.703125 52.203125 31.203125 \nz\n\" id=\"DejaVuSans-97\"/>\n       </defs>\n       <use xlink:href=\"#DejaVuSans-77\"/>\n       <use x=\"86.279297\" xlink:href=\"#DejaVuSans-97\"/>\n       <use x=\"147.558594\" xlink:href=\"#DejaVuSans-116\"/>\n       <use x=\"186.767578\" xlink:href=\"#DejaVuSans-104\"/>\n       <use x=\"250.146484\" xlink:href=\"#DejaVuSans-101\"/>\n       <use x=\"311.669922\" xlink:href=\"#DejaVuSans-109\"/>\n       <use x=\"409.082031\" xlink:href=\"#DejaVuSans-97\"/>\n       <use x=\"470.361328\" xlink:href=\"#DejaVuSans-116\"/>\n       <use x=\"509.570312\" xlink:href=\"#DejaVuSans-105\"/>\n       <use x=\"537.353516\" xlink:href=\"#DejaVuSans-99\"/>\n       <use x=\"592.333984\" xlink:href=\"#DejaVuSans-115\"/>\n      </g>\n     </g>\n    </g>\n    <g id=\"xtick_5\">\n     <g id=\"line2d_5\">\n      <g>\n       <use style=\"stroke:#000000;stroke-width:0.8;\" x=\"318.709687\" xlink:href=\"#m7e762035ed\" y=\"391.519219\"/>\n      </g>\n     </g>\n     <g id=\"text_5\">\n      <!-- Statistics -->\n      <g transform=\"translate(321.469062 444.230156)rotate(-90)scale(0.1 -0.1)\">\n       <use xlink:href=\"#DejaVuSans-83\"/>\n       <use x=\"63.476562\" xlink:href=\"#DejaVuSans-116\"/>\n       <use x=\"102.685547\" xlink:href=\"#DejaVuSans-97\"/>\n       <use x=\"163.964844\" xlink:href=\"#DejaVuSans-116\"/>\n       <use x=\"203.173828\" xlink:href=\"#DejaVuSans-105\"/>\n       <use x=\"230.957031\" xlink:href=\"#DejaVuSans-115\"/>\n       <use x=\"283.056641\" xlink:href=\"#DejaVuSans-116\"/>\n       <use x=\"322.265625\" xlink:href=\"#DejaVuSans-105\"/>\n       <use x=\"350.048828\" xlink:href=\"#DejaVuSans-99\"/>\n       <use x=\"405.029297\" xlink:href=\"#DejaVuSans-115\"/>\n      </g>\n     </g>\n    </g>\n    <g id=\"xtick_6\">\n     <g id=\"line2d_6\">\n      <g>\n       <use style=\"stroke:#000000;stroke-width:0.8;\" x=\"363.349688\" xlink:href=\"#m7e762035ed\" y=\"391.519219\"/>\n      </g>\n     </g>\n     <g id=\"text_6\">\n      <!-- Quantitative Biology -->\n      <g transform=\"translate(366.109062 500.811406)rotate(-90)scale(0.1 -0.1)\">\n       <defs>\n        <path d=\"M 39.40625 66.21875 \nQ 28.65625 66.21875 22.328125 58.203125 \nQ 16.015625 50.203125 16.015625 36.375 \nQ 16.015625 22.609375 22.328125 14.59375 \nQ 28.65625 6.59375 39.40625 6.59375 \nQ 50.140625 6.59375 56.421875 14.59375 \nQ 62.703125 22.609375 62.703125 36.375 \nQ 62.703125 50.203125 56.421875 58.203125 \nQ 50.140625 66.21875 39.40625 66.21875 \nz\nM 53.21875 1.3125 \nL 66.21875 -12.890625 \nL 54.296875 -12.890625 \nL 43.5 -1.21875 \nQ 41.890625 -1.3125 41.03125 -1.359375 \nQ 40.1875 -1.421875 39.40625 -1.421875 \nQ 24.03125 -1.421875 14.8125 8.859375 \nQ 5.609375 19.140625 5.609375 36.375 \nQ 5.609375 53.65625 14.8125 63.9375 \nQ 24.03125 74.21875 39.40625 74.21875 \nQ 54.734375 74.21875 63.90625 63.9375 \nQ 73.09375 53.65625 73.09375 36.375 \nQ 73.09375 23.6875 67.984375 14.640625 \nQ 62.890625 5.609375 53.21875 1.3125 \nz\n\" id=\"DejaVuSans-81\"/>\n        <path d=\"M 2.984375 54.6875 \nL 12.5 54.6875 \nL 29.59375 8.796875 \nL 46.6875 54.6875 \nL 56.203125 54.6875 \nL 35.6875 0 \nL 23.484375 0 \nz\n\" id=\"DejaVuSans-118\"/>\n        <path d=\"M 19.671875 34.8125 \nL 19.671875 8.109375 \nL 35.5 8.109375 \nQ 43.453125 8.109375 47.28125 11.40625 \nQ 51.125 14.703125 51.125 21.484375 \nQ 51.125 28.328125 47.28125 31.5625 \nQ 43.453125 34.8125 35.5 34.8125 \nz\nM 19.671875 64.796875 \nL 19.671875 42.828125 \nL 34.28125 42.828125 \nQ 41.5 42.828125 45.03125 45.53125 \nQ 48.578125 48.25 48.578125 53.8125 \nQ 48.578125 59.328125 45.03125 62.0625 \nQ 41.5 64.796875 34.28125 64.796875 \nz\nM 9.8125 72.90625 \nL 35.015625 72.90625 \nQ 46.296875 72.90625 52.390625 68.21875 \nQ 58.5 63.53125 58.5 54.890625 \nQ 58.5 48.1875 55.375 44.234375 \nQ 52.25 40.28125 46.1875 39.3125 \nQ 53.46875 37.75 57.5 32.78125 \nQ 61.53125 27.828125 61.53125 20.40625 \nQ 61.53125 10.640625 54.890625 5.3125 \nQ 48.25 0 35.984375 0 \nL 9.8125 0 \nz\n\" id=\"DejaVuSans-66\"/>\n        <path d=\"M 9.421875 75.984375 \nL 18.40625 75.984375 \nL 18.40625 0 \nL 9.421875 0 \nz\n\" id=\"DejaVuSans-108\"/>\n        <path d=\"M 45.40625 27.984375 \nQ 45.40625 37.75 41.375 43.109375 \nQ 37.359375 48.484375 30.078125 48.484375 \nQ 22.859375 48.484375 18.828125 43.109375 \nQ 14.796875 37.75 14.796875 27.984375 \nQ 14.796875 18.265625 18.828125 12.890625 \nQ 22.859375 7.515625 30.078125 7.515625 \nQ 37.359375 7.515625 41.375 12.890625 \nQ 45.40625 18.265625 45.40625 27.984375 \nz\nM 54.390625 6.78125 \nQ 54.390625 -7.171875 48.1875 -13.984375 \nQ 42 -20.796875 29.203125 -20.796875 \nQ 24.46875 -20.796875 20.265625 -20.09375 \nQ 16.0625 -19.390625 12.109375 -17.921875 \nL 12.109375 -9.1875 \nQ 16.0625 -11.328125 19.921875 -12.34375 \nQ 23.78125 -13.375 27.78125 -13.375 \nQ 36.625 -13.375 41.015625 -8.765625 \nQ 45.40625 -4.15625 45.40625 5.171875 \nL 45.40625 9.625 \nQ 42.625 4.78125 38.28125 2.390625 \nQ 33.9375 0 27.875 0 \nQ 17.828125 0 11.671875 7.65625 \nQ 5.515625 15.328125 5.515625 27.984375 \nQ 5.515625 40.671875 11.671875 48.328125 \nQ 17.828125 56 27.875 56 \nQ 33.9375 56 38.28125 53.609375 \nQ 42.625 51.21875 45.40625 46.390625 \nL 45.40625 54.6875 \nL 54.390625 54.6875 \nz\n\" id=\"DejaVuSans-103\"/>\n       </defs>\n       <use xlink:href=\"#DejaVuSans-81\"/>\n       <use x=\"78.710938\" xlink:href=\"#DejaVuSans-117\"/>\n       <use x=\"142.089844\" xlink:href=\"#DejaVuSans-97\"/>\n       <use x=\"203.369141\" xlink:href=\"#DejaVuSans-110\"/>\n       <use x=\"266.748047\" xlink:href=\"#DejaVuSans-116\"/>\n       <use x=\"305.957031\" xlink:href=\"#DejaVuSans-105\"/>\n       <use x=\"333.740234\" xlink:href=\"#DejaVuSans-116\"/>\n       <use x=\"372.949219\" xlink:href=\"#DejaVuSans-97\"/>\n       <use x=\"434.228516\" xlink:href=\"#DejaVuSans-116\"/>\n       <use x=\"473.4375\" xlink:href=\"#DejaVuSans-105\"/>\n       <use x=\"501.220703\" xlink:href=\"#DejaVuSans-118\"/>\n       <use x=\"560.400391\" xlink:href=\"#DejaVuSans-101\"/>\n       <use x=\"621.923828\" xlink:href=\"#DejaVuSans-32\"/>\n       <use x=\"653.710938\" xlink:href=\"#DejaVuSans-66\"/>\n       <use x=\"722.314453\" xlink:href=\"#DejaVuSans-105\"/>\n       <use x=\"750.097656\" xlink:href=\"#DejaVuSans-111\"/>\n       <use x=\"811.279297\" xlink:href=\"#DejaVuSans-108\"/>\n       <use x=\"839.0625\" xlink:href=\"#DejaVuSans-111\"/>\n       <use x=\"900.244141\" xlink:href=\"#DejaVuSans-103\"/>\n       <use x=\"963.720703\" xlink:href=\"#DejaVuSans-121\"/>\n      </g>\n     </g>\n    </g>\n    <g id=\"xtick_7\">\n     <g id=\"line2d_7\">\n      <g>\n       <use style=\"stroke:#000000;stroke-width:0.8;\" x=\"407.989688\" xlink:href=\"#m7e762035ed\" y=\"391.519219\"/>\n      </g>\n     </g>\n     <g id=\"text_7\">\n      <!-- Quantitative Finance -->\n      <g transform=\"translate(410.749063 502.148906)rotate(-90)scale(0.1 -0.1)\">\n       <defs>\n        <path d=\"M 9.8125 72.90625 \nL 51.703125 72.90625 \nL 51.703125 64.59375 \nL 19.671875 64.59375 \nL 19.671875 43.109375 \nL 48.578125 43.109375 \nL 48.578125 34.8125 \nL 19.671875 34.8125 \nL 19.671875 0 \nL 9.8125 0 \nz\n\" id=\"DejaVuSans-70\"/>\n       </defs>\n       <use xlink:href=\"#DejaVuSans-81\"/>\n       <use x=\"78.710938\" xlink:href=\"#DejaVuSans-117\"/>\n       <use x=\"142.089844\" xlink:href=\"#DejaVuSans-97\"/>\n       <use x=\"203.369141\" xlink:href=\"#DejaVuSans-110\"/>\n       <use x=\"266.748047\" xlink:href=\"#DejaVuSans-116\"/>\n       <use x=\"305.957031\" xlink:href=\"#DejaVuSans-105\"/>\n       <use x=\"333.740234\" xlink:href=\"#DejaVuSans-116\"/>\n       <use x=\"372.949219\" xlink:href=\"#DejaVuSans-97\"/>\n       <use x=\"434.228516\" xlink:href=\"#DejaVuSans-116\"/>\n       <use x=\"473.4375\" xlink:href=\"#DejaVuSans-105\"/>\n       <use x=\"501.220703\" xlink:href=\"#DejaVuSans-118\"/>\n       <use x=\"560.400391\" xlink:href=\"#DejaVuSans-101\"/>\n       <use x=\"621.923828\" xlink:href=\"#DejaVuSans-32\"/>\n       <use x=\"653.710938\" xlink:href=\"#DejaVuSans-70\"/>\n       <use x=\"703.980469\" xlink:href=\"#DejaVuSans-105\"/>\n       <use x=\"731.763672\" xlink:href=\"#DejaVuSans-110\"/>\n       <use x=\"795.142578\" xlink:href=\"#DejaVuSans-97\"/>\n       <use x=\"856.421875\" xlink:href=\"#DejaVuSans-110\"/>\n       <use x=\"919.800781\" xlink:href=\"#DejaVuSans-99\"/>\n       <use x=\"974.78125\" xlink:href=\"#DejaVuSans-101\"/>\n      </g>\n     </g>\n    </g>\n   </g>\n   <g id=\"matplotlib.axis_2\">\n    <g id=\"ytick_1\">\n     <g id=\"line2d_8\">\n      <defs>\n       <path d=\"M 0 0 \nL -3.5 0 \n\" id=\"m1c98e1bd45\" style=\"stroke:#000000;stroke-width:0.8;\"/>\n      </defs>\n      <g>\n       <use style=\"stroke:#000000;stroke-width:0.8;\" x=\"117.829688\" xlink:href=\"#m1c98e1bd45\" y=\"38.179219\"/>\n      </g>\n     </g>\n     <g id=\"text_8\">\n      <!-- ID -->\n      <g transform=\"translate(100.179688 41.978438)scale(0.1 -0.1)\">\n       <use xlink:href=\"#DejaVuSans-73\"/>\n       <use x=\"29.492188\" xlink:href=\"#DejaVuSans-68\"/>\n      </g>\n     </g>\n    </g>\n    <g id=\"ytick_2\">\n     <g id=\"line2d_9\">\n      <g>\n       <use style=\"stroke:#000000;stroke-width:0.8;\" x=\"117.829688\" xlink:href=\"#m1c98e1bd45\" y=\"92.539219\"/>\n      </g>\n     </g>\n     <g id=\"text_9\">\n      <!-- Computer Science -->\n      <g transform=\"translate(19.171875 96.338437)scale(0.1 -0.1)\">\n       <use xlink:href=\"#DejaVuSans-67\"/>\n       <use x=\"69.824219\" xlink:href=\"#DejaVuSans-111\"/>\n       <use x=\"131.005859\" xlink:href=\"#DejaVuSans-109\"/>\n       <use x=\"228.417969\" xlink:href=\"#DejaVuSans-112\"/>\n       <use x=\"291.894531\" xlink:href=\"#DejaVuSans-117\"/>\n       <use x=\"355.273438\" xlink:href=\"#DejaVuSans-116\"/>\n       <use x=\"394.482422\" xlink:href=\"#DejaVuSans-101\"/>\n       <use x=\"456.005859\" xlink:href=\"#DejaVuSans-114\"/>\n       <use x=\"497.119141\" xlink:href=\"#DejaVuSans-32\"/>\n       <use x=\"528.90625\" xlink:href=\"#DejaVuSans-83\"/>\n       <use x=\"592.382812\" xlink:href=\"#DejaVuSans-99\"/>\n       <use x=\"647.363281\" xlink:href=\"#DejaVuSans-105\"/>\n       <use x=\"675.146484\" xlink:href=\"#DejaVuSans-101\"/>\n       <use x=\"736.669922\" xlink:href=\"#DejaVuSans-110\"/>\n       <use x=\"800.048828\" xlink:href=\"#DejaVuSans-99\"/>\n       <use x=\"855.029297\" xlink:href=\"#DejaVuSans-101\"/>\n      </g>\n     </g>\n    </g>\n    <g id=\"ytick_3\">\n     <g id=\"line2d_10\">\n      <g>\n       <use style=\"stroke:#000000;stroke-width:0.8;\" x=\"117.829688\" xlink:href=\"#m1c98e1bd45\" y=\"146.899219\"/>\n      </g>\n     </g>\n     <g id=\"text_10\">\n      <!-- Physics -->\n      <g transform=\"translate(73.848438 150.698438)scale(0.1 -0.1)\">\n       <use xlink:href=\"#DejaVuSans-80\"/>\n       <use x=\"60.302734\" xlink:href=\"#DejaVuSans-104\"/>\n       <use x=\"123.681641\" xlink:href=\"#DejaVuSans-121\"/>\n       <use x=\"182.861328\" xlink:href=\"#DejaVuSans-115\"/>\n       <use x=\"234.960938\" xlink:href=\"#DejaVuSans-105\"/>\n       <use x=\"262.744141\" xlink:href=\"#DejaVuSans-99\"/>\n       <use x=\"317.724609\" xlink:href=\"#DejaVuSans-115\"/>\n      </g>\n     </g>\n    </g>\n    <g id=\"ytick_4\">\n     <g id=\"line2d_11\">\n      <g>\n       <use style=\"stroke:#000000;stroke-width:0.8;\" x=\"117.829688\" xlink:href=\"#m1c98e1bd45\" y=\"201.259219\"/>\n      </g>\n     </g>\n     <g id=\"text_11\">\n      <!-- Mathematics -->\n      <g transform=\"translate(46.3875 205.058438)scale(0.1 -0.1)\">\n       <use xlink:href=\"#DejaVuSans-77\"/>\n       <use x=\"86.279297\" xlink:href=\"#DejaVuSans-97\"/>\n       <use x=\"147.558594\" xlink:href=\"#DejaVuSans-116\"/>\n       <use x=\"186.767578\" xlink:href=\"#DejaVuSans-104\"/>\n       <use x=\"250.146484\" xlink:href=\"#DejaVuSans-101\"/>\n       <use x=\"311.669922\" xlink:href=\"#DejaVuSans-109\"/>\n       <use x=\"409.082031\" xlink:href=\"#DejaVuSans-97\"/>\n       <use x=\"470.361328\" xlink:href=\"#DejaVuSans-116\"/>\n       <use x=\"509.570312\" xlink:href=\"#DejaVuSans-105\"/>\n       <use x=\"537.353516\" xlink:href=\"#DejaVuSans-99\"/>\n       <use x=\"592.333984\" xlink:href=\"#DejaVuSans-115\"/>\n      </g>\n     </g>\n    </g>\n    <g id=\"ytick_5\">\n     <g id=\"line2d_12\">\n      <g>\n       <use style=\"stroke:#000000;stroke-width:0.8;\" x=\"117.829688\" xlink:href=\"#m1c98e1bd45\" y=\"255.619219\"/>\n      </g>\n     </g>\n     <g id=\"text_12\">\n      <!-- Statistics -->\n      <g transform=\"translate(65.11875 259.418437)scale(0.1 -0.1)\">\n       <use xlink:href=\"#DejaVuSans-83\"/>\n       <use x=\"63.476562\" xlink:href=\"#DejaVuSans-116\"/>\n       <use x=\"102.685547\" xlink:href=\"#DejaVuSans-97\"/>\n       <use x=\"163.964844\" xlink:href=\"#DejaVuSans-116\"/>\n       <use x=\"203.173828\" xlink:href=\"#DejaVuSans-105\"/>\n       <use x=\"230.957031\" xlink:href=\"#DejaVuSans-115\"/>\n       <use x=\"283.056641\" xlink:href=\"#DejaVuSans-116\"/>\n       <use x=\"322.265625\" xlink:href=\"#DejaVuSans-105\"/>\n       <use x=\"350.048828\" xlink:href=\"#DejaVuSans-99\"/>\n       <use x=\"405.029297\" xlink:href=\"#DejaVuSans-115\"/>\n      </g>\n     </g>\n    </g>\n    <g id=\"ytick_6\">\n     <g id=\"line2d_13\">\n      <g>\n       <use style=\"stroke:#000000;stroke-width:0.8;\" x=\"117.829688\" xlink:href=\"#m1c98e1bd45\" y=\"309.979219\"/>\n      </g>\n     </g>\n     <g id=\"text_13\">\n      <!-- Quantitative Biology -->\n      <g transform=\"translate(8.5375 313.778437)scale(0.1 -0.1)\">\n       <use xlink:href=\"#DejaVuSans-81\"/>\n       <use x=\"78.710938\" xlink:href=\"#DejaVuSans-117\"/>\n       <use x=\"142.089844\" xlink:href=\"#DejaVuSans-97\"/>\n       <use x=\"203.369141\" xlink:href=\"#DejaVuSans-110\"/>\n       <use x=\"266.748047\" xlink:href=\"#DejaVuSans-116\"/>\n       <use x=\"305.957031\" xlink:href=\"#DejaVuSans-105\"/>\n       <use x=\"333.740234\" xlink:href=\"#DejaVuSans-116\"/>\n       <use x=\"372.949219\" xlink:href=\"#DejaVuSans-97\"/>\n       <use x=\"434.228516\" xlink:href=\"#DejaVuSans-116\"/>\n       <use x=\"473.4375\" xlink:href=\"#DejaVuSans-105\"/>\n       <use x=\"501.220703\" xlink:href=\"#DejaVuSans-118\"/>\n       <use x=\"560.400391\" xlink:href=\"#DejaVuSans-101\"/>\n       <use x=\"621.923828\" xlink:href=\"#DejaVuSans-32\"/>\n       <use x=\"653.710938\" xlink:href=\"#DejaVuSans-66\"/>\n       <use x=\"722.314453\" xlink:href=\"#DejaVuSans-105\"/>\n       <use x=\"750.097656\" xlink:href=\"#DejaVuSans-111\"/>\n       <use x=\"811.279297\" xlink:href=\"#DejaVuSans-108\"/>\n       <use x=\"839.0625\" xlink:href=\"#DejaVuSans-111\"/>\n       <use x=\"900.244141\" xlink:href=\"#DejaVuSans-103\"/>\n       <use x=\"963.720703\" xlink:href=\"#DejaVuSans-121\"/>\n      </g>\n     </g>\n    </g>\n    <g id=\"ytick_7\">\n     <g id=\"line2d_14\">\n      <g>\n       <use style=\"stroke:#000000;stroke-width:0.8;\" x=\"117.829688\" xlink:href=\"#m1c98e1bd45\" y=\"364.339219\"/>\n      </g>\n     </g>\n     <g id=\"text_14\">\n      <!-- Quantitative Finance -->\n      <g transform=\"translate(7.2 368.138438)scale(0.1 -0.1)\">\n       <use xlink:href=\"#DejaVuSans-81\"/>\n       <use x=\"78.710938\" xlink:href=\"#DejaVuSans-117\"/>\n       <use x=\"142.089844\" xlink:href=\"#DejaVuSans-97\"/>\n       <use x=\"203.369141\" xlink:href=\"#DejaVuSans-110\"/>\n       <use x=\"266.748047\" xlink:href=\"#DejaVuSans-116\"/>\n       <use x=\"305.957031\" xlink:href=\"#DejaVuSans-105\"/>\n       <use x=\"333.740234\" xlink:href=\"#DejaVuSans-116\"/>\n       <use x=\"372.949219\" xlink:href=\"#DejaVuSans-97\"/>\n       <use x=\"434.228516\" xlink:href=\"#DejaVuSans-116\"/>\n       <use x=\"473.4375\" xlink:href=\"#DejaVuSans-105\"/>\n       <use x=\"501.220703\" xlink:href=\"#DejaVuSans-118\"/>\n       <use x=\"560.400391\" xlink:href=\"#DejaVuSans-101\"/>\n       <use x=\"621.923828\" xlink:href=\"#DejaVuSans-32\"/>\n       <use x=\"653.710938\" xlink:href=\"#DejaVuSans-70\"/>\n       <use x=\"703.980469\" xlink:href=\"#DejaVuSans-105\"/>\n       <use x=\"731.763672\" xlink:href=\"#DejaVuSans-110\"/>\n       <use x=\"795.142578\" xlink:href=\"#DejaVuSans-97\"/>\n       <use x=\"856.421875\" xlink:href=\"#DejaVuSans-110\"/>\n       <use x=\"919.800781\" xlink:href=\"#DejaVuSans-99\"/>\n       <use x=\"974.78125\" xlink:href=\"#DejaVuSans-101\"/>\n      </g>\n     </g>\n    </g>\n   </g>\n   <g id=\"text_15\">\n    <!-- 1 -->\n    <g style=\"fill:#262626;\" transform=\"translate(136.968437 40.938594)scale(0.1 -0.1)\">\n     <defs>\n      <path d=\"M 12.40625 8.296875 \nL 28.515625 8.296875 \nL 28.515625 63.921875 \nL 10.984375 60.40625 \nL 10.984375 69.390625 \nL 28.421875 72.90625 \nL 38.28125 72.90625 \nL 38.28125 8.296875 \nL 54.390625 8.296875 \nL 54.390625 0 \nL 12.40625 0 \nz\n\" id=\"DejaVuSans-49\"/>\n     </defs>\n     <use xlink:href=\"#DejaVuSans-49\"/>\n    </g>\n   </g>\n   <g id=\"text_16\">\n    <!-- 0.0019 -->\n    <g style=\"fill:#ffffff;\" transform=\"translate(167.294375 40.938594)scale(0.1 -0.1)\">\n     <defs>\n      <path d=\"M 31.78125 66.40625 \nQ 24.171875 66.40625 20.328125 58.90625 \nQ 16.5 51.421875 16.5 36.375 \nQ 16.5 21.390625 20.328125 13.890625 \nQ 24.171875 6.390625 31.78125 6.390625 \nQ 39.453125 6.390625 43.28125 13.890625 \nQ 47.125 21.390625 47.125 36.375 \nQ 47.125 51.421875 43.28125 58.90625 \nQ 39.453125 66.40625 31.78125 66.40625 \nz\nM 31.78125 74.21875 \nQ 44.046875 74.21875 50.515625 64.515625 \nQ 56.984375 54.828125 56.984375 36.375 \nQ 56.984375 17.96875 50.515625 8.265625 \nQ 44.046875 -1.421875 31.78125 -1.421875 \nQ 19.53125 -1.421875 13.0625 8.265625 \nQ 6.59375 17.96875 6.59375 36.375 \nQ 6.59375 54.828125 13.0625 64.515625 \nQ 19.53125 74.21875 31.78125 74.21875 \nz\n\" id=\"DejaVuSans-48\"/>\n      <path d=\"M 10.6875 12.40625 \nL 21 12.40625 \nL 21 0 \nL 10.6875 0 \nz\n\" id=\"DejaVuSans-46\"/>\n      <path d=\"M 10.984375 1.515625 \nL 10.984375 10.5 \nQ 14.703125 8.734375 18.5 7.8125 \nQ 22.3125 6.890625 25.984375 6.890625 \nQ 35.75 6.890625 40.890625 13.453125 \nQ 46.046875 20.015625 46.78125 33.40625 \nQ 43.953125 29.203125 39.59375 26.953125 \nQ 35.25 24.703125 29.984375 24.703125 \nQ 19.046875 24.703125 12.671875 31.3125 \nQ 6.296875 37.9375 6.296875 49.421875 \nQ 6.296875 60.640625 12.9375 67.421875 \nQ 19.578125 74.21875 30.609375 74.21875 \nQ 43.265625 74.21875 49.921875 64.515625 \nQ 56.59375 54.828125 56.59375 36.375 \nQ 56.59375 19.140625 48.40625 8.859375 \nQ 40.234375 -1.421875 26.421875 -1.421875 \nQ 22.703125 -1.421875 18.890625 -0.6875 \nQ 15.09375 0.046875 10.984375 1.515625 \nz\nM 30.609375 32.421875 \nQ 37.25 32.421875 41.125 36.953125 \nQ 45.015625 41.5 45.015625 49.421875 \nQ 45.015625 57.28125 41.125 61.84375 \nQ 37.25 66.40625 30.609375 66.40625 \nQ 23.96875 66.40625 20.09375 61.84375 \nQ 16.21875 57.28125 16.21875 49.421875 \nQ 16.21875 41.5 20.09375 36.953125 \nQ 23.96875 32.421875 30.609375 32.421875 \nz\n\" id=\"DejaVuSans-57\"/>\n     </defs>\n     <use xlink:href=\"#DejaVuSans-48\"/>\n     <use x=\"63.623047\" xlink:href=\"#DejaVuSans-46\"/>\n     <use x=\"95.410156\" xlink:href=\"#DejaVuSans-48\"/>\n     <use x=\"159.033203\" xlink:href=\"#DejaVuSans-48\"/>\n     <use x=\"222.65625\" xlink:href=\"#DejaVuSans-49\"/>\n     <use x=\"286.279297\" xlink:href=\"#DejaVuSans-57\"/>\n    </g>\n   </g>\n   <g id=\"text_17\">\n    <!-- 0.0035 -->\n    <g style=\"fill:#ffffff;\" transform=\"translate(211.934375 40.938594)scale(0.1 -0.1)\">\n     <defs>\n      <path d=\"M 40.578125 39.3125 \nQ 47.65625 37.796875 51.625 33 \nQ 55.609375 28.21875 55.609375 21.1875 \nQ 55.609375 10.40625 48.1875 4.484375 \nQ 40.765625 -1.421875 27.09375 -1.421875 \nQ 22.515625 -1.421875 17.65625 -0.515625 \nQ 12.796875 0.390625 7.625 2.203125 \nL 7.625 11.71875 \nQ 11.71875 9.328125 16.59375 8.109375 \nQ 21.484375 6.890625 26.8125 6.890625 \nQ 36.078125 6.890625 40.9375 10.546875 \nQ 45.796875 14.203125 45.796875 21.1875 \nQ 45.796875 27.640625 41.28125 31.265625 \nQ 36.765625 34.90625 28.71875 34.90625 \nL 20.21875 34.90625 \nL 20.21875 43.015625 \nL 29.109375 43.015625 \nQ 36.375 43.015625 40.234375 45.921875 \nQ 44.09375 48.828125 44.09375 54.296875 \nQ 44.09375 59.90625 40.109375 62.90625 \nQ 36.140625 65.921875 28.71875 65.921875 \nQ 24.65625 65.921875 20.015625 65.03125 \nQ 15.375 64.15625 9.8125 62.3125 \nL 9.8125 71.09375 \nQ 15.4375 72.65625 20.34375 73.4375 \nQ 25.25 74.21875 29.59375 74.21875 \nQ 40.828125 74.21875 47.359375 69.109375 \nQ 53.90625 64.015625 53.90625 55.328125 \nQ 53.90625 49.265625 50.4375 45.09375 \nQ 46.96875 40.921875 40.578125 39.3125 \nz\n\" id=\"DejaVuSans-51\"/>\n      <path d=\"M 10.796875 72.90625 \nL 49.515625 72.90625 \nL 49.515625 64.59375 \nL 19.828125 64.59375 \nL 19.828125 46.734375 \nQ 21.96875 47.46875 24.109375 47.828125 \nQ 26.265625 48.1875 28.421875 48.1875 \nQ 40.625 48.1875 47.75 41.5 \nQ 54.890625 34.8125 54.890625 23.390625 \nQ 54.890625 11.625 47.5625 5.09375 \nQ 40.234375 -1.421875 26.90625 -1.421875 \nQ 22.3125 -1.421875 17.546875 -0.640625 \nQ 12.796875 0.140625 7.71875 1.703125 \nL 7.71875 11.625 \nQ 12.109375 9.234375 16.796875 8.0625 \nQ 21.484375 6.890625 26.703125 6.890625 \nQ 35.15625 6.890625 40.078125 11.328125 \nQ 45.015625 15.765625 45.015625 23.390625 \nQ 45.015625 31 40.078125 35.4375 \nQ 35.15625 39.890625 26.703125 39.890625 \nQ 22.75 39.890625 18.8125 39.015625 \nQ 14.890625 38.140625 10.796875 36.28125 \nz\n\" id=\"DejaVuSans-53\"/>\n     </defs>\n     <use xlink:href=\"#DejaVuSans-48\"/>\n     <use x=\"63.623047\" xlink:href=\"#DejaVuSans-46\"/>\n     <use x=\"95.410156\" xlink:href=\"#DejaVuSans-48\"/>\n     <use x=\"159.033203\" xlink:href=\"#DejaVuSans-48\"/>\n     <use x=\"222.65625\" xlink:href=\"#DejaVuSans-51\"/>\n     <use x=\"286.279297\" xlink:href=\"#DejaVuSans-53\"/>\n    </g>\n   </g>\n   <g id=\"text_18\">\n    <!-- -0.0022 -->\n    <g style=\"fill:#ffffff;\" transform=\"translate(254.770469 40.938594)scale(0.1 -0.1)\">\n     <defs>\n      <path d=\"M 4.890625 31.390625 \nL 31.203125 31.390625 \nL 31.203125 23.390625 \nL 4.890625 23.390625 \nz\n\" id=\"DejaVuSans-45\"/>\n      <path d=\"M 19.1875 8.296875 \nL 53.609375 8.296875 \nL 53.609375 0 \nL 7.328125 0 \nL 7.328125 8.296875 \nQ 12.9375 14.109375 22.625 23.890625 \nQ 32.328125 33.6875 34.8125 36.53125 \nQ 39.546875 41.84375 41.421875 45.53125 \nQ 43.3125 49.21875 43.3125 52.78125 \nQ 43.3125 58.59375 39.234375 62.25 \nQ 35.15625 65.921875 28.609375 65.921875 \nQ 23.96875 65.921875 18.8125 64.3125 \nQ 13.671875 62.703125 7.8125 59.421875 \nL 7.8125 69.390625 \nQ 13.765625 71.78125 18.9375 73 \nQ 24.125 74.21875 28.421875 74.21875 \nQ 39.75 74.21875 46.484375 68.546875 \nQ 53.21875 62.890625 53.21875 53.421875 \nQ 53.21875 48.921875 51.53125 44.890625 \nQ 49.859375 40.875 45.40625 35.40625 \nQ 44.1875 33.984375 37.640625 27.21875 \nQ 31.109375 20.453125 19.1875 8.296875 \nz\n\" id=\"DejaVuSans-50\"/>\n     </defs>\n     <use xlink:href=\"#DejaVuSans-45\"/>\n     <use x=\"36.083984\" xlink:href=\"#DejaVuSans-48\"/>\n     <use x=\"99.707031\" xlink:href=\"#DejaVuSans-46\"/>\n     <use x=\"131.494141\" xlink:href=\"#DejaVuSans-48\"/>\n     <use x=\"195.117188\" xlink:href=\"#DejaVuSans-48\"/>\n     <use x=\"258.740234\" xlink:href=\"#DejaVuSans-50\"/>\n     <use x=\"322.363281\" xlink:href=\"#DejaVuSans-50\"/>\n    </g>\n   </g>\n   <g id=\"text_19\">\n    <!-- -0.0053 -->\n    <g style=\"fill:#ffffff;\" transform=\"translate(299.410469 40.938594)scale(0.1 -0.1)\">\n     <use xlink:href=\"#DejaVuSans-45\"/>\n     <use x=\"36.083984\" xlink:href=\"#DejaVuSans-48\"/>\n     <use x=\"99.707031\" xlink:href=\"#DejaVuSans-46\"/>\n     <use x=\"131.494141\" xlink:href=\"#DejaVuSans-48\"/>\n     <use x=\"195.117188\" xlink:href=\"#DejaVuSans-48\"/>\n     <use x=\"258.740234\" xlink:href=\"#DejaVuSans-53\"/>\n     <use x=\"322.363281\" xlink:href=\"#DejaVuSans-51\"/>\n    </g>\n   </g>\n   <g id=\"text_20\">\n    <!-- -0.013 -->\n    <g style=\"fill:#ffffff;\" transform=\"translate(347.231719 40.938594)scale(0.1 -0.1)\">\n     <use xlink:href=\"#DejaVuSans-45\"/>\n     <use x=\"36.083984\" xlink:href=\"#DejaVuSans-48\"/>\n     <use x=\"99.707031\" xlink:href=\"#DejaVuSans-46\"/>\n     <use x=\"131.494141\" xlink:href=\"#DejaVuSans-48\"/>\n     <use x=\"195.117188\" xlink:href=\"#DejaVuSans-49\"/>\n     <use x=\"258.740234\" xlink:href=\"#DejaVuSans-51\"/>\n    </g>\n   </g>\n   <g id=\"text_21\">\n    <!-- -0.00042 -->\n    <g style=\"fill:#ffffff;\" transform=\"translate(385.509219 40.938594)scale(0.1 -0.1)\">\n     <defs>\n      <path d=\"M 37.796875 64.3125 \nL 12.890625 25.390625 \nL 37.796875 25.390625 \nz\nM 35.203125 72.90625 \nL 47.609375 72.90625 \nL 47.609375 25.390625 \nL 58.015625 25.390625 \nL 58.015625 17.1875 \nL 47.609375 17.1875 \nL 47.609375 0 \nL 37.796875 0 \nL 37.796875 17.1875 \nL 4.890625 17.1875 \nL 4.890625 26.703125 \nz\n\" id=\"DejaVuSans-52\"/>\n     </defs>\n     <use xlink:href=\"#DejaVuSans-45\"/>\n     <use x=\"36.083984\" xlink:href=\"#DejaVuSans-48\"/>\n     <use x=\"99.707031\" xlink:href=\"#DejaVuSans-46\"/>\n     <use x=\"131.494141\" xlink:href=\"#DejaVuSans-48\"/>\n     <use x=\"195.117188\" xlink:href=\"#DejaVuSans-48\"/>\n     <use x=\"258.740234\" xlink:href=\"#DejaVuSans-48\"/>\n     <use x=\"322.363281\" xlink:href=\"#DejaVuSans-52\"/>\n     <use x=\"385.986328\" xlink:href=\"#DejaVuSans-50\"/>\n    </g>\n   </g>\n   <g id=\"text_22\">\n    <!-- 0.0019 -->\n    <g style=\"fill:#ffffff;\" transform=\"translate(122.654375 95.298594)scale(0.1 -0.1)\">\n     <use xlink:href=\"#DejaVuSans-48\"/>\n     <use x=\"63.623047\" xlink:href=\"#DejaVuSans-46\"/>\n     <use x=\"95.410156\" xlink:href=\"#DejaVuSans-48\"/>\n     <use x=\"159.033203\" xlink:href=\"#DejaVuSans-48\"/>\n     <use x=\"222.65625\" xlink:href=\"#DejaVuSans-49\"/>\n     <use x=\"286.279297\" xlink:href=\"#DejaVuSans-57\"/>\n    </g>\n   </g>\n   <g id=\"text_23\">\n    <!-- 1 -->\n    <g style=\"fill:#262626;\" transform=\"translate(181.608438 95.298594)scale(0.1 -0.1)\">\n     <use xlink:href=\"#DejaVuSans-49\"/>\n    </g>\n   </g>\n   <g id=\"text_24\">\n    <!-- -0.42 -->\n    <g style=\"fill:#ffffff;\" transform=\"translate(216.492969 95.298594)scale(0.1 -0.1)\">\n     <use xlink:href=\"#DejaVuSans-45\"/>\n     <use x=\"36.083984\" xlink:href=\"#DejaVuSans-48\"/>\n     <use x=\"99.707031\" xlink:href=\"#DejaVuSans-46\"/>\n     <use x=\"131.494141\" xlink:href=\"#DejaVuSans-52\"/>\n     <use x=\"195.117188\" xlink:href=\"#DejaVuSans-50\"/>\n    </g>\n   </g>\n   <g id=\"text_25\">\n    <!-- -0.31 -->\n    <g style=\"fill:#ffffff;\" transform=\"translate(261.132969 95.298594)scale(0.1 -0.1)\">\n     <use xlink:href=\"#DejaVuSans-45\"/>\n     <use x=\"36.083984\" xlink:href=\"#DejaVuSans-48\"/>\n     <use x=\"99.707031\" xlink:href=\"#DejaVuSans-46\"/>\n     <use x=\"131.494141\" xlink:href=\"#DejaVuSans-51\"/>\n     <use x=\"195.117188\" xlink:href=\"#DejaVuSans-49\"/>\n    </g>\n   </g>\n   <g id=\"text_26\">\n    <!-- 0.084 -->\n    <g style=\"fill:#ffffff;\" transform=\"translate(304.395625 95.298594)scale(0.1 -0.1)\">\n     <defs>\n      <path d=\"M 31.78125 34.625 \nQ 24.75 34.625 20.71875 30.859375 \nQ 16.703125 27.09375 16.703125 20.515625 \nQ 16.703125 13.921875 20.71875 10.15625 \nQ 24.75 6.390625 31.78125 6.390625 \nQ 38.8125 6.390625 42.859375 10.171875 \nQ 46.921875 13.96875 46.921875 20.515625 \nQ 46.921875 27.09375 42.890625 30.859375 \nQ 38.875 34.625 31.78125 34.625 \nz\nM 21.921875 38.8125 \nQ 15.578125 40.375 12.03125 44.71875 \nQ 8.5 49.078125 8.5 55.328125 \nQ 8.5 64.0625 14.71875 69.140625 \nQ 20.953125 74.21875 31.78125 74.21875 \nQ 42.671875 74.21875 48.875 69.140625 \nQ 55.078125 64.0625 55.078125 55.328125 \nQ 55.078125 49.078125 51.53125 44.71875 \nQ 48 40.375 41.703125 38.8125 \nQ 48.828125 37.15625 52.796875 32.3125 \nQ 56.78125 27.484375 56.78125 20.515625 \nQ 56.78125 9.90625 50.3125 4.234375 \nQ 43.84375 -1.421875 31.78125 -1.421875 \nQ 19.734375 -1.421875 13.25 4.234375 \nQ 6.78125 9.90625 6.78125 20.515625 \nQ 6.78125 27.484375 10.78125 32.3125 \nQ 14.796875 37.15625 21.921875 38.8125 \nz\nM 18.3125 54.390625 \nQ 18.3125 48.734375 21.84375 45.5625 \nQ 25.390625 42.390625 31.78125 42.390625 \nQ 38.140625 42.390625 41.71875 45.5625 \nQ 45.3125 48.734375 45.3125 54.390625 \nQ 45.3125 60.0625 41.71875 63.234375 \nQ 38.140625 66.40625 31.78125 66.40625 \nQ 25.390625 66.40625 21.84375 63.234375 \nQ 18.3125 60.0625 18.3125 54.390625 \nz\n\" id=\"DejaVuSans-56\"/>\n     </defs>\n     <use xlink:href=\"#DejaVuSans-48\"/>\n     <use x=\"63.623047\" xlink:href=\"#DejaVuSans-46\"/>\n     <use x=\"95.410156\" xlink:href=\"#DejaVuSans-48\"/>\n     <use x=\"159.033203\" xlink:href=\"#DejaVuSans-56\"/>\n     <use x=\"222.65625\" xlink:href=\"#DejaVuSans-52\"/>\n    </g>\n   </g>\n   <g id=\"text_27\">\n    <!-- -0.12 -->\n    <g style=\"fill:#ffffff;\" transform=\"translate(350.412969 95.298594)scale(0.1 -0.1)\">\n     <use xlink:href=\"#DejaVuSans-45\"/>\n     <use x=\"36.083984\" xlink:href=\"#DejaVuSans-48\"/>\n     <use x=\"99.707031\" xlink:href=\"#DejaVuSans-46\"/>\n     <use x=\"131.494141\" xlink:href=\"#DejaVuSans-49\"/>\n     <use x=\"195.117188\" xlink:href=\"#DejaVuSans-50\"/>\n    </g>\n   </g>\n   <g id=\"text_28\">\n    <!-- -0.081 -->\n    <g style=\"fill:#ffffff;\" transform=\"translate(391.871719 95.298594)scale(0.1 -0.1)\">\n     <use xlink:href=\"#DejaVuSans-45\"/>\n     <use x=\"36.083984\" xlink:href=\"#DejaVuSans-48\"/>\n     <use x=\"99.707031\" xlink:href=\"#DejaVuSans-46\"/>\n     <use x=\"131.494141\" xlink:href=\"#DejaVuSans-48\"/>\n     <use x=\"195.117188\" xlink:href=\"#DejaVuSans-56\"/>\n     <use x=\"258.740234\" xlink:href=\"#DejaVuSans-49\"/>\n    </g>\n   </g>\n   <g id=\"text_29\">\n    <!-- 0.0035 -->\n    <g style=\"fill:#ffffff;\" transform=\"translate(122.654375 149.658594)scale(0.1 -0.1)\">\n     <use xlink:href=\"#DejaVuSans-48\"/>\n     <use x=\"63.623047\" xlink:href=\"#DejaVuSans-46\"/>\n     <use x=\"95.410156\" xlink:href=\"#DejaVuSans-48\"/>\n     <use x=\"159.033203\" xlink:href=\"#DejaVuSans-48\"/>\n     <use x=\"222.65625\" xlink:href=\"#DejaVuSans-51\"/>\n     <use x=\"286.279297\" xlink:href=\"#DejaVuSans-53\"/>\n    </g>\n   </g>\n   <g id=\"text_30\">\n    <!-- -0.42 -->\n    <g style=\"fill:#ffffff;\" transform=\"translate(171.852969 149.658594)scale(0.1 -0.1)\">\n     <use xlink:href=\"#DejaVuSans-45\"/>\n     <use x=\"36.083984\" xlink:href=\"#DejaVuSans-48\"/>\n     <use x=\"99.707031\" xlink:href=\"#DejaVuSans-46\"/>\n     <use x=\"131.494141\" xlink:href=\"#DejaVuSans-52\"/>\n     <use x=\"195.117188\" xlink:href=\"#DejaVuSans-50\"/>\n    </g>\n   </g>\n   <g id=\"text_31\">\n    <!-- 1 -->\n    <g style=\"fill:#262626;\" transform=\"translate(226.248437 149.658594)scale(0.1 -0.1)\">\n     <use xlink:href=\"#DejaVuSans-49\"/>\n    </g>\n   </g>\n   <g id=\"text_32\">\n    <!-- -0.31 -->\n    <g style=\"fill:#ffffff;\" transform=\"translate(261.132969 149.658594)scale(0.1 -0.1)\">\n     <use xlink:href=\"#DejaVuSans-45\"/>\n     <use x=\"36.083984\" xlink:href=\"#DejaVuSans-48\"/>\n     <use x=\"99.707031\" xlink:href=\"#DejaVuSans-46\"/>\n     <use x=\"131.494141\" xlink:href=\"#DejaVuSans-51\"/>\n     <use x=\"195.117188\" xlink:href=\"#DejaVuSans-49\"/>\n    </g>\n   </g>\n   <g id=\"text_33\">\n    <!-- -0.33 -->\n    <g style=\"fill:#ffffff;\" transform=\"translate(305.772969 149.658594)scale(0.1 -0.1)\">\n     <use xlink:href=\"#DejaVuSans-45\"/>\n     <use x=\"36.083984\" xlink:href=\"#DejaVuSans-48\"/>\n     <use x=\"99.707031\" xlink:href=\"#DejaVuSans-46\"/>\n     <use x=\"131.494141\" xlink:href=\"#DejaVuSans-51\"/>\n     <use x=\"195.117188\" xlink:href=\"#DejaVuSans-51\"/>\n    </g>\n   </g>\n   <g id=\"text_34\">\n    <!-- -0.11 -->\n    <g style=\"fill:#ffffff;\" transform=\"translate(350.412969 149.658594)scale(0.1 -0.1)\">\n     <use xlink:href=\"#DejaVuSans-45\"/>\n     <use x=\"36.083984\" xlink:href=\"#DejaVuSans-48\"/>\n     <use x=\"99.707031\" xlink:href=\"#DejaVuSans-46\"/>\n     <use x=\"131.494141\" xlink:href=\"#DejaVuSans-49\"/>\n     <use x=\"195.117188\" xlink:href=\"#DejaVuSans-49\"/>\n    </g>\n   </g>\n   <g id=\"text_35\">\n    <!-- -0.069 -->\n    <g style=\"fill:#ffffff;\" transform=\"translate(391.871719 149.658594)scale(0.1 -0.1)\">\n     <defs>\n      <path d=\"M 33.015625 40.375 \nQ 26.375 40.375 22.484375 35.828125 \nQ 18.609375 31.296875 18.609375 23.390625 \nQ 18.609375 15.53125 22.484375 10.953125 \nQ 26.375 6.390625 33.015625 6.390625 \nQ 39.65625 6.390625 43.53125 10.953125 \nQ 47.40625 15.53125 47.40625 23.390625 \nQ 47.40625 31.296875 43.53125 35.828125 \nQ 39.65625 40.375 33.015625 40.375 \nz\nM 52.59375 71.296875 \nL 52.59375 62.3125 \nQ 48.875 64.0625 45.09375 64.984375 \nQ 41.3125 65.921875 37.59375 65.921875 \nQ 27.828125 65.921875 22.671875 59.328125 \nQ 17.53125 52.734375 16.796875 39.40625 \nQ 19.671875 43.65625 24.015625 45.921875 \nQ 28.375 48.1875 33.59375 48.1875 \nQ 44.578125 48.1875 50.953125 41.515625 \nQ 57.328125 34.859375 57.328125 23.390625 \nQ 57.328125 12.15625 50.6875 5.359375 \nQ 44.046875 -1.421875 33.015625 -1.421875 \nQ 20.359375 -1.421875 13.671875 8.265625 \nQ 6.984375 17.96875 6.984375 36.375 \nQ 6.984375 53.65625 15.1875 63.9375 \nQ 23.390625 74.21875 37.203125 74.21875 \nQ 40.921875 74.21875 44.703125 73.484375 \nQ 48.484375 72.75 52.59375 71.296875 \nz\n\" id=\"DejaVuSans-54\"/>\n     </defs>\n     <use xlink:href=\"#DejaVuSans-45\"/>\n     <use x=\"36.083984\" xlink:href=\"#DejaVuSans-48\"/>\n     <use x=\"99.707031\" xlink:href=\"#DejaVuSans-46\"/>\n     <use x=\"131.494141\" xlink:href=\"#DejaVuSans-48\"/>\n     <use x=\"195.117188\" xlink:href=\"#DejaVuSans-54\"/>\n     <use x=\"258.740234\" xlink:href=\"#DejaVuSans-57\"/>\n    </g>\n   </g>\n   <g id=\"text_36\">\n    <!-- -0.0022 -->\n    <g style=\"fill:#ffffff;\" transform=\"translate(120.850469 204.018594)scale(0.1 -0.1)\">\n     <use xlink:href=\"#DejaVuSans-45\"/>\n     <use x=\"36.083984\" xlink:href=\"#DejaVuSans-48\"/>\n     <use x=\"99.707031\" xlink:href=\"#DejaVuSans-46\"/>\n     <use x=\"131.494141\" xlink:href=\"#DejaVuSans-48\"/>\n     <use x=\"195.117188\" xlink:href=\"#DejaVuSans-48\"/>\n     <use x=\"258.740234\" xlink:href=\"#DejaVuSans-50\"/>\n     <use x=\"322.363281\" xlink:href=\"#DejaVuSans-50\"/>\n    </g>\n   </g>\n   <g id=\"text_37\">\n    <!-- -0.31 -->\n    <g style=\"fill:#ffffff;\" transform=\"translate(171.852969 204.018594)scale(0.1 -0.1)\">\n     <use xlink:href=\"#DejaVuSans-45\"/>\n     <use x=\"36.083984\" xlink:href=\"#DejaVuSans-48\"/>\n     <use x=\"99.707031\" xlink:href=\"#DejaVuSans-46\"/>\n     <use x=\"131.494141\" xlink:href=\"#DejaVuSans-51\"/>\n     <use x=\"195.117188\" xlink:href=\"#DejaVuSans-49\"/>\n    </g>\n   </g>\n   <g id=\"text_38\">\n    <!-- -0.31 -->\n    <g style=\"fill:#ffffff;\" transform=\"translate(216.492969 204.018594)scale(0.1 -0.1)\">\n     <use xlink:href=\"#DejaVuSans-45\"/>\n     <use x=\"36.083984\" xlink:href=\"#DejaVuSans-48\"/>\n     <use x=\"99.707031\" xlink:href=\"#DejaVuSans-46\"/>\n     <use x=\"131.494141\" xlink:href=\"#DejaVuSans-51\"/>\n     <use x=\"195.117188\" xlink:href=\"#DejaVuSans-49\"/>\n    </g>\n   </g>\n   <g id=\"text_39\">\n    <!-- 1 -->\n    <g style=\"fill:#262626;\" transform=\"translate(270.888438 204.018594)scale(0.1 -0.1)\">\n     <use xlink:href=\"#DejaVuSans-49\"/>\n    </g>\n   </g>\n   <g id=\"text_40\">\n    <!-- -0.095 -->\n    <g style=\"fill:#ffffff;\" transform=\"translate(302.591719 204.018594)scale(0.1 -0.1)\">\n     <use xlink:href=\"#DejaVuSans-45\"/>\n     <use x=\"36.083984\" xlink:href=\"#DejaVuSans-48\"/>\n     <use x=\"99.707031\" xlink:href=\"#DejaVuSans-46\"/>\n     <use x=\"131.494141\" xlink:href=\"#DejaVuSans-48\"/>\n     <use x=\"195.117188\" xlink:href=\"#DejaVuSans-57\"/>\n     <use x=\"258.740234\" xlink:href=\"#DejaVuSans-53\"/>\n    </g>\n   </g>\n   <g id=\"text_41\">\n    <!-- -0.1 -->\n    <g style=\"fill:#ffffff;\" transform=\"translate(353.594219 204.018594)scale(0.1 -0.1)\">\n     <use xlink:href=\"#DejaVuSans-45\"/>\n     <use x=\"36.083984\" xlink:href=\"#DejaVuSans-48\"/>\n     <use x=\"99.707031\" xlink:href=\"#DejaVuSans-46\"/>\n     <use x=\"131.494141\" xlink:href=\"#DejaVuSans-49\"/>\n    </g>\n   </g>\n   <g id=\"text_42\">\n    <!-- -0.065 -->\n    <g style=\"fill:#ffffff;\" transform=\"translate(391.871719 204.018594)scale(0.1 -0.1)\">\n     <use xlink:href=\"#DejaVuSans-45\"/>\n     <use x=\"36.083984\" xlink:href=\"#DejaVuSans-48\"/>\n     <use x=\"99.707031\" xlink:href=\"#DejaVuSans-46\"/>\n     <use x=\"131.494141\" xlink:href=\"#DejaVuSans-48\"/>\n     <use x=\"195.117188\" xlink:href=\"#DejaVuSans-54\"/>\n     <use x=\"258.740234\" xlink:href=\"#DejaVuSans-53\"/>\n    </g>\n   </g>\n   <g id=\"text_43\">\n    <!-- -0.0053 -->\n    <g style=\"fill:#ffffff;\" transform=\"translate(120.850469 258.378594)scale(0.1 -0.1)\">\n     <use xlink:href=\"#DejaVuSans-45\"/>\n     <use x=\"36.083984\" xlink:href=\"#DejaVuSans-48\"/>\n     <use x=\"99.707031\" xlink:href=\"#DejaVuSans-46\"/>\n     <use x=\"131.494141\" xlink:href=\"#DejaVuSans-48\"/>\n     <use x=\"195.117188\" xlink:href=\"#DejaVuSans-48\"/>\n     <use x=\"258.740234\" xlink:href=\"#DejaVuSans-53\"/>\n     <use x=\"322.363281\" xlink:href=\"#DejaVuSans-51\"/>\n    </g>\n   </g>\n   <g id=\"text_44\">\n    <!-- 0.084 -->\n    <g style=\"fill:#ffffff;\" transform=\"translate(170.475625 258.378594)scale(0.1 -0.1)\">\n     <use xlink:href=\"#DejaVuSans-48\"/>\n     <use x=\"63.623047\" xlink:href=\"#DejaVuSans-46\"/>\n     <use x=\"95.410156\" xlink:href=\"#DejaVuSans-48\"/>\n     <use x=\"159.033203\" xlink:href=\"#DejaVuSans-56\"/>\n     <use x=\"222.65625\" xlink:href=\"#DejaVuSans-52\"/>\n    </g>\n   </g>\n   <g id=\"text_45\">\n    <!-- -0.33 -->\n    <g style=\"fill:#ffffff;\" transform=\"translate(216.492969 258.378594)scale(0.1 -0.1)\">\n     <use xlink:href=\"#DejaVuSans-45\"/>\n     <use x=\"36.083984\" xlink:href=\"#DejaVuSans-48\"/>\n     <use x=\"99.707031\" xlink:href=\"#DejaVuSans-46\"/>\n     <use x=\"131.494141\" xlink:href=\"#DejaVuSans-51\"/>\n     <use x=\"195.117188\" xlink:href=\"#DejaVuSans-51\"/>\n    </g>\n   </g>\n   <g id=\"text_46\">\n    <!-- -0.095 -->\n    <g style=\"fill:#ffffff;\" transform=\"translate(257.951719 258.378594)scale(0.1 -0.1)\">\n     <use xlink:href=\"#DejaVuSans-45\"/>\n     <use x=\"36.083984\" xlink:href=\"#DejaVuSans-48\"/>\n     <use x=\"99.707031\" xlink:href=\"#DejaVuSans-46\"/>\n     <use x=\"131.494141\" xlink:href=\"#DejaVuSans-48\"/>\n     <use x=\"195.117188\" xlink:href=\"#DejaVuSans-57\"/>\n     <use x=\"258.740234\" xlink:href=\"#DejaVuSans-53\"/>\n    </g>\n   </g>\n   <g id=\"text_47\">\n    <!-- 1 -->\n    <g style=\"fill:#262626;\" transform=\"translate(315.528437 258.378594)scale(0.1 -0.1)\">\n     <use xlink:href=\"#DejaVuSans-49\"/>\n    </g>\n   </g>\n   <g id=\"text_48\">\n    <!-- -0.024 -->\n    <g style=\"fill:#ffffff;\" transform=\"translate(347.231719 258.378594)scale(0.1 -0.1)\">\n     <use xlink:href=\"#DejaVuSans-45\"/>\n     <use x=\"36.083984\" xlink:href=\"#DejaVuSans-48\"/>\n     <use x=\"99.707031\" xlink:href=\"#DejaVuSans-46\"/>\n     <use x=\"131.494141\" xlink:href=\"#DejaVuSans-48\"/>\n     <use x=\"195.117188\" xlink:href=\"#DejaVuSans-50\"/>\n     <use x=\"258.740234\" xlink:href=\"#DejaVuSans-52\"/>\n    </g>\n   </g>\n   <g id=\"text_49\">\n    <!-- -0.035 -->\n    <g style=\"fill:#ffffff;\" transform=\"translate(391.871719 258.378594)scale(0.1 -0.1)\">\n     <use xlink:href=\"#DejaVuSans-45\"/>\n     <use x=\"36.083984\" xlink:href=\"#DejaVuSans-48\"/>\n     <use x=\"99.707031\" xlink:href=\"#DejaVuSans-46\"/>\n     <use x=\"131.494141\" xlink:href=\"#DejaVuSans-48\"/>\n     <use x=\"195.117188\" xlink:href=\"#DejaVuSans-51\"/>\n     <use x=\"258.740234\" xlink:href=\"#DejaVuSans-53\"/>\n    </g>\n   </g>\n   <g id=\"text_50\">\n    <!-- -0.013 -->\n    <g style=\"fill:#ffffff;\" transform=\"translate(124.031719 312.738594)scale(0.1 -0.1)\">\n     <use xlink:href=\"#DejaVuSans-45\"/>\n     <use x=\"36.083984\" xlink:href=\"#DejaVuSans-48\"/>\n     <use x=\"99.707031\" xlink:href=\"#DejaVuSans-46\"/>\n     <use x=\"131.494141\" xlink:href=\"#DejaVuSans-48\"/>\n     <use x=\"195.117188\" xlink:href=\"#DejaVuSans-49\"/>\n     <use x=\"258.740234\" xlink:href=\"#DejaVuSans-51\"/>\n    </g>\n   </g>\n   <g id=\"text_51\">\n    <!-- -0.12 -->\n    <g style=\"fill:#ffffff;\" transform=\"translate(171.852969 312.738594)scale(0.1 -0.1)\">\n     <use xlink:href=\"#DejaVuSans-45\"/>\n     <use x=\"36.083984\" xlink:href=\"#DejaVuSans-48\"/>\n     <use x=\"99.707031\" xlink:href=\"#DejaVuSans-46\"/>\n     <use x=\"131.494141\" xlink:href=\"#DejaVuSans-49\"/>\n     <use x=\"195.117188\" xlink:href=\"#DejaVuSans-50\"/>\n    </g>\n   </g>\n   <g id=\"text_52\">\n    <!-- -0.11 -->\n    <g style=\"fill:#ffffff;\" transform=\"translate(216.492969 312.738594)scale(0.1 -0.1)\">\n     <use xlink:href=\"#DejaVuSans-45\"/>\n     <use x=\"36.083984\" xlink:href=\"#DejaVuSans-48\"/>\n     <use x=\"99.707031\" xlink:href=\"#DejaVuSans-46\"/>\n     <use x=\"131.494141\" xlink:href=\"#DejaVuSans-49\"/>\n     <use x=\"195.117188\" xlink:href=\"#DejaVuSans-49\"/>\n    </g>\n   </g>\n   <g id=\"text_53\">\n    <!-- -0.1 -->\n    <g style=\"fill:#ffffff;\" transform=\"translate(264.314219 312.738594)scale(0.1 -0.1)\">\n     <use xlink:href=\"#DejaVuSans-45\"/>\n     <use x=\"36.083984\" xlink:href=\"#DejaVuSans-48\"/>\n     <use x=\"99.707031\" xlink:href=\"#DejaVuSans-46\"/>\n     <use x=\"131.494141\" xlink:href=\"#DejaVuSans-49\"/>\n    </g>\n   </g>\n   <g id=\"text_54\">\n    <!-- -0.024 -->\n    <g style=\"fill:#ffffff;\" transform=\"translate(302.591719 312.738594)scale(0.1 -0.1)\">\n     <use xlink:href=\"#DejaVuSans-45\"/>\n     <use x=\"36.083984\" xlink:href=\"#DejaVuSans-48\"/>\n     <use x=\"99.707031\" xlink:href=\"#DejaVuSans-46\"/>\n     <use x=\"131.494141\" xlink:href=\"#DejaVuSans-48\"/>\n     <use x=\"195.117188\" xlink:href=\"#DejaVuSans-50\"/>\n     <use x=\"258.740234\" xlink:href=\"#DejaVuSans-52\"/>\n    </g>\n   </g>\n   <g id=\"text_55\">\n    <!-- 1 -->\n    <g style=\"fill:#262626;\" transform=\"translate(360.168438 312.738594)scale(0.1 -0.1)\">\n     <use xlink:href=\"#DejaVuSans-49\"/>\n    </g>\n   </g>\n   <g id=\"text_56\">\n    <!-- -0.0079 -->\n    <g style=\"fill:#ffffff;\" transform=\"translate(388.690469 312.738594)scale(0.1 -0.1)\">\n     <defs>\n      <path d=\"M 8.203125 72.90625 \nL 55.078125 72.90625 \nL 55.078125 68.703125 \nL 28.609375 0 \nL 18.3125 0 \nL 43.21875 64.59375 \nL 8.203125 64.59375 \nz\n\" id=\"DejaVuSans-55\"/>\n     </defs>\n     <use xlink:href=\"#DejaVuSans-45\"/>\n     <use x=\"36.083984\" xlink:href=\"#DejaVuSans-48\"/>\n     <use x=\"99.707031\" xlink:href=\"#DejaVuSans-46\"/>\n     <use x=\"131.494141\" xlink:href=\"#DejaVuSans-48\"/>\n     <use x=\"195.117188\" xlink:href=\"#DejaVuSans-48\"/>\n     <use x=\"258.740234\" xlink:href=\"#DejaVuSans-55\"/>\n     <use x=\"322.363281\" xlink:href=\"#DejaVuSans-57\"/>\n    </g>\n   </g>\n   <g id=\"text_57\">\n    <!-- -0.00042 -->\n    <g style=\"fill:#ffffff;\" transform=\"translate(117.669219 367.098594)scale(0.1 -0.1)\">\n     <use xlink:href=\"#DejaVuSans-45\"/>\n     <use x=\"36.083984\" xlink:href=\"#DejaVuSans-48\"/>\n     <use x=\"99.707031\" xlink:href=\"#DejaVuSans-46\"/>\n     <use x=\"131.494141\" xlink:href=\"#DejaVuSans-48\"/>\n     <use x=\"195.117188\" xlink:href=\"#DejaVuSans-48\"/>\n     <use x=\"258.740234\" xlink:href=\"#DejaVuSans-48\"/>\n     <use x=\"322.363281\" xlink:href=\"#DejaVuSans-52\"/>\n     <use x=\"385.986328\" xlink:href=\"#DejaVuSans-50\"/>\n    </g>\n   </g>\n   <g id=\"text_58\">\n    <!-- -0.081 -->\n    <g style=\"fill:#ffffff;\" transform=\"translate(168.671719 367.098594)scale(0.1 -0.1)\">\n     <use xlink:href=\"#DejaVuSans-45\"/>\n     <use x=\"36.083984\" xlink:href=\"#DejaVuSans-48\"/>\n     <use x=\"99.707031\" xlink:href=\"#DejaVuSans-46\"/>\n     <use x=\"131.494141\" xlink:href=\"#DejaVuSans-48\"/>\n     <use x=\"195.117188\" xlink:href=\"#DejaVuSans-56\"/>\n     <use x=\"258.740234\" xlink:href=\"#DejaVuSans-49\"/>\n    </g>\n   </g>\n   <g id=\"text_59\">\n    <!-- -0.069 -->\n    <g style=\"fill:#ffffff;\" transform=\"translate(213.311719 367.098594)scale(0.1 -0.1)\">\n     <use xlink:href=\"#DejaVuSans-45\"/>\n     <use x=\"36.083984\" xlink:href=\"#DejaVuSans-48\"/>\n     <use x=\"99.707031\" xlink:href=\"#DejaVuSans-46\"/>\n     <use x=\"131.494141\" xlink:href=\"#DejaVuSans-48\"/>\n     <use x=\"195.117188\" xlink:href=\"#DejaVuSans-54\"/>\n     <use x=\"258.740234\" xlink:href=\"#DejaVuSans-57\"/>\n    </g>\n   </g>\n   <g id=\"text_60\">\n    <!-- -0.065 -->\n    <g style=\"fill:#ffffff;\" transform=\"translate(257.951719 367.098594)scale(0.1 -0.1)\">\n     <use xlink:href=\"#DejaVuSans-45\"/>\n     <use x=\"36.083984\" xlink:href=\"#DejaVuSans-48\"/>\n     <use x=\"99.707031\" xlink:href=\"#DejaVuSans-46\"/>\n     <use x=\"131.494141\" xlink:href=\"#DejaVuSans-48\"/>\n     <use x=\"195.117188\" xlink:href=\"#DejaVuSans-54\"/>\n     <use x=\"258.740234\" xlink:href=\"#DejaVuSans-53\"/>\n    </g>\n   </g>\n   <g id=\"text_61\">\n    <!-- -0.035 -->\n    <g style=\"fill:#ffffff;\" transform=\"translate(302.591719 367.098594)scale(0.1 -0.1)\">\n     <use xlink:href=\"#DejaVuSans-45\"/>\n     <use x=\"36.083984\" xlink:href=\"#DejaVuSans-48\"/>\n     <use x=\"99.707031\" xlink:href=\"#DejaVuSans-46\"/>\n     <use x=\"131.494141\" xlink:href=\"#DejaVuSans-48\"/>\n     <use x=\"195.117188\" xlink:href=\"#DejaVuSans-51\"/>\n     <use x=\"258.740234\" xlink:href=\"#DejaVuSans-53\"/>\n    </g>\n   </g>\n   <g id=\"text_62\">\n    <!-- -0.0079 -->\n    <g style=\"fill:#ffffff;\" transform=\"translate(344.050469 367.098594)scale(0.1 -0.1)\">\n     <use xlink:href=\"#DejaVuSans-45\"/>\n     <use x=\"36.083984\" xlink:href=\"#DejaVuSans-48\"/>\n     <use x=\"99.707031\" xlink:href=\"#DejaVuSans-46\"/>\n     <use x=\"131.494141\" xlink:href=\"#DejaVuSans-48\"/>\n     <use x=\"195.117188\" xlink:href=\"#DejaVuSans-48\"/>\n     <use x=\"258.740234\" xlink:href=\"#DejaVuSans-55\"/>\n     <use x=\"322.363281\" xlink:href=\"#DejaVuSans-57\"/>\n    </g>\n   </g>\n   <g id=\"text_63\">\n    <!-- 1 -->\n    <g style=\"fill:#262626;\" transform=\"translate(404.808438 367.098594)scale(0.1 -0.1)\">\n     <use xlink:href=\"#DejaVuSans-49\"/>\n    </g>\n   </g>\n  </g>\n  <g id=\"axes_2\">\n   <g id=\"patch_3\">\n    <path clip-path=\"url(#p49e779d77f)\" d=\"M 449.839688 391.519219 \nL 449.839688 390.032812 \nL 449.839688 12.485625 \nL 449.839688 10.999219 \nL 468.865688 10.999219 \nL 468.865688 12.485625 \nL 468.865688 390.032812 \nL 468.865688 391.519219 \nz\n\" style=\"fill:#ffffff;stroke:#ffffff;stroke-linejoin:miter;stroke-width:0.01;\"/>\n   </g>\n   <image height=\"380\" id=\"imagec458b90787\" transform=\"scale(1 -1)translate(0 -380)\" width=\"19\" x=\"450\" xlink:href=\"data:image/png;base64,\niVBORw0KGgoAAAANSUhEUgAAABMAAAF8CAYAAAAthYD3AAAB70lEQVR4nO2cwY3DMBADJUdpIv336dSwwjwGILcAImNyKeXgy/58f++C5mxKaa119ubkHkxpwZ/s7BWB+XjdBA0wY6JuNrTTMWNmuOltWjJn4nOTzFkOJvfhQs7NmEUv5nSKOZ/W9oWYF5OtbW1oQy7IbGgxqTbtzaRUEBxaLyYoVjfHI3bTe6DA5yY3vQXNB64gMab0FiT+C3JMNECxEExvn7G7qcVsaOdi4i+v7F2Dm+7mfBraGzHsFaO6eTO9HlyIeZuWXKec0HJTN+eT4uYm3Qx5Zt2ACzHtlQo+hDlOcWi9u8m6+WrdJMXMFcQZoK4gEhOTkoc2ZDe9mGRowQ7qbs7nbPCLwHlAMfP1wIsZ4iZoJ/rM6LcJQTfJZxYS2rPBq6N5A8SY0mjAmKCcuM/InJn7DMUU7yYp5sVM2U1ULAJzpbjJiYkxyc9WzPnkYIJvLBVzPCzmIjHJZ0ZjomJWTDi0UjHxf2J5MWE3rb+WEtNnpJva375JqSBwncSYZM7MmHVzLqbF7G5eiHkxUTe1/3QMV1DG9UB8CwLdFN9p2QqKcDOlghqNuVhINLxuhoS2mHMxL6a1tos5n2JeiO39wcTEmOIKCmlaFlMb2ro5FkupoIwDxYzJ5UyNie5m+2ws1tNpOvQ7LhGYGaH9A5mSLrccgVHSAAAAAElFTkSuQmCC\" y=\"-11\"/>\n   <g id=\"matplotlib.axis_3\"/>\n   <g id=\"matplotlib.axis_4\">\n    <g id=\"ytick_8\">\n     <g id=\"line2d_15\">\n      <defs>\n       <path d=\"M 0 0 \nL 3.5 0 \n\" id=\"mf73f535575\" style=\"stroke:#000000;stroke-width:0.8;\"/>\n      </defs>\n      <g>\n       <use style=\"stroke:#000000;stroke-width:0.8;\" x=\"468.865688\" xlink:href=\"#mf73f535575\" y=\"385.421617\"/>\n      </g>\n     </g>\n     <g id=\"text_64\">\n      <!-- −0.4 -->\n      <g transform=\"translate(475.865688 389.220836)scale(0.1 -0.1)\">\n       <defs>\n        <path d=\"M 10.59375 35.5 \nL 73.1875 35.5 \nL 73.1875 27.203125 \nL 10.59375 27.203125 \nz\n\" id=\"DejaVuSans-8722\"/>\n       </defs>\n       <use xlink:href=\"#DejaVuSans-8722\"/>\n       <use x=\"83.789062\" xlink:href=\"#DejaVuSans-48\"/>\n       <use x=\"147.412109\" xlink:href=\"#DejaVuSans-46\"/>\n       <use x=\"179.199219\" xlink:href=\"#DejaVuSans-52\"/>\n      </g>\n     </g>\n    </g>\n    <g id=\"ytick_9\">\n     <g id=\"line2d_16\">\n      <g>\n       <use style=\"stroke:#000000;stroke-width:0.8;\" x=\"468.865688\" xlink:href=\"#mf73f535575\" y=\"331.932703\"/>\n      </g>\n     </g>\n     <g id=\"text_65\">\n      <!-- −0.2 -->\n      <g transform=\"translate(475.865688 335.731922)scale(0.1 -0.1)\">\n       <use xlink:href=\"#DejaVuSans-8722\"/>\n       <use x=\"83.789062\" xlink:href=\"#DejaVuSans-48\"/>\n       <use x=\"147.412109\" xlink:href=\"#DejaVuSans-46\"/>\n       <use x=\"179.199219\" xlink:href=\"#DejaVuSans-50\"/>\n      </g>\n     </g>\n    </g>\n    <g id=\"ytick_10\">\n     <g id=\"line2d_17\">\n      <g>\n       <use style=\"stroke:#000000;stroke-width:0.8;\" x=\"468.865688\" xlink:href=\"#mf73f535575\" y=\"278.443789\"/>\n      </g>\n     </g>\n     <g id=\"text_66\">\n      <!-- 0.0 -->\n      <g transform=\"translate(475.865688 282.243008)scale(0.1 -0.1)\">\n       <use xlink:href=\"#DejaVuSans-48\"/>\n       <use x=\"63.623047\" xlink:href=\"#DejaVuSans-46\"/>\n       <use x=\"95.410156\" xlink:href=\"#DejaVuSans-48\"/>\n      </g>\n     </g>\n    </g>\n    <g id=\"ytick_11\">\n     <g id=\"line2d_18\">\n      <g>\n       <use style=\"stroke:#000000;stroke-width:0.8;\" x=\"468.865688\" xlink:href=\"#mf73f535575\" y=\"224.954875\"/>\n      </g>\n     </g>\n     <g id=\"text_67\">\n      <!-- 0.2 -->\n      <g transform=\"translate(475.865688 228.754094)scale(0.1 -0.1)\">\n       <use xlink:href=\"#DejaVuSans-48\"/>\n       <use x=\"63.623047\" xlink:href=\"#DejaVuSans-46\"/>\n       <use x=\"95.410156\" xlink:href=\"#DejaVuSans-50\"/>\n      </g>\n     </g>\n    </g>\n    <g id=\"ytick_12\">\n     <g id=\"line2d_19\">\n      <g>\n       <use style=\"stroke:#000000;stroke-width:0.8;\" x=\"468.865688\" xlink:href=\"#mf73f535575\" y=\"171.465961\"/>\n      </g>\n     </g>\n     <g id=\"text_68\">\n      <!-- 0.4 -->\n      <g transform=\"translate(475.865688 175.26518)scale(0.1 -0.1)\">\n       <use xlink:href=\"#DejaVuSans-48\"/>\n       <use x=\"63.623047\" xlink:href=\"#DejaVuSans-46\"/>\n       <use x=\"95.410156\" xlink:href=\"#DejaVuSans-52\"/>\n      </g>\n     </g>\n    </g>\n    <g id=\"ytick_13\">\n     <g id=\"line2d_20\">\n      <g>\n       <use style=\"stroke:#000000;stroke-width:0.8;\" x=\"468.865688\" xlink:href=\"#mf73f535575\" y=\"117.977047\"/>\n      </g>\n     </g>\n     <g id=\"text_69\">\n      <!-- 0.6 -->\n      <g transform=\"translate(475.865688 121.776266)scale(0.1 -0.1)\">\n       <use xlink:href=\"#DejaVuSans-48\"/>\n       <use x=\"63.623047\" xlink:href=\"#DejaVuSans-46\"/>\n       <use x=\"95.410156\" xlink:href=\"#DejaVuSans-54\"/>\n      </g>\n     </g>\n    </g>\n    <g id=\"ytick_14\">\n     <g id=\"line2d_21\">\n      <g>\n       <use style=\"stroke:#000000;stroke-width:0.8;\" x=\"468.865688\" xlink:href=\"#mf73f535575\" y=\"64.488133\"/>\n      </g>\n     </g>\n     <g id=\"text_70\">\n      <!-- 0.8 -->\n      <g transform=\"translate(475.865688 68.287352)scale(0.1 -0.1)\">\n       <use xlink:href=\"#DejaVuSans-48\"/>\n       <use x=\"63.623047\" xlink:href=\"#DejaVuSans-46\"/>\n       <use x=\"95.410156\" xlink:href=\"#DejaVuSans-56\"/>\n      </g>\n     </g>\n    </g>\n    <g id=\"ytick_15\">\n     <g id=\"line2d_22\">\n      <g>\n       <use style=\"stroke:#000000;stroke-width:0.8;\" x=\"468.865688\" xlink:href=\"#mf73f535575\" y=\"10.999219\"/>\n      </g>\n     </g>\n     <g id=\"text_71\">\n      <!-- 1.0 -->\n      <g transform=\"translate(475.865688 14.798438)scale(0.1 -0.1)\">\n       <use xlink:href=\"#DejaVuSans-49\"/>\n       <use x=\"63.623047\" xlink:href=\"#DejaVuSans-46\"/>\n       <use x=\"95.410156\" xlink:href=\"#DejaVuSans-48\"/>\n      </g>\n     </g>\n    </g>\n   </g>\n   <g id=\"patch_4\">\n    <path d=\"M 449.839688 391.519219 \nL 449.839688 390.032812 \nL 449.839688 12.485625 \nL 449.839688 10.999219 \nL 468.865688 10.999219 \nL 468.865688 12.485625 \nL 468.865688 390.032812 \nL 468.865688 391.519219 \nz\n\" style=\"fill:none;\"/>\n   </g>\n  </g>\n </g>\n <defs>\n  <clipPath id=\"p06f8c1b257\">\n   <rect height=\"380.52\" width=\"312.48\" x=\"117.829688\" y=\"10.999219\"/>\n  </clipPath>\n  <clipPath id=\"p49e779d77f\">\n   <rect height=\"380.52\" width=\"19.026\" x=\"449.839688\" y=\"10.999219\"/>\n  </clipPath>\n </defs>\n</svg>\n",
      "image/png": "[encoded data removed]"
     },
     "metadata": {
      "needs_background": "light"
     }
    }
   ],
   "source": [
    "%matplotlib inline\n",
    "\n",
    "import matplotlib.pyplot as plt\n",
    "import seaborn as sb\n",
    "\n",
    "corrmat = train.corr()\n",
    "f, ax = plt.subplots(figsize=(7, 7))\n",
    "# Draw the heatmap using seaborn\n",
    "sb.heatmap(corrmat, square=False, annot=True)\n",
    "plt.show()"
   ]
  },
  {
   "cell_type": "markdown",
   "metadata": {},
   "source": [
    "## Evaluation of the length distribution of Titles and Abstracts"
   ]
  },
  {
   "cell_type": "code",
   "execution_count": 12,
   "metadata": {},
   "outputs": [
    {
     "output_type": "execute_result",
     "data": {
      "text/plain": [
       "<seaborn.axisgrid.FacetGrid at 0x7fb80e865460>"
      ]
     },
     "metadata": {},
     "execution_count": 12
    },
    {
     "output_type": "display_data",
     "data": {
      "text/plain": "<Figure size 360x360 with 1 Axes>",
      "image/svg+xml": "<?xml version=\"1.0\" encoding=\"utf-8\" standalone=\"no\"?>\n<!DOCTYPE svg PUBLIC \"-//W3C//DTD SVG 1.1//EN\"\n  \"http://www.w3.org/Graphics/SVG/1.1/DTD/svg11.dtd\">\n<!-- Created with matplotlib (https://matplotlib.org/) -->\n<svg height=\"352.15625pt\" version=\"1.1\" viewBox=\"0 0 352.4666 352.15625\" width=\"352.4666pt\" xmlns=\"http://www.w3.org/2000/svg\" xmlns:xlink=\"http://www.w3.org/1999/xlink\">\n <metadata>\n  <rdf:RDF xmlns:cc=\"http://creativecommons.org/ns#\" xmlns:dc=\"http://purl.org/dc/elements/1.1/\" xmlns:rdf=\"http://www.w3.org/1999/02/22-rdf-syntax-ns#\">\n   <cc:Work>\n    <dc:type rdf:resource=\"http://purl.org/dc/dcmitype/StillImage\"/>\n    <dc:date>2021-05-26T13:08:03.375591</dc:date>\n    <dc:format>image/svg+xml</dc:format>\n    <dc:creator>\n     <cc:Agent>\n      <dc:title>Matplotlib v3.3.2, https://matplotlib.org/</dc:title>\n     </cc:Agent>\n    </dc:creator>\n   </cc:Work>\n  </rdf:RDF>\n </metadata>\n <defs>\n  <style type=\"text/css\">*{stroke-linecap:butt;stroke-linejoin:round;}</style>\n </defs>\n <g id=\"figure_1\">\n  <g id=\"patch_1\">\n   <path d=\"M 0 352.15625 \nL 352.4666 352.15625 \nL 352.4666 0 \nL 0 0 \nz\n\" style=\"fill:none;\"/>\n  </g>\n  <g id=\"axes_1\">\n   <g id=\"patch_2\">\n    <path d=\"M 53.328125 314.6 \nL 336.388352 314.6 \nL 336.388352 7.2 \nL 53.328125 7.2 \nz\n\" style=\"fill:#ffffff;\"/>\n   </g>\n   <g id=\"patch_3\">\n    <path clip-path=\"url(#p42478be875)\" d=\"M 66.194499 314.6 \nL 68.903209 314.6 \nL 68.903209 313.432455 \nL 66.194499 313.432455 \nz\n\" style=\"fill:#1f77b4;fill-opacity:0.75;stroke:#000000;stroke-linejoin:miter;stroke-width:0.294163;\"/>\n   </g>\n   <g id=\"patch_4\">\n    <path clip-path=\"url(#p42478be875)\" d=\"M 68.903209 314.6 \nL 71.61192 314.6 \nL 71.61192 311.389251 \nL 68.903209 311.389251 \nz\n\" style=\"fill:#1f77b4;fill-opacity:0.75;stroke:#000000;stroke-linejoin:miter;stroke-width:0.294163;\"/>\n   </g>\n   <g id=\"patch_5\">\n    <path clip-path=\"url(#p42478be875)\" d=\"M 71.61192 314.6 \nL 74.32063 314.6 \nL 74.32063 310.805479 \nL 71.61192 310.805479 \nz\n\" style=\"fill:#1f77b4;fill-opacity:0.75;stroke:#000000;stroke-linejoin:miter;stroke-width:0.294163;\"/>\n   </g>\n   <g id=\"patch_6\">\n    <path clip-path=\"url(#p42478be875)\" d=\"M 74.32063 314.6 \nL 77.02934 314.6 \nL 77.02934 308.762275 \nL 74.32063 308.762275 \nz\n\" style=\"fill:#1f77b4;fill-opacity:0.75;stroke:#000000;stroke-linejoin:miter;stroke-width:0.294163;\"/>\n   </g>\n   <g id=\"patch_7\">\n    <path clip-path=\"url(#p42478be875)\" d=\"M 77.02934 314.6 \nL 79.738051 314.6 \nL 79.738051 299.713801 \nL 77.02934 299.713801 \nz\n\" style=\"fill:#1f77b4;fill-opacity:0.75;stroke:#000000;stroke-linejoin:miter;stroke-width:0.294163;\"/>\n   </g>\n   <g id=\"patch_8\">\n    <path clip-path=\"url(#p42478be875)\" d=\"M 79.738051 314.6 \nL 82.446761 314.6 \nL 82.446761 302.340778 \nL 79.738051 302.340778 \nz\n\" style=\"fill:#1f77b4;fill-opacity:0.75;stroke:#000000;stroke-linejoin:miter;stroke-width:0.294163;\"/>\n   </g>\n   <g id=\"patch_9\">\n    <path clip-path=\"url(#p42478be875)\" d=\"M 82.446761 314.6 \nL 85.155471 314.6 \nL 85.155471 286.287034 \nL 82.446761 286.287034 \nz\n\" style=\"fill:#1f77b4;fill-opacity:0.75;stroke:#000000;stroke-linejoin:miter;stroke-width:0.294163;\"/>\n   </g>\n   <g id=\"patch_10\">\n    <path clip-path=\"url(#p42478be875)\" d=\"M 85.155471 314.6 \nL 87.864181 314.6 \nL 87.864181 284.535717 \nL 85.155471 284.535717 \nz\n\" style=\"fill:#1f77b4;fill-opacity:0.75;stroke:#000000;stroke-linejoin:miter;stroke-width:0.294163;\"/>\n   </g>\n   <g id=\"patch_11\">\n    <path clip-path=\"url(#p42478be875)\" d=\"M 87.864181 314.6 \nL 90.572892 314.6 \nL 90.572892 280.741195 \nL 87.864181 280.741195 \nz\n\" style=\"fill:#1f77b4;fill-opacity:0.75;stroke:#000000;stroke-linejoin:miter;stroke-width:0.294163;\"/>\n   </g>\n   <g id=\"patch_12\">\n    <path clip-path=\"url(#p42478be875)\" d=\"M 90.572892 314.6 \nL 93.281602 314.6 \nL 93.281602 243.08787 \nL 90.572892 243.08787 \nz\n\" style=\"fill:#1f77b4;fill-opacity:0.75;stroke:#000000;stroke-linejoin:miter;stroke-width:0.294163;\"/>\n   </g>\n   <g id=\"patch_13\">\n    <path clip-path=\"url(#p42478be875)\" d=\"M 93.281602 314.6 \nL 95.990312 314.6 \nL 95.990312 257.974068 \nL 93.281602 257.974068 \nz\n\" style=\"fill:#1f77b4;fill-opacity:0.75;stroke:#000000;stroke-linejoin:miter;stroke-width:0.294163;\"/>\n   </g>\n   <g id=\"patch_14\">\n    <path clip-path=\"url(#p42478be875)\" d=\"M 95.990312 314.6 \nL 98.699023 314.6 \nL 98.699023 209.229065 \nL 95.990312 209.229065 \nz\n\" style=\"fill:#1f77b4;fill-opacity:0.75;stroke:#000000;stroke-linejoin:miter;stroke-width:0.294163;\"/>\n   </g>\n   <g id=\"patch_15\">\n    <path clip-path=\"url(#p42478be875)\" d=\"M 98.699023 314.6 \nL 101.407733 314.6 \nL 101.407733 233.455624 \nL 98.699023 233.455624 \nz\n\" style=\"fill:#1f77b4;fill-opacity:0.75;stroke:#000000;stroke-linejoin:miter;stroke-width:0.294163;\"/>\n   </g>\n   <g id=\"patch_16\">\n    <path clip-path=\"url(#p42478be875)\" d=\"M 101.407733 314.6 \nL 104.116443 314.6 \nL 104.116443 161.651607 \nL 101.407733 161.651607 \nz\n\" style=\"fill:#1f77b4;fill-opacity:0.75;stroke:#000000;stroke-linejoin:miter;stroke-width:0.294163;\"/>\n   </g>\n   <g id=\"patch_17\">\n    <path clip-path=\"url(#p42478be875)\" d=\"M 104.116443 314.6 \nL 106.825154 314.6 \nL 106.825154 199.304933 \nL 104.116443 199.304933 \nz\n\" style=\"fill:#1f77b4;fill-opacity:0.75;stroke:#000000;stroke-linejoin:miter;stroke-width:0.294163;\"/>\n   </g>\n   <g id=\"patch_18\">\n    <path clip-path=\"url(#p42478be875)\" d=\"M 106.825154 314.6 \nL 109.533864 314.6 \nL 109.533864 108.236424 \nL 106.825154 108.236424 \nz\n\" style=\"fill:#1f77b4;fill-opacity:0.75;stroke:#000000;stroke-linejoin:miter;stroke-width:0.294163;\"/>\n   </g>\n   <g id=\"patch_19\">\n    <path clip-path=\"url(#p42478be875)\" d=\"M 109.533864 314.6 \nL 112.242574 314.6 \nL 112.242574 172.159512 \nL 109.533864 172.159512 \nz\n\" style=\"fill:#1f77b4;fill-opacity:0.75;stroke:#000000;stroke-linejoin:miter;stroke-width:0.294163;\"/>\n   </g>\n   <g id=\"patch_20\">\n    <path clip-path=\"url(#p42478be875)\" d=\"M 112.242574 314.6 \nL 114.951285 314.6 \nL 114.951285 162.527266 \nL 112.242574 162.527266 \nz\n\" style=\"fill:#1f77b4;fill-opacity:0.75;stroke:#000000;stroke-linejoin:miter;stroke-width:0.294163;\"/>\n   </g>\n   <g id=\"patch_21\">\n    <path clip-path=\"url(#p42478be875)\" d=\"M 114.951285 314.6 \nL 117.659995 314.6 \nL 117.659995 74.37762 \nL 114.951285 74.37762 \nz\n\" style=\"fill:#1f77b4;fill-opacity:0.75;stroke:#000000;stroke-linejoin:miter;stroke-width:0.294163;\"/>\n   </g>\n   <g id=\"patch_22\">\n    <path clip-path=\"url(#p42478be875)\" d=\"M 117.659995 314.6 \nL 120.368705 314.6 \nL 120.368705 140.343911 \nL 117.659995 140.343911 \nz\n\" style=\"fill:#1f77b4;fill-opacity:0.75;stroke:#000000;stroke-linejoin:miter;stroke-width:0.294163;\"/>\n   </g>\n   <g id=\"patch_23\">\n    <path clip-path=\"url(#p42478be875)\" d=\"M 120.368705 314.6 \nL 123.077415 314.6 \nL 123.077415 54.529355 \nL 120.368705 54.529355 \nz\n\" style=\"fill:#1f77b4;fill-opacity:0.75;stroke:#000000;stroke-linejoin:miter;stroke-width:0.294163;\"/>\n   </g>\n   <g id=\"patch_24\">\n    <path clip-path=\"url(#p42478be875)\" d=\"M 123.077415 314.6 \nL 125.786126 314.6 \nL 125.786126 117.576784 \nL 123.077415 117.576784 \nz\n\" style=\"fill:#1f77b4;fill-opacity:0.75;stroke:#000000;stroke-linejoin:miter;stroke-width:0.294163;\"/>\n   </g>\n   <g id=\"patch_25\">\n    <path clip-path=\"url(#p42478be875)\" d=\"M 125.786126 314.6 \nL 128.494836 314.6 \nL 128.494836 27.092048 \nL 125.786126 27.092048 \nz\n\" style=\"fill:#1f77b4;fill-opacity:0.75;stroke:#000000;stroke-linejoin:miter;stroke-width:0.294163;\"/>\n   </g>\n   <g id=\"patch_26\">\n    <path clip-path=\"url(#p42478be875)\" d=\"M 128.494836 314.6 \nL 131.203546 314.6 \nL 131.203546 124.87394 \nL 128.494836 124.87394 \nz\n\" style=\"fill:#1f77b4;fill-opacity:0.75;stroke:#000000;stroke-linejoin:miter;stroke-width:0.294163;\"/>\n   </g>\n   <g id=\"patch_27\">\n    <path clip-path=\"url(#p42478be875)\" d=\"M 131.203546 314.6 \nL 133.912257 314.6 \nL 133.912257 21.838095 \nL 131.203546 21.838095 \nz\n\" style=\"fill:#1f77b4;fill-opacity:0.75;stroke:#000000;stroke-linejoin:miter;stroke-width:0.294163;\"/>\n   </g>\n   <g id=\"patch_28\">\n    <path clip-path=\"url(#p42478be875)\" d=\"M 133.912257 314.6 \nL 136.620967 314.6 \nL 136.620967 120.787533 \nL 133.912257 120.787533 \nz\n\" style=\"fill:#1f77b4;fill-opacity:0.75;stroke:#000000;stroke-linejoin:miter;stroke-width:0.294163;\"/>\n   </g>\n   <g id=\"patch_29\">\n    <path clip-path=\"url(#p42478be875)\" d=\"M 136.620967 314.6 \nL 139.329677 314.6 \nL 139.329677 113.19849 \nL 136.620967 113.19849 \nz\n\" style=\"fill:#1f77b4;fill-opacity:0.75;stroke:#000000;stroke-linejoin:miter;stroke-width:0.294163;\"/>\n   </g>\n   <g id=\"patch_30\">\n    <path clip-path=\"url(#p42478be875)\" d=\"M 139.329677 314.6 \nL 142.038388 314.6 \nL 142.038388 39.059384 \nL 139.329677 39.059384 \nz\n\" style=\"fill:#1f77b4;fill-opacity:0.75;stroke:#000000;stroke-linejoin:miter;stroke-width:0.294163;\"/>\n   </g>\n   <g id=\"patch_31\">\n    <path clip-path=\"url(#p42478be875)\" d=\"M 142.038388 314.6 \nL 144.747098 314.6 \nL 144.747098 129.836006 \nL 142.038388 129.836006 \nz\n\" style=\"fill:#1f77b4;fill-opacity:0.75;stroke:#000000;stroke-linejoin:miter;stroke-width:0.294163;\"/>\n   </g>\n   <g id=\"patch_32\">\n    <path clip-path=\"url(#p42478be875)\" d=\"M 144.747098 314.6 \nL 147.455808 314.6 \nL 147.455808 53.36181 \nL 144.747098 53.36181 \nz\n\" style=\"fill:#1f77b4;fill-opacity:0.75;stroke:#000000;stroke-linejoin:miter;stroke-width:0.294163;\"/>\n   </g>\n   <g id=\"patch_33\">\n    <path clip-path=\"url(#p42478be875)\" d=\"M 147.455808 314.6 \nL 150.164519 314.6 \nL 150.164519 142.387115 \nL 147.455808 142.387115 \nz\n\" style=\"fill:#1f77b4;fill-opacity:0.75;stroke:#000000;stroke-linejoin:miter;stroke-width:0.294163;\"/>\n   </g>\n   <g id=\"patch_34\">\n    <path clip-path=\"url(#p42478be875)\" d=\"M 150.164519 314.6 \nL 152.873229 314.6 \nL 152.873229 77.588368 \nL 150.164519 77.588368 \nz\n\" style=\"fill:#1f77b4;fill-opacity:0.75;stroke:#000000;stroke-linejoin:miter;stroke-width:0.294163;\"/>\n   </g>\n   <g id=\"patch_35\">\n    <path clip-path=\"url(#p42478be875)\" d=\"M 152.873229 314.6 \nL 155.581939 314.6 \nL 155.581939 169.824422 \nL 152.873229 169.824422 \nz\n\" style=\"fill:#1f77b4;fill-opacity:0.75;stroke:#000000;stroke-linejoin:miter;stroke-width:0.294163;\"/>\n   </g>\n   <g id=\"patch_36\">\n    <path clip-path=\"url(#p42478be875)\" d=\"M 155.581939 314.6 \nL 158.290649 314.6 \nL 158.290649 112.322832 \nL 155.581939 112.322832 \nz\n\" style=\"fill:#1f77b4;fill-opacity:0.75;stroke:#000000;stroke-linejoin:miter;stroke-width:0.294163;\"/>\n   </g>\n   <g id=\"patch_37\">\n    <path clip-path=\"url(#p42478be875)\" d=\"M 158.290649 314.6 \nL 160.99936 314.6 \nL 160.99936 182.959303 \nL 158.290649 182.959303 \nz\n\" style=\"fill:#1f77b4;fill-opacity:0.75;stroke:#000000;stroke-linejoin:miter;stroke-width:0.294163;\"/>\n   </g>\n   <g id=\"patch_38\">\n    <path clip-path=\"url(#p42478be875)\" d=\"M 160.99936 314.6 \nL 163.70807 314.6 \nL 163.70807 202.223795 \nL 160.99936 202.223795 \nz\n\" style=\"fill:#1f77b4;fill-opacity:0.75;stroke:#000000;stroke-linejoin:miter;stroke-width:0.294163;\"/>\n   </g>\n   <g id=\"patch_39\">\n    <path clip-path=\"url(#p42478be875)\" d=\"M 163.70807 314.6 \nL 166.41678 314.6 \nL 166.41678 150.268043 \nL 163.70807 150.268043 \nz\n\" style=\"fill:#1f77b4;fill-opacity:0.75;stroke:#000000;stroke-linejoin:miter;stroke-width:0.294163;\"/>\n   </g>\n   <g id=\"patch_40\">\n    <path clip-path=\"url(#p42478be875)\" d=\"M 166.41678 314.6 \nL 169.125491 314.6 \nL 169.125491 227.909785 \nL 166.41678 227.909785 \nz\n\" style=\"fill:#1f77b4;fill-opacity:0.75;stroke:#000000;stroke-linejoin:miter;stroke-width:0.294163;\"/>\n   </g>\n   <g id=\"patch_41\">\n    <path clip-path=\"url(#p42478be875)\" d=\"M 169.125491 314.6 \nL 171.834201 314.6 \nL 171.834201 190.840232 \nL 169.125491 190.840232 \nz\n\" style=\"fill:#1f77b4;fill-opacity:0.75;stroke:#000000;stroke-linejoin:miter;stroke-width:0.294163;\"/>\n   </g>\n   <g id=\"patch_42\">\n    <path clip-path=\"url(#p42478be875)\" d=\"M 171.834201 314.6 \nL 174.542911 314.6 \nL 174.542911 236.958259 \nL 171.834201 236.958259 \nz\n\" style=\"fill:#1f77b4;fill-opacity:0.75;stroke:#000000;stroke-linejoin:miter;stroke-width:0.294163;\"/>\n   </g>\n   <g id=\"patch_43\">\n    <path clip-path=\"url(#p42478be875)\" d=\"M 174.542911 314.6 \nL 177.251622 314.6 \nL 177.251622 212.147928 \nL 174.542911 212.147928 \nz\n\" style=\"fill:#1f77b4;fill-opacity:0.75;stroke:#000000;stroke-linejoin:miter;stroke-width:0.294163;\"/>\n   </g>\n   <g id=\"patch_44\">\n    <path clip-path=\"url(#p42478be875)\" d=\"M 177.251622 314.6 \nL 179.960332 314.6 \nL 179.960332 255.638978 \nL 177.251622 255.638978 \nz\n\" style=\"fill:#1f77b4;fill-opacity:0.75;stroke:#000000;stroke-linejoin:miter;stroke-width:0.294163;\"/>\n   </g>\n   <g id=\"patch_45\">\n    <path clip-path=\"url(#p42478be875)\" d=\"M 179.960332 314.6 \nL 182.669042 314.6 \nL 182.669042 239.585235 \nL 179.960332 239.585235 \nz\n\" style=\"fill:#1f77b4;fill-opacity:0.75;stroke:#000000;stroke-linejoin:miter;stroke-width:0.294163;\"/>\n   </g>\n   <g id=\"patch_46\">\n    <path clip-path=\"url(#p42478be875)\" d=\"M 182.669042 314.6 \nL 185.377753 314.6 \nL 185.377753 265.854997 \nL 182.669042 265.854997 \nz\n\" style=\"fill:#1f77b4;fill-opacity:0.75;stroke:#000000;stroke-linejoin:miter;stroke-width:0.294163;\"/>\n   </g>\n   <g id=\"patch_47\">\n    <path clip-path=\"url(#p42478be875)\" d=\"M 185.377753 314.6 \nL 188.086463 314.6 \nL 188.086463 276.946674 \nL 185.377753 276.946674 \nz\n\" style=\"fill:#1f77b4;fill-opacity:0.75;stroke:#000000;stroke-linejoin:miter;stroke-width:0.294163;\"/>\n   </g>\n   <g id=\"patch_48\">\n    <path clip-path=\"url(#p42478be875)\" d=\"M 188.086463 314.6 \nL 190.795173 314.6 \nL 190.795173 254.76332 \nL 188.086463 254.76332 \nz\n\" style=\"fill:#1f77b4;fill-opacity:0.75;stroke:#000000;stroke-linejoin:miter;stroke-width:0.294163;\"/>\n   </g>\n   <g id=\"patch_49\">\n    <path clip-path=\"url(#p42478be875)\" d=\"M 190.795173 314.6 \nL 193.503883 314.6 \nL 193.503883 282.492513 \nL 190.795173 282.492513 \nz\n\" style=\"fill:#1f77b4;fill-opacity:0.75;stroke:#000000;stroke-linejoin:miter;stroke-width:0.294163;\"/>\n   </g>\n   <g id=\"patch_50\">\n    <path clip-path=\"url(#p42478be875)\" d=\"M 193.503883 314.6 \nL 196.212594 314.6 \nL 196.212594 269.941404 \nL 193.503883 269.941404 \nz\n\" style=\"fill:#1f77b4;fill-opacity:0.75;stroke:#000000;stroke-linejoin:miter;stroke-width:0.294163;\"/>\n   </g>\n   <g id=\"patch_51\">\n    <path clip-path=\"url(#p42478be875)\" d=\"M 196.212594 314.6 \nL 198.921304 314.6 \nL 198.921304 286.57892 \nL 196.212594 286.57892 \nz\n\" style=\"fill:#1f77b4;fill-opacity:0.75;stroke:#000000;stroke-linejoin:miter;stroke-width:0.294163;\"/>\n   </g>\n   <g id=\"patch_52\">\n    <path clip-path=\"url(#p42478be875)\" d=\"M 198.921304 314.6 \nL 201.630014 314.6 \nL 201.630014 277.822333 \nL 198.921304 277.822333 \nz\n\" style=\"fill:#1f77b4;fill-opacity:0.75;stroke:#000000;stroke-linejoin:miter;stroke-width:0.294163;\"/>\n   </g>\n   <g id=\"patch_53\">\n    <path clip-path=\"url(#p42478be875)\" d=\"M 201.630014 314.6 \nL 204.338725 314.6 \nL 204.338725 289.205897 \nL 201.630014 289.205897 \nz\n\" style=\"fill:#1f77b4;fill-opacity:0.75;stroke:#000000;stroke-linejoin:miter;stroke-width:0.294163;\"/>\n   </g>\n   <g id=\"patch_54\">\n    <path clip-path=\"url(#p42478be875)\" d=\"M 204.338725 314.6 \nL 207.047435 314.6 \nL 207.047435 297.378711 \nL 204.338725 297.378711 \nz\n\" style=\"fill:#1f77b4;fill-opacity:0.75;stroke:#000000;stroke-linejoin:miter;stroke-width:0.294163;\"/>\n   </g>\n   <g id=\"patch_55\">\n    <path clip-path=\"url(#p42478be875)\" d=\"M 207.047435 314.6 \nL 209.756145 314.6 \nL 209.756145 295.627394 \nL 207.047435 295.627394 \nz\n\" style=\"fill:#1f77b4;fill-opacity:0.75;stroke:#000000;stroke-linejoin:miter;stroke-width:0.294163;\"/>\n   </g>\n   <g id=\"patch_56\">\n    <path clip-path=\"url(#p42478be875)\" d=\"M 209.756145 314.6 \nL 212.464856 314.6 \nL 212.464856 303.800209 \nL 209.756145 303.800209 \nz\n\" style=\"fill:#1f77b4;fill-opacity:0.75;stroke:#000000;stroke-linejoin:miter;stroke-width:0.294163;\"/>\n   </g>\n   <g id=\"patch_57\">\n    <path clip-path=\"url(#p42478be875)\" d=\"M 212.464856 314.6 \nL 215.173566 314.6 \nL 215.173566 299.130029 \nL 212.464856 299.130029 \nz\n\" style=\"fill:#1f77b4;fill-opacity:0.75;stroke:#000000;stroke-linejoin:miter;stroke-width:0.294163;\"/>\n   </g>\n   <g id=\"patch_58\">\n    <path clip-path=\"url(#p42478be875)\" d=\"M 215.173566 314.6 \nL 217.882276 314.6 \nL 217.882276 303.800209 \nL 215.173566 303.800209 \nz\n\" style=\"fill:#1f77b4;fill-opacity:0.75;stroke:#000000;stroke-linejoin:miter;stroke-width:0.294163;\"/>\n   </g>\n   <g id=\"patch_59\">\n    <path clip-path=\"url(#p42478be875)\" d=\"M 217.882276 314.6 \nL 220.590987 314.6 \nL 220.590987 302.048891 \nL 217.882276 302.048891 \nz\n\" style=\"fill:#1f77b4;fill-opacity:0.75;stroke:#000000;stroke-linejoin:miter;stroke-width:0.294163;\"/>\n   </g>\n   <g id=\"patch_60\">\n    <path clip-path=\"url(#p42478be875)\" d=\"M 220.590987 314.6 \nL 223.299697 314.6 \nL 223.299697 307.59473 \nL 220.590987 307.59473 \nz\n\" style=\"fill:#1f77b4;fill-opacity:0.75;stroke:#000000;stroke-linejoin:miter;stroke-width:0.294163;\"/>\n   </g>\n   <g id=\"patch_61\">\n    <path clip-path=\"url(#p42478be875)\" d=\"M 223.299697 314.6 \nL 226.008407 314.6 \nL 226.008407 306.719071 \nL 223.299697 306.719071 \nz\n\" style=\"fill:#1f77b4;fill-opacity:0.75;stroke:#000000;stroke-linejoin:miter;stroke-width:0.294163;\"/>\n   </g>\n   <g id=\"patch_62\">\n    <path clip-path=\"url(#p42478be875)\" d=\"M 226.008407 314.6 \nL 228.717117 314.6 \nL 228.717117 306.427185 \nL 226.008407 306.427185 \nz\n\" style=\"fill:#1f77b4;fill-opacity:0.75;stroke:#000000;stroke-linejoin:miter;stroke-width:0.294163;\"/>\n   </g>\n   <g id=\"patch_63\">\n    <path clip-path=\"url(#p42478be875)\" d=\"M 228.717117 314.6 \nL 231.425828 314.6 \nL 231.425828 310.221706 \nL 228.717117 310.221706 \nz\n\" style=\"fill:#1f77b4;fill-opacity:0.75;stroke:#000000;stroke-linejoin:miter;stroke-width:0.294163;\"/>\n   </g>\n   <g id=\"patch_64\">\n    <path clip-path=\"url(#p42478be875)\" d=\"M 231.425828 314.6 \nL 234.134538 314.6 \nL 234.134538 310.513593 \nL 231.425828 310.513593 \nz\n\" style=\"fill:#1f77b4;fill-opacity:0.75;stroke:#000000;stroke-linejoin:miter;stroke-width:0.294163;\"/>\n   </g>\n   <g id=\"patch_65\">\n    <path clip-path=\"url(#p42478be875)\" d=\"M 234.134538 314.6 \nL 236.843248 314.6 \nL 236.843248 311.973024 \nL 234.134538 311.973024 \nz\n\" style=\"fill:#1f77b4;fill-opacity:0.75;stroke:#000000;stroke-linejoin:miter;stroke-width:0.294163;\"/>\n   </g>\n   <g id=\"patch_66\">\n    <path clip-path=\"url(#p42478be875)\" d=\"M 236.843248 314.6 \nL 239.551959 314.6 \nL 239.551959 310.221706 \nL 236.843248 310.221706 \nz\n\" style=\"fill:#1f77b4;fill-opacity:0.75;stroke:#000000;stroke-linejoin:miter;stroke-width:0.294163;\"/>\n   </g>\n   <g id=\"patch_67\">\n    <path clip-path=\"url(#p42478be875)\" d=\"M 239.551959 314.6 \nL 242.260669 314.6 \nL 242.260669 313.432455 \nL 239.551959 313.432455 \nz\n\" style=\"fill:#1f77b4;fill-opacity:0.75;stroke:#000000;stroke-linejoin:miter;stroke-width:0.294163;\"/>\n   </g>\n   <g id=\"patch_68\">\n    <path clip-path=\"url(#p42478be875)\" d=\"M 242.260669 314.6 \nL 244.969379 314.6 \nL 244.969379 310.805479 \nL 242.260669 310.805479 \nz\n\" style=\"fill:#1f77b4;fill-opacity:0.75;stroke:#000000;stroke-linejoin:miter;stroke-width:0.294163;\"/>\n   </g>\n   <g id=\"patch_69\">\n    <path clip-path=\"url(#p42478be875)\" d=\"M 244.969379 314.6 \nL 247.67809 314.6 \nL 247.67809 313.724341 \nL 244.969379 313.724341 \nz\n\" style=\"fill:#1f77b4;fill-opacity:0.75;stroke:#000000;stroke-linejoin:miter;stroke-width:0.294163;\"/>\n   </g>\n   <g id=\"patch_70\">\n    <path clip-path=\"url(#p42478be875)\" d=\"M 247.67809 314.6 \nL 250.3868 314.6 \nL 250.3868 312.556796 \nL 247.67809 312.556796 \nz\n\" style=\"fill:#1f77b4;fill-opacity:0.75;stroke:#000000;stroke-linejoin:miter;stroke-width:0.294163;\"/>\n   </g>\n   <g id=\"patch_71\">\n    <path clip-path=\"url(#p42478be875)\" d=\"M 250.3868 314.6 \nL 253.09551 314.6 \nL 253.09551 314.6 \nL 250.3868 314.6 \nz\n\" style=\"fill:#1f77b4;fill-opacity:0.75;stroke:#000000;stroke-linejoin:miter;stroke-width:0.294163;\"/>\n   </g>\n   <g id=\"patch_72\">\n    <path clip-path=\"url(#p42478be875)\" d=\"M 253.09551 314.6 \nL 255.804221 314.6 \nL 255.804221 313.432455 \nL 253.09551 313.432455 \nz\n\" style=\"fill:#1f77b4;fill-opacity:0.75;stroke:#000000;stroke-linejoin:miter;stroke-width:0.294163;\"/>\n   </g>\n   <g id=\"patch_73\">\n    <path clip-path=\"url(#p42478be875)\" d=\"M 255.804221 314.6 \nL 258.512931 314.6 \nL 258.512931 314.016228 \nL 255.804221 314.016228 \nz\n\" style=\"fill:#1f77b4;fill-opacity:0.75;stroke:#000000;stroke-linejoin:miter;stroke-width:0.294163;\"/>\n   </g>\n   <g id=\"patch_74\">\n    <path clip-path=\"url(#p42478be875)\" d=\"M 258.512931 314.6 \nL 261.221641 314.6 \nL 261.221641 314.016228 \nL 258.512931 314.016228 \nz\n\" style=\"fill:#1f77b4;fill-opacity:0.75;stroke:#000000;stroke-linejoin:miter;stroke-width:0.294163;\"/>\n   </g>\n   <g id=\"patch_75\">\n    <path clip-path=\"url(#p42478be875)\" d=\"M 261.221641 314.6 \nL 263.930352 314.6 \nL 263.930352 314.016228 \nL 261.221641 314.016228 \nz\n\" style=\"fill:#1f77b4;fill-opacity:0.75;stroke:#000000;stroke-linejoin:miter;stroke-width:0.294163;\"/>\n   </g>\n   <g id=\"patch_76\">\n    <path clip-path=\"url(#p42478be875)\" d=\"M 263.930352 314.6 \nL 266.639062 314.6 \nL 266.639062 314.016228 \nL 263.930352 314.016228 \nz\n\" style=\"fill:#1f77b4;fill-opacity:0.75;stroke:#000000;stroke-linejoin:miter;stroke-width:0.294163;\"/>\n   </g>\n   <g id=\"patch_77\">\n    <path clip-path=\"url(#p42478be875)\" d=\"M 266.639062 314.6 \nL 269.347772 314.6 \nL 269.347772 312.848683 \nL 266.639062 312.848683 \nz\n\" style=\"fill:#1f77b4;fill-opacity:0.75;stroke:#000000;stroke-linejoin:miter;stroke-width:0.294163;\"/>\n   </g>\n   <g id=\"patch_78\">\n    <path clip-path=\"url(#p42478be875)\" d=\"M 269.347772 314.6 \nL 272.056482 314.6 \nL 272.056482 314.308114 \nL 269.347772 314.308114 \nz\n\" style=\"fill:#1f77b4;fill-opacity:0.75;stroke:#000000;stroke-linejoin:miter;stroke-width:0.294163;\"/>\n   </g>\n   <g id=\"patch_79\">\n    <path clip-path=\"url(#p42478be875)\" d=\"M 272.056482 314.6 \nL 274.765193 314.6 \nL 274.765193 313.432455 \nL 272.056482 313.432455 \nz\n\" style=\"fill:#1f77b4;fill-opacity:0.75;stroke:#000000;stroke-linejoin:miter;stroke-width:0.294163;\"/>\n   </g>\n   <g id=\"patch_80\">\n    <path clip-path=\"url(#p42478be875)\" d=\"M 274.765193 314.6 \nL 277.473903 314.6 \nL 277.473903 314.308114 \nL 274.765193 314.308114 \nz\n\" style=\"fill:#1f77b4;fill-opacity:0.75;stroke:#000000;stroke-linejoin:miter;stroke-width:0.294163;\"/>\n   </g>\n   <g id=\"patch_81\">\n    <path clip-path=\"url(#p42478be875)\" d=\"M 277.473903 314.6 \nL 280.182613 314.6 \nL 280.182613 313.724341 \nL 277.473903 313.724341 \nz\n\" style=\"fill:#1f77b4;fill-opacity:0.75;stroke:#000000;stroke-linejoin:miter;stroke-width:0.294163;\"/>\n   </g>\n   <g id=\"patch_82\">\n    <path clip-path=\"url(#p42478be875)\" d=\"M 280.182613 314.6 \nL 282.891324 314.6 \nL 282.891324 314.016228 \nL 280.182613 314.016228 \nz\n\" style=\"fill:#1f77b4;fill-opacity:0.75;stroke:#000000;stroke-linejoin:miter;stroke-width:0.294163;\"/>\n   </g>\n   <g id=\"patch_83\">\n    <path clip-path=\"url(#p42478be875)\" d=\"M 282.891324 314.6 \nL 285.600034 314.6 \nL 285.600034 314.6 \nL 282.891324 314.6 \nz\n\" style=\"fill:#1f77b4;fill-opacity:0.75;stroke:#000000;stroke-linejoin:miter;stroke-width:0.294163;\"/>\n   </g>\n   <g id=\"patch_84\">\n    <path clip-path=\"url(#p42478be875)\" d=\"M 285.600034 314.6 \nL 288.308744 314.6 \nL 288.308744 314.016228 \nL 285.600034 314.016228 \nz\n\" style=\"fill:#1f77b4;fill-opacity:0.75;stroke:#000000;stroke-linejoin:miter;stroke-width:0.294163;\"/>\n   </g>\n   <g id=\"patch_85\">\n    <path clip-path=\"url(#p42478be875)\" d=\"M 288.308744 314.6 \nL 291.017455 314.6 \nL 291.017455 314.308114 \nL 288.308744 314.308114 \nz\n\" style=\"fill:#1f77b4;fill-opacity:0.75;stroke:#000000;stroke-linejoin:miter;stroke-width:0.294163;\"/>\n   </g>\n   <g id=\"patch_86\">\n    <path clip-path=\"url(#p42478be875)\" d=\"M 291.017455 314.6 \nL 293.726165 314.6 \nL 293.726165 314.6 \nL 291.017455 314.6 \nz\n\" style=\"fill:#1f77b4;fill-opacity:0.75;stroke:#000000;stroke-linejoin:miter;stroke-width:0.294163;\"/>\n   </g>\n   <g id=\"patch_87\">\n    <path clip-path=\"url(#p42478be875)\" d=\"M 293.726165 314.6 \nL 296.434875 314.6 \nL 296.434875 314.6 \nL 293.726165 314.6 \nz\n\" style=\"fill:#1f77b4;fill-opacity:0.75;stroke:#000000;stroke-linejoin:miter;stroke-width:0.294163;\"/>\n   </g>\n   <g id=\"patch_88\">\n    <path clip-path=\"url(#p42478be875)\" d=\"M 296.434875 314.6 \nL 299.143586 314.6 \nL 299.143586 314.6 \nL 296.434875 314.6 \nz\n\" style=\"fill:#1f77b4;fill-opacity:0.75;stroke:#000000;stroke-linejoin:miter;stroke-width:0.294163;\"/>\n   </g>\n   <g id=\"patch_89\">\n    <path clip-path=\"url(#p42478be875)\" d=\"M 299.143586 314.6 \nL 301.852296 314.6 \nL 301.852296 314.6 \nL 299.143586 314.6 \nz\n\" style=\"fill:#1f77b4;fill-opacity:0.75;stroke:#000000;stroke-linejoin:miter;stroke-width:0.294163;\"/>\n   </g>\n   <g id=\"patch_90\">\n    <path clip-path=\"url(#p42478be875)\" d=\"M 301.852296 314.6 \nL 304.561006 314.6 \nL 304.561006 314.6 \nL 301.852296 314.6 \nz\n\" style=\"fill:#1f77b4;fill-opacity:0.75;stroke:#000000;stroke-linejoin:miter;stroke-width:0.294163;\"/>\n   </g>\n   <g id=\"patch_91\">\n    <path clip-path=\"url(#p42478be875)\" d=\"M 304.561006 314.6 \nL 307.269716 314.6 \nL 307.269716 314.016228 \nL 304.561006 314.016228 \nz\n\" style=\"fill:#1f77b4;fill-opacity:0.75;stroke:#000000;stroke-linejoin:miter;stroke-width:0.294163;\"/>\n   </g>\n   <g id=\"patch_92\">\n    <path clip-path=\"url(#p42478be875)\" d=\"M 307.269716 314.6 \nL 309.978427 314.6 \nL 309.978427 314.308114 \nL 307.269716 314.308114 \nz\n\" style=\"fill:#1f77b4;fill-opacity:0.75;stroke:#000000;stroke-linejoin:miter;stroke-width:0.294163;\"/>\n   </g>\n   <g id=\"patch_93\">\n    <path clip-path=\"url(#p42478be875)\" d=\"M 309.978427 314.6 \nL 312.687137 314.6 \nL 312.687137 313.724341 \nL 309.978427 313.724341 \nz\n\" style=\"fill:#1f77b4;fill-opacity:0.75;stroke:#000000;stroke-linejoin:miter;stroke-width:0.294163;\"/>\n   </g>\n   <g id=\"patch_94\">\n    <path clip-path=\"url(#p42478be875)\" d=\"M 312.687137 314.6 \nL 315.395847 314.6 \nL 315.395847 314.6 \nL 312.687137 314.6 \nz\n\" style=\"fill:#1f77b4;fill-opacity:0.75;stroke:#000000;stroke-linejoin:miter;stroke-width:0.294163;\"/>\n   </g>\n   <g id=\"patch_95\">\n    <path clip-path=\"url(#p42478be875)\" d=\"M 315.395847 314.6 \nL 318.104558 314.6 \nL 318.104558 314.6 \nL 315.395847 314.6 \nz\n\" style=\"fill:#1f77b4;fill-opacity:0.75;stroke:#000000;stroke-linejoin:miter;stroke-width:0.294163;\"/>\n   </g>\n   <g id=\"patch_96\">\n    <path clip-path=\"url(#p42478be875)\" d=\"M 318.104558 314.6 \nL 320.813268 314.6 \nL 320.813268 314.6 \nL 318.104558 314.6 \nz\n\" style=\"fill:#1f77b4;fill-opacity:0.75;stroke:#000000;stroke-linejoin:miter;stroke-width:0.294163;\"/>\n   </g>\n   <g id=\"patch_97\">\n    <path clip-path=\"url(#p42478be875)\" d=\"M 320.813268 314.6 \nL 323.521978 314.6 \nL 323.521978 314.308114 \nL 320.813268 314.308114 \nz\n\" style=\"fill:#1f77b4;fill-opacity:0.75;stroke:#000000;stroke-linejoin:miter;stroke-width:0.294163;\"/>\n   </g>\n   <g id=\"matplotlib.axis_1\">\n    <g id=\"xtick_1\">\n     <g id=\"line2d_1\">\n      <defs>\n       <path d=\"M 0 0 \nL 0 3.5 \n\" id=\"m4b61228054\" style=\"stroke:#000000;stroke-width:0.8;\"/>\n      </defs>\n      <g>\n       <use style=\"stroke:#000000;stroke-width:0.8;\" x=\"58.430308\" xlink:href=\"#m4b61228054\" y=\"314.6\"/>\n      </g>\n     </g>\n     <g id=\"text_1\">\n      <!-- 0 -->\n      <g transform=\"translate(55.249058 329.198437)scale(0.1 -0.1)\">\n       <defs>\n        <path d=\"M 31.78125 66.40625 \nQ 24.171875 66.40625 20.328125 58.90625 \nQ 16.5 51.421875 16.5 36.375 \nQ 16.5 21.390625 20.328125 13.890625 \nQ 24.171875 6.390625 31.78125 6.390625 \nQ 39.453125 6.390625 43.28125 13.890625 \nQ 47.125 21.390625 47.125 36.375 \nQ 47.125 51.421875 43.28125 58.90625 \nQ 39.453125 66.40625 31.78125 66.40625 \nz\nM 31.78125 74.21875 \nQ 44.046875 74.21875 50.515625 64.515625 \nQ 56.984375 54.828125 56.984375 36.375 \nQ 56.984375 17.96875 50.515625 8.265625 \nQ 44.046875 -1.421875 31.78125 -1.421875 \nQ 19.53125 -1.421875 13.0625 8.265625 \nQ 6.59375 17.96875 6.59375 36.375 \nQ 6.59375 54.828125 13.0625 64.515625 \nQ 19.53125 74.21875 31.78125 74.21875 \nz\n\" id=\"DejaVuSans-48\"/>\n       </defs>\n       <use xlink:href=\"#DejaVuSans-48\"/>\n      </g>\n     </g>\n    </g>\n    <g id=\"xtick_2\">\n     <g id=\"line2d_2\">\n      <g>\n       <use style=\"stroke:#000000;stroke-width:0.8;\" x=\"113.888816\" xlink:href=\"#m4b61228054\" y=\"314.6\"/>\n      </g>\n     </g>\n     <g id=\"text_2\">\n      <!-- 50 -->\n      <g transform=\"translate(107.526316 329.198437)scale(0.1 -0.1)\">\n       <defs>\n        <path d=\"M 10.796875 72.90625 \nL 49.515625 72.90625 \nL 49.515625 64.59375 \nL 19.828125 64.59375 \nL 19.828125 46.734375 \nQ 21.96875 47.46875 24.109375 47.828125 \nQ 26.265625 48.1875 28.421875 48.1875 \nQ 40.625 48.1875 47.75 41.5 \nQ 54.890625 34.8125 54.890625 23.390625 \nQ 54.890625 11.625 47.5625 5.09375 \nQ 40.234375 -1.421875 26.90625 -1.421875 \nQ 22.3125 -1.421875 17.546875 -0.640625 \nQ 12.796875 0.140625 7.71875 1.703125 \nL 7.71875 11.625 \nQ 12.109375 9.234375 16.796875 8.0625 \nQ 21.484375 6.890625 26.703125 6.890625 \nQ 35.15625 6.890625 40.078125 11.328125 \nQ 45.015625 15.765625 45.015625 23.390625 \nQ 45.015625 31 40.078125 35.4375 \nQ 35.15625 39.890625 26.703125 39.890625 \nQ 22.75 39.890625 18.8125 39.015625 \nQ 14.890625 38.140625 10.796875 36.28125 \nz\n\" id=\"DejaVuSans-53\"/>\n       </defs>\n       <use xlink:href=\"#DejaVuSans-53\"/>\n       <use x=\"63.623047\" xlink:href=\"#DejaVuSans-48\"/>\n      </g>\n     </g>\n    </g>\n    <g id=\"xtick_3\">\n     <g id=\"line2d_3\">\n      <g>\n       <use style=\"stroke:#000000;stroke-width:0.8;\" x=\"169.347325\" xlink:href=\"#m4b61228054\" y=\"314.6\"/>\n      </g>\n     </g>\n     <g id=\"text_3\">\n      <!-- 100 -->\n      <g transform=\"translate(159.803575 329.198437)scale(0.1 -0.1)\">\n       <defs>\n        <path d=\"M 12.40625 8.296875 \nL 28.515625 8.296875 \nL 28.515625 63.921875 \nL 10.984375 60.40625 \nL 10.984375 69.390625 \nL 28.421875 72.90625 \nL 38.28125 72.90625 \nL 38.28125 8.296875 \nL 54.390625 8.296875 \nL 54.390625 0 \nL 12.40625 0 \nz\n\" id=\"DejaVuSans-49\"/>\n       </defs>\n       <use xlink:href=\"#DejaVuSans-49\"/>\n       <use x=\"63.623047\" xlink:href=\"#DejaVuSans-48\"/>\n       <use x=\"127.246094\" xlink:href=\"#DejaVuSans-48\"/>\n      </g>\n     </g>\n    </g>\n    <g id=\"xtick_4\">\n     <g id=\"line2d_4\">\n      <g>\n       <use style=\"stroke:#000000;stroke-width:0.8;\" x=\"224.805833\" xlink:href=\"#m4b61228054\" y=\"314.6\"/>\n      </g>\n     </g>\n     <g id=\"text_4\">\n      <!-- 150 -->\n      <g transform=\"translate(215.262083 329.198437)scale(0.1 -0.1)\">\n       <use xlink:href=\"#DejaVuSans-49\"/>\n       <use x=\"63.623047\" xlink:href=\"#DejaVuSans-53\"/>\n       <use x=\"127.246094\" xlink:href=\"#DejaVuSans-48\"/>\n      </g>\n     </g>\n    </g>\n    <g id=\"xtick_5\">\n     <g id=\"line2d_5\">\n      <g>\n       <use style=\"stroke:#000000;stroke-width:0.8;\" x=\"280.264342\" xlink:href=\"#m4b61228054\" y=\"314.6\"/>\n      </g>\n     </g>\n     <g id=\"text_5\">\n      <!-- 200 -->\n      <g transform=\"translate(270.720592 329.198437)scale(0.1 -0.1)\">\n       <defs>\n        <path d=\"M 19.1875 8.296875 \nL 53.609375 8.296875 \nL 53.609375 0 \nL 7.328125 0 \nL 7.328125 8.296875 \nQ 12.9375 14.109375 22.625 23.890625 \nQ 32.328125 33.6875 34.8125 36.53125 \nQ 39.546875 41.84375 41.421875 45.53125 \nQ 43.3125 49.21875 43.3125 52.78125 \nQ 43.3125 58.59375 39.234375 62.25 \nQ 35.15625 65.921875 28.609375 65.921875 \nQ 23.96875 65.921875 18.8125 64.3125 \nQ 13.671875 62.703125 7.8125 59.421875 \nL 7.8125 69.390625 \nQ 13.765625 71.78125 18.9375 73 \nQ 24.125 74.21875 28.421875 74.21875 \nQ 39.75 74.21875 46.484375 68.546875 \nQ 53.21875 62.890625 53.21875 53.421875 \nQ 53.21875 48.921875 51.53125 44.890625 \nQ 49.859375 40.875 45.40625 35.40625 \nQ 44.1875 33.984375 37.640625 27.21875 \nQ 31.109375 20.453125 19.1875 8.296875 \nz\n\" id=\"DejaVuSans-50\"/>\n       </defs>\n       <use xlink:href=\"#DejaVuSans-50\"/>\n       <use x=\"63.623047\" xlink:href=\"#DejaVuSans-48\"/>\n       <use x=\"127.246094\" xlink:href=\"#DejaVuSans-48\"/>\n      </g>\n     </g>\n    </g>\n    <g id=\"xtick_6\">\n     <g id=\"line2d_6\">\n      <g>\n       <use style=\"stroke:#000000;stroke-width:0.8;\" x=\"335.72285\" xlink:href=\"#m4b61228054\" y=\"314.6\"/>\n      </g>\n     </g>\n     <g id=\"text_6\">\n      <!-- 250 -->\n      <g transform=\"translate(326.1791 329.198437)scale(0.1 -0.1)\">\n       <use xlink:href=\"#DejaVuSans-50\"/>\n       <use x=\"63.623047\" xlink:href=\"#DejaVuSans-53\"/>\n       <use x=\"127.246094\" xlink:href=\"#DejaVuSans-48\"/>\n      </g>\n     </g>\n    </g>\n    <g id=\"text_7\">\n     <!-- TITLE -->\n     <g transform=\"translate(181.330114 342.876562)scale(0.1 -0.1)\">\n      <defs>\n       <path d=\"M -0.296875 72.90625 \nL 61.375 72.90625 \nL 61.375 64.59375 \nL 35.5 64.59375 \nL 35.5 0 \nL 25.59375 0 \nL 25.59375 64.59375 \nL -0.296875 64.59375 \nz\n\" id=\"DejaVuSans-84\"/>\n       <path d=\"M 9.8125 72.90625 \nL 19.671875 72.90625 \nL 19.671875 0 \nL 9.8125 0 \nz\n\" id=\"DejaVuSans-73\"/>\n       <path d=\"M 9.8125 72.90625 \nL 19.671875 72.90625 \nL 19.671875 8.296875 \nL 55.171875 8.296875 \nL 55.171875 0 \nL 9.8125 0 \nz\n\" id=\"DejaVuSans-76\"/>\n       <path d=\"M 9.8125 72.90625 \nL 55.90625 72.90625 \nL 55.90625 64.59375 \nL 19.671875 64.59375 \nL 19.671875 43.015625 \nL 54.390625 43.015625 \nL 54.390625 34.71875 \nL 19.671875 34.71875 \nL 19.671875 8.296875 \nL 56.78125 8.296875 \nL 56.78125 0 \nL 9.8125 0 \nz\n\" id=\"DejaVuSans-69\"/>\n      </defs>\n      <use xlink:href=\"#DejaVuSans-84\"/>\n      <use x=\"61.083984\" xlink:href=\"#DejaVuSans-73\"/>\n      <use x=\"90.576172\" xlink:href=\"#DejaVuSans-84\"/>\n      <use x=\"151.660156\" xlink:href=\"#DejaVuSans-76\"/>\n      <use x=\"207.373047\" xlink:href=\"#DejaVuSans-69\"/>\n     </g>\n    </g>\n   </g>\n   <g id=\"matplotlib.axis_2\">\n    <g id=\"ytick_1\">\n     <g id=\"line2d_7\">\n      <defs>\n       <path d=\"M 0 0 \nL -3.5 0 \n\" id=\"m32315f0e0a\" style=\"stroke:#000000;stroke-width:0.8;\"/>\n      </defs>\n      <g>\n       <use style=\"stroke:#000000;stroke-width:0.8;\" x=\"53.328125\" xlink:href=\"#m32315f0e0a\" y=\"314.6\"/>\n      </g>\n     </g>\n     <g id=\"text_8\">\n      <!-- 0 -->\n      <g transform=\"translate(39.965625 318.399219)scale(0.1 -0.1)\">\n       <use xlink:href=\"#DejaVuSans-48\"/>\n      </g>\n     </g>\n    </g>\n    <g id=\"ytick_2\">\n     <g id=\"line2d_8\">\n      <g>\n       <use style=\"stroke:#000000;stroke-width:0.8;\" x=\"53.328125\" xlink:href=\"#m32315f0e0a\" y=\"256.222751\"/>\n      </g>\n     </g>\n     <g id=\"text_9\">\n      <!-- 200 -->\n      <g transform=\"translate(27.240625 260.02197)scale(0.1 -0.1)\">\n       <use xlink:href=\"#DejaVuSans-50\"/>\n       <use x=\"63.623047\" xlink:href=\"#DejaVuSans-48\"/>\n       <use x=\"127.246094\" xlink:href=\"#DejaVuSans-48\"/>\n      </g>\n     </g>\n    </g>\n    <g id=\"ytick_3\">\n     <g id=\"line2d_9\">\n      <g>\n       <use style=\"stroke:#000000;stroke-width:0.8;\" x=\"53.328125\" xlink:href=\"#m32315f0e0a\" y=\"197.845502\"/>\n      </g>\n     </g>\n     <g id=\"text_10\">\n      <!-- 400 -->\n      <g transform=\"translate(27.240625 201.64472)scale(0.1 -0.1)\">\n       <defs>\n        <path d=\"M 37.796875 64.3125 \nL 12.890625 25.390625 \nL 37.796875 25.390625 \nz\nM 35.203125 72.90625 \nL 47.609375 72.90625 \nL 47.609375 25.390625 \nL 58.015625 25.390625 \nL 58.015625 17.1875 \nL 47.609375 17.1875 \nL 47.609375 0 \nL 37.796875 0 \nL 37.796875 17.1875 \nL 4.890625 17.1875 \nL 4.890625 26.703125 \nz\n\" id=\"DejaVuSans-52\"/>\n       </defs>\n       <use xlink:href=\"#DejaVuSans-52\"/>\n       <use x=\"63.623047\" xlink:href=\"#DejaVuSans-48\"/>\n       <use x=\"127.246094\" xlink:href=\"#DejaVuSans-48\"/>\n      </g>\n     </g>\n    </g>\n    <g id=\"ytick_4\">\n     <g id=\"line2d_10\">\n      <g>\n       <use style=\"stroke:#000000;stroke-width:0.8;\" x=\"53.328125\" xlink:href=\"#m32315f0e0a\" y=\"139.468252\"/>\n      </g>\n     </g>\n     <g id=\"text_11\">\n      <!-- 600 -->\n      <g transform=\"translate(27.240625 143.267471)scale(0.1 -0.1)\">\n       <defs>\n        <path d=\"M 33.015625 40.375 \nQ 26.375 40.375 22.484375 35.828125 \nQ 18.609375 31.296875 18.609375 23.390625 \nQ 18.609375 15.53125 22.484375 10.953125 \nQ 26.375 6.390625 33.015625 6.390625 \nQ 39.65625 6.390625 43.53125 10.953125 \nQ 47.40625 15.53125 47.40625 23.390625 \nQ 47.40625 31.296875 43.53125 35.828125 \nQ 39.65625 40.375 33.015625 40.375 \nz\nM 52.59375 71.296875 \nL 52.59375 62.3125 \nQ 48.875 64.0625 45.09375 64.984375 \nQ 41.3125 65.921875 37.59375 65.921875 \nQ 27.828125 65.921875 22.671875 59.328125 \nQ 17.53125 52.734375 16.796875 39.40625 \nQ 19.671875 43.65625 24.015625 45.921875 \nQ 28.375 48.1875 33.59375 48.1875 \nQ 44.578125 48.1875 50.953125 41.515625 \nQ 57.328125 34.859375 57.328125 23.390625 \nQ 57.328125 12.15625 50.6875 5.359375 \nQ 44.046875 -1.421875 33.015625 -1.421875 \nQ 20.359375 -1.421875 13.671875 8.265625 \nQ 6.984375 17.96875 6.984375 36.375 \nQ 6.984375 53.65625 15.1875 63.9375 \nQ 23.390625 74.21875 37.203125 74.21875 \nQ 40.921875 74.21875 44.703125 73.484375 \nQ 48.484375 72.75 52.59375 71.296875 \nz\n\" id=\"DejaVuSans-54\"/>\n       </defs>\n       <use xlink:href=\"#DejaVuSans-54\"/>\n       <use x=\"63.623047\" xlink:href=\"#DejaVuSans-48\"/>\n       <use x=\"127.246094\" xlink:href=\"#DejaVuSans-48\"/>\n      </g>\n     </g>\n    </g>\n    <g id=\"ytick_5\">\n     <g id=\"line2d_11\">\n      <g>\n       <use style=\"stroke:#000000;stroke-width:0.8;\" x=\"53.328125\" xlink:href=\"#m32315f0e0a\" y=\"81.091003\"/>\n      </g>\n     </g>\n     <g id=\"text_12\">\n      <!-- 800 -->\n      <g transform=\"translate(27.240625 84.890222)scale(0.1 -0.1)\">\n       <defs>\n        <path d=\"M 31.78125 34.625 \nQ 24.75 34.625 20.71875 30.859375 \nQ 16.703125 27.09375 16.703125 20.515625 \nQ 16.703125 13.921875 20.71875 10.15625 \nQ 24.75 6.390625 31.78125 6.390625 \nQ 38.8125 6.390625 42.859375 10.171875 \nQ 46.921875 13.96875 46.921875 20.515625 \nQ 46.921875 27.09375 42.890625 30.859375 \nQ 38.875 34.625 31.78125 34.625 \nz\nM 21.921875 38.8125 \nQ 15.578125 40.375 12.03125 44.71875 \nQ 8.5 49.078125 8.5 55.328125 \nQ 8.5 64.0625 14.71875 69.140625 \nQ 20.953125 74.21875 31.78125 74.21875 \nQ 42.671875 74.21875 48.875 69.140625 \nQ 55.078125 64.0625 55.078125 55.328125 \nQ 55.078125 49.078125 51.53125 44.71875 \nQ 48 40.375 41.703125 38.8125 \nQ 48.828125 37.15625 52.796875 32.3125 \nQ 56.78125 27.484375 56.78125 20.515625 \nQ 56.78125 9.90625 50.3125 4.234375 \nQ 43.84375 -1.421875 31.78125 -1.421875 \nQ 19.734375 -1.421875 13.25 4.234375 \nQ 6.78125 9.90625 6.78125 20.515625 \nQ 6.78125 27.484375 10.78125 32.3125 \nQ 14.796875 37.15625 21.921875 38.8125 \nz\nM 18.3125 54.390625 \nQ 18.3125 48.734375 21.84375 45.5625 \nQ 25.390625 42.390625 31.78125 42.390625 \nQ 38.140625 42.390625 41.71875 45.5625 \nQ 45.3125 48.734375 45.3125 54.390625 \nQ 45.3125 60.0625 41.71875 63.234375 \nQ 38.140625 66.40625 31.78125 66.40625 \nQ 25.390625 66.40625 21.84375 63.234375 \nQ 18.3125 60.0625 18.3125 54.390625 \nz\n\" id=\"DejaVuSans-56\"/>\n       </defs>\n       <use xlink:href=\"#DejaVuSans-56\"/>\n       <use x=\"63.623047\" xlink:href=\"#DejaVuSans-48\"/>\n       <use x=\"127.246094\" xlink:href=\"#DejaVuSans-48\"/>\n      </g>\n     </g>\n    </g>\n    <g id=\"ytick_6\">\n     <g id=\"line2d_12\">\n      <g>\n       <use style=\"stroke:#000000;stroke-width:0.8;\" x=\"53.328125\" xlink:href=\"#m32315f0e0a\" y=\"22.713754\"/>\n      </g>\n     </g>\n     <g id=\"text_13\">\n      <!-- 1000 -->\n      <g transform=\"translate(20.878125 26.512973)scale(0.1 -0.1)\">\n       <use xlink:href=\"#DejaVuSans-49\"/>\n       <use x=\"63.623047\" xlink:href=\"#DejaVuSans-48\"/>\n       <use x=\"127.246094\" xlink:href=\"#DejaVuSans-48\"/>\n       <use x=\"190.869141\" xlink:href=\"#DejaVuSans-48\"/>\n      </g>\n     </g>\n    </g>\n    <g id=\"text_14\">\n     <!-- Count -->\n     <g transform=\"translate(14.798438 175.748437)rotate(-90)scale(0.1 -0.1)\">\n      <defs>\n       <path d=\"M 64.40625 67.28125 \nL 64.40625 56.890625 \nQ 59.421875 61.53125 53.78125 63.8125 \nQ 48.140625 66.109375 41.796875 66.109375 \nQ 29.296875 66.109375 22.65625 58.46875 \nQ 16.015625 50.828125 16.015625 36.375 \nQ 16.015625 21.96875 22.65625 14.328125 \nQ 29.296875 6.6875 41.796875 6.6875 \nQ 48.140625 6.6875 53.78125 8.984375 \nQ 59.421875 11.28125 64.40625 15.921875 \nL 64.40625 5.609375 \nQ 59.234375 2.09375 53.4375 0.328125 \nQ 47.65625 -1.421875 41.21875 -1.421875 \nQ 24.65625 -1.421875 15.125 8.703125 \nQ 5.609375 18.84375 5.609375 36.375 \nQ 5.609375 53.953125 15.125 64.078125 \nQ 24.65625 74.21875 41.21875 74.21875 \nQ 47.75 74.21875 53.53125 72.484375 \nQ 59.328125 70.75 64.40625 67.28125 \nz\n\" id=\"DejaVuSans-67\"/>\n       <path d=\"M 30.609375 48.390625 \nQ 23.390625 48.390625 19.1875 42.75 \nQ 14.984375 37.109375 14.984375 27.296875 \nQ 14.984375 17.484375 19.15625 11.84375 \nQ 23.34375 6.203125 30.609375 6.203125 \nQ 37.796875 6.203125 41.984375 11.859375 \nQ 46.1875 17.53125 46.1875 27.296875 \nQ 46.1875 37.015625 41.984375 42.703125 \nQ 37.796875 48.390625 30.609375 48.390625 \nz\nM 30.609375 56 \nQ 42.328125 56 49.015625 48.375 \nQ 55.71875 40.765625 55.71875 27.296875 \nQ 55.71875 13.875 49.015625 6.21875 \nQ 42.328125 -1.421875 30.609375 -1.421875 \nQ 18.84375 -1.421875 12.171875 6.21875 \nQ 5.515625 13.875 5.515625 27.296875 \nQ 5.515625 40.765625 12.171875 48.375 \nQ 18.84375 56 30.609375 56 \nz\n\" id=\"DejaVuSans-111\"/>\n       <path d=\"M 8.5 21.578125 \nL 8.5 54.6875 \nL 17.484375 54.6875 \nL 17.484375 21.921875 \nQ 17.484375 14.15625 20.5 10.265625 \nQ 23.53125 6.390625 29.59375 6.390625 \nQ 36.859375 6.390625 41.078125 11.03125 \nQ 45.3125 15.671875 45.3125 23.6875 \nL 45.3125 54.6875 \nL 54.296875 54.6875 \nL 54.296875 0 \nL 45.3125 0 \nL 45.3125 8.40625 \nQ 42.046875 3.421875 37.71875 1 \nQ 33.40625 -1.421875 27.6875 -1.421875 \nQ 18.265625 -1.421875 13.375 4.4375 \nQ 8.5 10.296875 8.5 21.578125 \nz\nM 31.109375 56 \nz\n\" id=\"DejaVuSans-117\"/>\n       <path d=\"M 54.890625 33.015625 \nL 54.890625 0 \nL 45.90625 0 \nL 45.90625 32.71875 \nQ 45.90625 40.484375 42.875 44.328125 \nQ 39.84375 48.1875 33.796875 48.1875 \nQ 26.515625 48.1875 22.3125 43.546875 \nQ 18.109375 38.921875 18.109375 30.90625 \nL 18.109375 0 \nL 9.078125 0 \nL 9.078125 54.6875 \nL 18.109375 54.6875 \nL 18.109375 46.1875 \nQ 21.34375 51.125 25.703125 53.5625 \nQ 30.078125 56 35.796875 56 \nQ 45.21875 56 50.046875 50.171875 \nQ 54.890625 44.34375 54.890625 33.015625 \nz\n\" id=\"DejaVuSans-110\"/>\n       <path d=\"M 18.3125 70.21875 \nL 18.3125 54.6875 \nL 36.8125 54.6875 \nL 36.8125 47.703125 \nL 18.3125 47.703125 \nL 18.3125 18.015625 \nQ 18.3125 11.328125 20.140625 9.421875 \nQ 21.96875 7.515625 27.59375 7.515625 \nL 36.8125 7.515625 \nL 36.8125 0 \nL 27.59375 0 \nQ 17.1875 0 13.234375 3.875 \nQ 9.28125 7.765625 9.28125 18.015625 \nL 9.28125 47.703125 \nL 2.6875 47.703125 \nL 2.6875 54.6875 \nL 9.28125 54.6875 \nL 9.28125 70.21875 \nz\n\" id=\"DejaVuSans-116\"/>\n      </defs>\n      <use xlink:href=\"#DejaVuSans-67\"/>\n      <use x=\"69.824219\" xlink:href=\"#DejaVuSans-111\"/>\n      <use x=\"131.005859\" xlink:href=\"#DejaVuSans-117\"/>\n      <use x=\"194.384766\" xlink:href=\"#DejaVuSans-110\"/>\n      <use x=\"257.763672\" xlink:href=\"#DejaVuSans-116\"/>\n     </g>\n    </g>\n   </g>\n   <g id=\"patch_98\">\n    <path d=\"M 53.328125 314.6 \nL 53.328125 7.2 \n\" style=\"fill:none;stroke:#000000;stroke-linecap:square;stroke-linejoin:miter;stroke-width:0.8;\"/>\n   </g>\n   <g id=\"patch_99\">\n    <path d=\"M 53.328125 314.6 \nL 336.388352 314.6 \n\" style=\"fill:none;stroke:#000000;stroke-linecap:square;stroke-linejoin:miter;stroke-width:0.8;\"/>\n   </g>\n  </g>\n </g>\n <defs>\n  <clipPath id=\"p42478be875\">\n   <rect height=\"307.4\" width=\"283.060227\" x=\"53.328125\" y=\"7.2\"/>\n  </clipPath>\n </defs>\n</svg>\n",
      "image/png": "[encoded data removed]"
     },
     "metadata": {
      "needs_background": "light"
     }
    }
   ],
   "source": [
    "train_title_len = train['TITLE'].apply(len)\n",
    "sb.displot(train_title_len)"
   ]
  },
  {
   "cell_type": "code",
   "execution_count": 26,
   "metadata": {},
   "outputs": [
    {
     "output_type": "execute_result",
     "data": {
      "text/plain": [
       "<seaborn.axisgrid.FacetGrid at 0x7fa0c3630370>"
      ]
     },
     "metadata": {},
     "execution_count": 26
    },
    {
     "output_type": "display_data",
     "data": {
      "text/plain": "<Figure size 360x360 with 1 Axes>",
      "image/svg+xml": "<?xml version=\"1.0\" encoding=\"utf-8\" standalone=\"no\"?>\n<!DOCTYPE svg PUBLIC \"-//W3C//DTD SVG 1.1//EN\"\n  \"http://www.w3.org/Graphics/SVG/1.1/DTD/svg11.dtd\">\n<!-- Created with matplotlib (https://matplotlib.org/) -->\n<svg height=\"352.15625pt\" version=\"1.1\" viewBox=\"0 0 352.440625 352.15625\" width=\"352.440625pt\" xmlns=\"http://www.w3.org/2000/svg\" xmlns:xlink=\"http://www.w3.org/1999/xlink\">\n <metadata>\n  <rdf:RDF xmlns:cc=\"http://creativecommons.org/ns#\" xmlns:dc=\"http://purl.org/dc/elements/1.1/\" xmlns:rdf=\"http://www.w3.org/1999/02/22-rdf-syntax-ns#\">\n   <cc:Work>\n    <dc:type rdf:resource=\"http://purl.org/dc/dcmitype/StillImage\"/>\n    <dc:date>2021-05-25T11:21:28.543279</dc:date>\n    <dc:format>image/svg+xml</dc:format>\n    <dc:creator>\n     <cc:Agent>\n      <dc:title>Matplotlib v3.3.2, https://matplotlib.org/</dc:title>\n     </cc:Agent>\n    </dc:creator>\n   </cc:Work>\n  </rdf:RDF>\n </metadata>\n <defs>\n  <style type=\"text/css\">*{stroke-linecap:butt;stroke-linejoin:round;}</style>\n </defs>\n <g id=\"figure_1\">\n  <g id=\"patch_1\">\n   <path d=\"M 0 352.15625 \nL 352.440625 352.15625 \nL 352.440625 0 \nL 0 0 \nz\n\" style=\"fill:none;\"/>\n  </g>\n  <g id=\"axes_1\">\n   <g id=\"patch_2\">\n    <path d=\"M 46.965625 314.6 \nL 345.240625 314.6 \nL 345.240625 7.2 \nL 46.965625 7.2 \nz\n\" style=\"fill:#ffffff;\"/>\n   </g>\n   <g id=\"patch_3\">\n    <path clip-path=\"url(#pca7ada0ff3)\" d=\"M 60.52358 314.6 \nL 64.632051 314.6 \nL 64.632051 313.93083 \nL 60.52358 313.93083 \nz\n\" style=\"fill:#1f77b4;fill-opacity:0.75;stroke:#000000;stroke-linejoin:miter;stroke-width:0.423416;\"/>\n   </g>\n   <g id=\"patch_4\">\n    <path clip-path=\"url(#pca7ada0ff3)\" d=\"M 64.632051 314.6 \nL 68.740522 314.6 \nL 68.740522 310.58498 \nL 64.632051 310.58498 \nz\n\" style=\"fill:#1f77b4;fill-opacity:0.75;stroke:#000000;stroke-linejoin:miter;stroke-width:0.423416;\"/>\n   </g>\n   <g id=\"patch_5\">\n    <path clip-path=\"url(#pca7ada0ff3)\" d=\"M 68.740522 314.6 \nL 72.848993 314.6 \nL 72.848993 289.171537 \nL 68.740522 289.171537 \nz\n\" style=\"fill:#1f77b4;fill-opacity:0.75;stroke:#000000;stroke-linejoin:miter;stroke-width:0.423416;\"/>\n   </g>\n   <g id=\"patch_6\">\n    <path clip-path=\"url(#pca7ada0ff3)\" d=\"M 72.848993 314.6 \nL 76.957464 314.6 \nL 76.957464 282.145252 \nL 72.848993 282.145252 \nz\n\" style=\"fill:#1f77b4;fill-opacity:0.75;stroke:#000000;stroke-linejoin:miter;stroke-width:0.423416;\"/>\n   </g>\n   <g id=\"patch_7\">\n    <path clip-path=\"url(#pca7ada0ff3)\" d=\"M 76.957464 314.6 \nL 81.065935 314.6 \nL 81.065935 270.769361 \nL 76.957464 270.769361 \nz\n\" style=\"fill:#1f77b4;fill-opacity:0.75;stroke:#000000;stroke-linejoin:miter;stroke-width:0.423416;\"/>\n   </g>\n   <g id=\"patch_8\">\n    <path clip-path=\"url(#pca7ada0ff3)\" d=\"M 81.065935 314.6 \nL 85.174406 314.6 \nL 85.174406 262.07015 \nL 81.065935 262.07015 \nz\n\" style=\"fill:#1f77b4;fill-opacity:0.75;stroke:#000000;stroke-linejoin:miter;stroke-width:0.423416;\"/>\n   </g>\n   <g id=\"patch_9\">\n    <path clip-path=\"url(#pca7ada0ff3)\" d=\"M 85.174406 314.6 \nL 89.282877 314.6 \nL 89.282877 233.295837 \nL 85.174406 233.295837 \nz\n\" style=\"fill:#1f77b4;fill-opacity:0.75;stroke:#000000;stroke-linejoin:miter;stroke-width:0.423416;\"/>\n   </g>\n   <g id=\"patch_10\">\n    <path clip-path=\"url(#pca7ada0ff3)\" d=\"M 89.282877 314.6 \nL 93.391348 314.6 \nL 93.391348 235.972517 \nL 89.282877 235.972517 \nz\n\" style=\"fill:#1f77b4;fill-opacity:0.75;stroke:#000000;stroke-linejoin:miter;stroke-width:0.423416;\"/>\n   </g>\n   <g id=\"patch_11\">\n    <path clip-path=\"url(#pca7ada0ff3)\" d=\"M 93.391348 314.6 \nL 97.499819 314.6 \nL 97.499819 217.904925 \nL 93.391348 217.904925 \nz\n\" style=\"fill:#1f77b4;fill-opacity:0.75;stroke:#000000;stroke-linejoin:miter;stroke-width:0.423416;\"/>\n   </g>\n   <g id=\"patch_12\">\n    <path clip-path=\"url(#pca7ada0ff3)\" d=\"M 97.499819 314.6 \nL 101.60829 314.6 \nL 101.60829 202.848599 \nL 97.499819 202.848599 \nz\n\" style=\"fill:#1f77b4;fill-opacity:0.75;stroke:#000000;stroke-linejoin:miter;stroke-width:0.423416;\"/>\n   </g>\n   <g id=\"patch_13\">\n    <path clip-path=\"url(#pca7ada0ff3)\" d=\"M 101.60829 314.6 \nL 105.716761 314.6 \nL 105.716761 186.788517 \nL 101.60829 186.788517 \nz\n\" style=\"fill:#1f77b4;fill-opacity:0.75;stroke:#000000;stroke-linejoin:miter;stroke-width:0.423416;\"/>\n   </g>\n   <g id=\"patch_14\">\n    <path clip-path=\"url(#pca7ada0ff3)\" d=\"M 105.716761 314.6 \nL 109.825232 314.6 \nL 109.825232 168.38634 \nL 105.716761 168.38634 \nz\n\" style=\"fill:#1f77b4;fill-opacity:0.75;stroke:#000000;stroke-linejoin:miter;stroke-width:0.423416;\"/>\n   </g>\n   <g id=\"patch_15\">\n    <path clip-path=\"url(#pca7ada0ff3)\" d=\"M 109.825232 314.6 \nL 113.933704 314.6 \nL 113.933704 158.348789 \nL 109.825232 158.348789 \nz\n\" style=\"fill:#1f77b4;fill-opacity:0.75;stroke:#000000;stroke-linejoin:miter;stroke-width:0.423416;\"/>\n   </g>\n   <g id=\"patch_16\">\n    <path clip-path=\"url(#pca7ada0ff3)\" d=\"M 113.933704 314.6 \nL 118.042175 314.6 \nL 118.042175 149.649578 \nL 113.933704 149.649578 \nz\n\" style=\"fill:#1f77b4;fill-opacity:0.75;stroke:#000000;stroke-linejoin:miter;stroke-width:0.423416;\"/>\n   </g>\n   <g id=\"patch_17\">\n    <path clip-path=\"url(#pca7ada0ff3)\" d=\"M 118.042175 314.6 \nL 122.150646 314.6 \nL 122.150646 119.20234 \nL 118.042175 119.20234 \nz\n\" style=\"fill:#1f77b4;fill-opacity:0.75;stroke:#000000;stroke-linejoin:miter;stroke-width:0.423416;\"/>\n   </g>\n   <g id=\"patch_18\">\n    <path clip-path=\"url(#pca7ada0ff3)\" d=\"M 122.150646 314.6 \nL 126.259117 314.6 \nL 126.259117 92.435537 \nL 122.150646 92.435537 \nz\n\" style=\"fill:#1f77b4;fill-opacity:0.75;stroke:#000000;stroke-linejoin:miter;stroke-width:0.423416;\"/>\n   </g>\n   <g id=\"patch_19\">\n    <path clip-path=\"url(#pca7ada0ff3)\" d=\"M 126.259117 314.6 \nL 130.367588 314.6 \nL 130.367588 86.747592 \nL 126.259117 86.747592 \nz\n\" style=\"fill:#1f77b4;fill-opacity:0.75;stroke:#000000;stroke-linejoin:miter;stroke-width:0.423416;\"/>\n   </g>\n   <g id=\"patch_20\">\n    <path clip-path=\"url(#pca7ada0ff3)\" d=\"M 130.367588 314.6 \nL 134.476059 314.6 \nL 134.476059 61.653714 \nL 130.367588 61.653714 \nz\n\" style=\"fill:#1f77b4;fill-opacity:0.75;stroke:#000000;stroke-linejoin:miter;stroke-width:0.423416;\"/>\n   </g>\n   <g id=\"patch_21\">\n    <path clip-path=\"url(#pca7ada0ff3)\" d=\"M 134.476059 314.6 \nL 138.58453 314.6 \nL 138.58453 65.33415 \nL 134.476059 65.33415 \nz\n\" style=\"fill:#1f77b4;fill-opacity:0.75;stroke:#000000;stroke-linejoin:miter;stroke-width:0.423416;\"/>\n   </g>\n   <g id=\"patch_22\">\n    <path clip-path=\"url(#pca7ada0ff3)\" d=\"M 138.58453 314.6 \nL 142.693001 314.6 \nL 142.693001 59.311619 \nL 138.58453 59.311619 \nz\n\" style=\"fill:#1f77b4;fill-opacity:0.75;stroke:#000000;stroke-linejoin:miter;stroke-width:0.423416;\"/>\n   </g>\n   <g id=\"patch_23\">\n    <path clip-path=\"url(#pca7ada0ff3)\" d=\"M 142.693001 314.6 \nL 146.801472 314.6 \nL 146.801472 39.571102 \nL 142.693001 39.571102 \nz\n\" style=\"fill:#1f77b4;fill-opacity:0.75;stroke:#000000;stroke-linejoin:miter;stroke-width:0.423416;\"/>\n   </g>\n   <g id=\"patch_24\">\n    <path clip-path=\"url(#pca7ada0ff3)\" d=\"M 146.801472 314.6 \nL 150.909943 314.6 \nL 150.909943 48.270313 \nL 146.801472 48.270313 \nz\n\" style=\"fill:#1f77b4;fill-opacity:0.75;stroke:#000000;stroke-linejoin:miter;stroke-width:0.423416;\"/>\n   </g>\n   <g id=\"patch_25\">\n    <path clip-path=\"url(#pca7ada0ff3)\" d=\"M 150.909943 314.6 \nL 155.018414 314.6 \nL 155.018414 27.860626 \nL 150.909943 27.860626 \nz\n\" style=\"fill:#1f77b4;fill-opacity:0.75;stroke:#000000;stroke-linejoin:miter;stroke-width:0.423416;\"/>\n   </g>\n   <g id=\"patch_26\">\n    <path clip-path=\"url(#pca7ada0ff3)\" d=\"M 155.018414 314.6 \nL 159.126885 314.6 \nL 159.126885 21.838095 \nL 155.018414 21.838095 \nz\n\" style=\"fill:#1f77b4;fill-opacity:0.75;stroke:#000000;stroke-linejoin:miter;stroke-width:0.423416;\"/>\n   </g>\n   <g id=\"patch_27\">\n    <path clip-path=\"url(#pca7ada0ff3)\" d=\"M 159.126885 314.6 \nL 163.235356 314.6 \nL 163.235356 28.864381 \nL 159.126885 28.864381 \nz\n\" style=\"fill:#1f77b4;fill-opacity:0.75;stroke:#000000;stroke-linejoin:miter;stroke-width:0.423416;\"/>\n   </g>\n   <g id=\"patch_28\">\n    <path clip-path=\"url(#pca7ada0ff3)\" d=\"M 163.235356 314.6 \nL 167.343827 314.6 \nL 167.343827 54.627429 \nL 163.235356 54.627429 \nz\n\" style=\"fill:#1f77b4;fill-opacity:0.75;stroke:#000000;stroke-linejoin:miter;stroke-width:0.423416;\"/>\n   </g>\n   <g id=\"patch_29\">\n    <path clip-path=\"url(#pca7ada0ff3)\" d=\"M 167.343827 314.6 \nL 171.452299 314.6 \nL 171.452299 56.969524 \nL 167.343827 56.969524 \nz\n\" style=\"fill:#1f77b4;fill-opacity:0.75;stroke:#000000;stroke-linejoin:miter;stroke-width:0.423416;\"/>\n   </g>\n   <g id=\"patch_30\">\n    <path clip-path=\"url(#pca7ada0ff3)\" d=\"M 171.452299 314.6 \nL 175.56077 314.6 \nL 175.56077 81.394231 \nL 171.452299 81.394231 \nz\n\" style=\"fill:#1f77b4;fill-opacity:0.75;stroke:#000000;stroke-linejoin:miter;stroke-width:0.423416;\"/>\n   </g>\n   <g id=\"patch_31\">\n    <path clip-path=\"url(#pca7ada0ff3)\" d=\"M 175.56077 314.6 \nL 179.669241 314.6 \nL 179.669241 97.119728 \nL 175.56077 97.119728 \nz\n\" style=\"fill:#1f77b4;fill-opacity:0.75;stroke:#000000;stroke-linejoin:miter;stroke-width:0.423416;\"/>\n   </g>\n   <g id=\"patch_32\">\n    <path clip-path=\"url(#pca7ada0ff3)\" d=\"M 179.669241 314.6 \nL 183.777712 314.6 \nL 183.777712 116.52566 \nL 179.669241 116.52566 \nz\n\" style=\"fill:#1f77b4;fill-opacity:0.75;stroke:#000000;stroke-linejoin:miter;stroke-width:0.423416;\"/>\n   </g>\n   <g id=\"patch_33\">\n    <path clip-path=\"url(#pca7ada0ff3)\" d=\"M 183.777712 314.6 \nL 187.886183 314.6 \nL 187.886183 103.476844 \nL 183.777712 103.476844 \nz\n\" style=\"fill:#1f77b4;fill-opacity:0.75;stroke:#000000;stroke-linejoin:miter;stroke-width:0.423416;\"/>\n   </g>\n   <g id=\"patch_34\">\n    <path clip-path=\"url(#pca7ada0ff3)\" d=\"M 187.886183 314.6 \nL 191.994654 314.6 \nL 191.994654 106.822694 \nL 187.886183 106.822694 \nz\n\" style=\"fill:#1f77b4;fill-opacity:0.75;stroke:#000000;stroke-linejoin:miter;stroke-width:0.423416;\"/>\n   </g>\n   <g id=\"patch_35\">\n    <path clip-path=\"url(#pca7ada0ff3)\" d=\"M 191.994654 314.6 \nL 196.103125 314.6 \nL 196.103125 145.634558 \nL 191.994654 145.634558 \nz\n\" style=\"fill:#1f77b4;fill-opacity:0.75;stroke:#000000;stroke-linejoin:miter;stroke-width:0.423416;\"/>\n   </g>\n   <g id=\"patch_36\">\n    <path clip-path=\"url(#pca7ada0ff3)\" d=\"M 196.103125 314.6 \nL 200.211596 314.6 \nL 200.211596 157.345034 \nL 196.103125 157.345034 \nz\n\" style=\"fill:#1f77b4;fill-opacity:0.75;stroke:#000000;stroke-linejoin:miter;stroke-width:0.423416;\"/>\n   </g>\n   <g id=\"patch_37\">\n    <path clip-path=\"url(#pca7ada0ff3)\" d=\"M 200.211596 314.6 \nL 204.320067 314.6 \nL 204.320067 175.412626 \nL 200.211596 175.412626 \nz\n\" style=\"fill:#1f77b4;fill-opacity:0.75;stroke:#000000;stroke-linejoin:miter;stroke-width:0.423416;\"/>\n   </g>\n   <g id=\"patch_38\">\n    <path clip-path=\"url(#pca7ada0ff3)\" d=\"M 204.320067 314.6 \nL 208.428538 314.6 \nL 208.428538 177.085551 \nL 204.320067 177.085551 \nz\n\" style=\"fill:#1f77b4;fill-opacity:0.75;stroke:#000000;stroke-linejoin:miter;stroke-width:0.423416;\"/>\n   </g>\n   <g id=\"patch_39\">\n    <path clip-path=\"url(#pca7ada0ff3)\" d=\"M 208.428538 314.6 \nL 212.537009 314.6 \nL 212.537009 194.149388 \nL 208.428538 194.149388 \nz\n\" style=\"fill:#1f77b4;fill-opacity:0.75;stroke:#000000;stroke-linejoin:miter;stroke-width:0.423416;\"/>\n   </g>\n   <g id=\"patch_40\">\n    <path clip-path=\"url(#pca7ada0ff3)\" d=\"M 212.537009 314.6 \nL 216.64548 314.6 \nL 216.64548 200.506503 \nL 212.537009 200.506503 \nz\n\" style=\"fill:#1f77b4;fill-opacity:0.75;stroke:#000000;stroke-linejoin:miter;stroke-width:0.423416;\"/>\n   </g>\n   <g id=\"patch_41\">\n    <path clip-path=\"url(#pca7ada0ff3)\" d=\"M 216.64548 314.6 \nL 220.753951 314.6 \nL 220.753951 217.904925 \nL 216.64548 217.904925 \nz\n\" style=\"fill:#1f77b4;fill-opacity:0.75;stroke:#000000;stroke-linejoin:miter;stroke-width:0.423416;\"/>\n   </g>\n   <g id=\"patch_42\">\n    <path clip-path=\"url(#pca7ada0ff3)\" d=\"M 220.753951 314.6 \nL 224.862423 314.6 \nL 224.862423 223.592871 \nL 220.753951 223.592871 \nz\n\" style=\"fill:#1f77b4;fill-opacity:0.75;stroke:#000000;stroke-linejoin:miter;stroke-width:0.423416;\"/>\n   </g>\n   <g id=\"patch_43\">\n    <path clip-path=\"url(#pca7ada0ff3)\" d=\"M 224.862423 314.6 \nL 228.970894 314.6 \nL 228.970894 235.303347 \nL 224.862423 235.303347 \nz\n\" style=\"fill:#1f77b4;fill-opacity:0.75;stroke:#000000;stroke-linejoin:miter;stroke-width:0.423416;\"/>\n   </g>\n   <g id=\"patch_44\">\n    <path clip-path=\"url(#pca7ada0ff3)\" d=\"M 228.970894 314.6 \nL 233.079365 314.6 \nL 233.079365 244.337143 \nL 228.970894 244.337143 \nz\n\" style=\"fill:#1f77b4;fill-opacity:0.75;stroke:#000000;stroke-linejoin:miter;stroke-width:0.423416;\"/>\n   </g>\n   <g id=\"patch_45\">\n    <path clip-path=\"url(#pca7ada0ff3)\" d=\"M 233.079365 314.6 \nL 237.187836 314.6 \nL 237.187836 252.032599 \nL 233.079365 252.032599 \nz\n\" style=\"fill:#1f77b4;fill-opacity:0.75;stroke:#000000;stroke-linejoin:miter;stroke-width:0.423416;\"/>\n   </g>\n   <g id=\"patch_46\">\n    <path clip-path=\"url(#pca7ada0ff3)\" d=\"M 237.187836 314.6 \nL 241.296307 314.6 \nL 241.296307 250.694259 \nL 237.187836 250.694259 \nz\n\" style=\"fill:#1f77b4;fill-opacity:0.75;stroke:#000000;stroke-linejoin:miter;stroke-width:0.423416;\"/>\n   </g>\n   <g id=\"patch_47\">\n    <path clip-path=\"url(#pca7ada0ff3)\" d=\"M 241.296307 314.6 \nL 245.404778 314.6 \nL 245.404778 239.987537 \nL 241.296307 239.987537 \nz\n\" style=\"fill:#1f77b4;fill-opacity:0.75;stroke:#000000;stroke-linejoin:miter;stroke-width:0.423416;\"/>\n   </g>\n   <g id=\"patch_48\">\n    <path clip-path=\"url(#pca7ada0ff3)\" d=\"M 245.404778 314.6 \nL 249.513249 314.6 \nL 249.513249 193.480218 \nL 245.404778 193.480218 \nz\n\" style=\"fill:#1f77b4;fill-opacity:0.75;stroke:#000000;stroke-linejoin:miter;stroke-width:0.423416;\"/>\n   </g>\n   <g id=\"patch_49\">\n    <path clip-path=\"url(#pca7ada0ff3)\" d=\"M 249.513249 314.6 \nL 253.62172 314.6 \nL 253.62172 314.6 \nL 249.513249 314.6 \nz\n\" style=\"fill:#1f77b4;fill-opacity:0.75;stroke:#000000;stroke-linejoin:miter;stroke-width:0.423416;\"/>\n   </g>\n   <g id=\"patch_50\">\n    <path clip-path=\"url(#pca7ada0ff3)\" d=\"M 253.62172 314.6 \nL 257.730191 314.6 \nL 257.730191 313.93083 \nL 253.62172 313.93083 \nz\n\" style=\"fill:#1f77b4;fill-opacity:0.75;stroke:#000000;stroke-linejoin:miter;stroke-width:0.423416;\"/>\n   </g>\n   <g id=\"patch_51\">\n    <path clip-path=\"url(#pca7ada0ff3)\" d=\"M 257.730191 314.6 \nL 261.838662 314.6 \nL 261.838662 314.6 \nL 257.730191 314.6 \nz\n\" style=\"fill:#1f77b4;fill-opacity:0.75;stroke:#000000;stroke-linejoin:miter;stroke-width:0.423416;\"/>\n   </g>\n   <g id=\"patch_52\">\n    <path clip-path=\"url(#pca7ada0ff3)\" d=\"M 261.838662 314.6 \nL 265.947133 314.6 \nL 265.947133 314.265415 \nL 261.838662 314.265415 \nz\n\" style=\"fill:#1f77b4;fill-opacity:0.75;stroke:#000000;stroke-linejoin:miter;stroke-width:0.423416;\"/>\n   </g>\n   <g id=\"patch_53\">\n    <path clip-path=\"url(#pca7ada0ff3)\" d=\"M 265.947133 314.6 \nL 270.055604 314.6 \nL 270.055604 314.265415 \nL 265.947133 314.265415 \nz\n\" style=\"fill:#1f77b4;fill-opacity:0.75;stroke:#000000;stroke-linejoin:miter;stroke-width:0.423416;\"/>\n   </g>\n   <g id=\"patch_54\">\n    <path clip-path=\"url(#pca7ada0ff3)\" d=\"M 270.055604 314.6 \nL 274.164075 314.6 \nL 274.164075 314.265415 \nL 270.055604 314.265415 \nz\n\" style=\"fill:#1f77b4;fill-opacity:0.75;stroke:#000000;stroke-linejoin:miter;stroke-width:0.423416;\"/>\n   </g>\n   <g id=\"patch_55\">\n    <path clip-path=\"url(#pca7ada0ff3)\" d=\"M 274.164075 314.6 \nL 278.272546 314.6 \nL 278.272546 314.6 \nL 274.164075 314.6 \nz\n\" style=\"fill:#1f77b4;fill-opacity:0.75;stroke:#000000;stroke-linejoin:miter;stroke-width:0.423416;\"/>\n   </g>\n   <g id=\"patch_56\">\n    <path clip-path=\"url(#pca7ada0ff3)\" d=\"M 278.272546 314.6 \nL 282.381018 314.6 \nL 282.381018 314.6 \nL 278.272546 314.6 \nz\n\" style=\"fill:#1f77b4;fill-opacity:0.75;stroke:#000000;stroke-linejoin:miter;stroke-width:0.423416;\"/>\n   </g>\n   <g id=\"patch_57\">\n    <path clip-path=\"url(#pca7ada0ff3)\" d=\"M 282.381018 314.6 \nL 286.489489 314.6 \nL 286.489489 314.265415 \nL 282.381018 314.265415 \nz\n\" style=\"fill:#1f77b4;fill-opacity:0.75;stroke:#000000;stroke-linejoin:miter;stroke-width:0.423416;\"/>\n   </g>\n   <g id=\"patch_58\">\n    <path clip-path=\"url(#pca7ada0ff3)\" d=\"M 286.489489 314.6 \nL 290.59796 314.6 \nL 290.59796 314.6 \nL 286.489489 314.6 \nz\n\" style=\"fill:#1f77b4;fill-opacity:0.75;stroke:#000000;stroke-linejoin:miter;stroke-width:0.423416;\"/>\n   </g>\n   <g id=\"patch_59\">\n    <path clip-path=\"url(#pca7ada0ff3)\" d=\"M 290.59796 314.6 \nL 294.706431 314.6 \nL 294.706431 314.6 \nL 290.59796 314.6 \nz\n\" style=\"fill:#1f77b4;fill-opacity:0.75;stroke:#000000;stroke-linejoin:miter;stroke-width:0.423416;\"/>\n   </g>\n   <g id=\"patch_60\">\n    <path clip-path=\"url(#pca7ada0ff3)\" d=\"M 294.706431 314.6 \nL 298.814902 314.6 \nL 298.814902 314.6 \nL 294.706431 314.6 \nz\n\" style=\"fill:#1f77b4;fill-opacity:0.75;stroke:#000000;stroke-linejoin:miter;stroke-width:0.423416;\"/>\n   </g>\n   <g id=\"patch_61\">\n    <path clip-path=\"url(#pca7ada0ff3)\" d=\"M 298.814902 314.6 \nL 302.923373 314.6 \nL 302.923373 314.6 \nL 298.814902 314.6 \nz\n\" style=\"fill:#1f77b4;fill-opacity:0.75;stroke:#000000;stroke-linejoin:miter;stroke-width:0.423416;\"/>\n   </g>\n   <g id=\"patch_62\">\n    <path clip-path=\"url(#pca7ada0ff3)\" d=\"M 302.923373 314.6 \nL 307.031844 314.6 \nL 307.031844 314.6 \nL 302.923373 314.6 \nz\n\" style=\"fill:#1f77b4;fill-opacity:0.75;stroke:#000000;stroke-linejoin:miter;stroke-width:0.423416;\"/>\n   </g>\n   <g id=\"patch_63\">\n    <path clip-path=\"url(#pca7ada0ff3)\" d=\"M 307.031844 314.6 \nL 311.140315 314.6 \nL 311.140315 314.6 \nL 307.031844 314.6 \nz\n\" style=\"fill:#1f77b4;fill-opacity:0.75;stroke:#000000;stroke-linejoin:miter;stroke-width:0.423416;\"/>\n   </g>\n   <g id=\"patch_64\">\n    <path clip-path=\"url(#pca7ada0ff3)\" d=\"M 311.140315 314.6 \nL 315.248786 314.6 \nL 315.248786 314.265415 \nL 311.140315 314.265415 \nz\n\" style=\"fill:#1f77b4;fill-opacity:0.75;stroke:#000000;stroke-linejoin:miter;stroke-width:0.423416;\"/>\n   </g>\n   <g id=\"patch_65\">\n    <path clip-path=\"url(#pca7ada0ff3)\" d=\"M 315.248786 314.6 \nL 319.357257 314.6 \nL 319.357257 314.6 \nL 315.248786 314.6 \nz\n\" style=\"fill:#1f77b4;fill-opacity:0.75;stroke:#000000;stroke-linejoin:miter;stroke-width:0.423416;\"/>\n   </g>\n   <g id=\"patch_66\">\n    <path clip-path=\"url(#pca7ada0ff3)\" d=\"M 319.357257 314.6 \nL 323.465728 314.6 \nL 323.465728 314.6 \nL 319.357257 314.6 \nz\n\" style=\"fill:#1f77b4;fill-opacity:0.75;stroke:#000000;stroke-linejoin:miter;stroke-width:0.423416;\"/>\n   </g>\n   <g id=\"patch_67\">\n    <path clip-path=\"url(#pca7ada0ff3)\" d=\"M 323.465728 314.6 \nL 327.574199 314.6 \nL 327.574199 314.6 \nL 323.465728 314.6 \nz\n\" style=\"fill:#1f77b4;fill-opacity:0.75;stroke:#000000;stroke-linejoin:miter;stroke-width:0.423416;\"/>\n   </g>\n   <g id=\"patch_68\">\n    <path clip-path=\"url(#pca7ada0ff3)\" d=\"M 327.574199 314.6 \nL 331.68267 314.6 \nL 331.68267 314.265415 \nL 327.574199 314.265415 \nz\n\" style=\"fill:#1f77b4;fill-opacity:0.75;stroke:#000000;stroke-linejoin:miter;stroke-width:0.423416;\"/>\n   </g>\n   <g id=\"matplotlib.axis_1\">\n    <g id=\"xtick_1\">\n     <g id=\"line2d_1\">\n      <defs>\n       <path d=\"M 0 0 \nL 0 3.5 \n\" id=\"mb9151e4bfc\" style=\"stroke:#000000;stroke-width:0.8;\"/>\n      </defs>\n      <g>\n       <use style=\"stroke:#000000;stroke-width:0.8;\" x=\"59.834359\" xlink:href=\"#mb9151e4bfc\" y=\"314.6\"/>\n      </g>\n     </g>\n     <g id=\"text_1\">\n      <!-- 0 -->\n      <g transform=\"translate(56.653109 329.198437)scale(0.1 -0.1)\">\n       <defs>\n        <path d=\"M 31.78125 66.40625 \nQ 24.171875 66.40625 20.328125 58.90625 \nQ 16.5 51.421875 16.5 36.375 \nQ 16.5 21.390625 20.328125 13.890625 \nQ 24.171875 6.390625 31.78125 6.390625 \nQ 39.453125 6.390625 43.28125 13.890625 \nQ 47.125 21.390625 47.125 36.375 \nQ 47.125 51.421875 43.28125 58.90625 \nQ 39.453125 66.40625 31.78125 66.40625 \nz\nM 31.78125 74.21875 \nQ 44.046875 74.21875 50.515625 64.515625 \nQ 56.984375 54.828125 56.984375 36.375 \nQ 56.984375 17.96875 50.515625 8.265625 \nQ 44.046875 -1.421875 31.78125 -1.421875 \nQ 19.53125 -1.421875 13.0625 8.265625 \nQ 6.59375 17.96875 6.59375 36.375 \nQ 6.59375 54.828125 13.0625 64.515625 \nQ 19.53125 74.21875 31.78125 74.21875 \nz\n\" id=\"DejaVuSans-48\"/>\n       </defs>\n       <use xlink:href=\"#DejaVuSans-48\"/>\n      </g>\n     </g>\n    </g>\n    <g id=\"xtick_2\">\n     <g id=\"line2d_2\">\n      <g>\n       <use style=\"stroke:#000000;stroke-width:0.8;\" x=\"109.064404\" xlink:href=\"#mb9151e4bfc\" y=\"314.6\"/>\n      </g>\n     </g>\n     <g id=\"text_2\">\n      <!-- 500 -->\n      <g transform=\"translate(99.520654 329.198437)scale(0.1 -0.1)\">\n       <defs>\n        <path d=\"M 10.796875 72.90625 \nL 49.515625 72.90625 \nL 49.515625 64.59375 \nL 19.828125 64.59375 \nL 19.828125 46.734375 \nQ 21.96875 47.46875 24.109375 47.828125 \nQ 26.265625 48.1875 28.421875 48.1875 \nQ 40.625 48.1875 47.75 41.5 \nQ 54.890625 34.8125 54.890625 23.390625 \nQ 54.890625 11.625 47.5625 5.09375 \nQ 40.234375 -1.421875 26.90625 -1.421875 \nQ 22.3125 -1.421875 17.546875 -0.640625 \nQ 12.796875 0.140625 7.71875 1.703125 \nL 7.71875 11.625 \nQ 12.109375 9.234375 16.796875 8.0625 \nQ 21.484375 6.890625 26.703125 6.890625 \nQ 35.15625 6.890625 40.078125 11.328125 \nQ 45.015625 15.765625 45.015625 23.390625 \nQ 45.015625 31 40.078125 35.4375 \nQ 35.15625 39.890625 26.703125 39.890625 \nQ 22.75 39.890625 18.8125 39.015625 \nQ 14.890625 38.140625 10.796875 36.28125 \nz\n\" id=\"DejaVuSans-53\"/>\n       </defs>\n       <use xlink:href=\"#DejaVuSans-53\"/>\n       <use x=\"63.623047\" xlink:href=\"#DejaVuSans-48\"/>\n       <use x=\"127.246094\" xlink:href=\"#DejaVuSans-48\"/>\n      </g>\n     </g>\n    </g>\n    <g id=\"xtick_3\">\n     <g id=\"line2d_3\">\n      <g>\n       <use style=\"stroke:#000000;stroke-width:0.8;\" x=\"158.29445\" xlink:href=\"#mb9151e4bfc\" y=\"314.6\"/>\n      </g>\n     </g>\n     <g id=\"text_3\">\n      <!-- 1000 -->\n      <g transform=\"translate(145.56945 329.198437)scale(0.1 -0.1)\">\n       <defs>\n        <path d=\"M 12.40625 8.296875 \nL 28.515625 8.296875 \nL 28.515625 63.921875 \nL 10.984375 60.40625 \nL 10.984375 69.390625 \nL 28.421875 72.90625 \nL 38.28125 72.90625 \nL 38.28125 8.296875 \nL 54.390625 8.296875 \nL 54.390625 0 \nL 12.40625 0 \nz\n\" id=\"DejaVuSans-49\"/>\n       </defs>\n       <use xlink:href=\"#DejaVuSans-49\"/>\n       <use x=\"63.623047\" xlink:href=\"#DejaVuSans-48\"/>\n       <use x=\"127.246094\" xlink:href=\"#DejaVuSans-48\"/>\n       <use x=\"190.869141\" xlink:href=\"#DejaVuSans-48\"/>\n      </g>\n     </g>\n    </g>\n    <g id=\"xtick_4\">\n     <g id=\"line2d_4\">\n      <g>\n       <use style=\"stroke:#000000;stroke-width:0.8;\" x=\"207.524496\" xlink:href=\"#mb9151e4bfc\" y=\"314.6\"/>\n      </g>\n     </g>\n     <g id=\"text_4\">\n      <!-- 1500 -->\n      <g transform=\"translate(194.799496 329.198437)scale(0.1 -0.1)\">\n       <use xlink:href=\"#DejaVuSans-49\"/>\n       <use x=\"63.623047\" xlink:href=\"#DejaVuSans-53\"/>\n       <use x=\"127.246094\" xlink:href=\"#DejaVuSans-48\"/>\n       <use x=\"190.869141\" xlink:href=\"#DejaVuSans-48\"/>\n      </g>\n     </g>\n    </g>\n    <g id=\"xtick_5\">\n     <g id=\"line2d_5\">\n      <g>\n       <use style=\"stroke:#000000;stroke-width:0.8;\" x=\"256.754541\" xlink:href=\"#mb9151e4bfc\" y=\"314.6\"/>\n      </g>\n     </g>\n     <g id=\"text_5\">\n      <!-- 2000 -->\n      <g transform=\"translate(244.029541 329.198437)scale(0.1 -0.1)\">\n       <defs>\n        <path d=\"M 19.1875 8.296875 \nL 53.609375 8.296875 \nL 53.609375 0 \nL 7.328125 0 \nL 7.328125 8.296875 \nQ 12.9375 14.109375 22.625 23.890625 \nQ 32.328125 33.6875 34.8125 36.53125 \nQ 39.546875 41.84375 41.421875 45.53125 \nQ 43.3125 49.21875 43.3125 52.78125 \nQ 43.3125 58.59375 39.234375 62.25 \nQ 35.15625 65.921875 28.609375 65.921875 \nQ 23.96875 65.921875 18.8125 64.3125 \nQ 13.671875 62.703125 7.8125 59.421875 \nL 7.8125 69.390625 \nQ 13.765625 71.78125 18.9375 73 \nQ 24.125 74.21875 28.421875 74.21875 \nQ 39.75 74.21875 46.484375 68.546875 \nQ 53.21875 62.890625 53.21875 53.421875 \nQ 53.21875 48.921875 51.53125 44.890625 \nQ 49.859375 40.875 45.40625 35.40625 \nQ 44.1875 33.984375 37.640625 27.21875 \nQ 31.109375 20.453125 19.1875 8.296875 \nz\n\" id=\"DejaVuSans-50\"/>\n       </defs>\n       <use xlink:href=\"#DejaVuSans-50\"/>\n       <use x=\"63.623047\" xlink:href=\"#DejaVuSans-48\"/>\n       <use x=\"127.246094\" xlink:href=\"#DejaVuSans-48\"/>\n       <use x=\"190.869141\" xlink:href=\"#DejaVuSans-48\"/>\n      </g>\n     </g>\n    </g>\n    <g id=\"xtick_6\">\n     <g id=\"line2d_6\">\n      <g>\n       <use style=\"stroke:#000000;stroke-width:0.8;\" x=\"305.984587\" xlink:href=\"#mb9151e4bfc\" y=\"314.6\"/>\n      </g>\n     </g>\n     <g id=\"text_6\">\n      <!-- 2500 -->\n      <g transform=\"translate(293.259587 329.198437)scale(0.1 -0.1)\">\n       <use xlink:href=\"#DejaVuSans-50\"/>\n       <use x=\"63.623047\" xlink:href=\"#DejaVuSans-53\"/>\n       <use x=\"127.246094\" xlink:href=\"#DejaVuSans-48\"/>\n       <use x=\"190.869141\" xlink:href=\"#DejaVuSans-48\"/>\n      </g>\n     </g>\n    </g>\n    <g id=\"text_7\">\n     <!-- ABSTRACT -->\n     <g transform=\"translate(169.959375 342.876562)scale(0.1 -0.1)\">\n      <defs>\n       <path d=\"M 34.1875 63.1875 \nL 20.796875 26.90625 \nL 47.609375 26.90625 \nz\nM 28.609375 72.90625 \nL 39.796875 72.90625 \nL 67.578125 0 \nL 57.328125 0 \nL 50.6875 18.703125 \nL 17.828125 18.703125 \nL 11.1875 0 \nL 0.78125 0 \nz\n\" id=\"DejaVuSans-65\"/>\n       <path d=\"M 19.671875 34.8125 \nL 19.671875 8.109375 \nL 35.5 8.109375 \nQ 43.453125 8.109375 47.28125 11.40625 \nQ 51.125 14.703125 51.125 21.484375 \nQ 51.125 28.328125 47.28125 31.5625 \nQ 43.453125 34.8125 35.5 34.8125 \nz\nM 19.671875 64.796875 \nL 19.671875 42.828125 \nL 34.28125 42.828125 \nQ 41.5 42.828125 45.03125 45.53125 \nQ 48.578125 48.25 48.578125 53.8125 \nQ 48.578125 59.328125 45.03125 62.0625 \nQ 41.5 64.796875 34.28125 64.796875 \nz\nM 9.8125 72.90625 \nL 35.015625 72.90625 \nQ 46.296875 72.90625 52.390625 68.21875 \nQ 58.5 63.53125 58.5 54.890625 \nQ 58.5 48.1875 55.375 44.234375 \nQ 52.25 40.28125 46.1875 39.3125 \nQ 53.46875 37.75 57.5 32.78125 \nQ 61.53125 27.828125 61.53125 20.40625 \nQ 61.53125 10.640625 54.890625 5.3125 \nQ 48.25 0 35.984375 0 \nL 9.8125 0 \nz\n\" id=\"DejaVuSans-66\"/>\n       <path d=\"M 53.515625 70.515625 \nL 53.515625 60.890625 \nQ 47.90625 63.578125 42.921875 64.890625 \nQ 37.9375 66.21875 33.296875 66.21875 \nQ 25.25 66.21875 20.875 63.09375 \nQ 16.5 59.96875 16.5 54.203125 \nQ 16.5 49.359375 19.40625 46.890625 \nQ 22.3125 44.4375 30.421875 42.921875 \nL 36.375 41.703125 \nQ 47.40625 39.59375 52.65625 34.296875 \nQ 57.90625 29 57.90625 20.125 \nQ 57.90625 9.515625 50.796875 4.046875 \nQ 43.703125 -1.421875 29.984375 -1.421875 \nQ 24.8125 -1.421875 18.96875 -0.25 \nQ 13.140625 0.921875 6.890625 3.21875 \nL 6.890625 13.375 \nQ 12.890625 10.015625 18.65625 8.296875 \nQ 24.421875 6.59375 29.984375 6.59375 \nQ 38.421875 6.59375 43.015625 9.90625 \nQ 47.609375 13.234375 47.609375 19.390625 \nQ 47.609375 24.75 44.3125 27.78125 \nQ 41.015625 30.8125 33.5 32.328125 \nL 27.484375 33.5 \nQ 16.453125 35.6875 11.515625 40.375 \nQ 6.59375 45.0625 6.59375 53.421875 \nQ 6.59375 63.09375 13.40625 68.65625 \nQ 20.21875 74.21875 32.171875 74.21875 \nQ 37.3125 74.21875 42.625 73.28125 \nQ 47.953125 72.359375 53.515625 70.515625 \nz\n\" id=\"DejaVuSans-83\"/>\n       <path d=\"M -0.296875 72.90625 \nL 61.375 72.90625 \nL 61.375 64.59375 \nL 35.5 64.59375 \nL 35.5 0 \nL 25.59375 0 \nL 25.59375 64.59375 \nL -0.296875 64.59375 \nz\n\" id=\"DejaVuSans-84\"/>\n       <path d=\"M 44.390625 34.1875 \nQ 47.5625 33.109375 50.5625 29.59375 \nQ 53.5625 26.078125 56.59375 19.921875 \nL 66.609375 0 \nL 56 0 \nL 46.6875 18.703125 \nQ 43.0625 26.03125 39.671875 28.421875 \nQ 36.28125 30.8125 30.421875 30.8125 \nL 19.671875 30.8125 \nL 19.671875 0 \nL 9.8125 0 \nL 9.8125 72.90625 \nL 32.078125 72.90625 \nQ 44.578125 72.90625 50.734375 67.671875 \nQ 56.890625 62.453125 56.890625 51.90625 \nQ 56.890625 45.015625 53.6875 40.46875 \nQ 50.484375 35.9375 44.390625 34.1875 \nz\nM 19.671875 64.796875 \nL 19.671875 38.921875 \nL 32.078125 38.921875 \nQ 39.203125 38.921875 42.84375 42.21875 \nQ 46.484375 45.515625 46.484375 51.90625 \nQ 46.484375 58.296875 42.84375 61.546875 \nQ 39.203125 64.796875 32.078125 64.796875 \nz\n\" id=\"DejaVuSans-82\"/>\n       <path d=\"M 64.40625 67.28125 \nL 64.40625 56.890625 \nQ 59.421875 61.53125 53.78125 63.8125 \nQ 48.140625 66.109375 41.796875 66.109375 \nQ 29.296875 66.109375 22.65625 58.46875 \nQ 16.015625 50.828125 16.015625 36.375 \nQ 16.015625 21.96875 22.65625 14.328125 \nQ 29.296875 6.6875 41.796875 6.6875 \nQ 48.140625 6.6875 53.78125 8.984375 \nQ 59.421875 11.28125 64.40625 15.921875 \nL 64.40625 5.609375 \nQ 59.234375 2.09375 53.4375 0.328125 \nQ 47.65625 -1.421875 41.21875 -1.421875 \nQ 24.65625 -1.421875 15.125 8.703125 \nQ 5.609375 18.84375 5.609375 36.375 \nQ 5.609375 53.953125 15.125 64.078125 \nQ 24.65625 74.21875 41.21875 74.21875 \nQ 47.75 74.21875 53.53125 72.484375 \nQ 59.328125 70.75 64.40625 67.28125 \nz\n\" id=\"DejaVuSans-67\"/>\n      </defs>\n      <use xlink:href=\"#DejaVuSans-65\"/>\n      <use x=\"68.408203\" xlink:href=\"#DejaVuSans-66\"/>\n      <use x=\"135.261719\" xlink:href=\"#DejaVuSans-83\"/>\n      <use x=\"198.738281\" xlink:href=\"#DejaVuSans-84\"/>\n      <use x=\"259.822266\" xlink:href=\"#DejaVuSans-82\"/>\n      <use x=\"325.304688\" xlink:href=\"#DejaVuSans-65\"/>\n      <use x=\"391.962891\" xlink:href=\"#DejaVuSans-67\"/>\n      <use x=\"461.787109\" xlink:href=\"#DejaVuSans-84\"/>\n     </g>\n    </g>\n   </g>\n   <g id=\"matplotlib.axis_2\">\n    <g id=\"ytick_1\">\n     <g id=\"line2d_7\">\n      <defs>\n       <path d=\"M 0 0 \nL -3.5 0 \n\" id=\"mdfa24d4080\" style=\"stroke:#000000;stroke-width:0.8;\"/>\n      </defs>\n      <g>\n       <use style=\"stroke:#000000;stroke-width:0.8;\" x=\"46.965625\" xlink:href=\"#mdfa24d4080\" y=\"314.6\"/>\n      </g>\n     </g>\n     <g id=\"text_8\">\n      <!-- 0 -->\n      <g transform=\"translate(33.603125 318.399219)scale(0.1 -0.1)\">\n       <use xlink:href=\"#DejaVuSans-48\"/>\n      </g>\n     </g>\n    </g>\n    <g id=\"ytick_2\">\n     <g id=\"line2d_8\">\n      <g>\n       <use style=\"stroke:#000000;stroke-width:0.8;\" x=\"46.965625\" xlink:href=\"#mdfa24d4080\" y=\"247.682993\"/>\n      </g>\n     </g>\n     <g id=\"text_9\">\n      <!-- 200 -->\n      <g transform=\"translate(20.878125 251.482212)scale(0.1 -0.1)\">\n       <use xlink:href=\"#DejaVuSans-50\"/>\n       <use x=\"63.623047\" xlink:href=\"#DejaVuSans-48\"/>\n       <use x=\"127.246094\" xlink:href=\"#DejaVuSans-48\"/>\n      </g>\n     </g>\n    </g>\n    <g id=\"ytick_3\">\n     <g id=\"line2d_9\">\n      <g>\n       <use style=\"stroke:#000000;stroke-width:0.8;\" x=\"46.965625\" xlink:href=\"#mdfa24d4080\" y=\"180.765986\"/>\n      </g>\n     </g>\n     <g id=\"text_10\">\n      <!-- 400 -->\n      <g transform=\"translate(20.878125 184.565205)scale(0.1 -0.1)\">\n       <defs>\n        <path d=\"M 37.796875 64.3125 \nL 12.890625 25.390625 \nL 37.796875 25.390625 \nz\nM 35.203125 72.90625 \nL 47.609375 72.90625 \nL 47.609375 25.390625 \nL 58.015625 25.390625 \nL 58.015625 17.1875 \nL 47.609375 17.1875 \nL 47.609375 0 \nL 37.796875 0 \nL 37.796875 17.1875 \nL 4.890625 17.1875 \nL 4.890625 26.703125 \nz\n\" id=\"DejaVuSans-52\"/>\n       </defs>\n       <use xlink:href=\"#DejaVuSans-52\"/>\n       <use x=\"63.623047\" xlink:href=\"#DejaVuSans-48\"/>\n       <use x=\"127.246094\" xlink:href=\"#DejaVuSans-48\"/>\n      </g>\n     </g>\n    </g>\n    <g id=\"ytick_4\">\n     <g id=\"line2d_10\">\n      <g>\n       <use style=\"stroke:#000000;stroke-width:0.8;\" x=\"46.965625\" xlink:href=\"#mdfa24d4080\" y=\"113.84898\"/>\n      </g>\n     </g>\n     <g id=\"text_11\">\n      <!-- 600 -->\n      <g transform=\"translate(20.878125 117.648198)scale(0.1 -0.1)\">\n       <defs>\n        <path d=\"M 33.015625 40.375 \nQ 26.375 40.375 22.484375 35.828125 \nQ 18.609375 31.296875 18.609375 23.390625 \nQ 18.609375 15.53125 22.484375 10.953125 \nQ 26.375 6.390625 33.015625 6.390625 \nQ 39.65625 6.390625 43.53125 10.953125 \nQ 47.40625 15.53125 47.40625 23.390625 \nQ 47.40625 31.296875 43.53125 35.828125 \nQ 39.65625 40.375 33.015625 40.375 \nz\nM 52.59375 71.296875 \nL 52.59375 62.3125 \nQ 48.875 64.0625 45.09375 64.984375 \nQ 41.3125 65.921875 37.59375 65.921875 \nQ 27.828125 65.921875 22.671875 59.328125 \nQ 17.53125 52.734375 16.796875 39.40625 \nQ 19.671875 43.65625 24.015625 45.921875 \nQ 28.375 48.1875 33.59375 48.1875 \nQ 44.578125 48.1875 50.953125 41.515625 \nQ 57.328125 34.859375 57.328125 23.390625 \nQ 57.328125 12.15625 50.6875 5.359375 \nQ 44.046875 -1.421875 33.015625 -1.421875 \nQ 20.359375 -1.421875 13.671875 8.265625 \nQ 6.984375 17.96875 6.984375 36.375 \nQ 6.984375 53.65625 15.1875 63.9375 \nQ 23.390625 74.21875 37.203125 74.21875 \nQ 40.921875 74.21875 44.703125 73.484375 \nQ 48.484375 72.75 52.59375 71.296875 \nz\n\" id=\"DejaVuSans-54\"/>\n       </defs>\n       <use xlink:href=\"#DejaVuSans-54\"/>\n       <use x=\"63.623047\" xlink:href=\"#DejaVuSans-48\"/>\n       <use x=\"127.246094\" xlink:href=\"#DejaVuSans-48\"/>\n      </g>\n     </g>\n    </g>\n    <g id=\"ytick_5\">\n     <g id=\"line2d_11\">\n      <g>\n       <use style=\"stroke:#000000;stroke-width:0.8;\" x=\"46.965625\" xlink:href=\"#mdfa24d4080\" y=\"46.931973\"/>\n      </g>\n     </g>\n     <g id=\"text_12\">\n      <!-- 800 -->\n      <g transform=\"translate(20.878125 50.731192)scale(0.1 -0.1)\">\n       <defs>\n        <path d=\"M 31.78125 34.625 \nQ 24.75 34.625 20.71875 30.859375 \nQ 16.703125 27.09375 16.703125 20.515625 \nQ 16.703125 13.921875 20.71875 10.15625 \nQ 24.75 6.390625 31.78125 6.390625 \nQ 38.8125 6.390625 42.859375 10.171875 \nQ 46.921875 13.96875 46.921875 20.515625 \nQ 46.921875 27.09375 42.890625 30.859375 \nQ 38.875 34.625 31.78125 34.625 \nz\nM 21.921875 38.8125 \nQ 15.578125 40.375 12.03125 44.71875 \nQ 8.5 49.078125 8.5 55.328125 \nQ 8.5 64.0625 14.71875 69.140625 \nQ 20.953125 74.21875 31.78125 74.21875 \nQ 42.671875 74.21875 48.875 69.140625 \nQ 55.078125 64.0625 55.078125 55.328125 \nQ 55.078125 49.078125 51.53125 44.71875 \nQ 48 40.375 41.703125 38.8125 \nQ 48.828125 37.15625 52.796875 32.3125 \nQ 56.78125 27.484375 56.78125 20.515625 \nQ 56.78125 9.90625 50.3125 4.234375 \nQ 43.84375 -1.421875 31.78125 -1.421875 \nQ 19.734375 -1.421875 13.25 4.234375 \nQ 6.78125 9.90625 6.78125 20.515625 \nQ 6.78125 27.484375 10.78125 32.3125 \nQ 14.796875 37.15625 21.921875 38.8125 \nz\nM 18.3125 54.390625 \nQ 18.3125 48.734375 21.84375 45.5625 \nQ 25.390625 42.390625 31.78125 42.390625 \nQ 38.140625 42.390625 41.71875 45.5625 \nQ 45.3125 48.734375 45.3125 54.390625 \nQ 45.3125 60.0625 41.71875 63.234375 \nQ 38.140625 66.40625 31.78125 66.40625 \nQ 25.390625 66.40625 21.84375 63.234375 \nQ 18.3125 60.0625 18.3125 54.390625 \nz\n\" id=\"DejaVuSans-56\"/>\n       </defs>\n       <use xlink:href=\"#DejaVuSans-56\"/>\n       <use x=\"63.623047\" xlink:href=\"#DejaVuSans-48\"/>\n       <use x=\"127.246094\" xlink:href=\"#DejaVuSans-48\"/>\n      </g>\n     </g>\n    </g>\n    <g id=\"text_13\">\n     <!-- Count -->\n     <g transform=\"translate(14.798438 175.748437)rotate(-90)scale(0.1 -0.1)\">\n      <defs>\n       <path d=\"M 30.609375 48.390625 \nQ 23.390625 48.390625 19.1875 42.75 \nQ 14.984375 37.109375 14.984375 27.296875 \nQ 14.984375 17.484375 19.15625 11.84375 \nQ 23.34375 6.203125 30.609375 6.203125 \nQ 37.796875 6.203125 41.984375 11.859375 \nQ 46.1875 17.53125 46.1875 27.296875 \nQ 46.1875 37.015625 41.984375 42.703125 \nQ 37.796875 48.390625 30.609375 48.390625 \nz\nM 30.609375 56 \nQ 42.328125 56 49.015625 48.375 \nQ 55.71875 40.765625 55.71875 27.296875 \nQ 55.71875 13.875 49.015625 6.21875 \nQ 42.328125 -1.421875 30.609375 -1.421875 \nQ 18.84375 -1.421875 12.171875 6.21875 \nQ 5.515625 13.875 5.515625 27.296875 \nQ 5.515625 40.765625 12.171875 48.375 \nQ 18.84375 56 30.609375 56 \nz\n\" id=\"DejaVuSans-111\"/>\n       <path d=\"M 8.5 21.578125 \nL 8.5 54.6875 \nL 17.484375 54.6875 \nL 17.484375 21.921875 \nQ 17.484375 14.15625 20.5 10.265625 \nQ 23.53125 6.390625 29.59375 6.390625 \nQ 36.859375 6.390625 41.078125 11.03125 \nQ 45.3125 15.671875 45.3125 23.6875 \nL 45.3125 54.6875 \nL 54.296875 54.6875 \nL 54.296875 0 \nL 45.3125 0 \nL 45.3125 8.40625 \nQ 42.046875 3.421875 37.71875 1 \nQ 33.40625 -1.421875 27.6875 -1.421875 \nQ 18.265625 -1.421875 13.375 4.4375 \nQ 8.5 10.296875 8.5 21.578125 \nz\nM 31.109375 56 \nz\n\" id=\"DejaVuSans-117\"/>\n       <path d=\"M 54.890625 33.015625 \nL 54.890625 0 \nL 45.90625 0 \nL 45.90625 32.71875 \nQ 45.90625 40.484375 42.875 44.328125 \nQ 39.84375 48.1875 33.796875 48.1875 \nQ 26.515625 48.1875 22.3125 43.546875 \nQ 18.109375 38.921875 18.109375 30.90625 \nL 18.109375 0 \nL 9.078125 0 \nL 9.078125 54.6875 \nL 18.109375 54.6875 \nL 18.109375 46.1875 \nQ 21.34375 51.125 25.703125 53.5625 \nQ 30.078125 56 35.796875 56 \nQ 45.21875 56 50.046875 50.171875 \nQ 54.890625 44.34375 54.890625 33.015625 \nz\n\" id=\"DejaVuSans-110\"/>\n       <path d=\"M 18.3125 70.21875 \nL 18.3125 54.6875 \nL 36.8125 54.6875 \nL 36.8125 47.703125 \nL 18.3125 47.703125 \nL 18.3125 18.015625 \nQ 18.3125 11.328125 20.140625 9.421875 \nQ 21.96875 7.515625 27.59375 7.515625 \nL 36.8125 7.515625 \nL 36.8125 0 \nL 27.59375 0 \nQ 17.1875 0 13.234375 3.875 \nQ 9.28125 7.765625 9.28125 18.015625 \nL 9.28125 47.703125 \nL 2.6875 47.703125 \nL 2.6875 54.6875 \nL 9.28125 54.6875 \nL 9.28125 70.21875 \nz\n\" id=\"DejaVuSans-116\"/>\n      </defs>\n      <use xlink:href=\"#DejaVuSans-67\"/>\n      <use x=\"69.824219\" xlink:href=\"#DejaVuSans-111\"/>\n      <use x=\"131.005859\" xlink:href=\"#DejaVuSans-117\"/>\n      <use x=\"194.384766\" xlink:href=\"#DejaVuSans-110\"/>\n      <use x=\"257.763672\" xlink:href=\"#DejaVuSans-116\"/>\n     </g>\n    </g>\n   </g>\n   <g id=\"patch_69\">\n    <path d=\"M 46.965625 314.6 \nL 46.965625 7.2 \n\" style=\"fill:none;stroke:#000000;stroke-linecap:square;stroke-linejoin:miter;stroke-width:0.8;\"/>\n   </g>\n   <g id=\"patch_70\">\n    <path d=\"M 46.965625 314.6 \nL 345.240625 314.6 \n\" style=\"fill:none;stroke:#000000;stroke-linecap:square;stroke-linejoin:miter;stroke-width:0.8;\"/>\n   </g>\n  </g>\n </g>\n <defs>\n  <clipPath id=\"pca7ada0ff3\">\n   <rect height=\"307.4\" width=\"298.275\" x=\"46.965625\" y=\"7.2\"/>\n  </clipPath>\n </defs>\n</svg>\n",
      "image/png": "[encoded data removed]"
     },
     "metadata": {
      "needs_background": "light"
     }
    }
   ],
   "source": [
    "train_abstract_len = train['ABSTRACT'].apply(len)\n",
    "sb.displot(train_abstract_len)"
   ]
  },
  {
   "cell_type": "markdown",
   "metadata": {},
   "source": [
    "# Preprocessing Techniques\n",
    "\n",
    "Be aware that each preprocessing technique applied includes some other steps such as: removing non-alphanumeric characters, lowercasing all words and tokenizing. After applying the preprocesing algorithm, there is an aditional step to remove all stopwords. After all this steps are completed, each preprocessing function returns the corpus, a structure composed of tuples encapsulating each preprocessed title-abstract pair."
   ]
  },
  {
   "cell_type": "markdown",
   "metadata": {},
   "source": [
    "## Porter Stemming\n",
    "\n",
    "The Porter Stemming algorithm being the one of the oldest, originally developed in 1979, uses Suffix Stripping to produce stems. PorterStemmer is known for its simplicity and speed. It is commonly useful in Information Retrieval Environments known as IR Environments for fast recall and fetching of search queries. In a typical IR, environment documents are represented as vectors of words or terms. Words having the same stem will therefore have a similar meaning. \n"
   ]
  },
  {
   "cell_type": "code",
   "execution_count": 13,
   "metadata": {
    "tags": []
   },
   "outputs": [],
   "source": [
    "from nltk.stem.porter import PorterStemmer\n",
    "\n",
    "def porterStemming():\n",
    "\n",
    "    corpus=[]\n",
    "    # Initialize PorterStemmer\n",
    "    ps = PorterStemmer()\n",
    "\n",
    "    for i in range(0,train.shape[0]):\n",
    "        # get title and abstract and remove non alpha chars\n",
    "        title = re.sub('[^a-zA-Z]', ' ', train['TITLE'][i])\n",
    "        abstract = re.sub('[^a-zA-Z]', ' ', train['ABSTRACT'][i])\n",
    "        # to lower-case and tokenize\n",
    "        title = title.lower().split()\n",
    "        abstract = abstract.lower().split()\n",
    "        # stemming and stop word removal\n",
    "        title = ' '.join([ps.stem(w) for w in title if not w in set(stopwords.words('english'))])\n",
    "        abstract = ' '.join([ps.stem(w) for w in abstract if not w in set(stopwords.words('english'))])\n",
    "        corpus.append((title, abstract))\n",
    "\n",
    "    return corpus"
   ]
  },
  {
   "cell_type": "markdown",
   "metadata": {},
   "source": [
    "## Lancaster Stemming\n",
    "\n",
    "Lancaster Stemming ( also known as Paice-Husk Stemmer) was developed in 1990 and uses a more aggressive approach than the Porter Stemming Algorithm and the Snowball Algorithm, although it is not as efficient as the latter. The LancasterStemmer (Paice-Husk stemmer) is an iterative algorithm with rules saved externally. On each iteration, it tries to find an applicable rule by the last character of the word. Each rule specifies either a deletion or replacement of an ending. If there is no such rule, it terminates. It also terminates if a word starts with a vowel and there are only two letters left or if a word starts with a consonant and there are only three characters left. Otherwise, the rule is applied, and the process repeats. LancasterStemmer is simple, but heavy stemming due to iterations and over-stemming may occur, specially on smaller words. Over-stemming causes the stems to be not linguistic, or they may have no meaning. "
   ]
  },
  {
   "cell_type": "code",
   "execution_count": 14,
   "metadata": {
    "tags": []
   },
   "outputs": [],
   "source": [
    "from nltk.stem import LancasterStemmer\n",
    "\n",
    "def lancasterStemming():\n",
    "\n",
    "    corpus=[]\n",
    "    # Initialize LancasterStemmer\n",
    "    lc = LancasterStemmer()\n",
    "\n",
    "    for i in range(0,train.shape[0]):\n",
    "        # get title and abstract and remove non alpha chars\n",
    "        title = re.sub('[^a-zA-Z]', ' ', train['TITLE'][i])\n",
    "        abstract = re.sub('[^a-zA-Z]', ' ', train['ABSTRACT'][i])\n",
    "        # to lower-case and tokenize\n",
    "        title = title.lower().split()\n",
    "        abstract = abstract.lower().split()\n",
    "        # stemming and stop word removal\n",
    "        title = ' '.join([lc.stem(w) for w in title if not w in set(stopwords.words('english'))])\n",
    "        abstract = ' '.join([lc.stem(w) for w in abstract if not w in set(stopwords.words('english'))])\n",
    "        corpus.append((title, abstract))\n",
    "        \n",
    "    return corpus"
   ]
  },
  {
   "cell_type": "markdown",
   "metadata": {},
   "source": [
    "## Snowball Stemming\n",
    "\n",
    "When compared to the Porter Stemmer, the Snowball Stemmer can map non-English words too. Since it supports other languages the Snowball Stemmers can be called a multi-lingual stemmer. This stemmer is based on a programming language called ‘Snowball’ that processes small strings and is the most widely used stemmer. The Snowball stemmer is way more aggressive than Porter Stemmer and is also referred to as Porter2 Stemmer. Because of the improvements added when compared to the Porter Stemmer, the Snowball stemmer has greater computational speed."
   ]
  },
  {
   "cell_type": "code",
   "execution_count": 15,
   "metadata": {
    "tags": []
   },
   "outputs": [],
   "source": [
    "from nltk.stem.snowball import SnowballStemmer\n",
    "\n",
    "def snowballStemming():\n",
    "\n",
    "    corpus=[]\n",
    "    # Initialize LancasterStemmer\n",
    "    ss = SnowballStemmer(language='english')\n",
    "\n",
    "    for i in range(0,train.shape[0]):\n",
    "        # get title and abstract and remove non alpha chars\n",
    "        title = re.sub('[^a-zA-Z]', ' ', train['TITLE'][i])\n",
    "        abstract = re.sub('[^a-zA-Z]', ' ', train['ABSTRACT'][i])\n",
    "        # to lower-case and tokenize\n",
    "        title = title.lower().split()\n",
    "        abstract = abstract.lower().split()\n",
    "        # stemming and stop word removal\n",
    "        title = ' '.join([ss.stem(w) for w in title if not w in set(stopwords.words('english'))])\n",
    "        abstract = ' '.join([ss.stem(w) for w in abstract if not w in set(stopwords.words('english'))])\n",
    "        corpus.append((title, abstract))\n",
    "\n",
    "    return corpus"
   ]
  },
  {
   "cell_type": "markdown",
   "metadata": {},
   "source": [
    "## Some comparisons on stemming algorithms\n",
    "\n",
    "Difference Between Porter Stemmer and Snowball Stemmer:\n",
    "\n",
    "- Snowball Stemmer is more aggressive than Porter Stemmer.\n",
    "- Some issues in Porter Stemmer were fixed in Snowball Stemmer.\n",
    "- There is only a little difference in the working of these two.\n",
    "- Words like ‘fairly‘ and ‘sportingly‘ were stemmed to ‘fair’ and ‘sport’ in the snowball stemmer but when you use the porter stemmer they are stemmed to ‘fairli‘ and ‘sportingli‘.\n",
    "- The difference between the two algorithms can be clearly seen in the way the word ‘Sportingly’ in stemmed by both. Clearly Snowball Stemmer stems it to a more accurate stem."
   ]
  },
  {
   "cell_type": "markdown",
   "metadata": {},
   "source": [
    "## Lemmatization\n",
    "\n",
    "Lemmatization, unlike Stemming, reduces the inflected words properly ensuring that the root word belongs to the language. In Lemmatization root word is called Lemma. A lemma (plural lemmas or lemmata) is the canonical form, dictionary form, or citation form of a set of words."
   ]
  },
  {
   "cell_type": "code",
   "execution_count": 16,
   "metadata": {
    "tags": []
   },
   "outputs": [],
   "source": [
    "from nltk.stem import WordNetLemmatizer\n",
    "\n",
    "def lemmatization():\n",
    "    corpus=[]\n",
    "    # Initialize Word Net Lemmatizer\n",
    "    lemm = WordNetLemmatizer()\n",
    "\n",
    "    for i in range(0, train.shape[0]):\n",
    "        # get title and abstract and remove non alpha chars\n",
    "        title = re.sub('[^a-zA-Z]', ' ', train['TITLE'][i])\n",
    "        abstract = re.sub('[^a-zA-Z]', ' ', train['ABSTRACT'][i])\n",
    "        # to lower-case and tokenize\n",
    "        title = title.lower().split()\n",
    "        abstract = abstract.lower().split()\n",
    "        # lemmatization and stop word removal\n",
    "        title = ' '.join([lemm.lemmatize(w) for w in title if not w in set(stopwords.words('english'))])\n",
    "        abstract = ' '.join([lemm.lemmatize(w) for w in abstract if not w in set(stopwords.words('english'))])\n",
    "        corpus.append((title, abstract))\n",
    "        \n",
    "    return corpus"
   ]
  },
  {
   "source": [
    "# Running the preprocessing algorithms"
   ],
   "cell_type": "markdown",
   "metadata": {}
  },
  {
   "source": [
    "## Running Porter Stemming"
   ],
   "cell_type": "markdown",
   "metadata": {}
  },
  {
   "cell_type": "code",
   "execution_count": 68,
   "metadata": {},
   "outputs": [
    {
     "output_type": "stream",
     "name": "stdout",
     "text": [
      "Time took: 669.1881189346313 seconds\n"
     ]
    }
   ],
   "source": [
    "start_time=time.time()\n",
    "corpus1 = porterStemming()\n",
    "print(\"Time took: %s seconds\" % (time.time() - start_time))"
   ]
  },
  {
   "source": [
    "## Running Lancaster Stemming"
   ],
   "cell_type": "markdown",
   "metadata": {}
  },
  {
   "cell_type": "code",
   "execution_count": 69,
   "metadata": {},
   "outputs": [
    {
     "output_type": "stream",
     "name": "stdout",
     "text": [
      "Time took: 651.0373740196228 seconds\n"
     ]
    }
   ],
   "source": [
    "start_time=time.time()\n",
    "corpus1 = lancasterStemming()\n",
    "print(\"Time took: %s seconds\" % (time.time() - start_time))"
   ]
  },
  {
   "source": [
    "## Running Snowball Stemming"
   ],
   "cell_type": "markdown",
   "metadata": {}
  },
  {
   "cell_type": "code",
   "execution_count": 70,
   "metadata": {},
   "outputs": [
    {
     "output_type": "stream",
     "name": "stdout",
     "text": [
      "Time took: 632.8341162204742 seconds\n"
     ]
    }
   ],
   "source": [
    "start_time=time.time()\n",
    "corpus1 = snowballStemming()\n",
    "print(\"Time took: %s seconds\" % (time.time() - start_time))"
   ]
  },
  {
   "source": [
    "## Running Lemmatization"
   ],
   "cell_type": "markdown",
   "metadata": {}
  },
  {
   "cell_type": "code",
   "execution_count": 71,
   "metadata": {},
   "outputs": [
    {
     "output_type": "stream",
     "name": "stdout",
     "text": [
      "Time took: 610.1367080211639 seconds\n"
     ]
    }
   ],
   "source": [
    "start_time=time.time()\n",
    "corpus1 = lemmatization()\n",
    "print(\"Time took: %s seconds\" % (time.time() - start_time))"
   ]
  },
  {
   "source": [
    "To check the corpus produced by the preprocessing algorithm, run the code below."
   ],
   "cell_type": "markdown",
   "metadata": {}
  },
  {
   "cell_type": "code",
   "execution_count": 81,
   "metadata": {
    "tags": [
     "outputPrepend"
    ]
   },
   "outputs": [
    {
     "output_type": "stream",
     "name": "stdout",
     "text": [
      "y employed enable effective simulation problem involving complex geometry moving object rotorcraft paper present novel overset domain connectivity algorithm based upon direct cut approach suitable use gpu accelerated solver high order curved grid contrast previous method capable exploiting highly data parallel nature modern accelerator approach also substantially efficient handling curved grid arise within context high order method implementation new algorithm presented combined high order fluid dynamic code algorithm validated several benchmark problem including flow spinning golf ball reynolds number'), ('data assimilation algorithm paradigm leray alpha model turbulence', 'paper survey various implementation new data assimilation downscaling algorithm based spatial coarse mesh measurement paradigm demonstrate application algorithm leray alpha subgrid scale turbulence model importantly use paradigm show always necessary one collect coarse mesh measurement state variable involved underlying evolutionary system order recover corresponding exact reference solution specifically show case leray alpha model turbulence solution algorithm constructed using coarse mesh observation two component three dimensional velocity field without information third component converge exponential rate time corresponding exact reference solution leray alpha model study serf addendum recent work abridged continuous data assimilation navier stokes equation notably similar result also recently established viscous planetary geostrophic circulation model show coarse mesh measurement temperature alone sufficient recovering data assimilation algorithm full solution viz three component velocity vector field temperature consequently prof charney conjecture planetary geostrophic model namely history large spatial scale temperature sufficient determining quantity state variable model'), ('playing true parrondo game three state coin quantum walk', 'playing parrondo game qutrit subject paper show true quantum parrondo game played state coin qutrit quantum walk contrast fact playing true parrondo game state coin qubit quantum walk fails asymptotic limit'), ('cross modal recurrent model weight objective prediction multimodal time series data', 'analyse multimodal time series data corresponding weight sleep step measurement focus predicting whether user successfully achieve weight objective design several deep long short term memory lstm architecture including novel cross modal lstm x lstm demonstrate superiority baseline approach x lstm improves parameter efficiency processing modality separately allowing information flow way recurrent cross connection present general hyperparameter optimisation technique x lstms allows u significantly improve lstm prior state art cross modal approach using comparable number parameter finally visualise model prediction revealing implication latent variable task'), ('spatial variational auto encoding via matrix variate normal distribution', 'key idea variational auto encoders vaes resembles traditional auto encoder model spatial information supposed explicitly encoded latent space however latent variable vaes vector interpreted multiple feature map size x representation convey spatial information implicitly coupled powerful decoder work propose spatial vaes use feature map larger size latent variable explicitly capture spatial information achieved allowing latent variable sampled matrix variate normal mvn distribution whose parameter computed encoder network increase dependency among location latent feature map reduce number parameter propose spatial vaes via low rank mvn distribution experimental result show proposed spatial vaes outperform original vaes capturing rich structural spatial information'), ('optimal ramp scheme related combinatorial object', 'jackson martin proved strong ideal ramp scheme equivalent orthogonal array however good characterization ideal ramp scheme strong show equivalence ideal ramp scheme new variant orthogonal array term augmented orthogonal array give construction new kind array consequence also provide parameter situation ideal ramp scheme exist strong ideal ramp scheme exist'), ('neural net learn statistical law behind natural language', 'performance deep learning natural language processing spectacular reason success remain unclear inherent complexity deep learning paper provides empirical evidence effectiveness limitation neural network language engineering precisely demonstrate neural language model based long short term memory lstm effectively reproduces zipf law heap law two representative statistical property underlying natural language discus quality reproducibility emergence zipf law heap law training progress also point neural language model limitation reproducing long range correlation another statistical property natural language understanding could provide direction improving architecture neural network'), ('super speed zero ram next generation large scale optimization laptop', 'article present novel breakthrough general purpose algorithm large scale optimization problem novel algorithm capable achieving breakthrough speed large scale optimization general purpose laptop embedded system application algorithm griewank function possible billion decision variable double precision took second hour solve consuming mb gb ram single threaded laptop cpu show algorithm computationally memory space linearly efficient find optimal near optimal solution fraction time memory many conventional algorithm require envisaged open new possibility real time large scale problem personal laptop embedded system'), ('recoverable energy dissipative electromagnetic system', 'ambiguity definition stored energy within distributed radiating electromagnetic system motivate discussion well defined concept recoverable energy concept commonly overlooked community purpose communication recall existence discus relationship fractional bandwidth using rational function approximation system input impedance recoverable energy lumped radiating system calculated closed form related stored energy fractional bandwidth lumped circuit also used demonstrate relationship recoverable energy energy stored within equivalent circuit produced minimum phase shift darlington synthesis procedure'), ('elliptic hall algebra mathbb f', 'construct hall algebra elliptic curve mathbb f using theory monoidal scheme due deitmar theory hall algebra monoidal representation due szczesny resulting algebra shown specialization elliptic hall algebra studied burban schiffmann thus algebra isomorphic skein algebra torus recent work morton samuelson'), ('approximate bayesian inference queueing network coupled jump process', 'queueing network system theoretical interest give rise complex family stochastic process find widespread use performance evaluation interconnected resource yet despite importance within application comparison counterpart stochastic model genetics mathematical biology exist relevant approach transient inference uncertainty quantification task system consequence strong computational impediment distinctive property markov jump process induced queueing network paper offer comprehensive overview inferential challenge comparison analogue task within related mathematical domain discus model augmentation approximating network system present flexible scalable variational bayesian framework targeted general form open closed queueing system varied service discipline priority inferential procedure finally validated couple uncertainty quantification task network service rate'), ('universal feature price formation financial market perspective deep learning', 'using large scale deep learning approach applied high frequency database containing billion electronic market quote transaction u equity uncover nonparametric evidence existence universal stationary price formation mechanism relating dynamic supply demand stock revealed order book subsequent variation market price ass model testing sample prediction direction price move given history price order flow across wide range stock time period universal price formation model shown exhibit remarkably stable sample prediction accuracy across time wide range stock different sector interestingly result also hold stock part training sample showing relation captured model universal asset specific universal model trained data stock outperforms term sample prediction accuracy asset specific linear nonlinear model trained time series given stock showing universal nature price formation weighs favour pooling together financial data various stock rather designing asset sector specific model commonly done standard data normalization based volatility price level average spread partitioning training data sector category large small tick stock improve training result hand inclusion price order flow history many past observation shown improve forecasting performance showing evidence path dependence price dynamic'), ('new tracking algorithm multiple colloidal particle close contact', 'paper propose new algorithm based radial symmetry center method track colloidal particle close contact optical image particle start overlap digital video microscopy overlapping effect important observe pair interaction potential colloidal study appears additional interaction measurement interaction conventional tracking analysis proposed algorithm work simple fast applicable two particle also three particle without modification algorithm us gradient vector particle intensity distribution allows u use part symmetric intensity distribution calculation actual particle position study simulation performed see performance proposed algorithm two three particle simulation image generated using fitted curve experimental particle image different sized particle result algorithm yield maximum error smaller nm mu silica particle contact condition'), ('critical percolation without fine tuning surface topological superconductor', 'present numerical evidence two dimensional surface state bulk topological superconductor tsc sit integer quantum hall plateau transition study tsc surface state class ci quenched disorder low energy finite energy surface state expected critically delocalized anderson localized confirm low energy picture find instead finite energy state also delocalized universal statistic independent tsc winding number consistent spin quantum hall plateau transition percolation'), ('low luminosity stellar wind accretion onto neutron star hmxbs', 'feature application quasi spherical settling accretion onto rotating magnetized neutron star high mass x ray binary discussed settling accretion occurs wind fed hmxbs plasma cooling time longer free fall time gravitational capture radius take place low luminosity hmxbs l x lesssim time erg briefly review implication settling accretion focusing sfxt phenomenon related instability quasi spherical convective shell neutron star magnetosphere due magnetic reconnection fast temporarily magnetized wind ob supergiant young neutron star wind fed hmxb rapidly rotating propeller regime quasi spherical hot shell occurs show x ray spectral temporal property enigmatic gamma ca star consistent failed settling accretion regime onto propelling neutron star subsequent evolutionary stage gamma ca analog x per type binary comprising low luminosity slowly rotating x ray pulsar'), ('faithful inversion generative model effective amortized inference', 'inference amortization method share information across multiple posterior inference problem allowing carried efficiently generally require inversion dependency structure generative model modeller must learn mapping observation distribution approximating posterior previous approach involved inverting dependency structure heuristic way fails capture dependency correctly thereby limiting achievable accuracy resulting approximation introduce algorithm faithfully minimally inverting graphical model structure generative model inverse two crucial property encode independence assertion absent model b local maximum number true independency encoded prove correctness approach empirically show resulting minimally faithful inverse lead better inference amortization existing heuristic approach'), ('social network analysis operation research industrial engineering faculty hiring network', 'study u operation research industrial system engineering orie faculty hiring network consisting faculty origin destination data together attribute data orie department social network analysis faculty hire reveal important pattern academic field existence hierarchy sociological aspect presence community department first statistically test existence linear hierarchy network steepness find near linear hierarchical order department proposing new index hiring network contrast indicator hierarchy including published ranking single index capable capture full structure complex network however next fit latent exponential random graph model ergm network able reproduce main observed characteristic high incidence self hiring skewed degree distribution low density clustering finally use latent variable ergm simplify network one faculty hire take place among three group department contrast finding reported related discipline computer science business'), ('one sample aggregate data meta analysis median', 'aggregate data meta analysis statistical method pool summary statistic several selected study estimate outcome interest considering continuous outcome typically study must report measure outcome variable spread e g sample mean standard error however study may instead report median along various measure spread recently task incorporating median meta analysis achieved estimating sample mean standard error study report median order meta analyze mean paper propose two alternative approach meta analyze data instead rely median systematically compare approach via simulation study method transform study specific median spread sample mean standard error demonstrate proposed median based approach perform better transformation based approach especially applied skewed data data high inter study variance addition meta analyzing data consists median show median based approach perform considerably better comparably best case scenario transformation approach conducting meta analysis using actual sample mean standard error mean study finally illustrate approach meta analysis patient delay tuberculosis diagnosis'), ('quickcast fast efficient inter datacenter transfer using forwarding tree cohort', 'large inter datacenter transfer crucial cloud service efficiency increasingly used organization dedicated wide area network datacenters recent work us multicast forwarding tree reduce bandwidth need improve completion time point multipoint transfer using single forwarding tree per transfer however lead poor performance slowest receiver dictate completion time receiver using multiple forwarding tree per transfer alleviates concern average receiver could finish early however done naively bandwidth usage would also increase apriori unclear best partition receiver construct multiple tree determine rate schedule flow tree paper present quickcast first solution problem using simulation real world network topology see quickcast speed average receiver completion time much time using time bandwidth completion time receiver also improves much time faster high load'), ('contemporary machine learning guide practitioner physical science', 'machine learning finding increasingly broad application physical science often involves building model relationship dependent measurable output associated set controllable complicated independent input present tutorial current technique machine learning jumping point interested researcher advance work focus deep neural network emphasis demystifying deep learning begin background idea machine learning example application current research plasma physic discus supervised learning technique modeling complicated function beginning familiar regression scheme advancing sophisticated deep learning method also address unsupervised learning technique reducing dimensionality input space along way describe method practitioner help ensure model generalize training data yet unseen test data describe class task predicting scalar handling image fitting time series prepare reader choose appropriate technique finally point limitation modern machine learning speculate way practitioner physical science may particularly suited help'), ('uniform diamond coating wc co hard alloy cutting insert deposited microwave plasma cvd', 'polycrystalline diamond coating grown cemented carbide substrate different aspect ratio microwave plasma cvd methane hydrogen gas mixture protect edge substrate non uniform heating due plasma edge effect special plateholder pocket group growth used difference height substrate plateholder influence diamond film mean grain size growth rate phase composition stress investigated substrate temperature range within uniform diamond film produced good adhesion determined diamond coated cutting insert produced optimized process exhibited reduction cutting force wear resistance factor two cutting efficiency increase time upon turning al si alloy compared performance uncoated tool'), ('analysing soccer game clustering conceptors', 'present new approach identifying situation behaviour call move soccer game simulation league able identify key situation behaviour useful capability analysing soccer match anticipating opponent behaviour aid selection appropriate tactic also prerequisite automatic learning behaviour policy support wide set strategy goal identify situation data unsupervised way without making use pre defined soccer specific concept pas dribble recurrent neural network use approach act high dimensional projection recent history situation field similar situation e similar history found clustering network state network also used learn called conceptors lower dimensional manifold describe trajectory high dimensional state space enable situation specific prediction neural network proposed approach segment game sequence situation learnt unsupervised way learn conceptors useful prediction near future respective situation'), ('efficient simulation left tail sum correlated log normal variate', 'sum log normal variate encountered many challenging application performance analysis wireless communication system financial engineering several approximation method developed literature accuracy ensured tail region region primordial interest wherein small probability value evaluated high precision variance reduction technique known yield accurate yet efficient estimate small probability value existing approach however considered problem estimating right tail sum log normal random variable rv present work consider instead estimation left tail sum correlated log normal variate gaussian copula mild assumption covariance matrix propose estimator combining existing mean shifting importance sampling approach control variate technique main result proposed estimator asymptotically vanishing relative error represents major finding context left tail simulation sum log normal rv finally ass various simulation result performance proposed estimator compared existing estimator'), ('optional stopping problem bayesians', 'recently optional stopping subject debate bayesian psychology community rouder argues optional stopping problem bayesians even recommends use optional stopping practice wagenmakers et al article address question whether optional stopping problematic bayesian method specifies circumstance sense slightly varying extending rouder experiment illustrate soon parameter interest equipped default pragmatic prior mean practical application bayes factor hypothesis testing resilience optional stopping break distinguish four type default prior specific issue optional stopping ranging problem type prior quite severe type ii iii prior')]\n"
     ]
    }
   ],
   "source": [
    "print(corpus1)"
   ]
  },
  {
   "cell_type": "markdown",
   "metadata": {},
   "source": [
    "# Stemming vs. Lemmatization\n",
    "\n",
    "Stemming and Lemmatization are itself form of NLP and widely used in Text mining. Text Mining is the process of analysis of texts written in natural language and extract high-quality information from text. It involves looking for interesting patterns in the text or to extract data from the text to be inserted into a database. Developers have to prepare text using lexical analysis, POS (Parts-of-speech) tagging, stemming and other Natural Language Processing techniques to gain useful information from text.\n",
    "\n",
    "### When should one use Stemming or Lemmatization?\n",
    "Stemming and Lemmatization both generate the root form of the inflected words. The difference is that stem might not be an actual word whereas, lemma is an actual language word.\n",
    "\n",
    "Stemming follows an algorithm with steps to perform on the words which makes it faster. Whereas, in lemmatization, using WordNet corpus and a corpus for stop words as well to produce lemma, which makes it slower than stemming.\n",
    "\n",
    "In stemming, a part of the word is just chopped off at the tail end to arrive at the stem of the word. There are definitely different algorithms used to find out how many characters have to be chopped off, but the algorithms don’t actually know the meaning of the word in the language it belongs to. In lemmatization, on the other hand, the algorithms have this knowledge. In fact, you can even say that these algorithms refer a dictionary to understand the meaning of the word before reducing it to its root word, or lemma.\n",
    "\n",
    "A lemmatization algorithm would know that the word better is derived from the word good, and hence, the lemme is good. But a stemming algorithm wouldn’t be able to do the same. There could be over-stemming or under-stemming, and the word better could be reduced to either bet, or bett, or just retained as better. But there is no way in stemming that it could be reduced to its root word good. This, basically is the difference between stemming and lemmatization.\n",
    "\n",
    "The above points show that if speed is the focus then stemming should be used since lemmatizers scan a corpus which consumes time and processing. It widely depends on the problem characteristics if stemmers should be used or lemmatizers.\n",
    "\n",
    "### Pros of Stemming:\n",
    "- Quicker and less complex than lemmatization.\n",
    "- Requires less computational power and resources.\n",
    "\n",
    "### Cons of Stemming:\n",
    "- Issues of over stemming and under stemming may lead to not so meaningful or inappropriate stems.\n",
    "- Stemming does not consider how the word is being used. For example – the word ‘saw‘ will be stemmed to ‘saw‘ itself but it won’t be considered whether the word is being used as a noun or a verb in the context. For this reason, Lemmatization is used as it keeps this fact in consideration and will return either ‘see’ or ‘saw’ depending on whether the word ‘saw’ was used as a verb or a noun.\n",
    "\n",
    "\n",
    "### Pros of Lemmatization:\n",
    "\n",
    "- The obvious advantage of lemmatization is that it is more accurate.\n",
    "- When dealing with an NLP application such as a chat bot or a virtual assistant where understanding the meaning of the dialogue is crucial, lemmatization is useful.\n",
    "\n",
    "\n",
    "### Cons of Lemmatization:\n",
    "\n",
    "- Because lemmatization involves deriving the meaning of a word from something like a dictionary, it’s very time consuming.\n",
    "- There is also a computation overhead for lemmatization.\n"
   ]
  },
  {
   "cell_type": "markdown",
   "metadata": {},
   "source": [
    "# Bag-of-words\n"
   ]
  },
  {
   "cell_type": "markdown",
   "metadata": {},
   "source": [
    "After forming the corpus, the bag-of-words model can be built!"
   ]
  },
  {
   "cell_type": "code",
   "execution_count": 17,
   "metadata": {},
   "outputs": [],
   "source": [
    "from sklearn.feature_extraction.text import CountVectorizer\n",
    "\n",
    "def bagOfWords(corpus, category):\n",
    "    # Create bag-of-words model\n",
    "    data = []\n",
    "    for (title, abstract) in corpus:\n",
    "        data.append(title + abstract)\n",
    "\n",
    "    vectorizer = CountVectorizer(max_features = 1500)\n",
    "    X = vectorizer.fit_transform(data).toarray()\n",
    "    if(category == 1):\n",
    "        y = datasetCS.iloc[:,-1].values\n",
    "    elif(category == 2):\n",
    "        y = datasetPhysics.iloc[:,-1].values\n",
    "    elif(category == 3):\n",
    "        y = datasetMathematics.iloc[:,-1].values\n",
    "    elif(category == 4):\n",
    "        y = datasetStatistics.iloc[:,-1].values\n",
    "    elif(category == 5):\n",
    "        y = datasetQBiology.iloc[:,-1].values\n",
    "    else:\n",
    "        y = datasetQFinance.iloc[:,-1].values\n",
    "\n",
    "    return X,y\n",
    "\n"
   ]
  },
  {
   "cell_type": "markdown",
   "metadata": {},
   "source": [
    "# Splitting the training dataset \n",
    "\n",
    "In order to create a test dataset where the accuracy of the models can be evaluated, the training dataset must be split into a smaller training dataset and a test dataset, in order to compare the model predictions to the correct topic modelling answer."
   ]
  },
  {
   "cell_type": "code",
   "execution_count": 18,
   "metadata": {},
   "outputs": [],
   "source": [
    "# Split dataset into training and test sets\n",
    "from sklearn.model_selection import train_test_split\n",
    "\n",
    "def splittingDataset(X,y):\n",
    "\n",
    "    X_train, X_test, y_train, y_test = train_test_split(X, y, test_size = 0.20, random_state = 0)\n",
    "\n",
    "    # print(X_train.shape, y_train.shape)\n",
    "    # print(X_test.shape, y_test.shape)\n",
    "\n",
    "    return X_train, X_test, y_train, y_test "
   ]
  },
  {
   "source": [
    "# Classifier Models"
   ],
   "cell_type": "markdown",
   "metadata": {}
  },
  {
   "cell_type": "markdown",
   "metadata": {},
   "source": [
    "## SVM\n",
    "\n",
    "In machine learning, support-vector machines (SVMs, also support-vector networks) are supervised learning models with associated learning algorithms that analyze data for classification and regression analysis. SVMs are one of the most robust prediction methods, being based on statistical learning frameworks or VC theory. Given a set of training examples, each marked as belonging to one of two categories, an SVM training algorithm builds a model that assigns new examples to one category or the other, making it a non-probabilistic binary linear classifier. SVM maps training examples to points in space so as to maximise the width of the gap between the two categories. New examples are then mapped into that same space and predicted to belong to a category based on which side of the gap they fall.\n",
    "\n",
    "In addition to performing linear classification, SVMs can efficiently perform a non-linear classification using what is called the kernel trick, implicitly mapping their inputs into high-dimensional feature spaces."
   ]
  },
  {
   "cell_type": "code",
   "execution_count": 19,
   "metadata": {},
   "outputs": [],
   "source": [
    "from sklearn.svm import SVC\n",
    "\n",
    "def SVM(X_train, y_train, X_test):\n",
    "    classifier = SVC()\n",
    "    classifier.fit(X_train, y_train)\n",
    "    y_pred = classifier.predict(X_test)\n",
    "\n",
    "    return y_pred\n"
   ]
  },
  {
   "source": [
    "## Decision Trees\n",
    "\n",
    "Decision tree learning is one of the predictive modelling approaches used in statistics, data mining and machine learning. It uses a decision tree (as a predictive model) to go from observations about an item (represented in the branches) to conclusions about the item's target value (represented in the leaves). Tree models where the target variable can take a discrete set of values are called classification trees; in these tree structures, leaves represent class labels and branches represent conjunctions of features that lead to those class labels. Decision trees where the target variable can take continuous values (typically real numbers) are called regression trees. Decision trees are among the most popular machine learning algorithms given their intelligibility and simplicity."
   ],
   "cell_type": "markdown",
   "metadata": {}
  },
  {
   "cell_type": "code",
   "execution_count": 20,
   "metadata": {},
   "outputs": [],
   "source": [
    "from sklearn.tree import DecisionTreeClassifier\n",
    "from sklearn import tree\n",
    "\n",
    "def decisionTree(X_train, y_train, X_test):\n",
    "    classifier = DecisionTreeClassifier(min_samples_leaf=10)\n",
    "    model = classifier.fit(X_train, y_train)\n",
    "\n",
    "    tree.plot_tree(classifier) \n",
    "\n",
    "    y_pred = model.predict(X_test)\n",
    "\n",
    "    return y_pred \n"
   ]
  },
  {
   "source": [
    "## Naïve Bayes\n",
    "\n",
    "Naïve Bayes algorithm is a supervised learning algorithm, which is based on Bayes theorem and used for solving classification problems. It is a probabilistic classifier, which means it predicts on the basis of the probability of an object. It is mainly used in text classification that includes a high-dimensional training dataset. This algorithm is one of the simple and most effective classification algorithms which helps in building the fast machine learning models that can make quick predictions."
   ],
   "cell_type": "markdown",
   "metadata": {}
  },
  {
   "cell_type": "code",
   "execution_count": 21,
   "metadata": {},
   "outputs": [],
   "source": [
    "from sklearn.naive_bayes import GaussianNB\n",
    "\n",
    "def naiveBayes(X_train, y_train, X_test):\n",
    "    classifier = GaussianNB()\n",
    "    model = classifier.fit(X_train, y_train)\n",
    "\n",
    "    y_pred = model.predict(X_test)\n",
    "    return y_pred"
   ]
  },
  {
   "cell_type": "markdown",
   "metadata": {},
   "source": [
    "# Running the code\n"
   ]
  },
  {
   "cell_type": "code",
   "execution_count": 23,
   "metadata": {},
   "outputs": [],
   "source": [
    "from sklearn.metrics import confusion_matrix\n",
    "from sklearn.metrics import accuracy_score\n",
    "from sklearn.metrics import precision_score\n",
    "from sklearn.metrics import recall_score\n",
    "from sklearn.metrics import f1_score\n",
    "import time\n",
    "\n",
    "def evaluatePerformance(y_test, y_pred):\n",
    "    print(confusion_matrix(y_test, y_pred))\n",
    "    print('Accuracy: ', accuracy_score(y_test, y_pred))\n",
    "    print('Precision: ', precision_score(y_test, y_pred))\n",
    "    print('Recall: ', recall_score(y_test, y_pred))\n",
    "    print('F1: ', f1_score(y_test, y_pred))"
   ]
  },
  {
   "source": [
    "## Porter Stemming"
   ],
   "cell_type": "markdown",
   "metadata": {}
  },
  {
   "cell_type": "code",
   "execution_count": 101,
   "metadata": {},
   "outputs": [
    {
     "output_type": "stream",
     "name": "stdout",
     "text": [
      "Time took: 688.8998053073883 seconds\n"
     ]
    }
   ],
   "source": [
    "start_time=time.time()\n",
    "corpus = porterStemming()\n",
    "print(\"Time took: %s seconds\" % (time.time() - start_time))"
   ]
  },
  {
   "source": [
    "### SVM with Porter Stemming"
   ],
   "cell_type": "markdown",
   "metadata": {}
  },
  {
   "cell_type": "code",
   "execution_count": 102,
   "metadata": {},
   "outputs": [
    {
     "output_type": "stream",
     "name": "stdout",
     "text": [
      "X: \n",
      "\n",
      "[[0 0 0 ... 0 2 0]\n",
      " [0 0 0 ... 0 0 0]\n",
      " [0 0 0 ... 0 0 0]\n",
      " ...\n",
      " [0 0 1 ... 0 0 0]\n",
      " [0 0 0 ... 1 1 0]\n",
      " [0 0 0 ... 0 0 0]]\n",
      "Y: \n",
      "\n",
      "[1 1 0 ... 1 0 0]\n",
      "['abelian', 'abil', 'abl', 'absorpt', 'abstract', 'abund', 'acceler', 'accept', 'access', 'accord', 'account', 'accret', 'accur', 'accuraci', 'achiev', 'acoust', 'across', 'act', 'action', 'activ', 'actual', 'ad', 'adapt', 'addit', 'address', 'adjust', 'admit', 'adopt', 'advanc', 'advantag', 'adversari', 'affect', 'affin', 'age', 'agent', 'aggreg', 'agn', 'agreement', 'aim', 'al', 'algebra', 'algorithm', 'align', 'alloc', 'allow', 'almost', 'along', 'alpha', 'alreadi', 'also', 'altern', 'although', 'alway', 'among', 'amount', 'amplitud', 'analog', 'analys', 'analysi', 'analyt', 'analyz', 'angl', 'angular', 'anisotrop', 'anisotropi', 'annot', 'anomali', 'anoth', 'answer', 'appear', 'appli', 'applic', 'approach', 'appropri', 'approxim', 'arbitrari', 'architectur', 'area', 'argu', 'argument', 'aris', 'arithmet', 'arm', 'around', 'array', 'art', 'articl', 'artifici', 'aspect', 'assess', 'assign', 'assist', 'associ', 'assum', 'assumpt', 'asymptot', 'atmospher', 'atom', 'attack', 'attempt', 'attent', 'attract', 'attribut', 'audio', 'augment', 'author', 'autoencod', 'autom', 'automat', 'autonom', 'avail', 'averag', 'avoid', 'awar', 'axi', 'back', 'background', 'balanc', 'band', 'bandit', 'bandwidth', 'base', 'baselin', 'basi', 'basic', 'batch', 'bayesian', 'beam', 'becom', 'behavior', 'behaviour', 'benchmark', 'benefit', 'best', 'beta', 'better', 'beyond', 'bi', 'bia', 'bias', 'big', 'binari', 'biolog', 'bit', 'black', 'block', 'bodi', 'bond', 'boost', 'bootstrap', 'bound', 'boundari', 'box', 'brain', 'branch', 'break', 'bright', 'broad', 'build', 'built', 'bulk', 'bundl', 'calcul', 'calibr', 'call', 'camera', 'candid', 'cannot', 'canon', 'capabl', 'capac', 'captur', 'care', 'carlo', 'carri', 'cascad', 'case', 'categor', 'categori', 'caus', 'causal', 'caviti', 'cdot', 'cell', 'cellular', 'center', 'central', 'certain', 'chain', 'challeng', 'chang', 'channel', 'charact', 'character', 'characterist', 'charg', 'check', 'chemic', 'choic', 'choos', 'chosen', 'circuit', 'cite', 'citi', 'class', 'classic', 'classif', 'classifi', 'clear', 'clinic', 'close', 'cloud', 'cluster', 'cm', 'cnn', 'co', 'code', 'coeffici', 'cognit', 'coher', 'cold', 'collabor', 'collaps', 'collect', 'collis', 'color', 'combin', 'combinatori', 'come', 'common', 'commonli', 'commun', 'commut', 'compact', 'compar', 'comparison', 'compat', 'compet', 'competit', 'complement', 'complet', 'complex', 'complic', 'compon', 'compos', 'composit', 'compound', 'comprehens', 'compress', 'comput', 'concentr', 'concept', 'concern', 'conclud', 'conclus', 'condens', 'condit', 'conduct', 'confid', 'configur', 'confirm', 'conform', 'conjectur', 'connect', 'consequ', 'conserv', 'consid', 'consider', 'consist', 'constant', 'constrain', 'constraint', 'construct', 'consum', 'consumpt', 'contact', 'contain', 'content', 'context', 'continu', 'continuum', 'contract', 'contrast', 'contribut', 'control', 'convent', 'converg', 'convers', 'convex', 'convolut', 'cool', 'cooper', 'coordin', 'core', 'correct', 'correl', 'correspond', 'cosmic', 'cosmolog', 'cost', 'could', 'count', 'counterpart', 'coupl', 'covari', 'cover', 'coverag', 'creat', 'criteria', 'criterion', 'critic', 'cross', 'crucial', 'crystal', 'current', 'curv', 'curvatur', 'custom', 'cut', 'cycl', 'dark', 'data', 'databas', 'dataset', 'day', 'de', 'deal', 'decad', 'decay', 'decid', 'decis', 'decod', 'decomposit', 'decreas', 'deep', 'defect', 'defin', 'definit', 'deform', 'degener', 'degrad', 'degre', 'delay', 'delta', 'demand', 'demonstr', 'denot', 'dens', 'densiti', 'depend', 'deploy', 'depth', 'deriv', 'descent', 'describ', 'descript', 'design', 'desir', 'despit', 'detail', 'detect', 'detector', 'determin', 'determinist', 'develop', 'deviat', 'devic', 'diagram', 'differ', 'differenti', 'difficult', 'difficulti', 'diffus', 'digit', 'dimens', 'dimension', 'dirac', 'direct', 'directli', 'dirichlet', 'disc', 'discov', 'discoveri', 'discret', 'discrimin', 'discuss', 'diseas', 'disk', 'disord', 'dispers', 'dissip', 'distanc', 'distinct', 'distinguish', 'distort', 'distribut', 'diverg', 'divers', 'dnn', 'document', 'domain', 'domin', 'done', 'dope', 'dot', 'doubl', 'draw', 'drift', 'drive', 'driven', 'dual', 'due', 'dust', 'dwarf', 'dynam', 'earli', 'earth', 'easi', 'easili', 'econom', 'edg', 'effect', 'effici', 'effort', 'eigenvalu', 'either', 'elast', 'electr', 'electromagnet', 'electron', 'element', 'elimin', 'ell', 'ellipt', 'em', 'embed', 'emerg', 'emiss', 'emph', 'empir', 'employ', 'enabl', 'encod', 'end', 'energi', 'engin', 'enhanc', 'enough', 'ensembl', 'ensur', 'entangl', 'entir', 'entiti', 'entropi', 'environ', 'epsilon', 'equal', 'equat', 'equilibrium', 'equival', 'error', 'especi', 'essenti', 'establish', 'estim', 'et', 'etc', 'euclidean', 'euler', 'evalu', 'even', 'event', 'everi', 'evid', 'evolut', 'evolutionari', 'evolv', 'exact', 'exactli', 'examin', 'exampl', 'except', 'exchang', 'excit', 'execut', 'exhibit', 'exist', 'expand', 'expans', 'expect', 'expens', 'experi', 'experiment', 'expert', 'explain', 'explicit', 'explicitli', 'exploit', 'explor', 'expon', 'exponenti', 'express', 'extend', 'extens', 'extern', 'extract', 'extrem', 'face', 'facilit', 'fact', 'factor', 'fail', 'failur', 'fair', 'famili', 'far', 'fast', 'faster', 'favor', 'fe', 'feasibl', 'featur', 'feedback', 'fermi', 'fermion', 'ferromagnet', 'fiber', 'field', 'fill', 'film', 'filter', 'final', 'find', 'fine', 'finit', 'first', 'fit', 'five', 'fix', 'flat', 'flexibl', 'flow', 'fluctuat', 'fluid', 'flux', 'focu', 'focus', 'fold', 'follow', 'forc', 'forecast', 'forest', 'form', 'formal', 'format', 'formul', 'formula', 'forward', 'found', 'four', 'fourier', 'frac', 'fraction', 'frame', 'framework', 'free', 'frequenc', 'full', 'fulli', 'function', 'fundament', 'furthermor', 'fusion', 'futur', 'ga', 'gain', 'galact', 'galaxi', 'game', 'gamma', 'gan', 'gap', 'gate', 'gaug', 'gaussian', 'ge', 'gene', 'gener', 'generalis', 'genet', 'geometr', 'geometri', 'geq', 'get', 'giant', 'give', 'given', 'global', 'go', 'goal', 'good', 'govern', 'gp', 'gpu', 'gradient', 'grain', 'graph', 'graphen', 'graphic', 'gravit', 'graviti', 'great', 'greater', 'grid', 'ground', 'group', 'grow', 'growth', 'guarante', 'guid', 'half', 'hall', 'halo', 'hamiltonian', 'hand', 'handl', 'hard', 'hardwar', 'harmon', 'health', 'heat', 'heavi', 'help', 'henc', 'heterogen', 'heurist', 'hidden', 'hierarch', 'hierarchi', 'high', 'higher', 'highli', 'highlight', 'hilbert', 'histori', 'hold', 'hole', 'homogen', 'homolog', 'host', 'hot', 'howev', 'http', 'human', 'hybrid', 'hydrodynam', 'hydrogen', 'hyperbol', 'hypothesi', 'idea', 'ideal', 'ident', 'identif', 'identifi', 'ii', 'iii', 'illustr', 'imag', 'impact', 'implement', 'impli', 'implic', 'implicit', 'import', 'impos', 'improv', 'includ', 'incorpor', 'increas', 'increasingli', 'inde', 'independ', 'index', 'indic', 'individu', 'induc', 'induct', 'industri', 'inequ', 'infer', 'infinit', 'influenc', 'inform', 'infrar', 'infti', 'inher', 'initi', 'inject', 'inner', 'input', 'insid', 'insight', 'inspir', 'instabl', 'instanc', 'instead', 'instrument', 'insul', 'integ', 'integr', 'intellig', 'intens', 'inter', 'interact', 'interest', 'interfac', 'interfer', 'intermedi', 'intern', 'internet', 'interpret', 'intersect', 'interv', 'intrins', 'introduc', 'intuit', 'invari', 'invers', 'investig', 'involv', 'ion', 'ioniz', 'isol', 'isomorph', 'issu', 'item', 'iter', 'joint', 'jointli', 'jump', 'kernel', 'key', 'kind', 'kinet', 'knowledg', 'known', 'label', 'lack', 'lagrangian', 'lambda', 'languag', 'laplacian', 'larg', 'larger', 'largest', 'laser', 'lasso', 'last', 'latent', 'latter', 'lattic', 'law', 'layer', 'lead', 'learn', 'least', 'left', 'length', 'lens', 'leq', 'less', 'let', 'level', 'leverag', 'librari', 'lie', 'life', 'light', 'like', 'likelihood', 'limit', 'line', 'linear', 'link', 'liquid', 'list', 'literatur', 'littl', 'live', 'load', 'local', 'locat', 'log', 'logarithm', 'logic', 'long', 'look', 'loop', 'loss', 'low', 'lower', 'lstm', 'machin', 'made', 'magnet', 'magnitud', 'main', 'mainli', 'maintain', 'major', 'make', 'manag', 'mani', 'manifold', 'manipul', 'manner', 'manual', 'map', 'margin', 'market', 'markov', 'mass', 'massiv', 'match', 'materi', 'mathbb', 'mathbf', 'mathcal', 'mathemat', 'mathfrak', 'mathrm', 'matric', 'matrix', 'matter', 'max', 'maxim', 'maximum', 'may', 'mean', 'measur', 'mechan', 'media', 'medic', 'medium', 'memori', 'messag', 'meta', 'metal', 'method', 'methodolog', 'metric', 'microscop', 'might', 'million', 'mine', 'minim', 'minimum', 'miss', 'mix', 'mixtur', 'ml', 'mobil', 'modal', 'mode', 'model', 'modern', 'modif', 'modifi', 'modul', 'modular', 'molecul', 'molecular', 'moment', 'momentum', 'monitor', 'monoton', 'mont', 'moreov', 'motion', 'motiv', 'move', 'movement', 'mu', 'much', 'multi', 'multipl', 'multipli', 'multivari', 'music', 'must', 'mutual', 'name', 'natur', 'navig', 'near', 'nearest', 'nearli', 'necessari', 'need', 'neg', 'neighbor', 'net', 'network', 'neural', 'neuron', 'neutrino', 'neutron', 'new', 'next', 'nm', 'node', 'nois', 'noisi', 'non', 'nonlinear', 'nonparametr', 'norm', 'normal', 'note', 'notion', 'novel', 'np', 'nuclear', 'null', 'number', 'numer', 'object', 'observ', 'obtain', 'occur', 'offer', 'often', 'omega', 'one', 'onlin', 'open', 'oper', 'optic', 'optim', 'orbit', 'order', 'organ', 'orient', 'origin', 'orthogon', 'oscil', 'other', 'outcom', 'outlier', 'outperform', 'output', 'overal', 'overcom', 'overlap', 'packag', 'pair', 'paper', 'paradigm', 'parallel', 'paramet', 'parameter', 'parametr', 'part', 'partial', 'particip', 'particl', 'particular', 'particularli', 'partit', 'pass', 'past', 'path', 'patient', 'pattern', 'peak', 'peopl', 'per', 'perform', 'period', 'permut', 'persist', 'person', 'perspect', 'perturb', 'phase', 'phenomena', 'phenomenon', 'phi', 'phonon', 'photon', 'physic', 'pi', 'pipelin', 'pixel', 'place', 'plan', 'planar', 'plane', 'planet', 'planetari', 'plasma', 'platform', 'play', 'player', 'pm', 'point', 'poisson', 'polar', 'polici', 'polynomi', 'popul', 'popular', 'pose', 'posit', 'possibl', 'post', 'posterior', 'potenti', 'power', 'practic', 'pre', 'precis', 'predict', 'prefer', 'presenc', 'present', 'preserv', 'pressur', 'prevent', 'previou', 'previous', 'price', 'primari', 'prime', 'princip', 'principl', 'prior', 'privaci', 'probabilist', 'probabl', 'probe', 'problem', 'procedur', 'process', 'produc', 'product', 'profil', 'program', 'progress', 'project', 'promis', 'proof', 'propag', 'proper', 'properti', 'proport', 'propos', 'protect', 'protein', 'protocol', 'prototyp', 'prove', 'provid', 'proxim', 'pseudo', 'public', 'publish', 'puls', 'pure', 'purpos', 'quadrat', 'qualit', 'qualiti', 'quantifi', 'quantit', 'quantiti', 'quantiz', 'quantum', 'quasi', 'queri', 'question', 'radial', 'radiat', 'radio', 'radiu', 'random', 'rang', 'rank', 'rate', 'rather', 'ratio', 'ration', 'ray', 'reach', 'reaction', 'real', 'realist', 'realiz', 'reason', 'receiv', 'recent', 'recognit', 'recommend', 'reconstruct', 'record', 'recov', 'recoveri', 'recurr', 'recurs', 'redshift', 'reduc', 'reduct', 'refer', 'refin', 'reflect', 'regard', 'regim', 'region', 'regress', 'regret', 'regular', 'reinforc', 'rel', 'relat', 'relationship', 'relativist', 'relax', 'releas', 'relev', 'reli', 'reliabl', 'remain', 'remark', 'remov', 'replac', 'report', 'repres', 'represent', 'reproduc', 'requir', 'research', 'residu', 'resist', 'resolut', 'resolv', 'reson', 'resourc', 'respect', 'respons', 'restrict', 'result', 'retriev', 'return', 'reveal', 'revers', 'review', 'reward', 'rich', 'riemannian', 'right', 'rigid', 'rigor', 'ring', 'rise', 'risk', 'rm', 'rnn', 'robot', 'robust', 'role', 'root', 'rotat', 'rout', 'rule', 'run', 'safeti', 'sampl', 'satellit', 'satisfi', 'scalabl', 'scalar', 'scale', 'scan', 'scatter', 'scenario', 'scene', 'schedul', 'scheme', 'scienc', 'scientif', 'score', 'search', 'second', 'section', 'secur', 'seen', 'segment', 'select', 'self', 'semant', 'semi', 'sens', 'sensit', 'sensor', 'sentenc', 'separ', 'sequenc', 'sequenti', 'seri', 'serv', 'server', 'servic', 'set', 'setup', 'sever', 'shape', 'share', 'sharp', 'shift', 'short', 'show', 'shown', 'si', 'side', 'sigma', 'sign', 'signal', 'signatur', 'signific', 'significantli', 'sim', 'similar', 'simpl', 'simplifi', 'simul', 'simultan', 'sinc', 'singl', 'singular', 'site', 'situat', 'size', 'slow', 'small', 'smaller', 'smart', 'smooth', 'social', 'soft', 'softwar', 'solar', 'solid', 'soliton', 'solut', 'solv', 'solver', 'sound', 'sourc', 'space', 'span', 'spars', 'sparsiti', 'spatial', 'speaker', 'speci', 'special', 'specif', 'specifi', 'spectra', 'spectral', 'spectroscopi', 'spectrum', 'speech', 'speed', 'sphere', 'spheric', 'spike', 'spin', 'split', 'spread', 'sqrt', 'squar', 'stabil', 'stabl', 'stack', 'stage', 'standard', 'star', 'start', 'state', 'static', 'stationari', 'statist', 'steadi', 'stellar', 'step', 'still', 'stochast', 'storag', 'store', 'strategi', 'stream', 'strength', 'stress', 'string', 'strong', 'strongli', 'structur', 'student', 'studi', 'sub', 'subgroup', 'subject', 'subsequ', 'subset', 'subspac', 'substanti', 'success', 'suffer', 'suffici', 'suggest', 'suit', 'suitabl', 'sum', 'super', 'superconduct', 'superconductor', 'superior', 'supervis', 'support', 'suppress', 'surfac', 'survey', 'switch', 'symbol', 'symmetr', 'symmetri', 'synchron', 'synthes', 'synthesi', 'synthet', 'system', 'systemat', 'tackl', 'tail', 'take', 'taken', 'target', 'task', 'tau', 'technic', 'techniqu', 'technolog', 'telescop', 'temperatur', 'tempor', 'tend', 'tensor', 'term', 'test', 'text', 'textit', 'th', 'theorem', 'theoret', 'theori', 'therebi', 'therefor', 'thermal', 'thermodynam', 'theta', 'thick', 'thin', 'third', 'three', 'threshold', 'thu', 'tight', 'time', 'togeth', 'tool', 'top', 'topic', 'topolog', 'total', 'toward', 'trace', 'track', 'trade', 'tradit', 'traffic', 'train', 'trajectori', 'transfer', 'transform', 'transient', 'transit', 'translat', 'transmiss', 'transport', 'trap', 'travel', 'treat', 'treatment', 'tree', 'trend', 'trivial', 'true', 'truth', 'tune', 'turbul', 'turn', 'twist', 'two', 'type', 'typic', 'uncertainti', 'underli', 'understand', 'understood', 'unifi', 'uniform', 'uniqu', 'unit', 'univers', 'unknown', 'unlik', 'unsupervis', 'updat', 'upon', 'upper', 'urban', 'url', 'us', 'usag', 'use', 'user', 'usual', 'util', 'valid', 'valu', 'vanish', 'varepsilon', 'vari', 'variabl', 'varianc', 'variant', 'variat', 'varieti', 'variou', 'vector', 'vehicl', 'veloc', 'verif', 'verifi', 'version', 'vertex', 'vertic', 'via', 'video', 'view', 'virtual', 'vision', 'visual', 'volatil', 'voltag', 'volum', 'vortex', 'vulner', 'walk', 'wall', 'water', 'wave', 'wavelength', 'way', 'weak', 'weakli', 'web', 'weight', 'well', 'wherea', 'whether', 'whole', 'whose', 'wide', 'width', 'wind', 'window', 'wireless', 'wise', 'within', 'without', 'word', 'work', 'world', 'would', 'year', 'yet', 'yield', 'zero']\n",
      "[[2148  303]\n",
      " [ 255 1489]]\n",
      "Accuracy:  0.866984505363528\n",
      "Precision:  0.8309151785714286\n",
      "Recall:  0.8537844036697247\n",
      "F1:  0.8421945701357466\n",
      "Time took: 598.1674900054932 seconds\n"
     ]
    }
   ],
   "source": [
    "# Computer Science Training\n",
    "start_time=time.time()\n",
    "X,y = bagOfWords(corpus, 1)\n",
    "X_train, X_test, y_train, y_test = splittingDataset(X,y)\n",
    "y_pred = SVM(X_train, y_train, X_test)\n",
    "evaluatePerformance(y_test, y_pred)\n",
    "print(\"Time took: %s seconds\" % (time.time() - start_time))"
   ]
  },
  {
   "cell_type": "code",
   "execution_count": 104,
   "metadata": {},
   "outputs": [
    {
     "output_type": "stream",
     "name": "stdout",
     "text": [
      "[[2933   66]\n [ 250  946]]\nAccuracy:  0.9246722288438617\nPrecision:  0.9347826086956522\nRecall:  0.7909698996655519\nF1:  0.8568840579710145\nTime took: 381.61355090141296 seconds\n"
     ]
    }
   ],
   "source": [
    "# Physics Training\n",
    "start_time=time.time()\n",
    "X,y = bagOfWords(corpus, 2)\n",
    "X_train, X_test, y_train, y_test = splittingDataset(X,y)\n",
    "y_pred = SVM(X_train, y_train, X_test)\n",
    "evaluatePerformance(y_test, y_pred)\n",
    "print(\"Time took: %s seconds\" % (time.time() - start_time))"
   ]
  },
  {
   "cell_type": "code",
   "execution_count": 105,
   "metadata": {},
   "outputs": [
    {
     "output_type": "stream",
     "name": "stdout",
     "text": [
      "[[2966  154]\n [ 253  822]]\nAccuracy:  0.902979737783075\nPrecision:  0.8422131147540983\nRecall:  0.7646511627906977\nF1:  0.8015602145294978\nTime took: 304.0973958969116 seconds\n"
     ]
    }
   ],
   "source": [
    "# Mathematics Training\n",
    "start_time=time.time()\n",
    "X,y = bagOfWords(corpus, 3)\n",
    "X_train, X_test, y_train, y_test = splittingDataset(X,y)\n",
    "y_pred = SVM(X_train, y_train, X_test)\n",
    "evaluatePerformance(y_test, y_pred)\n",
    "print(\"Time took: %s seconds\" % (time.time() - start_time))"
   ]
  },
  {
   "cell_type": "code",
   "execution_count": 106,
   "metadata": {},
   "outputs": [
    {
     "output_type": "stream",
     "name": "stdout",
     "text": [
      "[[2984  185]\n [ 321  705]]\nAccuracy:  0.8793802145411204\nPrecision:  0.7921348314606742\nRecall:  0.6871345029239766\nF1:  0.7359081419624217\nTime took: 459.6945171356201 seconds\n"
     ]
    }
   ],
   "source": [
    "# Statistics Training\n",
    "start_time=time.time()\n",
    "X,y = bagOfWords(corpus, 4)\n",
    "X_train, X_test, y_train, y_test = splittingDataset(X,y)\n",
    "y_pred = SVM(X_train, y_train, X_test)\n",
    "evaluatePerformance(y_test, y_pred)\n",
    "print(\"Time took: %s seconds\" % (time.time() - start_time))"
   ]
  },
  {
   "cell_type": "code",
   "execution_count": 107,
   "metadata": {},
   "outputs": [
    {
     "output_type": "stream",
     "name": "stdout",
     "text": [
      "[[4078    1]\n [ 113    3]]\nAccuracy:  0.9728247914183552\nPrecision:  0.75\nRecall:  0.02586206896551724\nF1:  0.05\nTime took: 133.15859699249268 seconds\n"
     ]
    }
   ],
   "source": [
    "# Quantitative Biology\n",
    "start_time=time.time()\n",
    "X,y = bagOfWords(corpus, 5)\n",
    "X_train, X_test, y_train, y_test = splittingDataset(X,y)\n",
    "y_pred = SVM(X_train, y_train, X_test)\n",
    "evaluatePerformance(y_test, y_pred)\n",
    "print(\"Time took: %s seconds\" % (time.time() - start_time))"
   ]
  },
  {
   "cell_type": "code",
   "execution_count": 108,
   "metadata": {},
   "outputs": [
    {
     "output_type": "stream",
     "name": "stdout",
     "text": [
      "[[4143    2]\n [  43    7]]\nAccuracy:  0.9892729439809297\nPrecision:  0.7777777777777778\nRecall:  0.14\nF1:  0.23728813559322035\nTime took: 52.21942973136902 seconds\n"
     ]
    }
   ],
   "source": [
    "# Quantitative Finance\n",
    "start_time=time.time()\n",
    "X,y = bagOfWords(corpus, 6)\n",
    "X_train, X_test, y_train, y_test = splittingDataset(X,y)\n",
    "y_pred = SVM(X_train, y_train, X_test)\n",
    "evaluatePerformance(y_test, y_pred)\n",
    "print(\"Time took: %s seconds\" % (time.time() - start_time))"
   ]
  },
  {
   "source": [
    " ### Decision Trees with Porter Stemming"
   ],
   "cell_type": "markdown",
   "metadata": {}
  },
  {
   "cell_type": "code",
   "execution_count": 109,
   "metadata": {},
   "outputs": [
    {
     "output_type": "stream",
     "name": "stdout",
     "text": [
      "[[2044  407]\n [ 538 1206]]\nAccuracy:  0.7747318235995232\nPrecision:  0.7476751394916304\nRecall:  0.6915137614678899\nF1:  0.7184986595174262\nTime took: 17.416154146194458 seconds\n"
     ]
    }
   ],
   "source": [
    "# Computer Science Training\n",
    "start_time=time.time()\n",
    "X,y = bagOfWords(corpus, 1)\n",
    "X_train, X_test, y_train, y_test = splittingDataset(X,y)\n",
    "y_pred = decisionTree(X_train, y_train, X_test)\n",
    "evaluatePerformance(y_test, y_pred)\n",
    "print(\"Time took: %s seconds\" % (time.time() - start_time))"
   ]
  },
  {
   "cell_type": "code",
   "execution_count": 110,
   "metadata": {},
   "outputs": [
    {
     "output_type": "stream",
     "name": "stdout",
     "text": [
      "[[2791  208]\n [ 347  849]]\nAccuracy:  0.867699642431466\nPrecision:  0.8032166508987701\nRecall:  0.709866220735786\nF1:  0.7536617842876164\nTime took: 27.068933248519897 seconds\n"
     ]
    }
   ],
   "source": [
    "# Physics Training\n",
    "start_time=time.time()\n",
    "X,y = bagOfWords(corpus, 2)\n",
    "X_train, X_test, y_train, y_test = splittingDataset(X,y)\n",
    "y_pred = decisionTree(X_train, y_train, X_test)\n",
    "evaluatePerformance(y_test, y_pred)\n",
    "print(\"Time took: %s seconds\" % (time.time() - start_time))"
   ]
  },
  {
   "cell_type": "code",
   "execution_count": 111,
   "metadata": {},
   "outputs": [
    {
     "output_type": "stream",
     "name": "stdout",
     "text": [
      "[[2811  309]\n [ 391  684]]\nAccuracy:  0.833134684147795\nPrecision:  0.6888217522658611\nRecall:  0.6362790697674419\nF1:  0.6615087040618955\nTime took: 13.695836782455444 seconds\n"
     ]
    }
   ],
   "source": [
    "# Mathematics Training\n",
    "start_time=time.time()\n",
    "X,y = bagOfWords(corpus, 3)\n",
    "X_train, X_test, y_train, y_test = splittingDataset(X,y)\n",
    "y_pred = decisionTree(X_train, y_train, X_test)\n",
    "evaluatePerformance(y_test, y_pred)\n",
    "print(\"Time took: %s seconds\" % (time.time() - start_time))"
   ]
  },
  {
   "cell_type": "code",
   "execution_count": 114,
   "metadata": {},
   "outputs": [
    {
     "output_type": "stream",
     "name": "stdout",
     "text": [
      "[[2822  347]\n [ 419  607]]\nAccuracy:  0.8174016686531586\nPrecision:  0.6362683438155137\nRecall:  0.5916179337231969\nF1:  0.6131313131313132\nTime took: 16.905641078948975 seconds\n"
     ]
    }
   ],
   "source": [
    "# Statistics Training\n",
    "start_time=time.time()\n",
    "X,y = bagOfWords(corpus, 4)\n",
    "X_train, X_test, y_train, y_test = splittingDataset(X,y)\n",
    "y_pred = decisionTree(X_train, y_train, X_test)\n",
    "evaluatePerformance(y_test, y_pred)\n",
    "print(\"Time took: %s seconds\" % (time.time() - start_time))"
   ]
  },
  {
   "cell_type": "code",
   "execution_count": 112,
   "metadata": {},
   "outputs": [
    {
     "output_type": "stream",
     "name": "stdout",
     "text": [
      "[[4036   43]\n [ 101   15]]\nAccuracy:  0.965673420738975\nPrecision:  0.25862068965517243\nRecall:  0.12931034482758622\nF1:  0.1724137931034483\nTime took: 27.736650943756104 seconds\n"
     ]
    }
   ],
   "source": [
    "# Quantitative Biology Training\n",
    "start_time=time.time()\n",
    "X,y = bagOfWords(corpus, 5)\n",
    "X_train, X_test, y_train, y_test = splittingDataset(X,y)\n",
    "y_pred = decisionTree(X_train, y_train, X_test)\n",
    "evaluatePerformance(y_test, y_pred)\n",
    "print(\"Time took: %s seconds\" % (time.time() - start_time))"
   ]
  },
  {
   "cell_type": "code",
   "execution_count": 113,
   "metadata": {},
   "outputs": [
    {
     "output_type": "stream",
     "name": "stdout",
     "text": [
      "[[4130   15]\n [  40   10]]\nAccuracy:  0.9868891537544696\nPrecision:  0.4\nRecall:  0.2\nF1:  0.26666666666666666\nTime took: 21.281198740005493 seconds\n"
     ]
    }
   ],
   "source": [
    "# Quantitative Finance Training\n",
    "start_time=time.time()\n",
    "X,y = bagOfWords(corpus, 6)\n",
    "X_train, X_test, y_train, y_test = splittingDataset(X,y)\n",
    "y_pred = decisionTree(X_train, y_train, X_test)\n",
    "evaluatePerformance(y_test, y_pred)\n",
    "print(\"Time took: %s seconds\" % (time.time() - start_time))"
   ]
  },
  {
   "source": [
    "### Naive Bayes with Porter Stemming"
   ],
   "cell_type": "markdown",
   "metadata": {}
  },
  {
   "cell_type": "code",
   "execution_count": 115,
   "metadata": {},
   "outputs": [
    {
     "output_type": "stream",
     "name": "stdout",
     "text": [
      "[[1607  844]\n [ 143 1601]]\nAccuracy:  0.7647199046483909\nPrecision:  0.6548057259713701\nRecall:  0.9180045871559633\nF1:  0.7643829076151826\nTime took: 2.9679620265960693 seconds\n"
     ]
    }
   ],
   "source": [
    "# Computer Science Training\n",
    "start_time=time.time()\n",
    "X,y = bagOfWords(corpus, 1)\n",
    "X_train, X_test, y_train, y_test = splittingDataset(X,y)\n",
    "y_pred = naiveBayes(X_train, y_train, X_test)\n",
    "evaluatePerformance(y_test, y_pred)\n",
    "print(\"Time took: %s seconds\" % (time.time() - start_time))"
   ]
  },
  {
   "cell_type": "code",
   "execution_count": 116,
   "metadata": {},
   "outputs": [
    {
     "output_type": "stream",
     "name": "stdout",
     "text": [
      "[[2745  254]\n [ 180 1016]]\nAccuracy:  0.8965435041716329\nPrecision:  0.8\nRecall:  0.8494983277591973\nF1:  0.8240064882400648\nTime took: 2.925236940383911 seconds\n"
     ]
    }
   ],
   "source": [
    "# Physics Training\n",
    "start_time=time.time()\n",
    "X,y = bagOfWords(corpus, 2)\n",
    "X_train, X_test, y_train, y_test = splittingDataset(X,y)\n",
    "y_pred = naiveBayes(X_train, y_train, X_test)\n",
    "evaluatePerformance(y_test, y_pred)\n",
    "print(\"Time took: %s seconds\" % (time.time() - start_time))"
   ]
  },
  {
   "cell_type": "code",
   "execution_count": 117,
   "metadata": {},
   "outputs": [
    {
     "output_type": "stream",
     "name": "stdout",
     "text": [
      "[[2380  740]\n [ 110  965]]\nAccuracy:  0.797377830750894\nPrecision:  0.5659824046920822\nRecall:  0.8976744186046511\nF1:  0.6942446043165468\nTime took: 2.974050998687744 seconds\n"
     ]
    }
   ],
   "source": [
    "# Mathematics Training\n",
    "start_time=time.time()\n",
    "X,y = bagOfWords(corpus, 3)\n",
    "X_train, X_test, y_train, y_test = splittingDataset(X,y)\n",
    "y_pred = naiveBayes(X_train, y_train, X_test)\n",
    "evaluatePerformance(y_test, y_pred)\n",
    "print(\"Time took: %s seconds\" % (time.time() - start_time))"
   ]
  },
  {
   "cell_type": "code",
   "execution_count": 118,
   "metadata": {},
   "outputs": [
    {
     "output_type": "stream",
     "name": "stdout",
     "text": [
      "[[1805 1364]\n [  84  942]]\nAccuracy:  0.6548271752085817\nPrecision:  0.4084995663486557\nRecall:  0.9181286549707602\nF1:  0.5654261704681872\nTime took: 3.1136720180511475 seconds\n"
     ]
    }
   ],
   "source": [
    "# Statistics Training\n",
    "start_time=time.time()\n",
    "X,y = bagOfWords(corpus, 4)\n",
    "X_train, X_test, y_train, y_test = splittingDataset(X,y)\n",
    "y_pred = naiveBayes(X_train, y_train, X_test)\n",
    "evaluatePerformance(y_test, y_pred)\n",
    "print(\"Time took: %s seconds\" % (time.time() - start_time))"
   ]
  },
  {
   "cell_type": "code",
   "execution_count": 119,
   "metadata": {},
   "outputs": [
    {
     "output_type": "stream",
     "name": "stdout",
     "text": [
      "[[2605 1474]\n [  33   83]]\nAccuracy:  0.6407628128724672\nPrecision:  0.05330764290301863\nRecall:  0.7155172413793104\nF1:  0.09922295277943814\nTime took: 3.1860060691833496 seconds\n"
     ]
    }
   ],
   "source": [
    "# Quantitative Biology Training\n",
    "start_time=time.time()\n",
    "X,y = bagOfWords(corpus, 5)\n",
    "X_train, X_test, y_train, y_test = splittingDataset(X,y)\n",
    "y_pred = naiveBayes(X_train, y_train, X_test)\n",
    "evaluatePerformance(y_test, y_pred)\n",
    "print(\"Time took: %s seconds\" % (time.time() - start_time))"
   ]
  },
  {
   "cell_type": "code",
   "execution_count": 120,
   "metadata": {},
   "outputs": [
    {
     "output_type": "stream",
     "name": "stdout",
     "text": [
      "[[3744  401]\n [  26   24]]\nAccuracy:  0.8982121573301549\nPrecision:  0.05647058823529412\nRecall:  0.48\nF1:  0.10105263157894737\nTime took: 3.2327139377593994 seconds\n"
     ]
    }
   ],
   "source": [
    "# Quantitative Finance Training\n",
    "start_time=time.time()\n",
    "X,y = bagOfWords(corpus, 6)\n",
    "X_train, X_test, y_train, y_test = splittingDataset(X,y)\n",
    "y_pred = naiveBayes(X_train, y_train, X_test)\n",
    "evaluatePerformance(y_test, y_pred)\n",
    "print(\"Time took: %s seconds\" % (time.time() - start_time))"
   ]
  },
  {
   "source": [
    "## Lancaster Stemming"
   ],
   "cell_type": "markdown",
   "metadata": {}
  },
  {
   "cell_type": "code",
   "execution_count": 52,
   "metadata": {},
   "outputs": [
    {
     "output_type": "stream",
     "name": "stdout",
     "text": [
      "[[4143    2]\n [  44    6]]\nAccuracy:  0.9890345649582837\nPrecision:  0.75\nRecall:  0.12\nF1:  0.20689655172413793\nTime took: 971.7333130836487 seconds\n"
     ]
    }
   ],
   "source": [
    "start_time=time.time()\n",
    "corpus = lancasterStemming()\n",
    "print(\"Time took: %s seconds\" % (time.time() - start_time))\n"
   ]
  },
  {
   "cell_type": "markdown",
   "metadata": {},
   "source": [
    "### SVM with Lancaster Stemming"
   ]
  },
  {
   "cell_type": "code",
   "execution_count": null,
   "metadata": {},
   "outputs": [],
   "source": [
    "# Computer Science Training\n",
    "start_time=time.time()\n",
    "X,y = bagOfWords(corpus, 1)\n",
    "X_train, X_test, y_train, y_test = splittingDataset(X,y)\n",
    "y_pred = SVM(X_train, y_train, X_test)\n",
    "evaluatePerformance(y_test, y_pred)\n",
    "print(\"Time took: %s seconds\" % (time.time() - start_time))"
   ]
  },
  {
   "cell_type": "code",
   "execution_count": null,
   "metadata": {},
   "outputs": [],
   "source": [
    "# Physics Training\n",
    "start_time=time.time()\n",
    "X,y = bagOfWords(corpus, 2)\n",
    "X_train, X_test, y_train, y_test = splittingDataset(X,y)\n",
    "y_pred = SVM(X_train, y_train, X_test)\n",
    "evaluatePerformance(y_test, y_pred)\n",
    "print(\"Time took: %s seconds\" % (time.time() - start_time))"
   ]
  },
  {
   "cell_type": "code",
   "execution_count": null,
   "metadata": {},
   "outputs": [],
   "source": [
    "# Mathematics Training\n",
    "start_time=time.time()\n",
    "X,y = bagOfWords(corpus, 3)\n",
    "X_train, X_test, y_train, y_test = splittingDataset(X,y)\n",
    "y_pred = SVM(X_train, y_train, X_test)\n",
    "evaluatePerformance(y_test, y_pred)\n",
    "print(\"Time took: %s seconds\" % (time.time() - start_time))"
   ]
  },
  {
   "cell_type": "code",
   "execution_count": null,
   "metadata": {},
   "outputs": [],
   "source": [
    "# Statistics Training\n",
    "start_time=time.time()\n",
    "X,y = bagOfWords(corpus, 4)\n",
    "X_train, X_test, y_train, y_test = splittingDataset(X,y)\n",
    "y_pred = SVM(X_train, y_train, X_test)\n",
    "evaluatePerformance(y_test, y_pred)\n",
    "print(\"Time took: %s seconds\" % (time.time() - start_time))"
   ]
  },
  {
   "cell_type": "code",
   "execution_count": null,
   "metadata": {},
   "outputs": [],
   "source": [
    "# Quantitative Biology Training\n",
    "start_time=time.time()\n",
    "X,y = bagOfWords(corpus, 5)\n",
    "X_train, X_test, y_train, y_test = splittingDataset(X,y)\n",
    "y_pred = SVM(X_train, y_train, X_test)\n",
    "evaluatePerformance(y_test, y_pred)\n",
    "print(\"Time took: %s seconds\" % (time.time() - start_time))"
   ]
  },
  {
   "cell_type": "code",
   "execution_count": null,
   "metadata": {},
   "outputs": [],
   "source": [
    "# Quantitative Finance Training\n",
    "start_time=time.time()\n",
    "X,y = bagOfWords(corpus, 6)\n",
    "X_train, X_test, y_train, y_test = splittingDataset(X,y)\n",
    "y_pred = SVM(X_train, y_train, X_test)\n",
    "evaluatePerformance(y_test, y_pred)\n",
    "print(\"Time took: %s seconds\" % (time.time() - start_time))"
   ]
  },
  {
   "source": [
    "### Decision Trees with Lancaster Stemming"
   ],
   "cell_type": "markdown",
   "metadata": {}
  },
  {
   "cell_type": "code",
   "execution_count": null,
   "metadata": {},
   "outputs": [],
   "source": [
    "# Computer Science Training\n",
    "start_time=time.time()\n",
    "X,y = bagOfWords(corpus, 1)\n",
    "X_train, X_test, y_train, y_test = splittingDataset(X,y)\n",
    "y_pred = decisionTree(X_train, y_train, X_test)\n",
    "evaluatePerformance(y_test, y_pred)\n",
    "print(\"Time took: %s seconds\" % (time.time() - start_time))"
   ]
  },
  {
   "cell_type": "code",
   "execution_count": null,
   "metadata": {},
   "outputs": [],
   "source": [
    "# Physics Training\n",
    "start_time=time.time()\n",
    "X,y = bagOfWords(corpus, 2)\n",
    "X_train, X_test, y_train, y_test = splittingDataset(X,y)\n",
    "y_pred = decisionTree(X_train, y_train, X_test)\n",
    "evaluatePerformance(y_test, y_pred)\n",
    "print(\"Time took: %s seconds\" % (time.time() - start_time))"
   ]
  },
  {
   "cell_type": "code",
   "execution_count": null,
   "metadata": {},
   "outputs": [],
   "source": [
    "# Mathematics Training\n",
    "start_time=time.time()\n",
    "X,y = bagOfWords(corpus, 3)\n",
    "X_train, X_test, y_train, y_test = splittingDataset(X,y)\n",
    "y_pred = decisionTree(X_train, y_train, X_test)\n",
    "evaluatePerformance(y_test, y_pred)\n",
    "print(\"Time took: %s seconds\" % (time.time() - start_time))"
   ]
  },
  {
   "cell_type": "code",
   "execution_count": null,
   "metadata": {},
   "outputs": [],
   "source": [
    "# Statistics Training\n",
    "start_time=time.time()\n",
    "X,y = bagOfWords(corpus, 4)\n",
    "X_train, X_test, y_train, y_test = splittingDataset(X,y)\n",
    "y_pred = decisionTree(X_train, y_train, X_test)\n",
    "evaluatePerformance(y_test, y_pred)\n",
    "print(\"Time took: %s seconds\" % (time.time() - start_time))"
   ]
  },
  {
   "cell_type": "code",
   "execution_count": null,
   "metadata": {},
   "outputs": [],
   "source": [
    "# Quantitative Biology Training\n",
    "start_time=time.time()\n",
    "X,y = bagOfWords(corpus, 5)\n",
    "X_train, X_test, y_train, y_test = splittingDataset(X,y)\n",
    "y_pred = decisionTree(X_train, y_train, X_test)\n",
    "evaluatePerformance(y_test, y_pred)\n",
    "print(\"Time took: %s seconds\" % (time.time() - start_time))"
   ]
  },
  {
   "cell_type": "code",
   "execution_count": null,
   "metadata": {},
   "outputs": [],
   "source": [
    "# Quantitative Finance Training\n",
    "start_time=time.time()\n",
    "X,y = bagOfWords(corpus, 6)\n",
    "X_train, X_test, y_train, y_test = splittingDataset(X,y)\n",
    "y_pred = decisionTree(X_train, y_train, X_test)\n",
    "evaluatePerformance(y_test, y_pred)\n",
    "print(\"Time took: %s seconds\" % (time.time() - start_time))"
   ]
  },
  {
   "source": [
    "### Naive Bayes with Lancaster Stemming"
   ],
   "cell_type": "markdown",
   "metadata": {}
  },
  {
   "cell_type": "code",
   "execution_count": null,
   "metadata": {},
   "outputs": [],
   "source": [
    "# Computer Science Training\n",
    "start_time=time.time()\n",
    "X,y = bagOfWords(corpus, 1)\n",
    "X_train, X_test, y_train, y_test = splittingDataset(X,y)\n",
    "y_pred = naiveBayes(X_train, y_train, X_test)\n",
    "evaluatePerformance(y_test, y_pred)\n",
    "print(\"Time took: %s seconds\" % (time.time() - start_time))"
   ]
  },
  {
   "cell_type": "code",
   "execution_count": null,
   "metadata": {},
   "outputs": [],
   "source": [
    "# Physics Training\n",
    "start_time=time.time()\n",
    "X,y = bagOfWords(corpus, 2)\n",
    "X_train, X_test, y_train, y_test = splittingDataset(X,y)\n",
    "y_pred = naiveBayes(X_train, y_train, X_test)\n",
    "evaluatePerformance(y_test, y_pred)\n",
    "print(\"Time took: %s seconds\" % (time.time() - start_time))"
   ]
  },
  {
   "cell_type": "code",
   "execution_count": null,
   "metadata": {},
   "outputs": [],
   "source": [
    "# Mathematics Training\n",
    "start_time=time.time()\n",
    "X,y = bagOfWords(corpus, 3)\n",
    "X_train, X_test, y_train, y_test = splittingDataset(X,y)\n",
    "y_pred = naiveBayes(X_train, y_train, X_test)\n",
    "evaluatePerformance(y_test, y_pred)\n",
    "print(\"Time took: %s seconds\" % (time.time() - start_time))"
   ]
  },
  {
   "cell_type": "code",
   "execution_count": null,
   "metadata": {},
   "outputs": [],
   "source": [
    "# Statistics Training\n",
    "start_time=time.time()\n",
    "X,y = bagOfWords(corpus, 4)\n",
    "X_train, X_test, y_train, y_test = splittingDataset(X,y)\n",
    "y_pred = naiveBayes(X_train, y_train, X_test)\n",
    "evaluatePerformance(y_test, y_pred)\n",
    "print(\"Time took: %s seconds\" % (time.time() - start_time))"
   ]
  },
  {
   "cell_type": "code",
   "execution_count": null,
   "metadata": {},
   "outputs": [],
   "source": [
    "# Quantitative Biology Training\n",
    "start_time=time.time()\n",
    "X,y = bagOfWords(corpus, 5)\n",
    "X_train, X_test, y_train, y_test = splittingDataset(X,y)\n",
    "y_pred = naiveBayes(X_train, y_train, X_test)\n",
    "evaluatePerformance(y_test, y_pred)\n",
    "print(\"Time took: %s seconds\" % (time.time() - start_time))"
   ]
  },
  {
   "cell_type": "code",
   "execution_count": null,
   "metadata": {},
   "outputs": [],
   "source": [
    "# Quantitative Finance Training\n",
    "start_time=time.time()\n",
    "X,y = bagOfWords(corpus, 6)\n",
    "X_train, X_test, y_train, y_test = splittingDataset(X,y)\n",
    "y_pred = naiveBayes(X_train, y_train, X_test)\n",
    "evaluatePerformance(y_test, y_pred)\n",
    "print(\"Time took: %s seconds\" % (time.time() - start_time))"
   ]
  },
  {
   "source": [
    "## Snowball Stemming"
   ],
   "cell_type": "markdown",
   "metadata": {}
  },
  {
   "cell_type": "code",
   "execution_count": 33,
   "metadata": {},
   "outputs": [
    {
     "output_type": "stream",
     "name": "stdout",
     "text": [
      "Time took: 610.2219228744507 seconds\n"
     ]
    }
   ],
   "source": [
    "start_time=time.time()\n",
    "corpus = snowballStemming()\n",
    "print(\"Time took: %s seconds\" % (time.time() - start_time))"
   ]
  },
  {
   "cell_type": "markdown",
   "metadata": {},
   "source": [
    "### SVM with Snowball Stemming"
   ]
  },
  {
   "cell_type": "code",
   "execution_count": 34,
   "metadata": {},
   "outputs": [
    {
     "output_type": "stream",
     "name": "stdout",
     "text": [
      "[[2149  302]\n [ 253 1491]]\nAccuracy:  0.867699642431466\nPrecision:  0.8315672058003346\nRecall:  0.8549311926605505\nF1:  0.8430873621713316\nTime took: 549.0569069385529 seconds\n"
     ]
    }
   ],
   "source": [
    "# Computer Science Training\n",
    "start_time=time.time()\n",
    "X,y = bagOfWords(corpus, 1)\n",
    "X_train, X_test, y_train, y_test = splittingDataset(X,y)\n",
    "y_pred = SVM(X_train, y_train, X_test)\n",
    "evaluatePerformance(y_test, y_pred)\n",
    "print(\"Time took: %s seconds\" % (time.time() - start_time))"
   ]
  },
  {
   "cell_type": "code",
   "execution_count": 35,
   "metadata": {},
   "outputs": [
    {
     "output_type": "stream",
     "name": "stdout",
     "text": [
      "[[2930   69]\n [ 256  940]]\nAccuracy:  0.9225268176400476\nPrecision:  0.931615460852329\nRecall:  0.7859531772575251\nF1:  0.8526077097505669\nTime took: 331.6357567310333 seconds\n"
     ]
    }
   ],
   "source": [
    "# Physics Training\n",
    "start_time=time.time()\n",
    "X,y = bagOfWords(corpus, 2)\n",
    "X_train, X_test, y_train, y_test = splittingDataset(X,y)\n",
    "y_pred = SVM(X_train, y_train, X_test)\n",
    "evaluatePerformance(y_test, y_pred)\n",
    "print(\"Time took: %s seconds\" % (time.time() - start_time))"
   ]
  },
  {
   "cell_type": "code",
   "execution_count": 36,
   "metadata": {},
   "outputs": [
    {
     "output_type": "stream",
     "name": "stdout",
     "text": [
      "[[2965  155]\n [ 253  822]]\nAccuracy:  0.902741358760429\nPrecision:  0.8413510747185261\nRecall:  0.7646511627906977\nF1:  0.8011695906432749\nTime took: 289.3475921154022 seconds\n"
     ]
    }
   ],
   "source": [
    "# Mathematics Training\n",
    "start_time=time.time()\n",
    "X,y = bagOfWords(corpus, 3)\n",
    "X_train, X_test, y_train, y_test = splittingDataset(X,y)\n",
    "y_pred = SVM(X_train, y_train, X_test)\n",
    "evaluatePerformance(y_test, y_pred)\n",
    "print(\"Time took: %s seconds\" % (time.time() - start_time))"
   ]
  },
  {
   "cell_type": "code",
   "execution_count": 37,
   "metadata": {},
   "outputs": [
    {
     "output_type": "stream",
     "name": "stdout",
     "text": [
      "[[2983  186]\n [ 323  703]]\nAccuracy:  0.8786650774731823\nPrecision:  0.7907761529808774\nRecall:  0.6851851851851852\nF1:  0.7342036553524806\nTime took: 442.2400677204132 seconds\n"
     ]
    }
   ],
   "source": [
    "# Statistics Training\n",
    "start_time=time.time()\n",
    "X,y = bagOfWords(corpus, 4)\n",
    "X_train, X_test, y_train, y_test = splittingDataset(X,y)\n",
    "y_pred = SVM(X_train, y_train, X_test)\n",
    "evaluatePerformance(y_test, y_pred)\n",
    "print(\"Time took: %s seconds\" % (time.time() - start_time))"
   ]
  },
  {
   "cell_type": "code",
   "execution_count": 38,
   "metadata": {},
   "outputs": [
    {
     "output_type": "stream",
     "name": "stdout",
     "text": [
      "[[4078    1]\n [ 113    3]]\nAccuracy:  0.9728247914183552\nPrecision:  0.75\nRecall:  0.02586206896551724\nF1:  0.05\nTime took: 125.20574402809143 seconds\n"
     ]
    }
   ],
   "source": [
    "# Quantitative Biology Training\n",
    "start_time=time.time()\n",
    "X,y = bagOfWords(corpus, 5)\n",
    "X_train, X_test, y_train, y_test = splittingDataset(X,y)\n",
    "y_pred = SVM(X_train, y_train, X_test)\n",
    "evaluatePerformance(y_test, y_pred)\n",
    "print(\"Time took: %s seconds\" % (time.time() - start_time))"
   ]
  },
  {
   "cell_type": "code",
   "execution_count": 39,
   "metadata": {},
   "outputs": [
    {
     "output_type": "stream",
     "name": "stdout",
     "text": [
      "[[4143    2]\n [  43    7]]\nAccuracy:  0.9892729439809297\nPrecision:  0.7777777777777778\nRecall:  0.14\nF1:  0.23728813559322035\nTime took: 51.95715880393982 seconds\n"
     ]
    }
   ],
   "source": [
    "# Quantitative Finance Training\n",
    "start_time=time.time()\n",
    "X,y = bagOfWords(corpus, 6)\n",
    "X_train, X_test, y_train, y_test = splittingDataset(X,y)\n",
    "y_pred = SVM(X_train, y_train, X_test)\n",
    "evaluatePerformance(y_test, y_pred)\n",
    "print(\"Time took: %s seconds\" % (time.time() - start_time))"
   ]
  },
  {
   "source": [
    "### Decision Trees with Snowball Stemming"
   ],
   "cell_type": "markdown",
   "metadata": {}
  },
  {
   "cell_type": "code",
   "execution_count": 40,
   "metadata": {},
   "outputs": [
    {
     "output_type": "stream",
     "name": "stdout",
     "text": [
      "[[2030  421]\n [ 510 1234]]\nAccuracy:  0.7780691299165673\nPrecision:  0.7456193353474321\nRecall:  0.7075688073394495\nF1:  0.72609591056193\nTime took: 16.29105305671692 seconds\n"
     ]
    }
   ],
   "source": [
    "# Computer Science training\n",
    "start_time=time.time()\n",
    "X,y = bagOfWords(corpus, 1)\n",
    "X_train, X_test, y_train, y_test = splittingDataset(X,y)\n",
    "y_pred = decisionTree(X_train, y_train, X_test)\n",
    "evaluatePerformance(y_test, y_pred)\n",
    "print(\"Time took: %s seconds\" % (time.time() - start_time))"
   ]
  },
  {
   "cell_type": "code",
   "execution_count": 41,
   "metadata": {},
   "outputs": [
    {
     "output_type": "stream",
     "name": "stdout",
     "text": [
      "[[2787  212]\n [ 351  845]]\nAccuracy:  0.865792610250298\nPrecision:  0.7994323557237465\nRecall:  0.7065217391304348\nF1:  0.7501109631602307\nTime took: 24.699506044387817 seconds\n"
     ]
    }
   ],
   "source": [
    "# Physics training\n",
    "start_time=time.time()\n",
    "X,y = bagOfWords(corpus, 2)\n",
    "X_train, X_test, y_train, y_test = splittingDataset(X,y)\n",
    "y_pred = decisionTree(X_train, y_train, X_test)\n",
    "evaluatePerformance(y_test, y_pred)\n",
    "print(\"Time took: %s seconds\" % (time.time() - start_time))"
   ]
  },
  {
   "cell_type": "code",
   "execution_count": 42,
   "metadata": {},
   "outputs": [
    {
     "output_type": "stream",
     "name": "stdout",
     "text": [
      "[[2830  290]\n [ 391  684]]\nAccuracy:  0.8376638855780691\nPrecision:  0.702258726899384\nRecall:  0.6362790697674419\nF1:  0.6676427525622254\nTime took: 14.038932085037231 seconds\n"
     ]
    }
   ],
   "source": [
    "# Mathematics training\n",
    "start_time=time.time()\n",
    "X,y = bagOfWords(corpus, 3)\n",
    "X_train, X_test, y_train, y_test = splittingDataset(X,y)\n",
    "y_pred = decisionTree(X_train, y_train, X_test)\n",
    "evaluatePerformance(y_test, y_pred)\n",
    "print(\"Time took: %s seconds\" % (time.time() - start_time))"
   ]
  },
  {
   "cell_type": "code",
   "execution_count": 43,
   "metadata": {},
   "outputs": [
    {
     "output_type": "stream",
     "name": "stdout",
     "text": [
      "[[2819  350]\n [ 433  593]]\nAccuracy:  0.8133492252681764\nPrecision:  0.6288441145281018\nRecall:  0.5779727095516569\nF1:  0.6023362112747588\nTime took: 16.806960105895996 seconds\n"
     ]
    }
   ],
   "source": [
    "# Statistics training\n",
    "start_time=time.time()\n",
    "X,y = bagOfWords(corpus, 4)\n",
    "X_train, X_test, y_train, y_test = splittingDataset(X,y)\n",
    "y_pred = decisionTree(X_train, y_train, X_test)\n",
    "evaluatePerformance(y_test, y_pred)\n",
    "print(\"Time took: %s seconds\" % (time.time() - start_time))"
   ]
  },
  {
   "cell_type": "code",
   "execution_count": 44,
   "metadata": {},
   "outputs": [
    {
     "output_type": "stream",
     "name": "stdout",
     "text": [
      "[[4039   40]\n [  97   19]]\nAccuracy:  0.967342073897497\nPrecision:  0.3220338983050847\nRecall:  0.16379310344827586\nF1:  0.21714285714285714\nTime took: 29.35352897644043 seconds\n"
     ]
    }
   ],
   "source": [
    "# Quantitative Biology training\n",
    "start_time=time.time()\n",
    "X,y = bagOfWords(corpus, 5)\n",
    "X_train, X_test, y_train, y_test = splittingDataset(X,y)\n",
    "y_pred = decisionTree(X_train, y_train, X_test)\n",
    "evaluatePerformance(y_test, y_pred)\n",
    "print(\"Time took: %s seconds\" % (time.time() - start_time))"
   ]
  },
  {
   "cell_type": "code",
   "execution_count": 45,
   "metadata": {},
   "outputs": [
    {
     "output_type": "stream",
     "name": "stdout",
     "text": [
      "[[4133   12]\n [  42    8]]\nAccuracy:  0.9871275327771156\nPrecision:  0.4\nRecall:  0.16\nF1:  0.22857142857142856\nTime took: 21.618927001953125 seconds\n"
     ]
    }
   ],
   "source": [
    "# Quantitative Finance training\n",
    "start_time=time.time()\n",
    "X,y = bagOfWords(corpus, 6)\n",
    "X_train, X_test, y_train, y_test = splittingDataset(X,y)\n",
    "y_pred = decisionTree(X_train, y_train, X_test)\n",
    "evaluatePerformance(y_test, y_pred)\n",
    "print(\"Time took: %s seconds\" % (time.time() - start_time))"
   ]
  },
  {
   "source": [
    "### Naive Bayes with Snowball Stemminh"
   ],
   "cell_type": "markdown",
   "metadata": {}
  },
  {
   "cell_type": "code",
   "execution_count": 46,
   "metadata": {},
   "outputs": [
    {
     "output_type": "stream",
     "name": "stdout",
     "text": [
      "[[1605  846]\n [ 143 1601]]\nAccuracy:  0.7642431466030989\nPrecision:  0.6542705353494075\nRecall:  0.9180045871559633\nF1:  0.7640181340968744\nTime took: 2.8938162326812744 seconds\n"
     ]
    }
   ],
   "source": [
    "# Computer Science training\n",
    "start_time=time.time()\n",
    "X,y = bagOfWords(corpus, 1)\n",
    "X_train, X_test, y_train, y_test = splittingDataset(X,y)\n",
    "y_pred = naiveBayes(X_train, y_train, X_test)\n",
    "evaluatePerformance(y_test, y_pred)\n",
    "print(\"Time took: %s seconds\" % (time.time() - start_time))"
   ]
  },
  {
   "cell_type": "code",
   "execution_count": 47,
   "metadata": {},
   "outputs": [
    {
     "output_type": "stream",
     "name": "stdout",
     "text": [
      "[[2760  239]\n [ 183 1013]]\nAccuracy:  0.899404052443385\nPrecision:  0.8091054313099042\nRecall:  0.846989966555184\nF1:  0.8276143790849675\nTime took: 2.8335468769073486 seconds\n"
     ]
    }
   ],
   "source": [
    "# Physics training\n",
    "start_time=time.time()\n",
    "X,y = bagOfWords(corpus, 2)\n",
    "X_train, X_test, y_train, y_test = splittingDataset(X,y)\n",
    "y_pred = naiveBayes(X_train, y_train, X_test)\n",
    "evaluatePerformance(y_test, y_pred)\n",
    "print(\"Time took: %s seconds\" % (time.time() - start_time))"
   ]
  },
  {
   "cell_type": "code",
   "execution_count": 48,
   "metadata": {},
   "outputs": [
    {
     "output_type": "stream",
     "name": "stdout",
     "text": [
      "[[2400  720]\n [ 110  965]]\nAccuracy:  0.8021454112038141\nPrecision:  0.5727002967359051\nRecall:  0.8976744186046511\nF1:  0.6992753623188406\nTime took: 2.795426845550537 seconds\n"
     ]
    }
   ],
   "source": [
    "# Mathematics training\n",
    "start_time=time.time()\n",
    "X,y = bagOfWords(corpus, 3)\n",
    "X_train, X_test, y_train, y_test = splittingDataset(X,y)\n",
    "y_pred = naiveBayes(X_train, y_train, X_test)\n",
    "evaluatePerformance(y_test, y_pred)\n",
    "print(\"Time took: %s seconds\" % (time.time() - start_time))"
   ]
  },
  {
   "cell_type": "code",
   "execution_count": 49,
   "metadata": {},
   "outputs": [
    {
     "output_type": "stream",
     "name": "stdout",
     "text": [
      "[[1808 1361]\n [  83  943]]\nAccuracy:  0.6557806912991657\nPrecision:  0.4092881944444444\nRecall:  0.919103313840156\nF1:  0.5663663663663663\nTime took: 2.944991111755371 seconds\n"
     ]
    }
   ],
   "source": [
    "# Statistics training\n",
    "start_time=time.time()\n",
    "X,y = bagOfWords(corpus, 4)\n",
    "X_train, X_test, y_train, y_test = splittingDataset(X,y)\n",
    "y_pred = naiveBayes(X_train, y_train, X_test)\n",
    "evaluatePerformance(y_test, y_pred)\n",
    "print(\"Time took: %s seconds\" % (time.time() - start_time))"
   ]
  },
  {
   "cell_type": "code",
   "execution_count": 50,
   "metadata": {},
   "outputs": [
    {
     "output_type": "stream",
     "name": "stdout",
     "text": [
      "[[2604 1475]\n [  32   84]]\nAccuracy:  0.6407628128724672\nPrecision:  0.05388069275176395\nRecall:  0.7241379310344828\nF1:  0.10029850746268656\nTime took: 2.7736589908599854 seconds\n"
     ]
    }
   ],
   "source": [
    "# Quantitative Biology training\n",
    "start_time=time.time()\n",
    "X,y = bagOfWords(corpus, 5)\n",
    "X_train, X_test, y_train, y_test = splittingDataset(X,y)\n",
    "y_pred = naiveBayes(X_train, y_train, X_test)\n",
    "evaluatePerformance(y_test, y_pred)\n",
    "print(\"Time took: %s seconds\" % (time.time() - start_time))"
   ]
  },
  {
   "cell_type": "code",
   "execution_count": 51,
   "metadata": {},
   "outputs": [
    {
     "output_type": "stream",
     "name": "stdout",
     "text": [
      "[[3739  406]\n [  28   22]]\nAccuracy:  0.8965435041716329\nPrecision:  0.0514018691588785\nRecall:  0.44\nF1:  0.09205020920502092\nTime took: 2.7635679244995117 seconds\n"
     ]
    }
   ],
   "source": [
    "# Quantitative Finance training\n",
    "start_time=time.time()\n",
    "X,y = bagOfWords(corpus, 6)\n",
    "X_train, X_test, y_train, y_test = splittingDataset(X,y)\n",
    "y_pred = naiveBayes(X_train, y_train, X_test)\n",
    "evaluatePerformance(y_test, y_pred)\n",
    "print(\"Time took: %s seconds\" % (time.time() - start_time))"
   ]
  },
  {
   "source": [
    "## Lemmatization"
   ],
   "cell_type": "markdown",
   "metadata": {}
  },
  {
   "cell_type": "code",
   "execution_count": 25,
   "metadata": {},
   "outputs": [
    {
     "output_type": "stream",
     "name": "stdout",
     "text": [
      "Time took: 599.7634229660034 seconds\n"
     ]
    }
   ],
   "source": [
    "start_time=time.time()\n",
    "corpus = lemmatization()\n",
    "print(\"Time took: %s seconds\" % (time.time() - start_time))"
   ]
  },
  {
   "cell_type": "markdown",
   "metadata": {},
   "source": [
    "### SVM with Lemmatization"
   ]
  },
  {
   "cell_type": "code",
   "execution_count": 122,
   "metadata": {},
   "outputs": [
    {
     "output_type": "stream",
     "name": "stdout",
     "text": [
      "[[2146  305]\n [ 251 1493]]\nAccuracy:  0.86746126340882\nPrecision:  0.8303670745272526\nRecall:  0.8560779816513762\nF1:  0.8430265386787126\nTime took: 562.420403957367 seconds\n"
     ]
    }
   ],
   "source": [
    "# Computer Science Training\n",
    "start_time=time.time()\n",
    "X,y = bagOfWords(corpus, 1)\n",
    "X_train, X_test, y_train, y_test = splittingDataset(X,y)\n",
    "y_pred = SVM(X_train, y_train, X_test)\n",
    "evaluatePerformance(y_test, y_pred)\n",
    "print(\"Time took: %s seconds\" % (time.time() - start_time))"
   ]
  },
  {
   "cell_type": "code",
   "execution_count": 123,
   "metadata": {},
   "outputs": [
    {
     "output_type": "stream",
     "name": "stdout",
     "text": [
      "[[2922   77]\n [ 252  944]]\nAccuracy:  0.9215733015494636\nPrecision:  0.9245837414299706\nRecall:  0.7892976588628763\nF1:  0.8516012629679748\nTime took: 358.58108496665955 seconds\n"
     ]
    }
   ],
   "source": [
    "# Physics Training\n",
    "start_time=time.time()\n",
    "X,y = bagOfWords(corpus, 2)\n",
    "X_train, X_test, y_train, y_test = splittingDataset(X,y)\n",
    "y_pred = SVM(X_train, y_train, X_test)\n",
    "evaluatePerformance(y_test, y_pred)\n",
    "print(\"Time took: %s seconds\" % (time.time() - start_time))"
   ]
  },
  {
   "cell_type": "code",
   "execution_count": 124,
   "metadata": {},
   "outputs": [
    {
     "output_type": "stream",
     "name": "stdout",
     "text": [
      "[[2972  148]\n [ 250  825]]\nAccuracy:  0.9051251489868891\nPrecision:  0.8478931140801644\nRecall:  0.7674418604651163\nF1:  0.8056640625\nTime took: 289.6674659252167 seconds\n"
     ]
    }
   ],
   "source": [
    "# Mathematics Training\n",
    "start_time=time.time()\n",
    "X,y = bagOfWords(corpus, 3)\n",
    "X_train, X_test, y_train, y_test = splittingDataset(X,y)\n",
    "y_pred = SVM(X_train, y_train, X_test)\n",
    "evaluatePerformance(y_test, y_pred)\n",
    "print(\"Time took: %s seconds\" % (time.time() - start_time))"
   ]
  },
  {
   "cell_type": "code",
   "execution_count": 125,
   "metadata": {},
   "outputs": [
    {
     "output_type": "stream",
     "name": "stdout",
     "text": [
      "[[2983  186]\n [ 333  693]]\nAccuracy:  0.8762812872467223\nPrecision:  0.78839590443686\nRecall:  0.6754385964912281\nF1:  0.7275590551181101\nTime took: 450.0299530029297 seconds\n"
     ]
    }
   ],
   "source": [
    "# Statistics Training\n",
    "start_time=time.time()\n",
    "X,y = bagOfWords(corpus, 4)\n",
    "X_train, X_test, y_train, y_test = splittingDataset(X,y)\n",
    "y_pred = SVM(X_train, y_train, X_test)\n",
    "evaluatePerformance(y_test, y_pred)\n",
    "print(\"Time took: %s seconds\" % (time.time() - start_time))"
   ]
  },
  {
   "cell_type": "code",
   "execution_count": 126,
   "metadata": {},
   "outputs": [
    {
     "output_type": "stream",
     "name": "stdout",
     "text": [
      "[[4078    1]\n [ 113    3]]\nAccuracy:  0.9728247914183552\nPrecision:  0.75\nRecall:  0.02586206896551724\nF1:  0.05\nTime took: 135.73356890678406 seconds\n"
     ]
    }
   ],
   "source": [
    "# Quantitative Biology Training\n",
    "start_time=time.time()\n",
    "X,y = bagOfWords(corpus, 5)\n",
    "X_train, X_test, y_train, y_test = splittingDataset(X,y)\n",
    "y_pred = SVM(X_train, y_train, X_test)\n",
    "evaluatePerformance(y_test, y_pred)\n",
    "print(\"Time took: %s seconds\" % (time.time() - start_time))"
   ]
  },
  {
   "cell_type": "code",
   "execution_count": 127,
   "metadata": {},
   "outputs": [
    {
     "output_type": "stream",
     "name": "stdout",
     "text": [
      "[[4144    1]\n [  45    5]]\nAccuracy:  0.9890345649582837\nPrecision:  0.8333333333333334\nRecall:  0.1\nF1:  0.17857142857142858\nTime took: 52.76563024520874 seconds\n"
     ]
    }
   ],
   "source": [
    "# Quantitative Finance Training\n",
    "start_time=time.time()\n",
    "X,y = bagOfWords(corpus, 6)\n",
    "X_train, X_test, y_train, y_test = splittingDataset(X,y)\n",
    "y_pred = SVM(X_train, y_train, X_test)\n",
    "evaluatePerformance(y_test, y_pred)\n",
    "print(\"Time took: %s seconds\" % (time.time() - start_time))"
   ]
  },
  {
   "source": [
    "### Decision Trees with Lemmatization"
   ],
   "cell_type": "markdown",
   "metadata": {}
  },
  {
   "cell_type": "code",
   "execution_count": 128,
   "metadata": {},
   "outputs": [
    {
     "output_type": "stream",
     "name": "stdout",
     "text": [
      "[[1980  471]\n [ 485 1259]]\nAccuracy:  0.7721096543504171\nPrecision:  0.7277456647398844\nRecall:  0.7219036697247706\nF1:  0.7248128957973518\nTime took: 20.66045904159546 seconds\n"
     ]
    }
   ],
   "source": [
    "# Computer Science training\n",
    "start_time=time.time()\n",
    "X,y = bagOfWords(corpus, 1)\n",
    "X_train, X_test, y_train, y_test = splittingDataset(X,y)\n",
    "y_pred = decisionTree(X_train, y_train, X_test)\n",
    "evaluatePerformance(y_test, y_pred)\n",
    "print(\"Time took: %s seconds\" % (time.time() - start_time))"
   ]
  },
  {
   "cell_type": "code",
   "execution_count": 129,
   "metadata": {},
   "outputs": [
    {
     "output_type": "stream",
     "name": "stdout",
     "text": [
      "[[2769  230]\n [ 358  838]]\nAccuracy:  0.8598331346841478\nPrecision:  0.7846441947565543\nRecall:  0.7006688963210702\nF1:  0.7402826855123674\nTime took: 27.068700313568115 seconds\n"
     ]
    }
   ],
   "source": [
    "# Physics training\n",
    "start_time=time.time()\n",
    "X,y = bagOfWords(corpus, 2)\n",
    "X_train, X_test, y_train, y_test = splittingDataset(X,y)\n",
    "y_pred = decisionTree(X_train, y_train, X_test)\n",
    "evaluatePerformance(y_test, y_pred)\n",
    "print(\"Time took: %s seconds\" % (time.time() - start_time))"
   ]
  },
  {
   "cell_type": "code",
   "execution_count": 130,
   "metadata": {},
   "outputs": [
    {
     "output_type": "stream",
     "name": "stdout",
     "text": [
      "[[2855  265]\n [ 373  702]]\nAccuracy:  0.8479141835518474\nPrecision:  0.7259565667011375\nRecall:  0.6530232558139535\nF1:  0.6875612144955926\nTime took: 13.849507093429565 seconds\n"
     ]
    }
   ],
   "source": [
    "# Mathematics training\n",
    "start_time=time.time()\n",
    "X,y = bagOfWords(corpus, 3)\n",
    "X_train, X_test, y_train, y_test = splittingDataset(X,y)\n",
    "y_pred = decisionTree(X_train, y_train, X_test)\n",
    "evaluatePerformance(y_test, y_pred)\n",
    "print(\"Time took: %s seconds\" % (time.time() - start_time))"
   ]
  },
  {
   "cell_type": "code",
   "execution_count": 131,
   "metadata": {},
   "outputs": [
    {
     "output_type": "stream",
     "name": "stdout",
     "text": [
      "[[2861  308]\n [ 400  626]]\nAccuracy:  0.831227651966627\nPrecision:  0.6702355460385439\nRecall:  0.6101364522417154\nF1:  0.6387755102040816\nTime took: 19.560526847839355 seconds\n"
     ]
    }
   ],
   "source": [
    "# Statistics training\n",
    "start_time=time.time()\n",
    "X,y = bagOfWords(corpus, 4)\n",
    "X_train, X_test, y_train, y_test = splittingDataset(X,y)\n",
    "y_pred = decisionTree(X_train, y_train, X_test)\n",
    "evaluatePerformance(y_test, y_pred)\n",
    "print(\"Time took: %s seconds\" % (time.time() - start_time))"
   ]
  },
  {
   "cell_type": "code",
   "execution_count": 3,
   "metadata": {},
   "outputs": [
    {
     "output_type": "error",
     "ename": "NameError",
     "evalue": "name 'time' is not defined",
     "traceback": [
      "\u001b[0;31m---------------------------------------------------------------------------\u001b[0m",
      "\u001b[0;31mNameError\u001b[0m                                 Traceback (most recent call last)",
      "\u001b[0;32m<ipython-input-3-9e01f40d260e>\u001b[0m in \u001b[0;36m<module>\u001b[0;34m\u001b[0m\n\u001b[1;32m      1\u001b[0m \u001b[0;31m# Quantitative Biology training\u001b[0m\u001b[0;34m\u001b[0m\u001b[0;34m\u001b[0m\u001b[0;34m\u001b[0m\u001b[0m\n\u001b[0;32m----> 2\u001b[0;31m \u001b[0mstart_time\u001b[0m\u001b[0;34m=\u001b[0m\u001b[0mtime\u001b[0m\u001b[0;34m.\u001b[0m\u001b[0mtime\u001b[0m\u001b[0;34m(\u001b[0m\u001b[0;34m)\u001b[0m\u001b[0;34m\u001b[0m\u001b[0;34m\u001b[0m\u001b[0m\n\u001b[0m\u001b[1;32m      3\u001b[0m \u001b[0mX\u001b[0m\u001b[0;34m,\u001b[0m\u001b[0my\u001b[0m \u001b[0;34m=\u001b[0m \u001b[0mbagOfWords\u001b[0m\u001b[0;34m(\u001b[0m\u001b[0mcorpus\u001b[0m\u001b[0;34m,\u001b[0m \u001b[0;36m5\u001b[0m\u001b[0;34m)\u001b[0m\u001b[0;34m\u001b[0m\u001b[0;34m\u001b[0m\u001b[0m\n\u001b[1;32m      4\u001b[0m \u001b[0mX_train\u001b[0m\u001b[0;34m,\u001b[0m \u001b[0mX_test\u001b[0m\u001b[0;34m,\u001b[0m \u001b[0my_train\u001b[0m\u001b[0;34m,\u001b[0m \u001b[0my_test\u001b[0m \u001b[0;34m=\u001b[0m \u001b[0msplittingDataset\u001b[0m\u001b[0;34m(\u001b[0m\u001b[0mX\u001b[0m\u001b[0;34m,\u001b[0m\u001b[0my\u001b[0m\u001b[0;34m)\u001b[0m\u001b[0;34m\u001b[0m\u001b[0;34m\u001b[0m\u001b[0m\n\u001b[1;32m      5\u001b[0m \u001b[0my_pred\u001b[0m \u001b[0;34m=\u001b[0m \u001b[0mdecisionTree\u001b[0m\u001b[0;34m(\u001b[0m\u001b[0mX_train\u001b[0m\u001b[0;34m,\u001b[0m \u001b[0my_train\u001b[0m\u001b[0;34m,\u001b[0m \u001b[0mX_test\u001b[0m\u001b[0;34m)\u001b[0m\u001b[0;34m\u001b[0m\u001b[0;34m\u001b[0m\u001b[0m\n",
      "\u001b[0;31mNameError\u001b[0m: name 'time' is not defined"
     ]
    }
   ],
   "source": [
    "# Quantitative Biology training\n",
    "start_time=time.time()\n",
    "X,y = bagOfWords(corpus, 5)\n",
    "X_train, X_test, y_train, y_test = splittingDataset(X,y)\n",
    "y_pred = decisionTree(X_train, y_train, X_test)\n",
    "evaluatePerformance(y_test, y_pred)\n",
    "print(\"Time took: %s seconds\" % (time.time() - start_time))"
   ]
  },
  {
   "cell_type": "code",
   "execution_count": 26,
   "metadata": {},
   "outputs": [
    {
     "output_type": "stream",
     "name": "stdout",
     "text": [
      "[[4133   12]\n [  41    9]]\nAccuracy:  0.9873659117997616\nPrecision:  0.42857142857142855\nRecall:  0.18\nF1:  0.2535211267605634\nTime took: 25.45999312400818 seconds\n"
     ]
    }
   ],
   "source": [
    "# Quantitative Finance training\n",
    "start_time=time.time()\n",
    "X,y = bagOfWords(corpus, 6)\n",
    "X_train, X_test, y_train, y_test = splittingDataset(X,y)\n",
    "y_pred = decisionTree(X_train, y_train, X_test)\n",
    "evaluatePerformance(y_test, y_pred)\n",
    "print(\"Time took: %s seconds\" % (time.time() - start_time))"
   ]
  },
  {
   "source": [
    "### Naive Bayes with Lemmatization"
   ],
   "cell_type": "markdown",
   "metadata": {}
  },
  {
   "cell_type": "code",
   "execution_count": 27,
   "metadata": {},
   "outputs": [
    {
     "output_type": "stream",
     "name": "stdout",
     "text": [
      "[[1840  611]\n [ 166 1578]]\nAccuracy:  0.8147794994040525\nPrecision:  0.7208771128369118\nRecall:  0.9048165137614679\nF1:  0.8024408848207475\nTime took: 2.973695993423462 seconds\n"
     ]
    }
   ],
   "source": [
    "# Computer Science training\n",
    "start_time=time.time()\n",
    "X,y = bagOfWords(corpus, 1)\n",
    "X_train, X_test, y_train, y_test = splittingDataset(X,y)\n",
    "y_pred = naiveBayes(X_train, y_train, X_test)\n",
    "evaluatePerformance(y_test, y_pred)\n",
    "print(\"Time took: %s seconds\" % (time.time() - start_time))"
   ]
  },
  {
   "cell_type": "code",
   "execution_count": 28,
   "metadata": {},
   "outputs": [
    {
     "output_type": "stream",
     "name": "stdout",
     "text": [
      "[[2662  337]\n [ 158 1038]]\nAccuracy:  0.8820023837902264\nPrecision:  0.7549090909090909\nRecall:  0.8678929765886287\nF1:  0.807467911318553\nTime took: 3.160386085510254 seconds\n"
     ]
    }
   ],
   "source": [
    "# Physics training\n",
    "start_time=time.time()\n",
    "X,y = bagOfWords(corpus, 2)\n",
    "X_train, X_test, y_train, y_test = splittingDataset(X,y)\n",
    "y_pred = naiveBayes(X_train, y_train, X_test)\n",
    "evaluatePerformance(y_test, y_pred)\n",
    "print(\"Time took: %s seconds\" % (time.time() - start_time))"
   ]
  },
  {
   "cell_type": "code",
   "execution_count": 29,
   "metadata": {},
   "outputs": [
    {
     "output_type": "stream",
     "name": "stdout",
     "text": [
      "[[2516  604]\n [ 129  946]]\nAccuracy:  0.8252681764004768\nPrecision:  0.6103225806451613\nRecall:  0.88\nF1:  0.7207619047619049\nTime took: 2.8819448947906494 seconds\n"
     ]
    }
   ],
   "source": [
    "# Mathematics training\n",
    "start_time=time.time()\n",
    "X,y = bagOfWords(corpus, 3)\n",
    "X_train, X_test, y_train, y_test = splittingDataset(X,y)\n",
    "y_pred = naiveBayes(X_train, y_train, X_test)\n",
    "evaluatePerformance(y_test, y_pred)\n",
    "print(\"Time took: %s seconds\" % (time.time() - start_time))"
   ]
  },
  {
   "cell_type": "code",
   "execution_count": 30,
   "metadata": {},
   "outputs": [
    {
     "output_type": "stream",
     "name": "stdout",
     "text": [
      "[[1941 1228]\n [  86  940]]\nAccuracy:  0.6867699642431466\nPrecision:  0.43357933579335795\nRecall:  0.9161793372319688\nF1:  0.5886036318096431\nTime took: 3.012902021408081 seconds\n"
     ]
    }
   ],
   "source": [
    "# Statistics training\n",
    "start_time=time.time()\n",
    "X,y = bagOfWords(corpus, 4)\n",
    "X_train, X_test, y_train, y_test = splittingDataset(X,y)\n",
    "y_pred = naiveBayes(X_train, y_train, X_test)\n",
    "evaluatePerformance(y_test, y_pred)\n",
    "print(\"Time took: %s seconds\" % (time.time() - start_time))"
   ]
  },
  {
   "cell_type": "code",
   "execution_count": 31,
   "metadata": {},
   "outputs": [
    {
     "output_type": "stream",
     "name": "stdout",
     "text": [
      "[[2642 1437]\n [  29   87]]\nAccuracy:  0.6505363528009536\nPrecision:  0.05708661417322835\nRecall:  0.75\nF1:  0.10609756097560975\nTime took: 3.0287177562713623 seconds\n"
     ]
    }
   ],
   "source": [
    "# Quantitative Biology training\n",
    "start_time=time.time()\n",
    "X,y = bagOfWords(corpus, 5)\n",
    "X_train, X_test, y_train, y_test = splittingDataset(X,y)\n",
    "y_pred = naiveBayes(X_train, y_train, X_test)\n",
    "evaluatePerformance(y_test, y_pred)\n",
    "print(\"Time took: %s seconds\" % (time.time() - start_time))"
   ]
  },
  {
   "cell_type": "code",
   "execution_count": 32,
   "metadata": {},
   "outputs": [
    {
     "output_type": "stream",
     "name": "stdout",
     "text": [
      "[[3758  387]\n [  30   20]]\nAccuracy:  0.900595947556615\nPrecision:  0.04914004914004914\nRecall:  0.4\nF1:  0.087527352297593\nTime took: 3.1599059104919434 seconds\n"
     ]
    }
   ],
   "source": [
    "# Quantitative Finance training\n",
    "start_time=time.time()\n",
    "X,y = bagOfWords(corpus, 6)\n",
    "X_train, X_test, y_train, y_test = splittingDataset(X,y)\n",
    "y_pred = naiveBayes(X_train, y_train, X_test)\n",
    "evaluatePerformance(y_test, y_pred)\n",
    "print(\"Time took: %s seconds\" % (time.time() - start_time))"
   ]
  },
  {
   "source": [
    "# Performance Comparison Between Different Approaches\n",
    "\n",
    "(TODO meter aqui imagens)"
   ],
   "cell_type": "markdown",
   "metadata": {}
  },
  {
   "source": [
    "## Time Comparison between pre-processing methods\n",
    "\n",
    "![Pre-processing times](graphs/PreProc.png)\n",
    "\n",
    "### Results Analysis\n",
    "By looking at the picture, there isn't much time variation between these pre-processing algorithms. Generally, porter stemming was a little bit slower and lemmatization was a little bit faster than the others. \n",
    "\n",
    "However, for this problem, the pre-processing stage of the database takes the longest comparing to other stages. Thus, one might find better to choose a faster pre-processing algorithm if speed is an important factor.\n",
    "\n",
    "\n",
    "## Time comparison between algorithms\n",
    "![Time comparison](graphs/TimeAlg.png)\n",
    "\n",
    "### Results Analysis\n",
    "The difference between the time spent running these algorithms is quite substantial. As expected, since SVM is the most heavy algorithm out of the three, it was the algorithm that took the longest to run. Additionally, Naive Bayes is also the most simple, and, consequently, the fastest to run. Therefore, these results make sense.\n"
   ],
   "cell_type": "markdown",
   "metadata": {}
  },
  {
   "source": [
    "## Algorithms with Porter Stemming\n",
    "\n",
    "### SVM\n",
    "![Porter Stemming SVM](graphs/PorterStemmingSVM.png)\n",
    "\n",
    "### Decision Trees\n",
    "![Porter Stemming Decision Trees](graphs/PorterStemmingTree.png)\n",
    "\n",
    "### Naive Bayes\n",
    "![Porter Stemming Naive Bayes](graphs/PorterStemmingNaive.png)\n",
    "\n",
    "\n"
   ],
   "cell_type": "markdown",
   "metadata": {}
  },
  {
   "source": [
    "### Results Analysis\n",
    "\n",
    "While SVM and Decision Trees reach high values of accuracy, the same doesn't happen with Naïve Bayes, having this algorithm very high values of recall, surpassing the accuracy in 4 of the 6 categories. Given that recall and precision are a trade-off, the precision and F1 score is very low in the categories of Quantitative Finance and Quantitative Biology. \n",
    "Regarding the other two algorithms, they also have a tendency to have worse results in the Quantitative Finance and Quantitative Biology, however they show much better results overall, specially SVM, showing high values for accuracy, precision, recall and, consequently, F1. Although Decision Trees don't have results as good as SVM, they still perform better than Naïve Bayes, having more consistent results in the 4 biggest categories: Statistics, Mathematics, Physics and Computer Science."
   ],
   "cell_type": "markdown",
   "metadata": {}
  },
  {
   "source": [
    "## Algorithms with Lancaster Stemming\n",
    "\n",
    "### SVM\n",
    "![Lancaster Stemming SVM](graphs/LancasterSVM.png)\n",
    "\n",
    "### Decision Trees\n",
    "![Lancaster Stemming Decision Trees](graphs/LancasterTree.png)\n",
    "\n",
    "### Naive Bayes\n",
    "![Lancaster Stemming Naive Bayes](graphs/LancasterNaive.png)\n",
    "\n"
   ],
   "cell_type": "markdown",
   "metadata": {}
  },
  {
   "source": [
    "### Results Analysis\n",
    "\n",
    "Naïve Bayes achieves very high levels of recall with Lancaster, thus implying lower precision levels and a worse F1 score. Accuracy is also surpassed by recall in 4 of the 6 categories, the same as in Porter Stemming. Achieving more consistent results, SVM outperforms the other algorithms with Lancaster. The same tendency to perform worse in Quantitative Finance and Quantitative Biology is maintained from Porter Stemming, and the results are very similar for the other categories too. Same goes for Decision Trees, having this algorithm not improved from Porter Stemming."
   ],
   "cell_type": "markdown",
   "metadata": {}
  },
  {
   "source": [
    "## Algorithms with Snowball Stemming\n",
    "\n",
    "### SVM\n",
    "![Snowball Stemming SVM](graphs/SnowSVM.png)\n",
    "\n",
    "### Decision Trees\n",
    "![Snowball Stemming Decision Trees](graphs/SnowTree.png)\n",
    "\n",
    "### Naive Bayes\n",
    "![Snowball Stemming Naive Bayes](graphs/SnowNaive.png)\n",
    "\n"
   ],
   "cell_type": "markdown",
   "metadata": {}
  },
  {
   "source": [
    "### Results Analysis\n",
    "\n",
    "Naïve Bayes seems to perform badly with all the stemming algorithms, keeping the same tendencies as shown before in Lancaster and Porter. SVM once again outperforms the other algorithms and decision trees still shows results that are not very good when compared to SVM. Snowball, Lancaster and Porter have very little differences from each other but SVM seems to achieve very good results with stemming, followed by decision trees and finishing up with Naïve Bayes, which doesn't seem to perform very well with theses preprocessing methods."
   ],
   "cell_type": "markdown",
   "metadata": {}
  },
  {
   "source": [
    "## Algorithms with Lemmatization\n",
    "\n",
    "### SVM\n",
    "![Lemmatization SVM](graphs/LemmaSVM.png)\n",
    "\n",
    "### Decision Trees\n",
    "![Lemmatization Decision Trees](graphs/LemmaTree.png)\n",
    "\n",
    "### Naive Bayes\n",
    "![Lemmatization Naive Bayes](graphs/LemmaNaive.png)\n",
    "\n",
    "### Results Analysis"
   ],
   "cell_type": "markdown",
   "metadata": {}
  },
  {
   "source": [
    "## Recap of Pre-processing and Algorithms\n",
    "\n",
    "### SVM\n",
    "![SVM and Pre-processing](graphs/PreProcSVM.png)\n",
    "\n",
    "This algorithm behaves similarly with all kinds of preprocessing techniques. The biggest discrepancy is in the precision result of Porter Stemmer, which is a bit smaller than the others.\n",
    "\n",
    "### Decision Trees\n",
    "![Decision Trees and Pre-processing](graphs/PreProcTree.png)\n",
    "\n",
    "For this algorithm it is noticeable that lemmatization (a more complex preprocessing technique) produces slightly better results than the other techniques. Lancaster stemming is also a little bit better than the other two stemming algorithms but it isn't as noticeable.\n",
    "\n",
    "### Naive Bayes\n",
    "![Naive Bayes and Pre-processing](graphs/PreProcNaive.png)\n",
    "\n",
    "With Naive Bayes it is also very noticeable that Lemmatization produces better results than all the stemming techniques.\n",
    "\n",
    "### Porter Stemming\n",
    "![Porter and Algorithms](graphs/AlgPorter.png)\n",
    "\n",
    "Here we can conclude that with this preprocessing the SVM classifier performs significantly better than the others in all metrics but the recall (in which Naive Bayes is better). Decision trees follows after with the intermediate results and the worst one is Naive Bayes.\n",
    "These results are as expected, since Naive Bayes is the simplest algorithm and SVM the most complex.\n",
    "\n",
    "\n",
    "### Lancaster Stemming\n",
    "![Lancaster and Algorithms](graphs/AlgLancaster.png)\n",
    "\n",
    "As in the previous slide we can conclude that with this preprocessing the SVM classifier performs significantly better than the others in all metrics but the recall. Decision trees follows after with the intermediate results and the worst one is Naive Bayes.\n",
    "These results are as expected, since Naive Bayes is the simplest algorithm and SVM the most complex.\n",
    "\n",
    "\n",
    "### Snowball Stemming\n",
    "![Snowball and Algorithms](graphs/AlgSnow.png)\n",
    "\n",
    "Once again we conclude that the SVM classifier performs significantly better than the others, followed by Decision Trees and then Naive Bayes.\n",
    "\n",
    "\n",
    "### Lemmatization\n",
    "![lemmatization and Algorithms](graphs/AlgLem.png)\n",
    "\n",
    "With lemmatization the results are also congruent with the previous ones so we can conclude that the different preprocessing techniques all affect the classifiers in a similar way.\n",
    "\n"
   ],
   "cell_type": "markdown",
   "metadata": {}
  },
  {
   "cell_type": "markdown",
   "metadata": {},
   "source": [
    "# References\n",
    "\n",
    "\n",
    "- https://www.geeksforgeeks.org/introduction-to-stemming/\n",
    "- https://www.datacamp.com/community/tutorials/stemming-lemmatization-python\n",
    "- https://en.wikipedia.org/wiki/Support-vector_machine\n",
    "- https://en.wikipedia.org/wiki/Decision_tree_learning\n",
    "- https://www.javatpoint.com/machine-learning-naive-bayes-classifier\n",
    "- https://towardsdatascience.com/lemmatization-in-natural-language-processing-nlp-and-machine-learning-a4416f69a7b6\n",
    "\n"
   ]
  }
 ],
 "metadata": {
  "kernelspec": {
   "name": "python385jvsc74a57bd0a01bd253adf6e1f00cc92ae069bc8c363cf013eb433c05c4da49aa4c35e235f9",
   "display_name": "Python 3.8.5 64-bit ('base': conda)"
  },
  "metadata": {
   "interpreter": {
    "hash": "aee8b7b246df8f9039afb4144a1f6fd8d2ca17a180786b69acc140d282b71a49"
   }
  },
  "widgets": {
   "application/vnd.jupyter.widget-state+json": {
    "state": {},
    "version_major": 2,
    "version_minor": 0
   }
  }
 },
 "nbformat": 4,
 "nbformat_minor": 2
}