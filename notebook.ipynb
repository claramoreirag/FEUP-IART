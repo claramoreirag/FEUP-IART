{
 "cells": [
  {
   "source": [
    "## Welcome to Trio de Informática's Second IART Project about Topic Modelling using NLP\n",
    "\n",
    "Throughout this notebook you will see the step by step data analysis of the training datasets as well as different approaches to this challenge. Several algorithms will also be implemented such as Naive Bayes, decision trees, SVM, etc. Be aware that different data processing techniques can match different algorithms, so in order to test all the combinations we will provide several cells to present all the results. \n",
    "\n",
    "As to provide better insight on the training dataset, we will start by presenting a statistic overview of the provided data."
   ],
   "cell_type": "markdown",
   "metadata": {}
  },
  {
   "cell_type": "code",
   "execution_count": 6,
   "metadata": {},
   "outputs": [
    {
     "output_type": "stream",
     "name": "stdout",
     "text": [
      "          ID                                              TITLE  \\\n0          1        Reconstructing Subject-Specific Effect Maps   \n1          2                 Rotation Invariance Neural Network   \n2          3  Spherical polyharmonics and Poisson kernels fo...   \n3          4  A finite element approximation for the stochas...   \n4          5  Comparative study of Discrete Wavelet Transfor...   \n...      ...                                                ...   \n20967  20968  Contemporary machine learning: a guide for pra...   \n20968  20969  Uniform diamond coatings on WC-Co hard alloy c...   \n20969  20970  Analysing Soccer Games with Clustering and Con...   \n20970  20971  On the Efficient Simulation of the Left-Tail o...   \n20971  20972   Why optional stopping is a problem for Bayesians   \n\n                                                ABSTRACT  Computer Science  \\\n0        Predictive models allow subject-specific inf...                 1   \n1        Rotation invariance and translation invarian...                 1   \n2        We introduce and develop the notion of spher...                 0   \n3        The stochastic Landau--Lifshitz--Gilbert (LL...                 0   \n4        Fourier-transform infra-red (FTIR) spectra o...                 1   \n...                                                  ...               ...   \n20967    Machine learning is finding increasingly bro...                 1   \n20968    Polycrystalline diamond coatings have been g...                 0   \n20969    We present a new approach for identifying si...                 1   \n20970    The sum of Log-normal variates is encountere...                 0   \n20971    Recently, optional stopping has been a subje...                 0   \n\n       Physics  Mathematics  Statistics  Quantitative Biology  \\\n0            0            0           0                     0   \n1            0            0           0                     0   \n2            0            1           0                     0   \n3            0            1           0                     0   \n4            0            0           1                     0   \n...        ...          ...         ...                   ...   \n20967        1            0           0                     0   \n20968        1            0           0                     0   \n20969        0            0           0                     0   \n20970        0            1           1                     0   \n20971        0            1           1                     0   \n\n       Quantitative Finance  \n0                         0  \n1                         0  \n2                         0  \n3                         0  \n4                         0  \n...                     ...  \n20967                     0  \n20968                     0  \n20969                     0  \n20970                     0  \n20971                     0  \n\n[20972 rows x 9 columns]\n"
     ]
    }
   ],
   "source": [
    "import pandas as pd\n",
    "import re\n",
    "import nltk\n",
    "from nltk.stem.porter import PorterStemmer\n",
    "from nltk.corpus import stopwords\n",
    "\n",
    "# Importing the dataset\n",
    "dataset = pd.read_csv('archive/train.csv')\n",
    "\n",
    "print(dataset)"
   ]
  },
  {
   "cell_type": "code",
   "execution_count": 7,
   "metadata": {},
   "outputs": [
    {
     "output_type": "stream",
     "name": "stdout",
     "text": [
      "Info:<bound method DataFrame.info of           ID                                              TITLE  \\\n0          1        Reconstructing Subject-Specific Effect Maps   \n1          2                 Rotation Invariance Neural Network   \n2          3  Spherical polyharmonics and Poisson kernels fo...   \n3          4  A finite element approximation for the stochas...   \n4          5  Comparative study of Discrete Wavelet Transfor...   \n...      ...                                                ...   \n20967  20968  Contemporary machine learning: a guide for pra...   \n20968  20969  Uniform diamond coatings on WC-Co hard alloy c...   \n20969  20970  Analysing Soccer Games with Clustering and Con...   \n20970  20971  On the Efficient Simulation of the Left-Tail o...   \n20971  20972   Why optional stopping is a problem for Bayesians   \n\n                                                ABSTRACT  Computer Science  \\\n0        Predictive models allow subject-specific inf...                 1   \n1        Rotation invariance and translation invarian...                 1   \n2        We introduce and develop the notion of spher...                 0   \n3        The stochastic Landau--Lifshitz--Gilbert (LL...                 0   \n4        Fourier-transform infra-red (FTIR) spectra o...                 1   \n...                                                  ...               ...   \n20967    Machine learning is finding increasingly bro...                 1   \n20968    Polycrystalline diamond coatings have been g...                 0   \n20969    We present a new approach for identifying si...                 1   \n20970    The sum of Log-normal variates is encountere...                 0   \n20971    Recently, optional stopping has been a subje...                 0   \n\n       Physics  Mathematics  Statistics  Quantitative Biology  \\\n0            0            0           0                     0   \n1            0            0           0                     0   \n2            0            1           0                     0   \n3            0            1           0                     0   \n4            0            0           1                     0   \n...        ...          ...         ...                   ...   \n20967        1            0           0                     0   \n20968        1            0           0                     0   \n20969        0            0           0                     0   \n20970        0            1           1                     0   \n20971        0            1           1                     0   \n\n       Quantitative Finance  \n0                         0  \n1                         0  \n2                         0  \n3                         0  \n4                         0  \n...                     ...  \n20967                     0  \n20968                     0  \n20969                     0  \n20970                     0  \n20971                     0  \n\n[20972 rows x 9 columns]>\nShape: (20972, 9)\n"
     ]
    }
   ],
   "source": [
    "print(\"Info:\" + str(dataset.info))\n",
    "print(\"Shape: \"+ str(dataset.shape))"
   ]
  },
  {
   "cell_type": "code",
   "execution_count": 16,
   "metadata": {
    "tags": [
     "outputPrepend"
    ]
   },
   "outputs": [
    {
     "output_type": "stream",
     "name": "stdout",
     "text": [
      "ddit explicit mention e movi graviti ex pensiv mar orbit mission entiti movi graviti also mention implicitli e new space movi crazi must watch paper introduc problem implicit entiti link tweet propos approach model entiti exploit factual contextu knowledg demonstr use model perform implicit entiti link ground truth dataset tweet two domain name movi book specif show import link implicit entiti valu addit standard entiti link task import exploit contextu knowledg associ entiti link implicit mention also make ground truth dataset publicli avail foster research new research area')\n",
      "('non cocompact group action semist infin', 'finit present end group g semist fundament group infin g act geometr simpli connect local compact anr properti two proper ray properli homotop properti captur notion connect infin stronger end fact featur g independ choic fundament properti homotop studi finit present group mani import class group shown semist fundament group infin question whether everi g properti recogn open question nearli forti year paper attack problem consid proper non cocompact action group j j would typic subgroup infinit index geometr act group g exampl j might infinit cyclic subgroup whose semist properti known divid semist properti g j part perpendicular j part analyz two part fit togeth among thing analysi lead proof companion paper class group previous consid like counter exampl fact semist properti')\n",
      "('robust distribut control dc microgrid time vari power share', 'paper address problem output voltag regul multipl dc dc convert connect microgrid prescrib scheme share power among differ sourc architectur structur way admit quantifi analysi close loop perform network convert analysi simplifi studi close loop perform equival em singl convert system propos architectur allow proport sourc provid power vari time thu overcom limit previou design addit propos control framework suitabl central decentr implement e control architectur employ voltag regul irrespect avail common load current power measur without need modifi control paramet perform becom quantifi better better commun demand load control convert central case howev guarante viabil commun absent case studi compris batteri pv gener sourc present demonstr enhanc perform prescrib optim control voltag regul power share')\n",
      "('quantum lower bound tripartit version hidden shift set equal problem', 'paper studi quantum queri complex follow rather natur tripartit generalis spirit sum problem hidden shift set equal problem call shift sum match sum problem shift sum problem follow given tabl time n element possibl circularli shift row sum element column becom zero promis case element tabl sum zero match sum problem defin similarli allow arbitrarili permut element within row problem prove lower bound omega n omega sqrt n respect second lower bound tight lower bound proven novel applic dual learn graph framework use represent theoret tool')\n",
      "('parallel direct cut algorithm high order overset method applic spin golf ball', 'overset method commonli employ enabl effect simul problem involv complex geometri move object rotorcraft paper present novel overset domain connect algorithm base upon direct cut approach suitabl use gpu acceler solver high order curv grid contrast previou method capabl exploit highli data parallel natur modern acceler approach also substanti effici handl curv grid aris within context high order method implement new algorithm present combin high order fluid dynam code algorithm valid sever benchmark problem includ flow spin golf ball reynold number')\n",
      "('data assimil algorithm paradigm leray alpha model turbul', 'paper survey variou implement new data assimil downscal algorithm base spatial coars mesh measur paradigm demonstr applic algorithm leray alpha subgrid scale turbul model importantli use paradigm show alway necessari one collect coars mesh measur state variabl involv underli evolutionari system order recov correspond exact refer solut specif show case leray alpha model turbul solut algorithm construct use coars mesh observ two compon three dimension veloc field without inform third compon converg exponenti rate time correspond exact refer solut leray alpha model studi serv addendum recent work abridg continu data assimil navier stoke equat notabl similar result also recent establish viscou planetari geostroph circul model show coars mesh measur temperatur alon suffici recov data assimil algorithm full solut viz three compon veloc vector field temperatur consequ prove charney conjectur planetari geostroph model name histori larg spatial scale temperatur suffici determin quantiti state variabl model')\n",
      "('play true parrondo game three state coin quantum walk', 'play parrondo game qutrit subject paper show true quantum parrondo game play state coin qutrit quantum walk contrast fact play true parrondo game state coin qubit quantum walk fail asymptot limit')\n",
      "('cross modal recurr model weight object predict multimod time seri data', 'analys multimod time seri data correspond weight sleep step measur focu predict whether user success achiev weight object design sever deep long short term memori lstm architectur includ novel cross modal lstm x lstm demonstr superior baselin approach x lstm improv paramet effici process modal separ allow inform flow way recurr cross connect present gener hyperparamet optimis techniqu x lstm allow us significantli improv lstm prior state art cross modal approach use compar number paramet final visualis model predict reveal implic latent variabl task')\n",
      "('spatial variat auto encod via matrix variat normal distribut', 'key idea variat auto encod vae resembl tradit auto encod model spatial inform suppos explicitli encod latent space howev latent variabl vae vector interpret multipl featur map size x represent convey spatial inform implicitli coupl power decod work propos spatial vae use featur map larger size latent variabl explicitli captur spatial inform achiev allow latent variabl sampl matrix variat normal mvn distribut whose paramet comput encod network increas depend among locat latent featur map reduc number paramet propos spatial vae via low rank mvn distribut experiment result show propos spatial vae outperform origin vae captur rich structur spatial inform')\n",
      "('optim ramp scheme relat combinatori object', 'jackson martin prove strong ideal ramp scheme equival orthogon array howev good character ideal ramp scheme strong show equival ideal ramp scheme new variant orthogon array term augment orthogon array give construct new kind array consequ also provid paramet situat ideal ramp scheme exist strong ideal ramp scheme exist')\n",
      "('neural net learn statist law behind natur languag', 'perform deep learn natur languag process spectacular reason success remain unclear inher complex deep learn paper provid empir evid effect limit neural network languag engin precis demonstr neural languag model base long short term memori lstm effect reproduc zipf law heap law two repres statist properti underli natur languag discuss qualiti reproduc emerg zipf law heap law train progress also point neural languag model limit reproduc long rang correl anoth statist properti natur languag understand could provid direct improv architectur neural network')\n",
      "('super speed zero ram next gener larg scale optim laptop', 'articl present novel breakthrough gener purpos algorithm larg scale optim problem novel algorithm capabl achiev breakthrough speed larg scale optim gener purpos laptop embed system applic algorithm griewank function possibl billion decis variabl doubl precis took second hour solv consum mb gb ram singl thread laptop cpu show algorithm comput memori space linearli effici find optim near optim solut fraction time memori mani convent algorithm requir envisag open new possibl real time larg scale problem person laptop embed system')\n",
      "('recover energi dissip electromagnet system', 'ambigu definit store energi within distribut radiat electromagnet system motiv discuss well defin concept recover energi concept commonli overlook commun purpos commun recal exist discuss relationship fraction bandwidth use ration function approxim system input imped recover energi lump radiat system calcul close form relat store energi fraction bandwidth lump circuit also use demonstr relationship recover energi energi store within equival circuit produc minimum phase shift darlington synthesi procedur')\n",
      "('ellipt hall algebra mathbb f', 'construct hall algebra ellipt curv mathbb f use theori monoid scheme due deitmar theori hall algebra monoid represent due szczesni result algebra shown special ellipt hall algebra studi burban schiffmann thu algebra isomorph skein algebra toru recent work morton samuelson')\n",
      "('approxim bayesian infer queue network coupl jump process', 'queue network system theoret interest give rise complex famili stochast process find widespread use perform evalu interconnect resourc yet despit import within applic comparison counterpart stochast model genet mathemat biolog exist relev approach transient infer uncertainti quantif task system consequ strong comput impedi distinct properti markov jump process induc queue network paper offer comprehens overview inferenti challeng comparison analogu task within relat mathemat domain discuss model augment approxim network system present flexibl scalabl variat bayesian framework target gener form open close queue system vari servic disciplin prioriti inferenti procedur final valid coupl uncertainti quantif task network servic rate')\n",
      "('univers featur price format financi market perspect deep learn', 'use larg scale deep learn approach appli high frequenc databas contain billion electron market quot transact us equiti uncov nonparametr evid exist univers stationari price format mechan relat dynam suppli demand stock reveal order book subsequ variat market price assess model test sampl predict direct price move given histori price order flow across wide rang stock time period univers price format model shown exhibit remark stabl sampl predict accuraci across time wide rang stock differ sector interestingli result also hold stock part train sampl show relat captur model univers asset specif univers model train data stock outperform term sampl predict accuraci asset specif linear nonlinear model train time seri given stock show univers natur price format weigh favour pool togeth financi data variou stock rather design asset sector specif model commonli done standard data normal base volatil price level averag spread partit train data sector categori larg small tick stock improv train result hand inclus price order flow histori mani past observ shown improv forecast perform show evid path depend price dynam')\n",
      "('new track algorithm multipl colloid particl close contact', 'paper propos new algorithm base radial symmetri center method track colloid particl close contact optic imag particl start overlap digit video microscopi overlap effect import observ pair interact potenti colloid studi appear addit interact measur interact convent track analysi propos algorithm work simpl fast applic two particl also three particl without modif algorithm use gradient vector particl intens distribut allow us use part symmetr intens distribut calcul actual particl posit studi simul perform see perform propos algorithm two three particl simul imag gener use fit curv experiment particl imag differ size particl result algorithm yield maximum error smaller nm mu silica particl contact condit')\n",
      "('critic percol without fine tune surfac topolog superconductor', 'present numer evid two dimension surfac state bulk topolog superconductor tsc sit integ quantum hall plateau transit studi tsc surfac state class ci quench disord low energi finit energi surfac state expect critic deloc anderson local confirm low energi pictur find instead finit energi state also deloc univers statist independ tsc wind number consist spin quantum hall plateau transit percol')\n",
      "('low luminos stellar wind accret onto neutron star hmxb', 'featur applic quasi spheric settl accret onto rotat magnet neutron star high mass x ray binari discuss settl accret occur wind fed hmxb plasma cool time longer free fall time gravit captur radiu take place low luminos hmxb l x lesssim time erg briefli review implic settl accret focus sfxt phenomenon relat instabl quasi spheric convect shell neutron star magnetospher due magnet reconnect fast temporarili magnet wind ob supergi young neutron star wind fed hmxb rapidli rotat propel regim quasi spheric hot shell occur show x ray spectral tempor properti enigmat gamma ca star consist fail settl accret regim onto propel neutron star subsequ evolutionari stage gamma ca analog x per type binari compris low luminos slowli rotat x ray pulsar')\n",
      "('faith invers gener model effect amort infer', 'infer amort method share inform across multipl posterior infer problem allow carri effici gener requir invers depend structur gener model model must learn map observ distribut approxim posterior previou approach involv invert depend structur heurist way fail captur depend correctli therebi limit achiev accuraci result approxim introduc algorithm faith minim invert graphic model structur gener model invers two crucial properti encod independ assert absent model b local maxima number true independ encod prove correct approach empir show result minim faith invers lead better infer amort exist heurist approach')\n",
      "('social network analysi oper research industri engin faculti hire network', 'studi u oper research industri system engin ori faculti hire network consist faculti origin destin data togeth attribut data ori depart social network analysi faculti hire reveal import pattern academ field exist hierarchi sociolog aspect presenc commun depart first statist test exist linear hierarchi network steep find near linear hierarch order depart propos new index hire network contrast indic hierarchi includ publish rank singl index capabl captur full structur complex network howev next fit latent exponenti random graph model ergm network abl reproduc main observ characterist high incid self hire skew degre distribut low densiti cluster final use latent variabl ergm simplifi network one faculti hire take place among three group depart contrast find report relat disciplin comput scienc busi')\n",
      "('one sampl aggreg data meta analysi median', 'aggreg data meta analysi statist method pool summari statist sever select studi estim outcom interest consid continu outcom typic studi must report measur outcom variabl spread e g sampl mean standard error howev studi may instead report median along variou measur spread recent task incorpor median meta analysi achiev estim sampl mean standard error studi report median order meta analyz mean paper propos two altern approach meta analyz data instead reli median systemat compar approach via simul studi method transform studi specif median spread sampl mean standard error demonstr propos median base approach perform better transform base approach especi appli skew data data high inter studi varianc addit meta analyz data consist median show median base approach perform consider better compar best case scenario transform approach conduct meta analysi use actual sampl mean standard error mean studi final illustr approach meta analysi patient delay tuberculosi diagnosi')\n",
      "('quickcast fast effici inter datacent transfer use forward tree cohort', 'larg inter datacent transfer crucial cloud servic effici increasingli use organ dedic wide area network datacent recent work use multicast forward tree reduc bandwidth need improv complet time point multipoint transfer use singl forward tree per transfer howev lead poor perform slowest receiv dictat complet time receiv use multipl forward tree per transfer allevi concern averag receiv could finish earli howev done naiv bandwidth usag would also increas apriori unclear best partit receiv construct multipl tree determin rate schedul flow tree paper present quickcast first solut problem use simul real world network topolog see quickcast speed averag receiv complet time much time use time bandwidth complet time receiv also improv much time faster high load')\n",
      "('contemporari machin learn guid practition physic scienc', 'machin learn find increasingli broad applic physic scienc often involv build model relationship depend measur output associ set control complic independ input present tutori current techniqu machin learn jump point interest research advanc work focu deep neural network emphasi demystifi deep learn begin background idea machin learn exampl applic current research plasma physic discuss supervis learn techniqu model complic function begin familiar regress scheme advanc sophist deep learn method also address unsupervis learn techniqu reduc dimension input space along way describ method practition help ensur model gener train data yet unseen test data describ class task predict scalar handl imag fit time seri prepar reader choos appropri techniqu final point limit modern machin learn specul way practition physic scienc may particularli suit help')\n",
      "('uniform diamond coat wc co hard alloy cut insert deposit microwav plasma cvd', 'polycrystallin diamond coat grown cement carbid substrat differ aspect ratio microwav plasma cvd methan hydrogen ga mixtur protect edg substrat non uniform heat due plasma edg effect special platehold pocket group growth use differ height substrat platehold influenc diamond film mean grain size growth rate phase composit stress investig substrat temperatur rang within uniform diamond film produc good adhes determin diamond coat cut insert produc optim process exhibit reduct cut forc wear resist factor two cut effici increas time upon turn al si alloy compar perform uncoat tool')\n",
      "('analys soccer game cluster conceptor', 'present new approach identifi situat behaviour call move soccer game simul leagu abl identifi key situat behaviour use capabl analys soccer match anticip oppon behaviour aid select appropri tactic also prerequisit automat learn behaviour polici support wide set strategi goal identifi situat data unsupervis way without make use pre defin soccer specif concept pass dribbl recurr neural network use approach act high dimension project recent histori situat field similar situat e similar histori found cluster network state network also use learn call conceptor lower dimension manifold describ trajectori high dimension state space enabl situat specif predict neural network propos approach segment game sequenc situat learnt unsupervis way learn conceptor use predict near futur respect situat')\n",
      "('effici simul left tail sum correl log normal variat', 'sum log normal variat encount mani challeng applic perform analysi wireless commun system financi engin sever approxim method develop literatur accuraci ensur tail region region primordi interest wherein small probabl valu evalu high precis varianc reduct techniqu known yield accur yet effici estim small probabl valu exist approach howev consid problem estim right tail sum log normal random variabl rv present work consid instead estim left tail sum correl log normal variat gaussian copula mild assumpt covari matrix propos estim combin exist mean shift import sampl approach control variat techniqu main result propos estim asymptot vanish rel error repres major find context left tail simul sum log normal rv final assess variou simul result perform propos estim compar exist estim')\n",
      "('option stop problem bayesian', 'recent option stop subject debat bayesian psycholog commun rouder argu option stop problem bayesian even recommend use option stop practic wagenmak et al articl address question whether option stop problemat bayesian method specifi circumst sens slightli vari extend rouder experi illustr soon paramet interest equip default pragmat prior mean practic applic bay factor hypothesi test resili option stop break distinguish four type default prior specif issu option stop rang problem type prior quit sever type ii iii prior')\n"
     ]
    }
   ],
   "source": [
    "corpus=[]\n",
    "# Initialize PorterStemmer\n",
    "ps = PorterStemmer()\n",
    "\n",
    "for i in range(0,dataset.shape[0]):\n",
    "    # get review and remove non alpha chars\n",
    "    title = re.sub('[^a-zA-Z]', ' ', dataset['TITLE'][i])\n",
    "    abstract = re.sub('[^a-zA-Z]', ' ', dataset['ABSTRACT'][i])\n",
    "    # to lower-case and tokenize\n",
    "    title = title.lower().split()\n",
    "    abstract = abstract.lower().split()\n",
    "    # stemming and stop word removal\n",
    "    title = ' '.join([ps.stem(w) for w in title if not w in set(stopwords.words('english'))])\n",
    "    abstract = ' '.join([ps.stem(w) for w in abstract if not w in set(stopwords.words('english'))])\n",
    "    corpus.append((title, abstract))\n",
    "    print((title, abstract))\n"
   ]
  },
  {
   "cell_type": "code",
   "execution_count": null,
   "metadata": {},
   "outputs": [],
   "source": []
  }
 ],
 "metadata": {
  "kernelspec": {
   "name": "python388jvsc74a57bd073c5f639fc5f17e81c041bf2859659ce632f9601e0bd6e44c786cae6c9bf7ef3",
   "display_name": "Python 3.8.8 64-bit"
  },
  "language_info": {
   "codemirror_mode": {
    "name": "ipython",
    "version": 3
   },
   "file_extension": ".py",
   "mimetype": "text/x-python",
   "name": "python",
   "nbconvert_exporter": "python",
   "pygments_lexer": "ipython3",
   "version": "3.8.8"
  }
 },
 "nbformat": 4,
 "nbformat_minor": 2
}